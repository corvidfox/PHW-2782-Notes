{
 "cells": [
  {
   "attachments": {},
   "cell_type": "markdown",
   "metadata": {},
   "source": [
    "# Module 9: Variant Discovery and Genotyping"
   ]
  },
  {
   "attachments": {},
   "cell_type": "markdown",
   "metadata": {},
   "source": [
    "## (Re)sequencing Data Flow"
   ]
  },
  {
   "attachments": {},
   "cell_type": "markdown",
   "metadata": {},
   "source": [
    "1. Raw Reads (FASTQ) --> Mapping/Aligning --> Mapped/Aligned (BAM)\n",
    "2. Mapped/Aligned (BAM) --> Sample QC --> High-Quality BAMS\n",
    "3. High-Quality BAMs --> Variant Discovery --> List of Variants (VCF)\n",
    "4. List of Variants (VCF) --> Variant QC --> High-Quality VCF\n",
    "5. High-Quality VCF --> Analysis (+ Phenotypes) --> Interpretable Results"
   ]
  },
  {
   "attachments": {},
   "cell_type": "markdown",
   "metadata": {},
   "source": [
    "We have previously covered the transition from Step 1 to Step 2 (Mapping/Alinging)"
   ]
  },
  {
   "attachments": {},
   "cell_type": "markdown",
   "metadata": {},
   "source": [
    "## Step 2: Quality Control of NGS Data (BAMs --> High-Quality BAMs)"
   ]
  },
  {
   "attachments": {},
   "cell_type": "markdown",
   "metadata": {},
   "source": [
    "### Obtainable QC Metrics"
   ]
  },
  {
   "attachments": {},
   "cell_type": "markdown",
   "metadata": {},
   "source": [
    "#### *Before* Mapping and Alignment (FASTQ)"
   ]
  },
  {
   "attachments": {},
   "cell_type": "markdown",
   "metadata": {},
   "source": [
    "- Read Depth\n",
    "    - Approximate only\n",
    "- Read Length\n",
    "    - Distribution\n",
    "- Base Read Quality* (before calibration)\n",
    "    - Distribution\n",
    "- K-mer based statistics\n",
    "    - Is any specific k-mer over- or under- represented?"
   ]
  },
  {
   "attachments": {},
   "cell_type": "markdown",
   "metadata": {},
   "source": [
    "#### *After* Mapping and Alignment (BAM/CRAM)"
   ]
  },
  {
   "attachments": {},
   "cell_type": "markdown",
   "metadata": {},
   "source": [
    "- Mapping Quality\n",
    "    - Distribution\n",
    "- Duplicate Reads\n",
    "- Insert Size Distribution\n",
    "    - Distance between ends of paired-end sequence reads\n",
    "- Strand (Forward/Reverse)\n",
    "    - Typical in paired-end mapping, where one is mapped from the forward strand and one from reverse strand\n",
    "- Adjusted Base Quality\n",
    "    - Tools provide calculation of base read qualities in more accurate methods, not covered in this lecture\n",
    "- Reference Bias\n",
    "    - Reads that are more similar to the reference sequence are \"more well mapped,\" while variants are either less well mapped or not mapped at all\n",
    "- Contamination"
   ]
  },
  {
   "attachments": {},
   "cell_type": "markdown",
   "metadata": {},
   "source": [
    "### Selected Metrics in Detail"
   ]
  },
  {
   "attachments": {},
   "cell_type": "markdown",
   "metadata": {},
   "source": [
    "#### Sequencing Depth"
   ]
  },
  {
   "attachments": {},
   "cell_type": "markdown",
   "metadata": {},
   "source": [
    "When you order a sequencing service, there is typically a certain number of reads generated from the sequencing machine. A larger number of reads typically costs more. For RNA sequencing, services typically start at 20,000,000 reads.\n",
    "\n",
    "Whatever service is used, the result is the **total number of base reads.**"
   ]
  },
  {
   "attachments": {},
   "cell_type": "markdown",
   "metadata": {},
   "source": [
    "The **size of the intended region** is determined by the size of the genome and the intended sequencing. The intended region is different when chosing between DNA or RNA, as well as for the choice of whole genome, exome, or targetted small-region sequencing."
   ]
  },
  {
   "attachments": {},
   "cell_type": "markdown",
   "metadata": {},
   "source": [
    "The average sequencing depth is the *total number of base reads* divided by the *size of the intended region*"
   ]
  },
  {
   "cell_type": "markdown",
   "metadata": {},
   "source": [
    "$$\n",
    "Average\\ sequencing\\ depth=\\frac{Total\\ number\\ of\\ base\\ reads}{size\\ of\\ intended\\ region}\n",
    "$$"
   ]
  },
  {
   "attachments": {},
   "cell_type": "markdown",
   "metadata": {},
   "source": [
    "For **human whole genome sequencing**, if we have a FASTQ file with 100 base-long reads (single-ended) with 100,000,000 lines, our average sequencing depth is 0.83."
   ]
  },
  {
   "attachments": {},
   "cell_type": "markdown",
   "metadata": {},
   "source": [
    "$$\n",
    "Total\\ number\\ of\\ base\\ reads=\\frac{100\\ bases\\ per\\ read\\cdot10^{8}\\ lines}{4\\ lines\\ per\\ FASTQ\\ read}=2.5\\cdot10^{9}\\ bases \\newline\n",
    "Human\\ Genome\\ Size=3\\cdot10^{9}\\ bases \\newline\n",
    "Average\\ sequencing\\ depth=\\frac{2.5\\cdot10^{9}\\ bases} {3\\cdot10^{9}\\ bases\\ in\\ Human\\ Genome} = 0.83\n",
    "$$"
   ]
  },
  {
   "attachments": {},
   "cell_type": "markdown",
   "metadata": {},
   "source": [
    "For **human whole exome sequencing**, if we have a FASTQ file with 100 base-long reads (single-ended) with 100,000,000 lines, our average sequencing depth is 0.83."
   ]
  },
  {
   "attachments": {},
   "cell_type": "markdown",
   "metadata": {},
   "source": [
    "$$\n",
    "Total\\ number\\ of\\ base\\ reads=\\frac{100\\ bases\\ per\\ read\\cdot10^{8}\\ lines}{4\\ lines\\ per\\ FASTQ\\ read}=2.5\\cdot10^{9}\\ bases \\newline\n",
    "Human\\ Exome\\ Size=1\\%\\ of\\ Human\\ Genome = 3\\cdot10^{9}\\cdot0.01=3\\cdot10^{7}\\ bases \\newline\n",
    "Average\\ sequencing\\ depth=\\frac{2.5\\cdot10^{9}\\ bases} {3\\cdot10^{7}\\ bases\\ in\\ Human\\ Exome} = 83\n",
    "$$"
   ]
  },
  {
   "attachments": {},
   "cell_type": "markdown",
   "metadata": {},
   "source": [
    "#### Sequencing/PCR Duplicates"
   ]
  },
  {
   "attachments": {},
   "cell_type": "markdown",
   "metadata": {},
   "source": [
    "PCR duplicates reads during sample prep, causing many identical reads from the same source sequence. Optical duplicates, which are read by the same cluster twice on the sequencer, can be particularly problematic since the sequencer might treat them as separate sequences.\n",
    "\n",
    "High duplication can lead to problems in downstream analysis, such as causing a skew to allele frequencies. It can make it difficult to assess if alleles are variants or not.\n",
    "\n",
    "It's important to try to mark your duplicates and take them into account in analysis. We want as many *independent observations* as possible."
   ]
  },
  {
   "attachments": {},
   "cell_type": "markdown",
   "metadata": {},
   "source": [
    "### Programs and Tools"
   ]
  },
  {
   "attachments": {},
   "cell_type": "markdown",
   "metadata": {},
   "source": [
    "#### FASTQC for *Before* Mapping and Alignment"
   ]
  },
  {
   "attachments": {},
   "cell_type": "markdown",
   "metadata": {},
   "source": [
    "A [free Java program](http://www.bioinformatics.babraham.ac.uk/projects/fastqc/) that reports the quality profile of reads in FASTQ or SAM/BAM files, but mostly used on FASTQ files. There is also a web interface!"
   ]
  },
  {
   "attachments": {},
   "cell_type": "markdown",
   "metadata": {},
   "source": [
    "FASTQC identifies several QC metrics and issues. It reports basic statistics and Kmer content, but also additional information.\n",
    "\n",
    "Per Base:\n",
    "- Sequence Quality\n",
    "- Sequence Content\n",
    "- GC Content\n",
    "- N Content\n",
    "\n",
    "Per Sequence:\n",
    "- Sequence Quality Scores\n",
    "- Sequence GC content\n",
    "- Sequence Length Distribution\n",
    "- Sequence Duplication Levels\n",
    "- Overrepresented Sequences"
   ]
  },
  {
   "attachments": {},
   "cell_type": "markdown",
   "metadata": {},
   "source": [
    "Remember, later sequences are more prone to diminishing quality of the reads!"
   ]
  },
  {
   "attachments": {},
   "cell_type": "markdown",
   "metadata": {},
   "source": [
    "#### Visualization for *After* Mapping and Alignment"
   ]
  },
  {
   "attachments": {},
   "cell_type": "markdown",
   "metadata": {},
   "source": [
    "Most useful for examining a specific region of interest, but not best for looking at a whole genome"
   ]
  },
  {
   "attachments": {},
   "cell_type": "markdown",
   "metadata": {},
   "source": [
    "#### Picard"
   ]
  },
  {
   "attachments": {},
   "cell_type": "markdown",
   "metadata": {},
   "source": [
    "A Java-based command-line utility tool that can be used to manipulate SAM/BAM files. Some of the command-line utilities include:\n",
    "- `CollectInsertSizeMetrics`\n",
    "- `CollectGcBiasMetrics`\n",
    "- `CollectAlignmentSummaryMetrics`\n",
    "- `QualityScoreDistribution`\n",
    "- `MarkDuplicates`\n",
    "    - Most commonly used to remove duplicate reads"
   ]
  },
  {
   "attachments": {},
   "cell_type": "markdown",
   "metadata": {},
   "source": [
    "#### RNA-SeQC"
   ]
  },
  {
   "attachments": {},
   "cell_type": "markdown",
   "metadata": {},
   "source": [
    "A Picard-like tool for RNA sequencing data, available [online](https://software.broadinstitute.org/cancer/cga/rna-seqc). It was actually derived from Picard."
   ]
  },
  {
   "attachments": {},
   "cell_type": "markdown",
   "metadata": {},
   "source": [
    "## Step 3: (High-Quality BAMS --> Variant Discovery --> List of Variants (VCF))"
   ]
  },
  {
   "attachments": {},
   "cell_type": "markdown",
   "metadata": {},
   "source": [
    "### Background"
   ]
  },
  {
   "attachments": {},
   "cell_type": "markdown",
   "metadata": {},
   "source": [
    "#### History of Human Genetic Variation"
   ]
  },
  {
   "attachments": {},
   "cell_type": "markdown",
   "metadata": {},
   "source": [
    "Revelations about Human Genetic Variation, such as SNPs and structural genomic variation, were overall considered the 2007 Scientific Breakthrough of the Year."
   ]
  },
  {
   "attachments": {},
   "cell_type": "markdown",
   "metadata": {},
   "source": [
    "Timeline:\n",
    "- 1997: Sanger sequencing first developed\n",
    "- 1990 - 2003: Human genome Project\n",
    "    - Goal to discover all human genes and make them accessible for further biological study\n",
    "    - Goal to discover the complete sequence of the human reference genome\n",
    "    - Used Sanger Sequencing with targeted genotyping\n",
    "- 2001: First human reference genome published\n",
    "- 2002: Genome-Wide Genotyping (GWAS) first developed\n",
    "- 2002 - 2005: International HapMap Project\n",
    "    - Goal to develop a haplotype map of the human genome that described the common patterns of human DNA sequence variation\n",
    "    - Discovered millions of SNPs, and developed arrays to test for the distributions of SNPs to examine haplotype differences\n",
    "    - Used GWAS\n",
    "- 2005: NGS \n",
    "- 2008: Individual sequencing became more widely available\n",
    "- 2008 - 2015: 1000 Genomes Project\n",
    "    - Goal to establish a catalogue of human genetic variation through whole genome sequencing of 1000 anonymous participants across different ethnic groups\n",
    "- 2009: Exome sequencing (WES) first developed"
   ]
  },
  {
   "attachments": {},
   "cell_type": "markdown",
   "metadata": {},
   "source": [
    "##### Highlighted Projects"
   ]
  },
  {
   "attachments": {},
   "cell_type": "markdown",
   "metadata": {},
   "source": [
    "###### International HapMap project"
   ]
  },
  {
   "attachments": {},
   "cell_type": "markdown",
   "metadata": {},
   "source": [
    "The International HapMap Project was from 2002-2005, and involved international cooperation to use analyses of the distributions of SNPs to develop a haplotype map of common patterns of human DNA sequence variation.\n",
    "\n",
    "Four populations, and a total of 270 individuals, were characterized to create these maps:\n",
    "- CEU: CEPH \n",
    "    -Utah residents with ancestry from Northern and Western Europe\n",
    "    - 30 trios\n",
    "- CHB: Beijing, China\n",
    "    - Han Chinese\n",
    "    - 45 individuals\n",
    "- JPT: Tokyo, Japan\n",
    "    - Japanese\n",
    "    - 45 individuals\n",
    "- YRI: Ibadan, Nigeria\n",
    "    - Yoruba\n",
    "    - 30 trios"
   ]
  },
  {
   "attachments": {},
   "cell_type": "markdown",
   "metadata": {},
   "source": [
    "###### 1000 Genomes Project"
   ]
  },
  {
   "attachments": {},
   "cell_type": "markdown",
   "metadata": {},
   "source": [
    "The 1000 Genomes Project was from 2008-2015, and involved international cooperation to to perform whole genome sequencing and complete description of the genetic diversity in 1000 individuals from multiple world populations.\n",
    "\n",
    "The price of sequencing dropped so dramatically during the study, that they were able to sequence well over 1000 individuals."
   ]
  },
  {
   "attachments": {},
   "cell_type": "markdown",
   "metadata": {},
   "source": [
    "#### Forms of Genome Variation"
   ]
  },
  {
   "attachments": {},
   "cell_type": "markdown",
   "metadata": {},
   "source": [
    "There are *over 4 million DNA variants per human individual*. This is how each of us have unique DNA, and there is so much variation between individuals even in the same species."
   ]
  },
  {
   "attachments": {},
   "cell_type": "markdown",
   "metadata": {},
   "source": [
    "Common forms of Genome Variation include:\n",
    "- Single Nucleotide Variants\n",
    "    - Substitution at a single nucleotide\n",
    "    - Only a Single Nucleotide Polymorphism (SNP) if shared by 1% of the population\n",
    "- Multi-Nucleotide Variants\n",
    "    - INDELs\n",
    "        - Insertions and Deletions of less than 50 base pairs\n",
    "        - Can cause a frameshift mutation\n",
    "    - Microsatellites or Short Tandem Repeats (STRs)\n",
    "        - A tract of tandemly repeated DNA motifs between 1-10 nuleotides in length that are repeated 5-50 times\n",
    "        - Commonly used for linkage analysis due to high variability in the repeat number between individuals\n",
    "    - Large Copy Number Variants (CNVs)\n",
    "        - A structural variation\n",
    "        - A duplication or deletion that changes the number of copies of a particular DNA segment within a genome\n",
    "    - Mobile Element Insertions (MEIs)\n",
    "        - A structural variation\n",
    "        - Occurs when a segement of DNA is \"copied\" and \"pasted\" into different locations in the genome through an RNA intermediate\n",
    "    - Inversions\n",
    "        - A structural variation\n",
    "        - Occurs when a portion of a chromosome breaks off and reattaches in the reverse orientation on the *same chromosome*\n",
    "        - Portions of DNA may or may not be lost in this process\n",
    "    - Translocations\n",
    "        - A structural variation\n",
    "        - Occurs when a portion of a chromosome breaks off and reattaches to a *different chromosome*\n",
    "    - Aneuploidy\n",
    "        - A structural variation\n",
    "        - Occurs when there are either extra or missing chromosomes, leading to unbalanced chromosome counts"
   ]
  },
  {
   "attachments": {},
   "cell_type": "markdown",
   "metadata": {},
   "source": [
    "### Finding Genomic Variation"
   ]
  },
  {
   "attachments": {},
   "cell_type": "markdown",
   "metadata": {},
   "source": [
    "At its core, genomic variation is any difference from the reference. We can look at the results of our alignment and mapping to identify these differences."
   ]
  },
  {
   "attachments": {},
   "cell_type": "markdown",
   "metadata": {},
   "source": [
    "#### Genotyping"
   ]
  },
  {
   "attachments": {},
   "cell_type": "markdown",
   "metadata": {},
   "source": [
    "**Genotyping** is the process of determining genetic differences between individuals by using a set of *known markers*. This is in contrast to **sequencing,** as sequencing is the process of determining the full nucleotide order of a DNA sequence that involves *previously unknown* variants."
   ]
  },
  {
   "attachments": {},
   "cell_type": "markdown",
   "metadata": {},
   "source": [
    "Genotyping depends on the understanding of DNA as being composed of alleles. Each **allele** is one of a number of alternative forms of the same genetic locus/structure. These alleles may be characterized by their SNPs or other variations. \n",
    "\n",
    "**Allele frequencies** reflect the proportion of the population that has that specific allele; these frequencies range from 0, where the allele is not expressed at all in the population, to 1, where every individual in the population has that allele, without exceptions.\n",
    "\n",
    "A **Minor Allele Frequency (MAF)** refers to the fraction of an allele that is *not* in the majority of samples; these frequencies are similar to *allele frequencies,* but instead range from 0 to 0.5."
   ]
  },
  {
   "attachments": {},
   "cell_type": "markdown",
   "metadata": {},
   "source": [
    "##### Array Genotyping"
   ]
  },
  {
   "attachments": {},
   "cell_type": "markdown",
   "metadata": {},
   "source": [
    "Genotyping frequently uses *genome chip arrays*. Original chips could only test for 500K SNPs, but modern chips can test for over 2 Million SNPs and even some INDELs at one time. Each chip is rather inexpensive.\n",
    "\n",
    "Linkage disequilibrium is a key component of genotyping, as it indicates where alleles occur together more often than can be accounted for by change alone due to their physical proximity on a chromosome.\n",
    "\n",
    "This works by using correlation structures at specific markers of the genome to make inferences on what is between those specific markers."
   ]
  },
  {
   "attachments": {},
   "cell_type": "markdown",
   "metadata": {},
   "source": [
    "Array genotyping typically involves thousands of samples being processed at once, and the results can produce graphs demonstrating the distributions of alleles.\n",
    "\n",
    "For a gene with two alleles you might have \"Intensity (A)\", which is produced from Allele A (and could be represented by red) and \"Intensity (B)\", which is produced by Allele B (and could be represented by blue). \n",
    "\n",
    "In an **Illumina plot**, Intensity (A) may be on the X-axis, and Intensity (B) may be on the Y-axis:\n",
    "- Individual samples with AA alleles would have a high Intensity (A), would be red, and clustered along the X-axis with low values on the Y-axis\n",
    "- Individual samples with BB alleles would have a high Intensity (B), would be blue, clustered along the Y-axis with low values on the X-axis \n",
    "- Individual samples with AB alleles would be purple and scattered linearly between the X and Y axes\n",
    "\n",
    "In an **AffyMetrix plot**, Intensity (A) and Intensity (B) may be represented on a normalized plot where values of Intensity (A) is on the left of the X-axis, values of Intensity (B) is on the right of the X-axis, and overall intensity is represented on the Y-axis:\n",
    "- Individual samples with AA alleles would have a high Intensity (A), would be red, and clustered to the left of the X-axis\n",
    "- Individual samples with BB alleles would have a high Intensity (B), would be blue, clustered along to the right of the X-axis\n",
    "- Individual samples with AB alleles would be purple, and clustered between values of Intensity (A) and Intensity (B) on the X-axis, in the middle.\n",
    "\n",
    "Regardless of plot, the clusters of each allele are usually clearly separated."
   ]
  },
  {
   "attachments": {},
   "cell_type": "markdown",
   "metadata": {},
   "source": [
    "#### Sequencing for Variant Discovery"
   ]
  },
  {
   "attachments": {},
   "cell_type": "markdown",
   "metadata": {},
   "source": [
    "Sequencing is not quite as clear as geneotyping because we are looking at individual nucleotides and may have read errors. As such, we cannot typically say with *absolute certainty* that there is a variant, but we are able to express a probability that the variant exists.\n",
    "\n",
    "However, we can identify *previously unknown* variants this way."
   ]
  },
  {
   "attachments": {},
   "cell_type": "markdown",
   "metadata": {},
   "source": [
    "##### Phred Score and SNPs"
   ]
  },
  {
   "attachments": {},
   "cell_type": "markdown",
   "metadata": {},
   "source": [
    "A single nucleotide variation is not typically enough to declare that the variation is a SNP due to read errors. However, if that same allele occurs multiple times at the same locus, then there is stronger evidence that it is a SNP.\n",
    "\n",
    "Base read quality is an important metric to assessing if a substitution is a true SNP. If alleles with the variation have similar or better Phred scores than those that are identical to the reference, that's support that it's a true SNP.\n",
    "\n",
    "Bases with a Phred less than 20 are typically represeted with lowercase letters, to make comparison easier."
   ]
  },
  {
   "attachments": {},
   "cell_type": "markdown",
   "metadata": {},
   "source": [
    "##### Base Read Distribution and Genotype Likelihood"
   ]
  },
  {
   "attachments": {},
   "cell_type": "markdown",
   "metadata": {},
   "source": [
    "**Genotype likelihood**, P(D|G), is the likelihood of observing a distribution of base reads, given the underling (true) genotype."
   ]
  },
  {
   "attachments": {},
   "cell_type": "markdown",
   "metadata": {},
   "source": [
    "**Posterior probability of genotype**, P(G|D) is the probability of each genotype given the distribution of the base reads."
   ]
  },
  {
   "attachments": {},
   "cell_type": "markdown",
   "metadata": {},
   "source": [
    "As a result, SNP and INDEL calling are large-scale **Bayesian Modeling Problems**"
   ]
  },
  {
   "attachments": {},
   "cell_type": "markdown",
   "metadata": {},
   "source": [
    "###### Ordered Model"
   ]
  },
  {
   "attachments": {},
   "cell_type": "markdown",
   "metadata": {},
   "source": [
    "$$\n",
    "\n",
    "P(G|D)=\\frac{P(G)\\cdot P(D|G)}{\\sum_i{P(G_i)\\cdot P(D|G_i)} } \\newline\n",
    "P(D|G) = \\Pi_j(\\frac{P(D_j|H_1)}{2}+\\frac{P(D_j|H_2)}{2}) , where\\ G=H_1H_2 (Diploid\\ Assumption)\n",
    "\\newline\n",
    "P(D|H) is\\ the\\ haploid\\ likelihood\\ function\n",
    "\n",
    "$$"
   ]
  },
  {
   "attachments": {},
   "cell_type": "markdown",
   "metadata": {},
   "source": [
    "The **inference** asks what the genotype of G of a sample, when given read data D.\n",
    "\n",
    "Bayes' rule allows us to calculate the probability of each possible G.\n",
    "\n",
    "Product expansion assumes that reads are independent, and it relies on a likelihood function to estimate the probability of sample data given a proposed haplotype."
   ]
  },
  {
   "attachments": {},
   "cell_type": "markdown",
   "metadata": {},
   "source": [
    "SNP Genotype likelihoods then translate this into:"
   ]
  },
  {
   "attachments": {},
   "cell_type": "markdown",
   "metadata": {},
   "source": [
    "$$\n",
    "P(D_j|H)=P(D_j|b), [single\\ base\\ pileup]\n",
    "\\newline\n",
    "P(D_j|b)= \\begin{cases}\n",
    "   1-\\in_j &\\ D_j=b, \\\\\n",
    "   \\in_j & otherwise\n",
    "\\end{cases}\n",
    "$$"
   ]
  },
  {
   "attachments": {},
   "cell_type": "markdown",
   "metadata": {},
   "source": [
    "If *b* is the \"true base\" in the haplotype, the probability of observing the \"true base\" is the converse of the probability of a read error, and the probability of reading anything else is the probability of a read error.\n",
    "\n",
    "All diploid genotypes (AA, AC,...,GT,TT) are considered at each base.\n",
    "\n",
    "The likelihood of genotype is computed using only pileup of bases and associated quality scores at a given locus. Only \"good bases\" are included.\n",
    "\n",
    "\"Good bases\" are those that satisfy a minimum base quality, mapping read quality, pair mapping quality, and NQS."
   ]
  },
  {
   "attachments": {},
   "cell_type": "markdown",
   "metadata": {},
   "source": [
    "For an example:\n",
    "\n",
    "D (read sequence) = {C,C,C,T,T}, all with a Phred score of 20 (1% error rate)"
   ]
  },
  {
   "attachments": {},
   "cell_type": "markdown",
   "metadata": {},
   "source": [
    "$$\n",
    "P(D_j|b)= \\begin{cases}\n",
    "   1-0.01 &\\ D_j=b, \\\\\n",
    "   0.01 & otherwise\n",
    "\\end{cases}\n",
    "$$"
   ]
  },
  {
   "attachments": {},
   "cell_type": "markdown",
   "metadata": {},
   "source": [
    "1. What is the Genotype likelihood of observing \"C\", when the true underlying genotype is \"C\"?\n",
    "\n",
    "$$\n",
    "P(D_j|b)=P(\"C\"|\"C\") = 0.99\n",
    "$$\n",
    "\n",
    "2. What is the genotype likelihood of observing \"C\", when the true underling genotype is \"T\"?\n",
    "\n",
    "$$\n",
    "P(D_j|b)=P(\"C\"|\"T\") = 0.01\n",
    "$$\n",
    "\n",
    "3. What is the genotype likelihood of observing \"C\", when the true underlying genotype is \"A\"?\n",
    "\n",
    "$$\n",
    "P(D_j|b)=P(\"C\"|\"C\") = 0.99\n",
    "$$"
   ]
  },
  {
   "attachments": {},
   "cell_type": "markdown",
   "metadata": {},
   "source": [
    "4. What is the genotype likelihood of observing \"C\" if the genotype is \"CT\"?\n",
    "\n",
    "$$\n",
    "P(D_j|b)=P(\"C\"|\"CT\") = \\frac{ P(\"C\"|\"C\") + P(\"C\"|\"T\")  }{2} = \\frac{0.99 + 0.01}{2} = \\frac{1}{2} = 0.50\n",
    "$$"
   ]
  },
  {
   "attachments": {},
   "cell_type": "markdown",
   "metadata": {},
   "source": [
    "If we take the diploid likelihood for every diploid pair in the genotype and multiply them together, we will get the overall probability of the observed genotype \"CCCTT\"\n",
    "\n",
    "$$\n",
    "P(D|G) = P(\"C\"|\"CC\")\\cdot P(\"C\"|\"CC\")\\cdot P(\"C\"|\"CT\") \\cdot P(\"T\"|\"TT\")\n",
    "$$"
   ]
  },
  {
   "attachments": {},
   "cell_type": "markdown",
   "metadata": {},
   "source": [
    "There is also an unordered model, but it is more complicated if the reads have different Phred scores."
   ]
  },
  {
   "attachments": {},
   "cell_type": "markdown",
   "metadata": {},
   "source": [
    "##### INDELs"
   ]
  },
  {
   "attachments": {},
   "cell_type": "markdown",
   "metadata": {},
   "source": [
    "Insertions and deletions that are typically less than 50bp in size (thus relatively short).\n",
    "\n",
    "Genotype accuracy for INDELs is usually lower than accuracy for SNPs and even SVs, as they are senstitive to mapping and alignment artifacts.\n",
    "\n",
    "It is important to check to see if the INDEL is from a well-sequenced region and isn't from some sort of repreat region or a centromere or telomere."
   ]
  },
  {
   "attachments": {},
   "cell_type": "markdown",
   "metadata": {},
   "source": [
    "### Software and Tools for Variant Calling"
   ]
  },
  {
   "attachments": {},
   "cell_type": "markdown",
   "metadata": {},
   "source": [
    "- SAMTOOLS/BCFTOOLS\n",
    "- FreeBayes\n",
    "- VT\n",
    "    - Developed by the University of Michigan\n",
    "    - Used by the NCBI TOPMed project\n",
    "- GATK\n",
    "    - Developed by the Broad Institute \n",
    "    - Possibly the most commonly used variant calling software in the world\n",
    "- and more!"
   ]
  },
  {
   "attachments": {},
   "cell_type": "markdown",
   "metadata": {},
   "source": [
    "#### Variant Call Format (VCF)"
   ]
  },
  {
   "attachments": {},
   "cell_type": "markdown",
   "metadata": {},
   "source": [
    "Variant Call Format (VCF) files are tab-delimited text files, often compressed, which contain lists of genomic variations.\n",
    "\n",
    "Each row represents a variant, and each column represents a sample.\n",
    "\n",
    "There is a header at the top of the file that provides information about each column and its contents. Each header line starts with `##`. The last row of the header only starts with `#`, and acts as \"title\" of each column.\n",
    "\n",
    "The first eight columns provide the summary information about the variant itself:\n",
    "- `CHROM` has the chromosome number\n",
    "- `POS` gives the position\n",
    "- `ID` gives an ID for the variant\n",
    "- `REF` gives the reference base in that specific position in the reference genome\n",
    "- `ALT` gives the base present in the variant \n",
    "- `QUAL` gives the quality metric but does not define what the metric is\n",
    "- `FILTER` is an optional flag which can be defined in the header such as failing to meet a quality threshold\n",
    "- `INFO` provides additional information as defined in the header\n",
    "- `FORMAT` indicates how the information in the sample columns will be formatted as defined in the header."
   ]
  },
  {
   "attachments": {},
   "cell_type": "markdown",
   "metadata": {},
   "source": [
    "The minimum content in the `FORMAT` of the sample columns is Genotype (`GT`):\n",
    "- 0: `REF`erence allele\n",
    "- 1: first `ALT` allele\n",
    "- 2: seocond `ALT` allele, and so on.\n",
    "- Diploids are either Phased or Unphased\n",
    "    - Phased (`0|1`)\n",
    "    - Unphased(`1|1`)"
   ]
  }
 ],
 "metadata": {
  "kernelspec": {
   "display_name": "Python 3",
   "language": "python",
   "name": "python3"
  },
  "language_info": {
   "name": "python",
   "version": "3.10.10"
  },
  "orig_nbformat": 4
 },
 "nbformat": 4,
 "nbformat_minor": 2
}
