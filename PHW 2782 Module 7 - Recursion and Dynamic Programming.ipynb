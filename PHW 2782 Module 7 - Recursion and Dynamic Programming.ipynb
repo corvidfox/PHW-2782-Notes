{
 "cells": [
  {
   "attachments": {},
   "cell_type": "markdown",
   "metadata": {},
   "source": [
    "# Module 7: Recursion and Dynamic Programming"
   ]
  },
  {
   "attachments": {},
   "cell_type": "markdown",
   "metadata": {},
   "source": [
    "## Recursion"
   ]
  },
  {
   "attachments": {},
   "cell_type": "markdown",
   "metadata": {},
   "source": [
    "Method of solving problems by breaking the problem into smaller and smaller sub-problems, until you achieve a problem that can be solved trivially. This allows elegant solutions that would otherwise be difficult to program.\n",
    "\n",
    "**Typically** results in a function **calling itself**."
   ]
  },
  {
   "attachments": {},
   "cell_type": "markdown",
   "metadata": {},
   "source": [
    "### Sum of Numbers Example"
   ]
  },
  {
   "attachments": {},
   "cell_type": "markdown",
   "metadata": {},
   "source": [
    "This problem was previously solved using a `for` loop:"
   ]
  },
  {
   "cell_type": "code",
   "execution_count": 153,
   "metadata": {},
   "outputs": [],
   "source": [
    "def listsum(numList):\n",
    "    sum = 0\n",
    "    for i in numList:\n",
    "        sum += i\n",
    "    return sum"
   ]
  },
  {
   "cell_type": "code",
   "execution_count": 154,
   "metadata": {},
   "outputs": [
    {
     "name": "stdout",
     "output_type": "stream",
     "text": [
      "25\n"
     ]
    }
   ],
   "source": [
    "number_list = [1,3,5,7,9]\n",
    "print(listsum(number_list))"
   ]
  },
  {
   "attachments": {},
   "cell_type": "markdown",
   "metadata": {},
   "source": [
    "An example solution without a loop, using recursion:"
   ]
  },
  {
   "cell_type": "code",
   "execution_count": 155,
   "metadata": {},
   "outputs": [],
   "source": [
    "def listsum2(numList):\n",
    "    if len(numList)==1:\n",
    "        return numList[0]\n",
    "    else:\n",
    "        return numList[0]+listsum2(numList[1:])"
   ]
  },
  {
   "cell_type": "code",
   "execution_count": 156,
   "metadata": {},
   "outputs": [
    {
     "name": "stdout",
     "output_type": "stream",
     "text": [
      "25\n"
     ]
    }
   ],
   "source": [
    "print(listsum2(number_list))"
   ]
  },
  {
   "attachments": {},
   "cell_type": "markdown",
   "metadata": {},
   "source": [
    "But how does this work differently?"
   ]
  },
  {
   "cell_type": "code",
   "execution_count": 157,
   "metadata": {},
   "outputs": [],
   "source": [
    "def listsum2_explained(numList):\n",
    "    print(f\"Recursion step where numList is {numList}\")\n",
    "    if len(numList)==1:\n",
    "        print (f\"End of recursion, returning {numList[0]}\")\n",
    "        return numList[0]\n",
    "    else:\n",
    "        print(f\"Returning {numList[0]}+listsum({numList[1:]})\")\n",
    "        return numList[0]+listsum2_explained(numList[1:])"
   ]
  },
  {
   "attachments": {},
   "cell_type": "markdown",
   "metadata": {},
   "source": [
    "1. numList = 1,3,5,7,9; returns 1 + ....\n",
    "2. numList = 3,5,7,9; returns 3 + ....\n",
    "3. numList = 5,7,9; returns 5 + ....\n",
    "4. numList = 7,9; returns 7 + ...\n",
    "5. numList = 9; returns 9\n",
    "6. Then begins processing returns\n",
    "\n",
    "For the returns, it then processes as:\n",
    "1. 9\n",
    "2. 9 + 7 = 16\n",
    "3. 16 + 5 = 21\n",
    "4. 21 + 3 = 24\n",
    "5. 24 + 1 = 25\n",
    "6. Then returns final result!"
   ]
  },
  {
   "cell_type": "code",
   "execution_count": 158,
   "metadata": {},
   "outputs": [
    {
     "name": "stdout",
     "output_type": "stream",
     "text": [
      "Recursion step where numList is [1, 3, 5, 7, 9]\n",
      "Returning 1+listsum([3, 5, 7, 9])\n",
      "Recursion step where numList is [3, 5, 7, 9]\n",
      "Returning 3+listsum([5, 7, 9])\n",
      "Recursion step where numList is [5, 7, 9]\n",
      "Returning 5+listsum([7, 9])\n",
      "Recursion step where numList is [7, 9]\n",
      "Returning 7+listsum([9])\n",
      "Recursion step where numList is [9]\n",
      "End of recursion, returning 9\n",
      "25\n"
     ]
    }
   ],
   "source": [
    "print(listsum2_explained(number_list))"
   ]
  },
  {
   "attachments": {},
   "cell_type": "markdown",
   "metadata": {},
   "source": [
    "### Factorial Example"
   ]
  },
  {
   "attachments": {},
   "cell_type": "markdown",
   "metadata": {},
   "source": [
    "Factorials are a natural recursion. While there are built-in methods to process these, it can be a good way to practice thinking about recursions."
   ]
  },
  {
   "cell_type": "code",
   "execution_count": 159,
   "metadata": {},
   "outputs": [],
   "source": [
    "def factorial(n):\n",
    "    if n == 1:\n",
    "        return 1\n",
    "    else:\n",
    "        return n*factorial(n-1)"
   ]
  },
  {
   "attachments": {},
   "cell_type": "markdown",
   "metadata": {},
   "source": [
    "The factorial of 3, when solved by hand, is equal to:\n",
    "\n",
    "3 * 2 * 1 = 6"
   ]
  },
  {
   "cell_type": "code",
   "execution_count": 160,
   "metadata": {},
   "outputs": [
    {
     "name": "stdout",
     "output_type": "stream",
     "text": [
      "6\n"
     ]
    }
   ],
   "source": [
    "print(factorial(3))"
   ]
  },
  {
   "attachments": {},
   "cell_type": "markdown",
   "metadata": {},
   "source": [
    "Lets walk through this one too"
   ]
  },
  {
   "cell_type": "code",
   "execution_count": 161,
   "metadata": {},
   "outputs": [],
   "source": [
    "def factorial_explained(n):\n",
    "    print(f\"Recursion step where n is {n}\")\n",
    "    if n == 1:\n",
    "        print(f\"Final recursion step, returning {n}\")\n",
    "        return 1\n",
    "    else:\n",
    "        print(f\"Returning {n} * factorial({n-1})\")\n",
    "        return n*factorial_explained(n-1)"
   ]
  },
  {
   "cell_type": "code",
   "execution_count": 162,
   "metadata": {},
   "outputs": [
    {
     "name": "stdout",
     "output_type": "stream",
     "text": [
      "Recursion step where n is 3\n",
      "Returning 3 * factorial(2)\n",
      "Recursion step where n is 2\n",
      "Returning 2 * factorial(1)\n",
      "Recursion step where n is 1\n",
      "Final recursion step, returning 1\n",
      "6\n"
     ]
    }
   ],
   "source": [
    "print(factorial_explained(3))"
   ]
  },
  {
   "attachments": {},
   "cell_type": "markdown",
   "metadata": {},
   "source": [
    "### Speed"
   ]
  },
  {
   "attachments": {},
   "cell_type": "markdown",
   "metadata": {},
   "source": [
    "Lets write a small program that times other functions"
   ]
  },
  {
   "cell_type": "code",
   "execution_count": 163,
   "metadata": {},
   "outputs": [],
   "source": [
    "import time\n",
    "def timer(function, args):\n",
    "    start_time = time.time()\n",
    "    function(args)\n",
    "    print(f\"Duration of {function.__name__} is: {time.time()-start_time}\")"
   ]
  },
  {
   "attachments": {},
   "cell_type": "markdown",
   "metadata": {},
   "source": [
    "Generally, we see that recursions are less efficient than iterations (such as loops) in terms of both memory allocation and time. This is because each step in the recursion acts as an entirely new \"call\" in the stack - which takes up memory! \n",
    "\n",
    "The primary benefits of recursions are that they may be the only \"understandable\" solution to the problem. In some rare specific use cases, such as MergeSort, recursion is the most efficient solution in terms of both memory and time."
   ]
  },
  {
   "attachments": {},
   "cell_type": "markdown",
   "metadata": {},
   "source": [
    "#### Sum of Numbers Speed"
   ]
  },
  {
   "attachments": {},
   "cell_type": "markdown",
   "metadata": {},
   "source": [
    "Let's first generate long random list of numbers. Randomly selecting 1,000 numbers betwee 1 to 100 should be enough. The random seed is set for reproducibility."
   ]
  },
  {
   "cell_type": "code",
   "execution_count": 164,
   "metadata": {},
   "outputs": [],
   "source": [
    "import random\n",
    "random.seed(25)\n",
    "randomlist = [random.randint(1,100) for i in range(0,1000)]"
   ]
  },
  {
   "attachments": {},
   "cell_type": "markdown",
   "metadata": {},
   "source": [
    "The `for` loop version:"
   ]
  },
  {
   "cell_type": "code",
   "execution_count": 165,
   "metadata": {},
   "outputs": [
    {
     "name": "stdout",
     "output_type": "stream",
     "text": [
      "Duration of listsum is: 0.0\n"
     ]
    }
   ],
   "source": [
    "timer(listsum, randomlist)"
   ]
  },
  {
   "attachments": {},
   "cell_type": "markdown",
   "metadata": {},
   "source": [
    "The recursive version:"
   ]
  },
  {
   "cell_type": "code",
   "execution_count": 166,
   "metadata": {},
   "outputs": [
    {
     "name": "stdout",
     "output_type": "stream",
     "text": [
      "Duration of listsum2 is: 0.006196260452270508\n"
     ]
    }
   ],
   "source": [
    "timer(listsum2,randomlist)"
   ]
  },
  {
   "attachments": {},
   "cell_type": "markdown",
   "metadata": {},
   "source": [
    "#### Factorial Speed"
   ]
  },
  {
   "cell_type": "code",
   "execution_count": 167,
   "metadata": {},
   "outputs": [
    {
     "name": "stdout",
     "output_type": "stream",
     "text": [
      "Duration of factorial is: 0.002001047134399414\n"
     ]
    }
   ],
   "source": [
    "num = 2000\n",
    "\n",
    "timer(factorial, num)"
   ]
  },
  {
   "attachments": {},
   "cell_type": "markdown",
   "metadata": {},
   "source": [
    "### Three Laws of Recursion"
   ]
  },
  {
   "attachments": {},
   "cell_type": "markdown",
   "metadata": {},
   "source": [
    "1. The recursive algorithm *must* have a **base case**\n",
    "2. The recursive algorithm *must* change its state and move *towards* the base case\n",
    "3. The recursive algorithm *must* call itself, **recursively**\n",
    "\n",
    "Violations may result in an infinite loop"
   ]
  },
  {
   "attachments": {},
   "cell_type": "markdown",
   "metadata": {},
   "source": [
    "In listSum, the base case is the last element of the list.\n",
    "\n",
    "In factorial, the base case is 1"
   ]
  },
  {
   "attachments": {},
   "cell_type": "markdown",
   "metadata": {},
   "source": [
    "## Dynamic Programming"
   ]
  },
  {
   "attachments": {},
   "cell_type": "markdown",
   "metadata": {},
   "source": [
    "Dynamic Programming is a general algorithm design technique for solving problems by decomposing complex problems into combinations of sub-solutions.\n",
    "\n",
    "It has some similarities in concept to recursion, but is much more efficient in practice."
   ]
  },
  {
   "attachments": {},
   "cell_type": "markdown",
   "metadata": {},
   "source": [
    "In general:\n",
    "1. Break down the problem so that it can be solved using the solution to smaller sub-problems.\n",
    "2. Solve the sub-problems **once**\n",
    "3. Record the sub-problem solutions in a table\n",
    "4. Extract the solution for the overall problem from this table"
   ]
  },
  {
   "attachments": {},
   "cell_type": "markdown",
   "metadata": {},
   "source": [
    "### Example: Fibonnaci"
   ]
  },
  {
   "attachments": {},
   "cell_type": "markdown",
   "metadata": {},
   "source": [
    "Our recursive example of a Fibonnaci solution was a top-down calculation, which had O(2<sup>n</sup>) complexity\n",
    "\n",
    "While F(n) = F(n-1) + F(n-2), F(n-1) is = F(n-2) + F(n-2) and F(n-2) = F(n-3) + F(n-4).... it's a LOT of repetition!\n",
    "\n",
    "How could we calculate this from the bottom-up?"
   ]
  },
  {
   "attachments": {},
   "cell_type": "markdown",
   "metadata": {},
   "source": [
    "We could calculate F(n) for F(0) to F(N), which would result in an efficiency of O(n) in terms of both time and space:\n",
    "\n",
    "| 0 | 1 | 2 | ... | N-2    | N-1    | N    |\n",
    "|---|---|---|-----|--------|--------|------|\n",
    "| 0 | 1 | 1 | ... | F(N-2) | F(N-1) | F(N) |"
   ]
  },
  {
   "cell_type": "code",
   "execution_count": 168,
   "metadata": {},
   "outputs": [],
   "source": [
    "def fibo_table(n):\n",
    "    table = [0,1]\n",
    "    if n == 0:\n",
    "        return [0]\n",
    "    while len(table) < n+1:\n",
    "        sum = table[-2] + table[-1]\n",
    "        table.append(sum)\n",
    "    return table"
   ]
  },
  {
   "cell_type": "code",
   "execution_count": 169,
   "metadata": {},
   "outputs": [
    {
     "name": "stdout",
     "output_type": "stream",
     "text": [
      "[0, 1, 1, 2, 3, 5, 8, 13, 21, 34, 55]\n"
     ]
    }
   ],
   "source": [
    "print(fibo_table(10))"
   ]
  },
  {
   "attachments": {},
   "cell_type": "markdown",
   "metadata": {},
   "source": [
    "But do we really need to store all those numbers? In this example, no. We only need the two most recent numbers! So we can simplify our algorithm, at least with regards to space, to be O(1)."
   ]
  },
  {
   "cell_type": "code",
   "execution_count": 170,
   "metadata": {},
   "outputs": [],
   "source": [
    "def fibo_simple(n):\n",
    "    sums = [0,1]\n",
    "    counter = 1\n",
    "    if n == 0:\n",
    "        return sums[0]\n",
    "    while counter < n:\n",
    "        new = sums[0] + sums[1]\n",
    "        sums[0] = sums[1]\n",
    "        sums[1] = new\n",
    "        counter+=1\n",
    "    return sums[1]"
   ]
  },
  {
   "cell_type": "code",
   "execution_count": 171,
   "metadata": {},
   "outputs": [
    {
     "name": "stdout",
     "output_type": "stream",
     "text": [
      "55\n"
     ]
    }
   ],
   "source": [
    "print(fibo_simple(10))"
   ]
  },
  {
   "attachments": {},
   "cell_type": "markdown",
   "metadata": {},
   "source": [
    "### Example: Grid Navigation"
   ]
  },
  {
   "attachments": {},
   "cell_type": "markdown",
   "metadata": {},
   "source": [
    "You have a map of a town designed on a grid. There are 7 North-South streets, including the borders. There are 6 East-West streets, including borders. If you start at the North-West corner and want to go to the South-East corner, and can only move South or East, how many possible paths can you take through the city?"
   ]
  },
  {
   "attachments": {},
   "cell_type": "markdown",
   "metadata": {},
   "source": [
    "It's wildly inefficient to count every single possible path. Even adding a single street could drastically increase the potential number of paths.\n",
    "\n",
    "But we note, that each intersection can only be reached from the North or the West...."
   ]
  },
  {
   "attachments": {},
   "cell_type": "markdown",
   "metadata": {},
   "source": [
    "**Start from the base case, and work upwards**\n",
    "\n",
    "We are interested in how many potential *paths* could lead to any intersection. So we can follow each road. The road to the far North has 7 intersections, each of which only have one path to access (from West to East) Since we can't \"get to\" our first intersection, it does not count, and we thus have 5 \"nodes\" of 1. Similarly, the road to the far West has 6 intersections with only one path to access (North to South), so we have 4 \"nodes\" of 1.\n",
    "\n",
    "The next Northernmost road has 2 ways to access each intersection: from the North, or from the West. This first intersection has 2 paths, the next intersection to the East as 3, and so on, with the last intersection having 7 possible paths.\n",
    "\n",
    "Continue this onward, adding all possible paths to each of the intersections which could lead to the intersection in question."
   ]
  },
  {
   "attachments": {},
   "cell_type": "markdown",
   "metadata": {},
   "source": [
    "| 0 | 1 | 1  | 1  | 1   | 1   | 1   |\n",
    "|---|---|----|----|-----|-----|-----|\n",
    "| 1 | 2 | 3  | 4  | 5   | 6   | 7   |\n",
    "| 1 | 3 | 6  | 10 | 15  | 21  | 28  |\n",
    "| 1 | 4 | 10 | 20 | 35  | 56  | 84  |\n",
    "| 1 | 5 | 15 | 35 | 70  | 126 | 210 |\n",
    "| 1 | 6 | 21 | 56 | 126 | 252 | 462 |"
   ]
  },
  {
   "attachments": {},
   "cell_type": "markdown",
   "metadata": {},
   "source": [
    "Note the symmetry along the diagonal - could this be useful?"
   ]
  },
  {
   "attachments": {},
   "cell_type": "markdown",
   "metadata": {},
   "source": [
    "## Sequence Alignment"
   ]
  },
  {
   "attachments": {},
   "cell_type": "markdown",
   "metadata": {},
   "source": [
    "### Alignment Criteria"
   ]
  },
  {
   "attachments": {},
   "cell_type": "markdown",
   "metadata": {},
   "source": [
    "Where is \"GATTACA\" located, approximately, in the human genome? How could we find this efficiently?\n",
    "\n",
    "Concerns:\n",
    "- Read errors\n",
    "- SNPs and indels\n",
    "- Locational differences\n",
    "\n",
    "Need to decide:\n",
    "- How to define similarity (or distance) between two sequences\n",
    "- How to handle (penalize) \"gaps\" and differences"
   ]
  },
  {
   "attachments": {},
   "cell_type": "markdown",
   "metadata": {},
   "source": [
    "##### Sliding Window: Example"
   ]
  },
  {
   "attachments": {},
   "cell_type": "markdown",
   "metadata": {},
   "source": [
    "Taking a sliding window approach, by comparing one base at a time"
   ]
  },
  {
   "attachments": {},
   "cell_type": "markdown",
   "metadata": {},
   "source": [
    "|     | 1 | 2 | 3 | 4 | 5 | 6 | 7 | 8 | 9 | 10 | 11 | 12 | 13 | 14 | 15 | SCORE |\n",
    "|-----|---|---|---|---|---|---|---|---|---|----|----|----|----|----|----|-------|\n",
    "| REF | T | G | A | T | T | A | C | A | G | A  | T  | T  | A  | C  | C  |       |\n",
    "| 1   | G | A | T | T | A | C | A |   |   |    |    |    |    |    |    | 1/7   |\n",
    "| 2   |   | G | A | T | T | A | C | A |   |    |    |    |    |    |    | 7/7   |\n",
    "| 9    |   |   |   |   |   |   |   |   | G | A  | T  | T  | A  | C  | A  | 6/7   |"
   ]
  },
  {
   "attachments": {},
   "cell_type": "markdown",
   "metadata": {},
   "source": [
    "Would definitely prefer 7/7, so it is a clear winner as a perfect match. \n",
    "\n",
    "However, we anticipate that there are going to be mismatches. We may also be interested in the similar reads, because they may indicate an important similarity or difference. So the 6/7 Read may also be very important."
   ]
  },
  {
   "attachments": {},
   "cell_type": "markdown",
   "metadata": {},
   "source": [
    "#### Hamming Distance & SNPs"
   ]
  },
  {
   "attachments": {},
   "cell_type": "markdown",
   "metadata": {},
   "source": [
    "Hamming Distance is a quantitative measure of the differences between two strings, specifically the **fewest** number of **substitutions** required to transform String A into String B. \n",
    "\n",
    "This requires the strings to be the same length. If there are two strings of different lengths, a \"sliding window\" approach could be used to try and find a match, or a subset of the larger string could be selected, but this may be limited in effectiveness.\n",
    "\n",
    "Hamming Distance allows us to measure **SNPs**."
   ]
  },
  {
   "attachments": {},
   "cell_type": "markdown",
   "metadata": {},
   "source": [
    "You can count the differences, or go through as if you were iterating the changes. \"STRAWBERRY\" and \"ELDERBERRY\" have a Hamming Distance of 5.\n",
    "\n",
    "| S       | T       | R       | A       | W       | B | E | R | R | Y |\n",
    "|---------|---------|---------|---------|---------|---|---|---|---|---|\n",
    "| ***E*** | T       | R       | A       | W       | B | E | R | R | Y |\n",
    "| E       | ***L*** | R       | A       | W       | B | E | R | R | Y |\n",
    "| E       | L       | ***D*** | E       | R       | B | E | R | R | Y |\n",
    "| E       | L       | D       | ***E*** | R       | B | E | R | R | Y |\n",
    "| E       | L       | D       | E       | ***R*** | B | E | R | R | Y |\n",
    "| E       | L       | D       | E       | R       | B | E | R | R | Y |"
   ]
  },
  {
   "attachments": {},
   "cell_type": "markdown",
   "metadata": {},
   "source": [
    "In a total mismatch, the Hamming Distance is equal to the length of the string. \"STRAWBERRY\" and \"CANTALOUPE\" have a Hamming Distance of 10.\n",
    "\n",
    "| S | T | R | A | W | B | E | R | R | Y |\n",
    "|---|---|---|---|---|---|---|---|---|---|\n",
    "| C | A | N | T | A | L | O | U | P | E |"
   ]
  },
  {
   "attachments": {},
   "cell_type": "markdown",
   "metadata": {},
   "source": [
    "##### Indels & Gaps"
   ]
  },
  {
   "attachments": {},
   "cell_type": "markdown",
   "metadata": {},
   "source": [
    "When two strings are not the same length, we have to form an alignment by placing gaps. This might occur when we have an indel. Trying to interpret alignment and Hamming Distance without accounting for these potential gaps can be catastrophic. At best, we simply penalize our scores. At worst, the shift causes the reads to not align at all!\n",
    "\n",
    "In a simple alignment, we might place the gap at the beginning or the end of the shorter string."
   ]
  },
  {
   "attachments": {},
   "cell_type": "markdown",
   "metadata": {},
   "source": [
    "If we have the sequences \"GATCACGT\" and \"GACACGT\", we might place a \"gap\" at the end of \"GACACGT\" to make it the same length. This results in a Hamming Distance of 5: 5 mismatched bases. Only 2 bases match, with 1 gap.\n",
    "\n",
    "| G  | A  | T | C | A | C | G | T |\n",
    "|----|----|---|---|---|---|---|---|\n",
    "| \\| | \\| | * | * | * | * | * | ^ |\n",
    "| G  | A  | C | A | C | G | T | - |\n",
    "\n",
    "IF we placed this gap at the end, we get a Hamming Distanace of 2: 2 mismatched bases. Now 5 bases match, with 1 gap!\n",
    "\n",
    "| G | A | T | C  | A  | C  | G  | T  |\n",
    "|---|---|---|----|----|----|----|----|\n",
    "| ^ | * | * | \\| | \\| | \\| | \\| | \\| |\n",
    "| - | G | A | C  | A  | C  | G  | T  |\n",
    "\n",
    "Seeing the two examples above, it's easier to recognize that the gap is truly in the middle. This gives us our lowest Hamming Distance of 1: 1 gap. While we have to penalize gaps that are not at the beginning or end, we have to penalize the gaps as mismatches. All 6 bases match!\n",
    "\n",
    "| G  | A  | T | C  | A  | C  | G  | T  |\n",
    "|----|----|---|----|----|----|----|----|\n",
    "| \\| | \\| | - | \\| | \\| | \\| | \\| | \\| |\n",
    "| G  | A  | - | C  | A  | C  | G  | T  |"
   ]
  },
  {
   "attachments": {},
   "cell_type": "markdown",
   "metadata": {},
   "source": [
    "### Edit Distance"
   ]
  },
  {
   "attachments": {},
   "cell_type": "markdown",
   "metadata": {},
   "source": [
    "A biological-friendly version of Hamming Distance, defined as the smallest number of **edits** to transform one sequence into another.\n",
    "\n",
    "Edits may include insertions, deletions, or substitutions."
   ]
  },
  {
   "attachments": {},
   "cell_type": "markdown",
   "metadata": {},
   "source": [
    "5 Step Path for Converting \"GATCGCG\" to \"CGTTACG\":\n",
    "\n",
    "| G | A | T | C | G | C | G |                          |\n",
    "|---|---|---|---|---|---|---|--------------------------|\n",
    "| G | A | T | C | G | C |   | (delete last G)          |\n",
    "| G | A | T | C | G |   |   | (delete last C)          |\n",
    "| C | G | A | T | C | G |   | (insert C at front)      |\n",
    "| C | G | T | T | C | G |   | (substitute C for A at 3) |\n",
    "| C | G | T | T | A | C | G | (insert G before last A) |\n",
    "\n",
    "4 Step Path for Converting \"GATCGCG\" to \"CGTTACG\":\n",
    "\n",
    "| G | A | T | C | G | C | G |   |                           |\n",
    "|---|---|---|---|---|---|---|---|---------------------------|\n",
    "| C | G | A | T | C | G | C | G | (insert C at front)       |\n",
    "| C | G | A | T | C | C | G |   | (delete G at 5)           |\n",
    "| C | G | A | T | A | C | G |   | (substitute A for C at 5) |\n",
    "| C | G | T | T | A | C | G |   | (substitute T for A at 3) |"
   ]
  },
  {
   "attachments": {},
   "cell_type": "markdown",
   "metadata": {},
   "source": [
    "We could iterate forever, but how can we be sure what edit distance is the shortest?\n",
    "\n",
    "We can always think of the nth solution, assuming we know the (N-1)th solution! This means that the only thing that matters is the last (N)th character!"
   ]
  },
  {
   "attachments": {},
   "cell_type": "markdown",
   "metadata": {},
   "source": [
    "If we have Two Strings:\n",
    "- A = `\"ABCDE\"`\n",
    "- B = `\"VWXYZ\"`\n",
    "\n",
    "1. Compare the last characters of String A (`\"E\"`) and String B (`\"Z\"`).\n",
    "    - If they match, we are lucky! These last characters do not add anything to edit distance, so we can recursively find the edit difference after deleting this last character from both strings\n",
    "        - String A = `\"ABCD\"`\n",
    "        - String B = `\"VWXY\"`\n",
    "2. Otherwise, we would need to edit the last character to match String A and String B. We have to choose the minimum edit distance of the following three scenarios:\n",
    "    - Deletion \n",
    "        - Convert A[:-1] (`\"ABCD\"`) to String B (`\"VWXYZ\"`), and delete the last character A[-1] (`\"E\"`) from String A \n",
    "        - String A = `\"ABCD\"`\n",
    "        - String B = `\"VWXYZ\"`\n",
    "    - Insertion \n",
    "        - Convert String A to B[:-1] (`\"VWXYZ\"`), and add the last character of B[-1] to String A\n",
    "        - String A = `\"ABCDEZ\"`\n",
    "        - String B = `\"VWXYZ\"`\n",
    "    - Substitution \n",
    "        - Convert A[:-1] to T[:-1] and substitute the last character\n",
    "        - String A = `\"ABCDZ\"`\n",
    "        - String B = `\"VWXYZ\"`"
   ]
  },
  {
   "attachments": {},
   "cell_type": "markdown",
   "metadata": {},
   "source": [
    "###### Recursive Solution"
   ]
  },
  {
   "attachments": {},
   "cell_type": "markdown",
   "metadata": {},
   "source": [
    "The recursive solution is easier to conceptualize, so we can start with that.\n",
    "\n",
    "If either string is empty, return the length of the other string (**base case**).\n",
    "\n",
    "If the last characters match, return the edit distance *without* that last character.\n",
    "\n",
    "Finally, if they don't match, return the minimum of the 3 possible edit distances (+1, to reflect the edit itself)."
   ]
  },
  {
   "cell_type": "code",
   "execution_count": 172,
   "metadata": {},
   "outputs": [],
   "source": [
    "def EditDistance_recursive(args):\n",
    "    s = args[0]\n",
    "    t = args[1]\n",
    "    if len(s) == 0:\n",
    "        return len(t)\n",
    "    if len(t) == 0:\n",
    "        return len(s)\n",
    "    if (s[-1]==t[-1]):\n",
    "        return EditDistance_recursive((s[:-1],t[:-1]))\n",
    "    else:\n",
    "        D = EditDistance_recursive((s[:-1],t))\n",
    "        I = EditDistance_recursive((s,t[:-1]))\n",
    "        S = EditDistance_recursive((s[:-1],t[:-1]))\n",
    "        return min(D,I,S) + 1"
   ]
  },
  {
   "cell_type": "code",
   "execution_count": 173,
   "metadata": {},
   "outputs": [
    {
     "name": "stdout",
     "output_type": "stream",
     "text": [
      "3\n"
     ]
    }
   ],
   "source": [
    "a = \"Shakespeare\"\n",
    "b = \"shake spear\"\n",
    "\n",
    "print(EditDistance_recursive((a,b)))"
   ]
  },
  {
   "attachments": {},
   "cell_type": "markdown",
   "metadata": {},
   "source": [
    "###### Dynamic Programing Solution"
   ]
  },
  {
   "attachments": {},
   "cell_type": "markdown",
   "metadata": {},
   "source": [
    "We need to store the answers to all possible recursive calls. Specifically, we need the edit distance of the *prefixes* of String A and String B"
   ]
  },
  {
   "attachments": {},
   "cell_type": "markdown",
   "metadata": {},
   "source": [
    "Lets set up a table where we have two strings: `\"hello\"` and `\"keep\"`, and initialize it with our \"base case\" of an empty string as comparison.\n",
    "\n",
    "|    | \"\" | h | e | l | l | o |\n",
    "|----|----|---|---|---|---|---|\n",
    "| \"\" | 0  | 1 | 2 | 3 | 4 | 5 |\n",
    "| k  | 1  |   |   |   |   |   |\n",
    "| e  | 2  |   |   |   |   |   |\n",
    "| e  | 3  |   |   |   |   |   |\n",
    "| p  | 4  |   |   |   |   |   |"
   ]
  },
  {
   "attachments": {},
   "cell_type": "markdown",
   "metadata": {},
   "source": [
    "Now, we will fill in the values from top left to bottom right, by following the recursive solution.\n",
    "\n",
    "If the characters don't match, we take the minimum value of the left, above, and upper-left diagonal, then add one:\n",
    "\n",
    "|    | \"\" | h   | e   | l   | l   | o   |\n",
    "|----|----|-----|-----|-----|-----|-----|\n",
    "| \"\" | 0  | 1   | 2   | 3   | 4   | 5   |\n",
    "| k  | 1  | 0+1 | 1+1 | 2+1 | 3+1 | 4+1 |\n",
    "| e  | 2  |     |     |     |     |     |\n",
    "| e  | 3  |     |     |     |     |     |\n",
    "| p  | 4  |     |     |     |     |     |"
   ]
  },
  {
   "attachments": {},
   "cell_type": "markdown",
   "metadata": {},
   "source": [
    "If they do match, we simply take the value from the upper-left diagonal:\n",
    "\n",
    "|    | \"\" | h | e       | l   | l   | o   |\n",
    "|----|----|---|---------|-----|-----|-----|\n",
    "| \"\" | 0  | 1 | 2       | 3   | 4   | 5   |\n",
    "| k  | 1  | 1 | 2       | 3   | 4   | 5   |\n",
    "| e  | 2  | 2 | ***1*** | 1+1 | 2+1 | 3+1 |\n",
    "| e  | 3  | 3 | ***2*** | 1+1 | 2+1 | 3+1 |\n",
    "| p  | 4  |   |         |     |     |     |"
   ]
  },
  {
   "attachments": {},
   "cell_type": "markdown",
   "metadata": {},
   "source": [
    "The final version of our table would look like this:\n",
    "\n",
    "|    | \"\" | h | e | l | l | o |\n",
    "|----|----|---|---|---|---|---|\n",
    "| \"\" | 0  | 1 | 2 | 3 | 4 | 5 |\n",
    "| k  | 1  | 1 | 2 | 3 | 4 | 5 |\n",
    "| e  | 2  | 2 | 1 | 2 | 3 | 4 |\n",
    "| e  | 3  | 3 | 2 | 2 | 3 | 4 |\n",
    "| p  | 4  | 4 | 3 | 3 | 3 | 4 |"
   ]
  },
  {
   "attachments": {},
   "cell_type": "markdown",
   "metadata": {},
   "source": [
    "So, lets code this!"
   ]
  },
  {
   "cell_type": "code",
   "execution_count": 174,
   "metadata": {},
   "outputs": [],
   "source": [
    "def EditDistance_dp(args):\n",
    "    s = args[0]\n",
    "    t = args[1]\n",
    "    #make a 2-d array of length(t)+1 by length(s)+1\n",
    "    array = [[0 for x in range(len(t)+1)] for y in range(len(s)+1)]\n",
    "    #initialize base cases of comparing against empty strings\n",
    "    for i in range (0, len(s)+1):\n",
    "        array[i][0] = i\n",
    "    for j in range (0, len(t)+1):\n",
    "        array[0][j] = j\n",
    "    #fill in row by row with the recursion, needs double nexted loop\n",
    "    for i in range (1,len(s)+1):\n",
    "        for j in range (1,len(t)+1):\n",
    "            if(s[i-1]==t[j-1]):\n",
    "                #if characters match, pull from upper-left diagonal\n",
    "                array[i][j] = array[i-1][j-1]\n",
    "            else:\n",
    "                #otherwise, find minimum of surrounding values, and add 1\n",
    "                upper_left = array[i-1][j-1]\n",
    "                above = array[i-1][j]\n",
    "                left = array [i][j-1]\n",
    "                array [i][j] = min(upper_left,above,left) + 1\n",
    "    #all we care about is the last cell, in the bottom right\n",
    "    bottom_right = array[len(s)][len(t)]\n",
    "    return array,bottom_right\n"
   ]
  },
  {
   "cell_type": "code",
   "execution_count": 175,
   "metadata": {},
   "outputs": [
    {
     "name": "stdout",
     "output_type": "stream",
     "text": [
      "3\n",
      "[0, 1, 2, 3, 4, 5, 6, 7, 8, 9, 10, 11]\n",
      "[1, 1, 2, 3, 4, 5, 6, 7, 8, 9, 10, 11]\n",
      "[2, 2, 1, 2, 3, 4, 5, 6, 7, 8, 9, 10]\n",
      "[3, 3, 2, 1, 2, 3, 4, 5, 6, 7, 8, 9]\n",
      "[4, 4, 3, 2, 1, 2, 3, 4, 5, 6, 7, 8]\n",
      "[5, 5, 4, 3, 2, 1, 2, 3, 4, 5, 6, 7]\n",
      "[6, 5, 5, 4, 3, 2, 2, 2, 3, 4, 5, 6]\n",
      "[7, 6, 6, 5, 4, 3, 3, 3, 2, 3, 4, 5]\n",
      "[8, 7, 7, 6, 5, 4, 4, 4, 3, 2, 3, 4]\n",
      "[9, 8, 8, 7, 6, 5, 5, 5, 4, 3, 2, 3]\n",
      "[10, 9, 9, 8, 7, 6, 6, 6, 5, 4, 3, 2]\n",
      "[11, 10, 10, 9, 8, 7, 7, 7, 6, 5, 4, 3]\n"
     ]
    }
   ],
   "source": [
    "a = \"Shakespeare\"\n",
    "b = \"shake spear\"\n",
    "\n",
    "array, ans = EditDistance_dp((a,b))\n",
    "\n",
    "print(ans)\n",
    "for row in array:\n",
    "    print(row)"
   ]
  },
  {
   "attachments": {},
   "cell_type": "markdown",
   "metadata": {},
   "source": [
    "How long did that take, compared to the recursive version?"
   ]
  },
  {
   "cell_type": "code",
   "execution_count": 176,
   "metadata": {},
   "outputs": [
    {
     "name": "stdout",
     "output_type": "stream",
     "text": [
      "Duration of EditDistance_recursive is: 1.2202653884887695\n"
     ]
    }
   ],
   "source": [
    "timer(EditDistance_recursive,(a,b))"
   ]
  },
  {
   "cell_type": "code",
   "execution_count": 177,
   "metadata": {},
   "outputs": [
    {
     "name": "stdout",
     "output_type": "stream",
     "text": [
      "Duration of EditDistance_dp is: 0.0\n"
     ]
    }
   ],
   "source": [
    "timer(EditDistance_dp, (a,b))"
   ]
  },
  {
   "attachments": {},
   "cell_type": "markdown",
   "metadata": {},
   "source": [
    "You get the final alignment by \"backtracing\" through the matrix, to find exactly which predecesor path has the minimum value.\n",
    "\n",
    "- Diagonals are matches or substitutions\n",
    "- Moving vertically is a deletion\n",
    "- Moving horizontally is an insertion"
   ]
  },
  {
   "cell_type": "code",
   "execution_count": 178,
   "metadata": {},
   "outputs": [],
   "source": [
    "def backtrace(args):\n",
    "    array = args[0]\n",
    "    a = args[1][0]\n",
    "    b = args[1][1]\n",
    "    j = len(array[0]) - 1\n",
    "    i = len(array) - 1\n",
    "\n",
    "    trace = []\n",
    "\n",
    "    while i > 0:\n",
    "        while j > 0:\n",
    "\n",
    "            #list is [vertical, horizontal, diagonal]\n",
    "            paths = [array[i-1][j], array[i][j-1], array[i-1][j-1]]\n",
    "            route = paths.index(min(paths))\n",
    "            if route == 0:\n",
    "            #vertical, a deletion\n",
    "                i -= 1\n",
    "            elif route == 1:\n",
    "                #horizontal, an insertion\n",
    "                j -= 1\n",
    "            else:\n",
    "                #diagonal, a match or substitution\n",
    "                i -=1\n",
    "                j -=1\n",
    "            trace.append(route)\n",
    "    #reverse list to get forward transformation\n",
    "    trace.reverse()\n",
    "    return trace"
   ]
  },
  {
   "cell_type": "code",
   "execution_count": 179,
   "metadata": {},
   "outputs": [
    {
     "name": "stdout",
     "output_type": "stream",
     "text": [
      "[2, 2, 2, 2, 2, 2, 1, 2, 2, 2, 2, 0]\n"
     ]
    }
   ],
   "source": [
    "a = \"Shakespeare\"\n",
    "b = \"shake spear\"\n",
    "strings = (a,b)\n",
    "array, edit_dist = EditDistance_dp(strings)\n",
    "\n",
    "print(backtrace((array,strings)))"
   ]
  },
  {
   "attachments": {},
   "cell_type": "markdown",
   "metadata": {},
   "source": [
    "Now we can use this to generate our alignment in a human-readable form:"
   ]
  },
  {
   "cell_type": "code",
   "execution_count": 180,
   "metadata": {},
   "outputs": [],
   "source": [
    "def get_aligned_read(args):\n",
    "    b_trace = args[0]\n",
    "    a,b = args[1]\n",
    "    i = 0\n",
    "    new_a = []\n",
    "    a_i = 0\n",
    "    new_b = []\n",
    "    b_i = 0\n",
    "    transformations = []\n",
    "    for i in range(len(b_trace)):\n",
    "        if b_trace[i] == 0:\n",
    "            #vertical, deletion\n",
    "            new_b.append(\"-\")\n",
    "            new_a.append(a[a_i])\n",
    "            a_i +=1\n",
    "            transformations.append(\"D\")\n",
    "        elif b_trace[i] == 1:\n",
    "            #horizontal, insertion\n",
    "            new_a.append(\"-\")\n",
    "            new_b.append(b[b_i])\n",
    "            b_i +=1\n",
    "            transformations.append(\"I\")            \n",
    "        else:\n",
    "            if a[a_i] == b[b_i]:\n",
    "                transformations.append(\"|\")\n",
    "            else:\n",
    "                transformations.append(\"S\")\n",
    "            new_a.append(a[a_i])\n",
    "            new_b.append(b[b_i])\n",
    "            a_i+=1\n",
    "            b_i+=1\n",
    "    print(\"  \".join(new_a))\n",
    "    print(\"  \".join(transformations))\n",
    "    print(\"  \".join(new_b))"
   ]
  },
  {
   "cell_type": "code",
   "execution_count": 182,
   "metadata": {},
   "outputs": [
    {
     "name": "stdout",
     "output_type": "stream",
     "text": [
      "S  h  a  k  e  s  -  p  e  a  r  e\n",
      "S  |  |  |  |  S  I  |  |  |  |  D\n",
      "s  h  a  k  e     s  p  e  a  r  -\n"
     ]
    }
   ],
   "source": [
    "get_aligned_read((backtrace((array,strings)),strings))"
   ]
  },
  {
   "attachments": {},
   "cell_type": "markdown",
   "metadata": {},
   "source": [
    "The real world uses [Smith-Waterman algorithm](https://en.wikipedia.org/wiki/Smith%E2%80%93Waterman_algorithm), which does not penalize any gaps at the beginning or the end of the read"
   ]
  }
 ],
 "metadata": {
  "kernelspec": {
   "display_name": "Python 3",
   "language": "python",
   "name": "python3"
  },
  "language_info": {
   "codemirror_mode": {
    "name": "ipython",
    "version": 3
   },
   "file_extension": ".py",
   "mimetype": "text/x-python",
   "name": "python",
   "nbconvert_exporter": "python",
   "pygments_lexer": "ipython3",
   "version": "3.10.10"
  },
  "orig_nbformat": 4
 },
 "nbformat": 4,
 "nbformat_minor": 2
}
