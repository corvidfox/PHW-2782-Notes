{
 "cells": [
  {
   "cell_type": "raw",
   "metadata": {},
   "source": [
    "---\n",
    "title: \"Module 6: Sequence Alignment\"\n",
    "format: html\n",
    "---"
   ]
  },
  {
   "attachments": {},
   "cell_type": "markdown",
   "metadata": {},
   "source": [
    "## Reference Based Alignment"
   ]
  },
  {
   "attachments": {},
   "cell_type": "markdown",
   "metadata": {},
   "source": [
    "**Goal**: Find the position in the reference genome from which the read was sampled\n",
    "\n",
    "**Issues**:\n",
    "- the human genome is large and highly repetitive\n",
    "- huge amounts of data are produced from NGS\n",
    "- SNPs, indels, and structural variations cause differences between the reference genome and the sequenced reads"
   ]
  },
  {
   "attachments": {},
   "cell_type": "markdown",
   "metadata": {},
   "source": [
    "### Short Read Mapping"
   ]
  },
  {
   "attachments": {},
   "cell_type": "markdown",
   "metadata": {},
   "source": [
    "**Input:** \n",
    "- a reference genome\n",
    "- collection of many 25-100 bp reads\n",
    "- user-specified parameters\n",
    "\n",
    "**Output:**\n",
    "- one or more genomic coordinates for each read\n",
    "\n",
    "Repetitions, ambiguous sequences, and similar sequences will cause more than one possible coordinate for each read.\n",
    "\n",
    "In practice, we expect only 70-75 percent of tags to successfully map to the reference genome due to SNPs, indels, structural variations, etc. We may also have viral genomes or other contaminants that may be part of the sample."
   ]
  },
  {
   "attachments": {},
   "cell_type": "markdown",
   "metadata": {},
   "source": [
    "### Hash Table Mapping"
   ]
  },
  {
   "attachments": {},
   "cell_type": "markdown",
   "metadata": {},
   "source": [
    "One of the earliest sequence mapping algorithms (2009). Utilizes k-mers.\n",
    "\n",
    "Number of possible k-mers is 4<sup>k</sup>, so hashing based on k-mers requires 4<sup>k</sup> slots in the hash table.\n",
    "\n",
    "The hash table is made *only once* when the reference genome is first processed.\n",
    "\n",
    "All possible candidate regions are then used to compare the reads to the reference genome. Only if both the k-mer and entire remainder match, is it considered an aligned read.\n",
    "\n",
    "**Limitations:**\n",
    "- needs a very large hash table\n",
    "- longer the k-mer, reads are not well mapped due to increased mismatches\n",
    "- shorter the k-mer, reads are mapped in too many places\n",
    "- **SLOW**"
   ]
  },
  {
   "attachments": {},
   "cell_type": "markdown",
   "metadata": {},
   "source": [
    "#### Yeast Example"
   ]
  },
  {
   "cell_type": "code",
   "execution_count": 4,
   "metadata": {},
   "outputs": [],
   "source": [
    "#path = r\"/home/BIOINFO/public/yeast/chr01.fsa\"\n",
    "#path2 = r\"/home/BIOINFO/public/yeast/reads.txt\"\n",
    "path = r\"C:\\Users\\morri\\OneDrive\\Documents\\School\\UTHealth\\2023 Spring\\Practical Computational Genetics and Bioinformatics - 2782 - Jun Goo\\Notes\\chr01.txt\"\n",
    "path2 = r\"C:\\Users\\morri\\OneDrive\\Documents\\School\\UTHealth\\2023 Spring\\Practical Computational Genetics and Bioinformatics - 2782 - Jun Goo\\Notes\\reads.txt\""
   ]
  },
  {
   "cell_type": "code",
   "execution_count": 5,
   "metadata": {},
   "outputs": [
    {
     "name": "stdout",
     "output_type": "stream",
     "text": [
      "140821 ACATCGAAAGTACCACCACCCAAGT\n",
      "82621 TTAGCGCTCTTGAAAAATATTTTAC\n",
      "121861 TTTGGGCAAAAAGGAAAAACGGCTT\n",
      "136501 ATTAGTCCTCAACCCCAGAGCATTT\n",
      "192781 ATGCTCCACTATGCCGTGCAAGTCG\n",
      "60661 AACTTCTTCAGCATACACAACTGAT\n",
      "166261 TGAGTTGGGCACATGGCGCAGTTGG\n",
      "30601 CGATCATTGTTACTACTAAACACTT\n",
      "69601 ATTTCATTTCTCTTAGTATTCGCAT\n",
      "133801 TTTGAAGCCGATTGCCCTACCCCTC\n",
      "167761 CATATCCATTCAGTGCAGGTGTCGG\n",
      "179281 TCATATTGCAGGTATGCCCACATCT\n",
      "199501 AATAAAATAAAAAATTACTTAGGAA\n",
      "98461 TCCATGCAGTATTTCTTAAAGTTGC\n",
      "129901 AGCTGCAGATGTGTCTGGAAGGGTC\n",
      "7141 AACTTCATTTACGTCATAAGAAAAT\n",
      "70801 GAGATTAATCTCAGTACAAAACAAT\n",
      "218401 CTTCAGGAACTTTTAAATGTGCTCA\n",
      "116641 TACCAACAAACGGGTATAAACTGGT\n",
      "47941 ACTCTTTGATGATGAGACTAGTTCA\n",
      "45061 TTTGGTTTTGCTTATAGATAGAAAA\n",
      "218821 GCTTCCAATTAGCGTGGAATTGCCT\n",
      "140401 TGGACCTTTGGAATTCTGGTAGAAC\n",
      "216121 TATCGTCTTAGGAACTCAAGATTTT\n",
      "86581 AAATCTTCCATTGTAGAGAATTATT\n",
      "196801 ACCTCTAGTTTTGGTGATGAAGCAA\n",
      "139021 TTTTAAAAACTTGGTGAGATAGTGC\n",
      "112861 ACACTGCAGCCAGATGCAATTGAAG\n",
      "1201 CGTATACTAAAACGGACGTTACGAT\n",
      "176521 AAATTTATATTTATATACATGCGCC\n",
      "42901 TTAGATGTCTAACAATGCCAGGGTT\n",
      "25561 GTTTCGTCAGTTGGTTGACCGTTAG\n",
      "36541 TTCCTTGACTATACTGGTAAGATAT\n",
      "54061 CAGTTCGTTTACATCGATACTCTTA\n",
      "164461 TAAGGGTTCGTGATGCTCCTGAATC\n",
      "57961 GAACCAGTGTCTTTTCGTACTGTTC\n",
      "216841 TAGGACCAGATTTTGTGGGTCAATT\n",
      "29581 TCAGAGCATATCAAGGTGGTTATGG\n",
      "87121 ATGCCTTTATTATGCGTCTTCCTGC\n",
      "149581 GCAACAGAAGCATTAGTACTGTTTT\n",
      "170101 TTCTGGAACGGTGCCTCTTATAAGG\n",
      "68161 GTTTGAGCACAGCGTTTGGTTGCGA\n",
      "148321 GGACTTTCTATTAATATGGACCGGA\n",
      "116101 GATAACTCTGAGTTGGACCTGATGA\n",
      "169621 AAGACTATTTTCGATTATCTACCTG\n",
      "10261 TAACTTATTTTTCTACAGGCTACGA\n",
      "202621 ATGTTATCCGGCGCACGATACTTAT\n",
      "111541 GGTCCCTTTTGAAAAAAATGCAACA\n",
      "91261 AGAATTTTGAAAATTCCAAGCTGAG\n",
      "301 TGTTCTTCTACCCACCATATTGAAA\n",
      "47101 AGGCACCCTTTTCAGATTATCTATC\n",
      "101881 TTCTTTAGCTCTTCCCAAGTCAGTA\n",
      "49501 AGGATCATTGCCCTCAAGGTGGCGA\n",
      "177181 CATCTCACACTCATGCCTTCCACAT\n",
      "192361 AAGTGACTGGCGCCGCCGCTGGCTA\n",
      "208441 TGCTTTAACAATTATTGCCATTTTC\n",
      "174301 TCACATTTTCGGTAGAGTTGATCCA\n",
      "140221 CCAGCAGTTTCAATACCCAAGGATA\n",
      "191101 CATCAATCTCGACCCGCACCAACAC\n",
      "94141 ATGGAAAGAGCTTGTTGAAGAGGAT\n",
      "83221 CGATTAGAATATATTAATATATAGA\n",
      "32521 GAGGTCAGTGGTGACGAAGCCAAGG\n",
      "69001 CAGGTGCATCCAGCGAGCACGAGGG\n",
      "18601 CTCGCAAACTTTTTGTTCGAAAAGC\n",
      "160621 TAGTTTAAATGTTTTTATCGGAAGA\n",
      "213001 AAAAAAAATTGGCACCCCAATTTCT\n",
      "1501 TTATTTAAGGACAAAGGTTGCGAAG\n",
      "222961 TACTTTCCTAAAAATAACTAAGTAG\n",
      "17701 TAGCAGGATATATATTTCCATTCTA\n",
      "108361 GATTCCAGGCGTAACAGTGAGCTTT\n",
      "219421 TGTTCAACTTCTCGAATTGGCCCAG\n",
      "91321 GTGGTTATCTTGTATTCTCGAGCTT\n",
      "18181 TTTCCCACCCTTGCATATTCACTTA\n",
      "92101 TCATCATCATTTTCGAAGCTATTTG\n",
      "128221 CGTATTCGAGCCTAAAAAACAGAAT\n",
      "200641 GGACCCGAAATAATTCTCCCTTCAA\n",
      "144841 TTCAAGATCCTGTTAAGATTGGATT\n",
      "111481 TCTTGTGTTTCATCCAAGCACCGCT\n",
      "64501 TCACCACAGTTACCATAAGAGGCAT\n",
      "137341 ACAAGGGATGGATTCGCATTAATTT\n",
      "64681 AGGTCGAATTATGATAATGAATCTG\n",
      "82741 AATTATATTCCCACCTACAGACACC\n",
      "141841 AAACCATCATCCACACACCGCGCAC\n",
      "9901 CATTTTTATGTTCGATATATTAGCA\n",
      "210301 TGAGTTGCCAAAAGTTTTTTTCTCC\n",
      "182161 ACTCTCGGACTGAAAGCACTAAGGG\n",
      "156001 GAATCTGGGAACGTGTATGTGTGGT\n",
      "191461 TGCCGAGACGCGCATCTCGGACTTG\n",
      "24673 GAAGAAATTGTAACTACTGTGGTTT\n",
      "67081 CTCTTGATAATGAACCGCGAGGAAT\n",
      "24313 GCAGCTCCAGTACTGGTAGTTGTCT\n",
      "102901 AATTTACTTTTCAGCTCTTCAACGT\n",
      "48421 TGCTTCCTTAAATGTACGCAATTGC\n",
      "3901 AGGTCCAGATAACCAAGGGACAATA\n",
      "101581 TTAATCTCTTCTTGTGTTAATGTGC\n",
      "155941 GAGGAGTTGATAGATATAAATTGGG\n",
      "24061 CTGTTGGCACTGCCAGCATACGTTG\n",
      "19261 TATGTTTTTGTCAAAATATTTTCTT\n",
      "89521 CGTCTAGCTAACTGCATTCTCATGG\n",
      "155761 GAGTTGACCTTAGAGCATAAGTACC\n",
      "211321 GTGCGTAATTCAAAGCCTGTGAAGG\n",
      "210061 TTTATAATTTCACGACACTATTGAA\n",
      "110341 TATCTCCTCTGAATGCGTATCGGCC\n",
      "101521 TTTACAAGAGGAATTTGGGAACTGG\n",
      "26416 TCAGTGGATGTAGAGGTAAAAGTGT\n",
      "113761 GTGAGACTTGCCTTCTTGATTAGCA\n",
      "158341 TCTTTCCCTGACAATAGCAGGTTCT\n",
      "37621 GTGAAGCCGTCAACAATGAAGGCTC\n",
      "86941 AGTCCAACGGAACAGAACCTTTGAT\n",
      "144601 CAAAATTCTCTAGTCGTGAATAGCT\n",
      "199321 TTGGGACAGCTCATATAGACAGATT\n",
      "157681 TACTTCCTGGTTCTGAATAGCATCT\n",
      "98881 CTCTCTTGATATCTTCGATACATTC\n",
      "2821 AGAGGGTACCGCTAATTTAGCAGGG\n",
      "66661 TCGAGATTGAAGGAAGCTAACTCGC\n",
      "153961 TTATTTAGTCATTTTTTTTCCACTT\n",
      "215641 CAGTGTACAGAGATTTTAGAAACAT\n",
      "103441 ACTGAGTTTGACTTGTTTTGCTCAG\n",
      "118921 AACCGACAGGCCTAACATGTACTTG\n",
      "81061 TTTTTTCCATGAGACGTTTGGTATA\n",
      "2581 CCCTCGTACAGAAGCTTATTGTCTA\n",
      "13561 CAATCTTCCTTGCCATGGCTTGATA\n",
      "92581 TTTCGAATTTTTCAGTCTTTTCTTT\n",
      "46981 TGTAGTTGTCGTCTCTTTGATTTTC\n",
      "217561 CAAAATGATCCTCTTGTGATGAAGC\n",
      "144721 TCCGCTAGCCATTCTCCTGAATTTG\n",
      "17401 ATTATCATACCAGATTGAATCTTAT\n",
      "90481 GTTGCTTTGAAAACATCCAGATGAC\n",
      "78601 TCCTGAAGATGACGAAGATGAATTG\n",
      "46621 TGCCGCGTGGACGCAGAATTTCCAA\n",
      "63421 CTGTAAAAAATCCATTTATGACTTT\n",
      "51121 GCATATTTACGATGATTCAAATGGA\n",
      "165721 TTAGTGGAAGCCTTCTCACATTCTT\n",
      "128941 ACACCGACACTAGCCTTGTTCTTTC\n",
      "226981 AGAGGTAAGCACAAAGGCGCAGTAT\n",
      "194581 AATCTGAAAAAAATGCTTCAAAAAA\n",
      "216961 TTCCAGTAGCTGTTTTGGTTGCGAC\n",
      "119461 TTTTTCATACGATTGGCCTCCGCCA\n",
      "227701 TATAATATGTGCAATTAATAACTCC\n",
      "223981 CAATACAATTTTCTTATACTAAACG\n",
      "195661 GTATTCAACAAGGACGATAAAAAAT\n",
      "79681 AACACGTTGAAACTGGGTTAAGACG\n",
      "36901 TTCTCGTGCCAAGTACATTCAAAAT\n",
      "92881 CAGTAGTTGTCCAGGTACAATGCAA\n",
      "58621 TAGATAAAACATTGATTTGCAAGTT\n",
      "21901 TTTACTTGATTTTTAGTTTGCTTTC\n",
      "18001 CAAATGATGATATCTCTCTTGCAAG\n",
      "46861 AAGCAATTACTCAGCCAAGATTCTC\n",
      "200821 ATTTTTCCCTAATTTTCCAAGAGGA\n",
      "217201 TACCTATTAATTGTTTTCCTAAAAA\n",
      "57721 CCTGAAACTTCCACAACGCCATCGT\n",
      "163261 ATAAGAGTTTCGAGACGGATGTAGA\n",
      "25381 AAACTGGATGAGATGGCAGTAGTTG\n",
      "55381 AGATTTTCTGCAGAATATTGAAAAT\n",
      "207361 TATCTACAAGCACTGCTACTATTAA\n",
      "151021 TAGTAAATAATCTTTCACAATATAG\n",
      "127741 GATGATCCACCAATTATATCGACGG\n",
      "102481 AAGGGGATATTCATTATAGTTTGTC\n",
      "208861 ACCTAACTATTGTATTTTGGAATTT\n",
      "106801 GGCCATTGCCATGCTGAGGAAGCTA\n",
      "180601 TCCATCACTTAGTCAACACCTTGGG\n",
      "71281 CATCGACAGATTGGGAGATTTTCAT\n",
      "96301 ACCAATGATCAGCTAGTTCGCCGTG\n",
      "40021 GCCTCTAAGGGGTATGACATTTCTT\n",
      "71761 TCAAAACAAATAAAACATCATCACA\n",
      "60361 ACGGACGAGACCATGTACTGTTCCT\n",
      "80101 AGAGAAAGTGAACGACGTGGAGTTA\n",
      "88921 TCTAATGTGTAACAATTCAGGTCCA\n",
      "207781 TGATTGGTCACAGCAGTAGTGTTGT\n",
      "125461 CTGGCTTTATACTTACAACTCGCTC\n",
      "194401 ACCGTCAGCGAATTTTTCGACAAAT\n",
      "206641 CAACTACTGCCATCTCATCCAGTTT\n",
      "14461 AAAAAATTAAAAAGGTTACAACCGC\n",
      "227761 ACAAGACCGCACTAGATCTTACCAA\n",
      "83401 ACCACTGGCACCTTCACTCTTAACA\n",
      "29641 TTTGAGAAAACAATAATGATTGTTT\n",
      "128461 TGTCATGAGTCCTCCCAATAGACTG\n",
      "163321 GTTAGGGTTGTGATCATTGACGATA\n",
      "217681 TTCCTCAAGACTTATACTTCAGCCC\n",
      "106621 TTAGATGGATTTCTTAGGTCCACAT\n",
      "39541 CGACATAATGGGCATGCGTTGAAGA\n",
      "68641 TTGATTGTGGCTGCACTAGGACATC\n",
      "218701 CAATGGTATTAAGCCATGGCAAGGA\n",
      "226021 GGTGATAAATTCAACATATCCTTGC\n",
      "36661 ACTACCTAGAGCTGAAAAAACCGAT\n",
      "192241 GAGCGTGTCCGGTTGAGTTTATGCT\n",
      "59581 GGTACAGAATTGATGTACGTATTCA\n",
      "52081 ATTGGTTTCTTGCTATCAATTGCTT\n",
      "161821 AGATATGTCTAATTGTGTAATATAG\n",
      "88621 TTATCTTTTTCATCACCACCATTCG\n",
      "45541 TTTTAAGAATGTCGGGTAATAAACA\n",
      "228841 CTGATGGTGGTGTTCAAAAACATTG\n",
      "78841 TGCCGTGATGTTATGTTTTGATGTT\n",
      "147661 AATACTTGTCTTTCTAGGAGCCATT\n",
      "27181 CAGTTTGGCTGGCTTAGATTGTTGT\n",
      "139801 TAAGCAATGGATTCCAATTGGTTCT\n",
      "35641 GAAATTCCTCTAGATGTGGCTGCTT\n",
      "55081 CATCGAGCTTCCGTCTTTCTCTTTC\n",
      "82201 TCAAATATGTCGTTTCATTATCTGT\n",
      "226921 TTTTTTTTTTTCACTTTTGCTGGCA\n",
      "84301 TGGCAAAGGAACCGATAGTTCGAAA\n",
      "205546 TTGTCATCAGAACACCAACAACAGC\n",
      "122761 TTCATAGGGATGGCTGTGAAATCAA\n",
      "96601 TGGCAAAAACGTACCAAAACTGCGT\n",
      "126841 GTATACATATTAACAACTAGGCCTG\n",
      "105541 GAATGCCTCAACAACACAAACGTCC\n",
      "143701 CCTAGAATGGAGCAAAATGGCCTTG\n",
      "39421 AATTATCTTTCTATTTTCGCGCTTT\n",
      "134041 GAGCACGCCATGAGAAGCAGAAGAC\n",
      "64321 AACAACAAATAGCTCCTCGGAACCT\n",
      "115381 AACAACAAATCCTCCAAGATTACCG\n",
      "not mapped AAAAAAAAAAAAAAAAAAAAAAAAA\n"
     ]
    },
    {
     "name": "stderr",
     "output_type": "stream",
     "text": [
      "Socket exception: An existing connection was forcibly closed by the remote host (10054)\n"
     ]
    }
   ],
   "source": [
    "with open(path,\"r\") as file:\n",
    "    #first line is header\n",
    "    header_text = file.readline()\n",
    "\n",
    "    ref = \"\"\n",
    "    #read all lines, removing `\\n`\n",
    "    for line in file:\n",
    "        ref +=line.rstrip()\n",
    "    # now ref contains entire sequence from file\n",
    "\n",
    "#creating a hash table of 25-mers\n",
    "k = 25\n",
    "htable = {}\n",
    "for i in range(0,len(ref)-k):\n",
    "    #remember that DNA is indexed starting at 1, and python\n",
    "    #indexes from 0\n",
    "    htable[ref[i:i+k]] = i+1\n",
    "    # this way is a short-hand. It does not allow multiple maps\n",
    "    # in actual practice, this would be appending to a list.\n",
    "\n",
    "#now to use hashed table to get \"mapped position\" of reads\n",
    "with open(path2,\"r\") as file2:\n",
    "    for line in file2:\n",
    "        read = line.rstrip()\n",
    "        # read should always be longer than the k-mer length\n",
    "        query = read[0:k]\n",
    "        # this is only the beginning of the read, in practice\n",
    "        # you would take something from various pieces of this read\n",
    "        # to be thorough\n",
    "        if (htable.get(query,0)):\n",
    "            print(htable[query],query)\n",
    "        else:\n",
    "            print(\"not mapped\", query)"
   ]
  },
  {
   "attachments": {},
   "cell_type": "markdown",
   "metadata": {},
   "source": [
    "### Burrows-Wheeler Transformation Mapping"
   ]
  },
  {
   "attachments": {},
   "cell_type": "markdown",
   "metadata": {},
   "source": [
    "**Strengths:**\n",
    "- Very compact, approximately 1/2 byte per bp\n",
    "- Can fit on a standard computer with 2 GB memory, since it's the original text with a few \"extras\"\n",
    "- O(N) search algorithm, proportional to the length of query for exact matches"
   ]
  },
  {
   "attachments": {},
   "cell_type": "markdown",
   "metadata": {},
   "source": [
    "Originally used for compression, the matrix forms a reversible permutation of the characters of a string. It creates all possible **cyclic shifts** of a string, so it contains a specific marker at the end of each string to be transformed. The indexing algorithm for Burrows-Wheeler can efficiently search for index markers and **reverse** the transformation.\n",
    "\n",
    "It compresses because similar characters \"cluster\" together, so they can be \"compressed\" together. "
   ]
  },
  {
   "attachments": {},
   "cell_type": "markdown",
   "metadata": {},
   "source": [
    "#### LF Mapping"
   ]
  },
  {
   "attachments": {},
   "cell_type": "markdown",
   "metadata": {},
   "source": [
    "Burrows-Wheeler has **LF Mapping**: L indicates \"Last\" and F indicates \"First\"\n",
    "\n",
    "Each character is given a rank, equal to the number of times the character occured previously in the string. This forms T-ranking:\n",
    "\n",
    "a<sub>0</sub>b<sub>0</sub>a<sub>1</sub>a<sub>2</sub>b<sub>1</sub>a<sub>3</sub>\n",
    "\n",
    "In a Burrows-Wheeler Transformation, the T-ranks (relative order) of each character have the same order!\n",
    "\n",
    "**LF Mapping** states that the ith occurence of character `c` in *L* and the ith occurence of `c` in *F* correspond to the *same* occurence in original string `T`.\n",
    "\n",
    "This allows easy reversal of the transformation.\n",
    "\n",
    "*F* always starts with the end marker (`$` in our examples), so *L* always starts with the first character of the string."
   ]
  },
  {
   "attachments": {},
   "cell_type": "markdown",
   "metadata": {},
   "source": [
    "If `T` has 300 `A`s, 400 `C`s, 250 `G`s, and 700 `T`s, and `$` < `A` < `C` < `G` < `T`:\n",
    "\n",
    "The Row (0-based) that begins with `G`<sub>100</sub> is:\n",
    "1. Skip the row starting with `$` (1 row)\n",
    "2. Skip rows starting with `A` (300 rows)\n",
    "3. Skip the rows starting with `C` (400 rows)\n",
    "4. Skip the first 100 rows starting with `G` (100 rows)\n",
    "5. Answer: 1+300+400+100 = 801! Row 801\n",
    "\n",
    "Essentially, this maps out the *bounce around* in the matrix that reverses the transformation."
   ]
  },
  {
   "attachments": {},
   "cell_type": "markdown",
   "metadata": {},
   "source": [
    "#### FM Index"
   ]
  },
  {
   "attachments": {},
   "cell_type": "markdown",
   "metadata": {},
   "source": [
    "**FM** (Full-text Minute-space) **Index**: an index combining BWT with a few auxillary data structures.\n",
    "\n",
    "Core is *F* and *L* from the BWM:\n",
    "- *F* can be represented very simply, with 1 integer per alphabet character\n",
    "- *L* is compressible\n",
    "- overall, highly space economical"
   ]
  },
  {
   "attachments": {},
   "cell_type": "markdown",
   "metadata": {},
   "source": [
    "We use this to **query**:\n",
    "\n",
    "If:\n",
    "\n",
    "|   | F | L |\n",
    "|---|---|---|\n",
    "| 1 | $ | a<sub>0</sub> |\n",
    "| 2 | a<sub>0</sub> | b<sub>0</sub> |\n",
    "| 3 | a<sub>1</sub> | b<sub>1</sub> |\n",
    "| 4 | a<sub>2</sub> | a<sub>1</sub> |\n",
    "| 5 | a<sub>3</sub> | $ |\n",
    "| 6 | b<sub>0</sub> | a<sub>2</sub> |\n",
    "| 7 | b<sub>1</sub> | a<sub>3</sub> |\n",
    "\n",
    "To query `aba`:\n",
    "1. Initially query for a row that has `a` in *F*, and `b` in *L*. (Lines 2,3)\n",
    "2. Query the rows that have `b` in *F*, and `a` in *L* to attempt to narrow the results from step 1 (would be relative slicing) (Lines 6,7)"
   ]
  },
  {
   "attachments": {},
   "cell_type": "markdown",
   "metadata": {},
   "source": [
    "**Improvements**:\n",
    "\n",
    "- \"Lookup\" process can be slow; improve by storing 'partial' checkpoints for local ranks between step 1 and step 2\n",
    "- \"Finding position\" in the original sequence can be done by storing the 'partial' index for some rows (not all) so during LF mapping we can find the relative position of the subsequence"
   ]
  },
  {
   "attachments": {},
   "cell_type": "markdown",
   "metadata": {},
   "source": [
    "## Sequence Assembly"
   ]
  },
  {
   "attachments": {},
   "cell_type": "markdown",
   "metadata": {},
   "source": [
    "### Assembly Algorithms"
   ]
  },
  {
   "attachments": {},
   "cell_type": "markdown",
   "metadata": {},
   "source": [
    "**Overlap Based**: Finds reads that are overlapping with each other\n",
    "\n",
    "**De Bruijn Graph**: Decompose the graph into sequences of K-mers, and build a K-mer graph for assembly."
   ]
  },
  {
   "attachments": {},
   "cell_type": "markdown",
   "metadata": {},
   "source": [
    "Only need a single base to indicate the 'next node' becaues *any adjacent two nodes share K-1 bases*. \n",
    "\n",
    "**Hash tables!**"
   ]
  }
 ],
 "metadata": {
  "kernelspec": {
   "display_name": "Python 3",
   "language": "python",
   "name": "python3"
  },
  "language_info": {
   "codemirror_mode": {
    "name": "ipython",
    "version": 3
   },
   "file_extension": ".py",
   "mimetype": "text/x-python",
   "name": "python",
   "nbconvert_exporter": "python",
   "pygments_lexer": "ipython3",
   "version": "3.10.10"
  },
  "orig_nbformat": 4,
  "vscode": {
   "interpreter": {
    "hash": "481f7de895a69a02f86a3fa2c9481f723cb5a5076304da5de9626f36d7218f15"
   }
  }
 },
 "nbformat": 4,
 "nbformat_minor": 2
}
