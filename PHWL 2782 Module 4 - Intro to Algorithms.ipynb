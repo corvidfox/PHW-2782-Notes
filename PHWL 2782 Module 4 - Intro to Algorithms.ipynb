{
 "cells": [
  {
   "cell_type": "markdown",
   "metadata": {},
   "source": [
    "# Module 4 - Intro to Algorithms"
   ]
  },
  {
   "attachments": {},
   "cell_type": "markdown",
   "metadata": {},
   "source": [
    "An algorithm is a list of procedures that, when followed exactly, solves a specific problem."
   ]
  },
  {
   "attachments": {},
   "cell_type": "markdown",
   "metadata": {},
   "source": [
    "## Complexity"
   ]
  },
  {
   "attachments": {},
   "cell_type": "markdown",
   "metadata": {},
   "source": [
    "### Examples, Measuring"
   ]
  },
  {
   "attachments": {},
   "cell_type": "markdown",
   "metadata": {},
   "source": [
    "There are multiple ways to solve the same problem. Complexity in coding refers to the computational complexity, which results in the amount of time it takes a computer to process the algorithm."
   ]
  },
  {
   "attachments": {},
   "cell_type": "markdown",
   "metadata": {},
   "source": [
    "**Example**: Sum of all integers from 1 to N"
   ]
  },
  {
   "cell_type": "code",
   "execution_count": 24,
   "metadata": {},
   "outputs": [],
   "source": [
    "def sumOfN(n):\n",
    "    sum = 0\n",
    "    for i in range (1,n+1):\n",
    "       sum = sum + i\n",
    "    return sum "
   ]
  },
  {
   "cell_type": "code",
   "execution_count": 25,
   "metadata": {},
   "outputs": [
    {
     "name": "stdout",
     "output_type": "stream",
     "text": [
      "55\n"
     ]
    }
   ],
   "source": [
    "print (sumOfN(10))"
   ]
  },
  {
   "attachments": {},
   "cell_type": "markdown",
   "metadata": {},
   "source": [
    "We can find how long a process takes with the `time` module"
   ]
  },
  {
   "cell_type": "code",
   "execution_count": 26,
   "metadata": {},
   "outputs": [],
   "source": [
    "import time\n",
    "\n",
    "def sumOfN2(n):\n",
    "    start = time.time()\n",
    "\n",
    "    sum = 0\n",
    "    for i in range (1,n+1):\n",
    "        sum = sum + i\n",
    "    \n",
    "    end = time.time()\n",
    "\n",
    "    return sum, end-start"
   ]
  },
  {
   "cell_type": "code",
   "execution_count": 27,
   "metadata": {},
   "outputs": [
    {
     "name": "stdout",
     "output_type": "stream",
     "text": [
      "(50005000, 0.0)\n",
      "(5000050000, 0.003499269485473633)\n",
      "(500000500000, 0.03959941864013672)\n"
     ]
    }
   ],
   "source": [
    "print(sumOfN2(10000))\n",
    "print(sumOfN2(100000))\n",
    "print(sumOfN2(1000000))\n",
    "\n",
    "#Increases linearly"
   ]
  },
  {
   "attachments": {},
   "cell_type": "markdown",
   "metadata": {},
   "source": [
    "Optimizing an algorithms processing time can be dramatic. This is a faster method of calculating the sum of 1 to N:"
   ]
  },
  {
   "cell_type": "code",
   "execution_count": 28,
   "metadata": {},
   "outputs": [],
   "source": [
    "def sumOfN3(n):\n",
    "    start = time.time()\n",
    "    sum = (n*(n+1)/2)\n",
    "    end = time.time()\n",
    "    return sum, end-start"
   ]
  },
  {
   "cell_type": "code",
   "execution_count": 29,
   "metadata": {},
   "outputs": [
    {
     "name": "stdout",
     "output_type": "stream",
     "text": [
      "(50005000.0, 0.0)\n",
      "(5000050000.0, 0.0)\n",
      "(500000500000.0, 0.0)\n"
     ]
    }
   ],
   "source": [
    "print(sumOfN3(10000))\n",
    "print(sumOfN3(100000))\n",
    "print(sumOfN3(1000000))\n",
    "\n",
    "#Does not increase, runs in constant time!"
   ]
  },
  {
   "attachments": {},
   "cell_type": "markdown",
   "metadata": {},
   "source": [
    "### Big-O Notation: `O( f(n) )`"
   ]
  },
  {
   "attachments": {},
   "cell_type": "markdown",
   "metadata": {},
   "source": [
    "- Measures time and space complexity of an algorithm\n",
    "- Asymptotic complexity as n grows large"
   ]
  },
  {
   "attachments": {},
   "cell_type": "markdown",
   "metadata": {},
   "source": [
    "If an algorithm's complexity is g(n), one can say g(n) has a complexity of O (f (n) ) if there exist M and n<sub>0</sub> such that |g(n)| <= M|f(n)| for all n >= n<sub>0</sub>\n",
    "\n",
    "\n",
    "Variables:\n",
    "- n: number of items in the input set\n",
    "- f: operation done per item"
   ]
  },
  {
   "attachments": {},
   "cell_type": "markdown",
   "metadata": {},
   "source": [
    "Calculation steps:\n",
    "\n",
    "1. Break the algorithm/function into individual operations\n",
    "2. Calculate the BigO of each operation\n",
    "3. Add up the BigO of each operation together\n",
    "4. Remove constants\n",
    "5. Find the highest order item: this will be the BigO of the overall algorithm/function\n",
    "\n",
    "n<sup>3</sup> > n<sup>2</sup> > n*log(n) > n > log(n) > 1\n",
    "\n",
    "Remember, computers are binary. So any logarithm without a base is assumed to be base 2."
   ]
  },
  {
   "attachments": {},
   "cell_type": "markdown",
   "metadata": {},
   "source": [
    "O(1):\n",
    "- runs at constant time\n",
    "- not depenent on the size of the input data\n",
    "- time required to run is the same every single time\n",
    "- addition, subtraction, and most basic lookups\n",
    "\n",
    "O(n):\n",
    "- runs at linear time\n",
    "- the number of operations increases linearly with the size of the input data\n",
    "- the operation is performed for *each item* in an input\n",
    "- for `loops`, `.shift()`, `.unshift()`\n",
    "\n",
    "O(n<sup>2</sup>):\n",
    "- runs at quadratic time\n",
    "- perform a linear operation for *each value* in an input, not just the input itself\n",
    "- nested loops (since O(n*n) = O(n<sup>2</sup>))"
   ]
  },
  {
   "attachments": {},
   "cell_type": "markdown",
   "metadata": {},
   "source": [
    "Once you have more than a million data points, quadratic or more complex functions are not practically feasible."
   ]
  },
  {
   "attachments": {},
   "cell_type": "markdown",
   "metadata": {},
   "source": [
    "If an O(n) code took 1 hour to process n = 1000....\n",
    "\n",
    "- O(n<sup>2</sup>) would take 1,000 hours\n",
    "- O(n<sup>3</sup>) would take 1,000,000 hours\n",
    "- O(n log n) would take 10 hours "
   ]
  },
  {
   "attachments": {},
   "cell_type": "markdown",
   "metadata": {},
   "source": [
    "#### `O(n`<sup>`2`</sup>`)`"
   ]
  },
  {
   "cell_type": "code",
   "execution_count": 30,
   "metadata": {},
   "outputs": [],
   "source": [
    "def example1(n):\n",
    "    test = 0\n",
    "    for i in range(n):\n",
    "        for j in range(n):\n",
    "            test = test+i*j\n",
    "    return test"
   ]
  },
  {
   "attachments": {},
   "cell_type": "markdown",
   "metadata": {},
   "source": [
    "#### `O(n)`"
   ]
  },
  {
   "cell_type": "code",
   "execution_count": 31,
   "metadata": {},
   "outputs": [],
   "source": [
    "def example2(n):\n",
    "    test = 0\n",
    "    for i in range(n):\n",
    "        test = test+1\n",
    "\n",
    "    for j in range(n):\n",
    "        test = test - 1\n",
    "    return test"
   ]
  },
  {
   "attachments": {},
   "cell_type": "markdown",
   "metadata": {},
   "source": [
    "#### `O(n*log`<sub>`2`</sub>`(n))`"
   ]
  },
  {
   "attachments": {},
   "cell_type": "markdown",
   "metadata": {},
   "source": [
    "It decreases by half each time.... so it's a log in base 2!"
   ]
  },
  {
   "cell_type": "code",
   "execution_count": 32,
   "metadata": {},
   "outputs": [],
   "source": [
    "def example3(n):\n",
    "    i = n\n",
    "    while i > 0:\n",
    "        k = 2+2\n",
    "        i = i//2\n",
    "    return k"
   ]
  },
  {
   "attachments": {},
   "cell_type": "markdown",
   "metadata": {},
   "source": [
    "## Anagram Example"
   ]
  },
  {
   "attachments": {},
   "cell_type": "markdown",
   "metadata": {},
   "source": [
    "An anagram is a word or phrase formed by rearranging another word\n",
    "\n",
    "To detect an anagram, check if two strings are anagrams. Assume if they are not the same length, they cannot be anagrams."
   ]
  },
  {
   "attachments": {},
   "cell_type": "markdown",
   "metadata": {},
   "source": [
    "### Brute Force"
   ]
  },
  {
   "attachments": {},
   "cell_type": "markdown",
   "metadata": {},
   "source": [
    "1. Select first letter from string 1\n",
    "2. Check whether the letter exists in string 2\n",
    "- -- if it does exist, delete the letter from string 2, keep going\n",
    "- -- if it does not exist, STOP! Can't be anagrams\n",
    "3. Select the next letter from string 1, and repeat step 2."
   ]
  },
  {
   "cell_type": "code",
   "execution_count": 33,
   "metadata": {},
   "outputs": [],
   "source": [
    "def anagramSolution1(s1,s2):\n",
    "    alist = list(s2)\n",
    "    pos1 = 0\n",
    "    stillOK = True\n",
    "    while pos1 < len(s1) and stillOK:\n",
    "        pos2 = 0\n",
    "        found = False\n",
    "        while pos2 < len(alist) and not found:\n",
    "            if s1[pos1] == alist[pos2]:\n",
    "                found = True\n",
    "            else:\n",
    "                pos2 = pos2+1\n",
    "        if found:\n",
    "            alist[pos2] = None\n",
    "        else:\n",
    "            stillOK = False\n",
    "        pos1 = pos1+1\n",
    "    return stillOK"
   ]
  },
  {
   "cell_type": "code",
   "execution_count": 34,
   "metadata": {},
   "outputs": [
    {
     "name": "stdout",
     "output_type": "stream",
     "text": [
      "True\n"
     ]
    }
   ],
   "source": [
    "print(anagramSolution1('abcd','dcba'))"
   ]
  },
  {
   "attachments": {},
   "cell_type": "markdown",
   "metadata": {},
   "source": [
    "This solution is O(n<sup>2</sup>)"
   ]
  },
  {
   "attachments": {},
   "cell_type": "markdown",
   "metadata": {},
   "source": [
    "### Sort and Compare"
   ]
  },
  {
   "attachments": {},
   "cell_type": "markdown",
   "metadata": {},
   "source": [
    "We sort the input strings and then compare then 1:1 for each letter in each"
   ]
  },
  {
   "cell_type": "code",
   "execution_count": 35,
   "metadata": {},
   "outputs": [],
   "source": [
    "def anagramSolution2 (s1,s2):\n",
    "    alist1 = list(s1)\n",
    "    alist2 = list(s2)\n",
    "    alist1.sort()\n",
    "    alist2.sort()\n",
    "    pos = 0\n",
    "    matches = True\n",
    "    while pos < len(s1) and matches:\n",
    "        if alist1[pos] == alist2[pos]:\n",
    "            pos = pos+1\n",
    "        else:\n",
    "            matches = False\n",
    "    return matches"
   ]
  },
  {
   "cell_type": "code",
   "execution_count": 36,
   "metadata": {},
   "outputs": [
    {
     "name": "stdout",
     "output_type": "stream",
     "text": [
      "True\n"
     ]
    }
   ],
   "source": [
    "print(anagramSolution2('abcde','edcba'))"
   ]
  },
  {
   "attachments": {},
   "cell_type": "markdown",
   "metadata": {},
   "source": [
    "Sorting takes n*logn on average\n",
    "\n",
    "This solution has nlogn+nlogn+n\n",
    "\n",
    "This solution is O(nlogn)"
   ]
  },
  {
   "attachments": {},
   "cell_type": "markdown",
   "metadata": {},
   "source": [
    "### \"Worst Case\""
   ]
  },
  {
   "attachments": {},
   "cell_type": "markdown",
   "metadata": {},
   "source": [
    "The worst case algorithm would be one that generates all possible anagrams of s1 and compares them with s2\n",
    "\n",
    "This would result in n! anagrams generated, which the function would then iterate over, resulting in O(n!)"
   ]
  },
  {
   "attachments": {},
   "cell_type": "markdown",
   "metadata": {},
   "source": [
    "### \"Best Case\": Binned Count"
   ]
  },
  {
   "cell_type": "code",
   "execution_count": 37,
   "metadata": {},
   "outputs": [],
   "source": [
    "def anagramSolution4(s1,s2):\n",
    "    c1 = [0]*26\n",
    "    c2 =[0] *26\n",
    "    for i in range(len(s1)):\n",
    "        pos = ord(s1[i])-ord('a')\n",
    "        c1[pos] = c1[pos]+1\n",
    "    for i in range(len(s2)):\n",
    "        pos = ord(s2[i])-ord('a')\n",
    "        c2[pos] = c2[pos]+1\n",
    "    j = 0\n",
    "    stillOK = True\n",
    "    while j<26 and stillOK:\n",
    "        if c1[j]==c2[j]:\n",
    "            j=j+1\n",
    "        else:\n",
    "            stillOK = False\n",
    "    return stillOK"
   ]
  },
  {
   "cell_type": "code",
   "execution_count": 38,
   "metadata": {},
   "outputs": [
    {
     "name": "stdout",
     "output_type": "stream",
     "text": [
      "True\n"
     ]
    }
   ],
   "source": [
    "print(anagramSolution4('apple','pleap'))"
   ]
  },
  {
   "attachments": {},
   "cell_type": "markdown",
   "metadata": {},
   "source": [
    "This solution is n + n + 26,\n",
    "\n",
    "This solution is O(n)"
   ]
  },
  {
   "attachments": {},
   "cell_type": "markdown",
   "metadata": {},
   "source": [
    "## Complexity of Python Lists"
   ]
  },
  {
   "attachments": {},
   "cell_type": "markdown",
   "metadata": {},
   "source": [
    "### Complexity of List Creation: Examples"
   ]
  },
  {
   "attachments": {},
   "cell_type": "markdown",
   "metadata": {},
   "source": [
    "#### Concatenations"
   ]
  },
  {
   "cell_type": "code",
   "execution_count": 39,
   "metadata": {},
   "outputs": [],
   "source": [
    "def test1():\n",
    "    l = []\n",
    "    for i in range(1000):\n",
    "        l = l + [i]\n",
    "    return l"
   ]
  },
  {
   "attachments": {},
   "cell_type": "markdown",
   "metadata": {},
   "source": [
    "When adding a list of length k to a list of length n when concatenating, it iterates over the list of length k. \n",
    "\n",
    "The for loop is O(n), with O(1) each time. \n",
    "\n",
    "Overall, this method is O(n)"
   ]
  },
  {
   "attachments": {},
   "cell_type": "markdown",
   "metadata": {},
   "source": [
    "#### Appending"
   ]
  },
  {
   "cell_type": "code",
   "execution_count": 40,
   "metadata": {},
   "outputs": [],
   "source": [
    "def test2():\n",
    "    l = []\n",
    "    for i in range(1000):\n",
    "        l = l.append[i]\n",
    "    return l"
   ]
  },
  {
   "attachments": {},
   "cell_type": "markdown",
   "metadata": {},
   "source": [
    "Appending only needs to add something to the end, not iterate over, so it is O(1). \n",
    "\n",
    "The for loop is O(n), meaning that overall, this method is O(n)"
   ]
  },
  {
   "attachments": {},
   "cell_type": "markdown",
   "metadata": {},
   "source": [
    "#### List Comprehension"
   ]
  },
  {
   "cell_type": "code",
   "execution_count": 41,
   "metadata": {},
   "outputs": [],
   "source": [
    "def test3():\n",
    "    l = [i for i in range(1000)]\n",
    "    return l"
   ]
  },
  {
   "attachments": {},
   "cell_type": "markdown",
   "metadata": {},
   "source": [
    "Range is a sequence of 3 operations of O(1). The list comprehension is similar to a for loop that appends, iterating over each element once as it is created.\n",
    "\n",
    "It is O(n)"
   ]
  },
  {
   "attachments": {},
   "cell_type": "markdown",
   "metadata": {},
   "source": [
    "#### List with Range"
   ]
  },
  {
   "cell_type": "code",
   "execution_count": 42,
   "metadata": {},
   "outputs": [],
   "source": [
    "def test4():\n",
    "    l = list(range(1000))\n",
    "    return l"
   ]
  },
  {
   "attachments": {},
   "cell_type": "markdown",
   "metadata": {},
   "source": [
    "Calling list(inter(n)) has a complexity of O(len(inter)). Since range is a sequence of 3 functions of O(1), this solution is O(n)"
   ]
  },
  {
   "attachments": {},
   "cell_type": "markdown",
   "metadata": {},
   "source": [
    "### `Pop()` vs `Pop(0)`"
   ]
  },
  {
   "attachments": {},
   "cell_type": "markdown",
   "metadata": {},
   "source": [
    "`pop()` is constant time\n",
    "\n",
    "`pop(0)` is linear time, because to remove the first element means we have to *shift every single item's index*"
   ]
  },
  {
   "attachments": {},
   "cell_type": "markdown",
   "metadata": {},
   "source": [
    "### Summary Table"
   ]
  },
  {
   "attachments": {},
   "cell_type": "markdown",
   "metadata": {},
   "source": [
    "| Operation        | Complexity |\n",
    "|------------------|------------|\n",
    "| Index[]          | O(1)       |\n",
    "| Index Assignment | O(1)       |\n",
    "| Append           | O(1)       |\n",
    "| pop()            | O(1)       |\n",
    "| pop(i)           | O(n)       |\n",
    "| insert(i,item)   | O(n)       |\n",
    "| remove(item)     | O(n)       |\n",
    "| sort()           | O(nlogn)   |\n",
    "| concatenate      | O(k)       |\n",
    "| contains(in)     | O(n)       |"
   ]
  },
  {
   "attachments": {},
   "cell_type": "markdown",
   "metadata": {},
   "source": [
    "## Complexity of Python Dictionaries"
   ]
  },
  {
   "attachments": {},
   "cell_type": "markdown",
   "metadata": {},
   "source": [
    "### Indexing: Dictionary vs List"
   ]
  },
  {
   "attachments": {},
   "cell_type": "markdown",
   "metadata": {},
   "source": [
    "Since a list must iterate over each item in the list to see if it exists. Checking if an item exists in a list is O(n).\n",
    "\n",
    "In contrasts, dictionaries utilize hashing in order to make matches in constant time. Checking if a key exists in a dictionary is O(1)"
   ]
  },
  {
   "attachments": {},
   "cell_type": "markdown",
   "metadata": {},
   "source": [
    "### Summary Table"
   ]
  },
  {
   "attachments": {},
   "cell_type": "markdown",
   "metadata": {},
   "source": [
    "| Operation   | Complexity |\n",
    "|-------------|------------|\n",
    "| Copy        | O(n)       |\n",
    "| get item    | O(1)       |\n",
    "| set item    | O(1)       |\n",
    "| delete item | O(1)       |\n",
    "| iteration   | O(n)       |"
   ]
  },
  {
   "attachments": {},
   "cell_type": "markdown",
   "metadata": {},
   "source": [
    "## Complexity of Sorting"
   ]
  },
  {
   "attachments": {},
   "cell_type": "markdown",
   "metadata": {},
   "source": [
    "Sorting is the process of placing elements of a collection in an order.\n",
    "\n",
    "So long as an algorithm allows you to compare items and set a specific order, it is a sorting algorithm.\n",
    "\n",
    "Many, many sorting algorithms have been developed and analyzed. Sorting a large number of items can take a substantial amount of computing resources."
   ]
  },
  {
   "attachments": {},
   "cell_type": "markdown",
   "metadata": {},
   "source": [
    "1. Compare two values to determine which should come first \n",
    "- number of comparisons determine the complexity\n",
    "2. Put items in the right order\n",
    "- move to a specific position\n",
    "- swap two items"
   ]
  },
  {
   "attachments": {},
   "cell_type": "markdown",
   "metadata": {},
   "source": [
    "### Bubble Sort"
   ]
  },
  {
   "attachments": {},
   "cell_type": "markdown",
   "metadata": {},
   "source": [
    "One of the simplest sorting algorithms that exists.\n",
    "\n",
    "Compares adjacent items and exchanges those that are out of order.\n",
    "\n",
    "In each pass, the largest (or smallest) item will move to the end of the list."
   ]
  },
  {
   "attachments": {},
   "cell_type": "markdown",
   "metadata": {},
   "source": [
    "This results in n(n-1)/2 comparisons made. Overall, this is O(n<sup>2</sup>)!\n",
    "\n",
    "It is also more inefficient than other O(n<sup>2</sup>) algorithms, because of the excessive number of exchanges."
   ]
  },
  {
   "attachments": {},
   "cell_type": "markdown",
   "metadata": {},
   "source": [
    "#### Improvements?"
   ]
  },
  {
   "attachments": {},
   "cell_type": "markdown",
   "metadata": {},
   "source": [
    "If the list is 'already sorted', it could stop after (n-1) comparisons. It could stop after it makes a pass without any exchanges!\n",
    "\n",
    "Best case, O(n), worst case n(n-1)/2"
   ]
  },
  {
   "attachments": {},
   "cell_type": "markdown",
   "metadata": {},
   "source": [
    "## Merge and Sort"
   ]
  },
  {
   "attachments": {},
   "cell_type": "markdown",
   "metadata": {},
   "source": [
    "A \"divide and conquer\" strategy, where two sorted lists would be merged into a single sorted list."
   ]
  },
  {
   "attachments": {},
   "cell_type": "markdown",
   "metadata": {},
   "source": [
    "1. Make each item a 'sublist' of its own\n",
    "- -- N steps\n",
    "2. At each pass, merge 2 'sublists' into 1 sorted list\n",
    "- -- Each merge is N comparisons\n",
    "3. Repeat until all sublists are merged\n",
    "- -- Results in log n \"passes\", with n comparisons in each pass"
   ]
  },
  {
   "attachments": {},
   "cell_type": "markdown",
   "metadata": {},
   "source": [
    "Each \"row\" is logn complexity, and there are a maximum of \"rows\" in the process.\n",
    "\n",
    "Overall, this is O(n*logn) in complexity, making it one of the most efficient methods to sort large data sets.\n",
    "\n",
    "However, there are additional memory requirements to keep 'sorted sublists' and merge."
   ]
  }
 ],
 "metadata": {
  "kernelspec": {
   "display_name": "Python 3",
   "language": "python",
   "name": "python3"
  },
  "language_info": {
   "codemirror_mode": {
    "name": "ipython",
    "version": 3
   },
   "file_extension": ".py",
   "mimetype": "text/x-python",
   "name": "python",
   "nbconvert_exporter": "python",
   "pygments_lexer": "ipython3",
   "version": "3.10.10"
  },
  "orig_nbformat": 4,
  "vscode": {
   "interpreter": {
    "hash": "481f7de895a69a02f86a3fa2c9481f723cb5a5076304da5de9626f36d7218f15"
   }
  }
 },
 "nbformat": 4,
 "nbformat_minor": 2
}
