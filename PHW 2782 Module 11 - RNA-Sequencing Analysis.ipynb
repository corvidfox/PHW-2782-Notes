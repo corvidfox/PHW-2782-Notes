{
 "cells": [
  {
   "cell_type": "markdown",
   "metadata": {},
   "source": [
    "# Module 11: RNA Sequencing Analysis"
   ]
  },
  {
   "attachments": {},
   "cell_type": "markdown",
   "metadata": {},
   "source": [
    "## Overview of RNA Sequencing"
   ]
  },
  {
   "attachments": {},
   "cell_type": "markdown",
   "metadata": {},
   "source": [
    "RNA sequencing is similar to DNA sequencing. The product of RNA sequencing, the collection of RNA transcripts from DNA, is called either the \"transcriptum\" (leading to the term transcriptomics) or \"gene expression\" data.\n",
    "\n",
    "1. Samples of interest are selected\n",
    "2. RNA is isolated from the samples of interest in library prep\n",
    "3. cDNA is generated from the RNA\n",
    "    - The generated cDNA is fragmented\n",
    "    - Fragments are selected based on size\n",
    "    - Linkers are added for paired-end reading\n",
    "4. Sequencing occurs in the same way as DNA sequencing\n",
    "    - Generates 100s of millions of paired reads with 10s of billions of bases\n",
    "    - FASTQ is the usual output format\n",
    "5. Reads are mapped to:\n",
    "    - Genome\n",
    "    - Transcriptome\n",
    "    - Predicted exon junctions\n",
    "6. Downstream analysis can then occur"
   ]
  },
  {
   "attachments": {},
   "cell_type": "markdown",
   "metadata": {},
   "source": [
    "### Brief History of Transcriptomics"
   ]
  },
  {
   "attachments": {},
   "cell_type": "markdown",
   "metadata": {},
   "source": [
    "- 1995: P. Brown, et al.\n",
    "    - Gene expression profiling using spotted cDNA microarray\n",
    "    - Expression levels of known genes\n",
    "- 2002: Affymetrix\n",
    "    - Whole genome expression profiling using tiling array\n",
    "    - Identification and profiling of novel genes and splicing variants\n",
    "- 2008: Many groups, mRNA-seq:\n",
    "    - Directed sequencing of mRNAs using NGS"
   ]
  },
  {
   "attachments": {},
   "cell_type": "markdown",
   "metadata": {},
   "source": [
    "### Features of RNA Sequencing Data"
   ]
  },
  {
   "attachments": {},
   "cell_type": "markdown",
   "metadata": {},
   "source": [
    "#### Replicates"
   ]
  },
  {
   "attachments": {},
   "cell_type": "markdown",
   "metadata": {},
   "source": [
    "We can often see replicates in RNA sequencing:\n",
    "\n",
    "- Biological Replicate\n",
    "    - Multiple isolations of cells showing the same phenotype, stage, or other experimental condition\n",
    "    - Environmental factors, growth conditions, time, etc.\n",
    "    - Correlation coefficient of biological replicates are usually 0.92-0.98\n",
    "- Technical Replicate\n",
    "    - Multiple instances of sequence generation\n",
    "    - The same sequence was sequenced in different flow cells, lanes, indexes, etc.\n",
    "    - Correlation coefficient should be even higher than biological replicates"
   ]
  },
  {
   "attachments": {},
   "cell_type": "markdown",
   "metadata": {},
   "source": [
    "#### Alternative Splicing"
   ]
  },
  {
   "attachments": {},
   "cell_type": "markdown",
   "metadata": {},
   "source": [
    "Alternative sequencing occurs whent he same gene can be transcribed into different isoforms of mRNA. One way this can occur is when gene have multiple exons, which are spliced in different orders.\n",
    "\n",
    "Alternative sequencing is shown by 35-60% of human genes, with some genes having huge numbers of isoforms.\n",
    "- *slo*: > 500 isoforms\n",
    "- *neurexin*: > 1,000 isoforms\n",
    "- *DSCAM*: > 38,000 isoforms"
   ]
  },
  {
   "attachments": {},
   "cell_type": "markdown",
   "metadata": {},
   "source": [
    "### Challenges of RNA Sequencing"
   ]
  },
  {
   "attachments": {},
   "cell_type": "markdown",
   "metadata": {},
   "source": [
    "#### Mapping Reads to the Reference Genome"
   ]
  },
  {
   "attachments": {},
   "cell_type": "markdown",
   "metadata": {},
   "source": [
    "- Sequencing errors and polymorphisms\n",
    "- It is more difficult to map reads that span splice junctions (for complex transcriptomes)\n",
    "    - Having a list or other information about junction constitutions can be essential for effective RNA mapping, but this is only beneficial for known isoforms\n",
    "    - Can use a mapper to help map junctions in novel isoforms\n",
    "- Repetitive sequences\n",
    "    - A significant portion of sequence reads match multiple locations in the genome\n",
    "    - Obtaining longer sequence reads, or paired-end sequencing strategies, can help alleviate this multi-matching problem"
   ]
  },
  {
   "attachments": {},
   "cell_type": "markdown",
   "metadata": {},
   "source": [
    "#### Novel Splicing Variants and Quantification"
   ]
  },
  {
   "attachments": {},
   "cell_type": "markdown",
   "metadata": {},
   "source": [
    "- Discovery of novel splicing variants\n",
    "    - Reconstruction of complete splice forms\n",
    "    - Reliability (assignment of a p-value)\n",
    "- Quantifying the expression levels of recently duplicated genes"
   ]
  },
  {
   "attachments": {},
   "cell_type": "markdown",
   "metadata": {},
   "source": [
    "### When to Use RNA Sequencing over DNA Sequencing"
   ]
  },
  {
   "attachments": {},
   "cell_type": "markdown",
   "metadata": {},
   "source": [
    "Applications for RNA sequencing include: differential expression, gene fusion, alternative splicing, novel transcribed regions, allele-specific expression, RNA editing, transcriptome for non-model organisms, small RNA (miRNA) sequencing.\n",
    "\n",
    "*Functional studies* use RNA sequencing to determine if an experimental condition has a pronounced effect on gene expression (since the genome is held constant). RNA is the functional portion of the DNA process! \n",
    "- Drug treated vs untreated cell lines, knockdown vs wildtype mice, etc.\n",
    "\n",
    "*Some molecular features* can only be observed at the RNA level. These features also make it difficult to predict the transcript sequence from the genome itself.\n",
    "- Alternative isoforms, fusion transcripts, RNA editing motifs, etc.\n",
    "\n",
    "RNA sequencing is useful for *interpreting mutations* that don't have an obvious effect on the protein sequence. This can include *regulatory* mutations, that affect what mRNA isoform is expressed (and how much).\n",
    "- Splice sites, promoters, exonic/intronic splicing motifs, etc.\n",
    "\n",
    "RNA sequences assist in *prioritizing protein coding* for somatic mutations, which are often heterozygous.\n",
    "- Unexpressed genes mean a mutation is \"less interesting\"\n",
    "- Expression from only a wildtype allele may suggest a loss-of-function (haploinsufficiency)\n",
    "- Expression of a mutant allele may suggest a candidate for drug targeting"
   ]
  },
  {
   "attachments": {},
   "cell_type": "markdown",
   "metadata": {},
   "source": [
    "### Technical and Methodological Considerations"
   ]
  },
  {
   "attachments": {},
   "cell_type": "markdown",
   "metadata": {},
   "source": [
    "#### RNA-seq vs Microarray"
   ]
  },
  {
   "attachments": {},
   "cell_type": "markdown",
   "metadata": {},
   "source": [
    "RNA-seq has a higher resolution, and can apply the same experimental protocol to various purposes. It can be used to characterize novel transcripts and splicing variants, as well as to profile the expression of known transcripts.\n",
    "\n",
    "RNA Microarrays are specialized, and can only profile known transcripts.\n",
    "- SNP Array: detects SNPs\n",
    "- Junction Array: maps exon junctions\n",
    "- Gene Fusion Array: detects gene fusions"
   ]
  },
  {
   "attachments": {},
   "cell_type": "markdown",
   "metadata": {},
   "source": [
    "## Process (Reads to Differential Expression)"
   ]
  },
  {
   "attachments": {},
   "cell_type": "markdown",
   "metadata": {},
   "source": [
    "1. Raw Sequence Data\n",
    "    - FASTQ files get QC'd with FastQC/R\n",
    "2. Reads Mapping\n",
    "    - Takes Raw Sequence Data\n",
    "    - SAM/BAM files get QC'd with RNA-SeQC\n",
    "    - BWA, Bowtie\n",
    "        - Generate Unspliced Mapping\n",
    "    - TopHat, MapSplice\n",
    "        - Generate Spliced Mapping\n",
    "    - [STAR](https://github.com/alexdobin/STAR) Aligner ([docs](https://github.com/alexdobin/STAR/blob/master/doc/STARmanual.pdf)) is one of the most commonly used aligner programs today\n",
    "3. Expression Quantification\n",
    "    - Takes Mapped Reads\n",
    "    - Cufflinks\n",
    "        - Generates FPKM (Fragments Per Kilobase per Million reads mapped)\n",
    "        - Generates RPKM (Reads Per Kilobase per Million reads mapped)\n",
    "    - Summarized read counts and other metrics\n",
    "4. Differential Expression Testing\n",
    "    - Takes Expression Quantification Data\n",
    "    - Cuffdiff\n",
    "    - DEseq, edgeR, etc.\n",
    "        - R packages for analyzing the expression data\n",
    "    - Generates a list of differential expressions and statistical analyses of these expressions to identify genes of interest\n",
    "5. Functional Interpretation\n",
    "    - Takes Differential Expression data\n",
    "    - Function enrichment, inference of networks, integration with other data, etc.\n",
    "6. Biological insights and hypotheses"
   ]
  },
  {
   "attachments": {},
   "cell_type": "markdown",
   "metadata": {},
   "source": [
    "### QC"
   ]
  },
  {
   "attachments": {},
   "cell_type": "markdown",
   "metadata": {},
   "source": [
    "#### Sequencing QC"
   ]
  },
  {
   "attachments": {},
   "cell_type": "markdown",
   "metadata": {},
   "source": [
    "Information to check:\n",
    "- Basic information\n",
    "    - Total reads, sequence length, etc.\n",
    "- Per base sequence quality\n",
    "- Overrepresented sequences\n",
    "    - This is more important for RNA than DNA, since the auditor sequences or barcodes may not be properly trimmed\n",
    "    - May see repeats at the beginning or end of the reads\n",
    "    - May need additional trimming\n",
    "    - Some software can trim off known adapter sequences\n",
    "- GC content\n",
    "    - Coverage difference is more important in RNA than DNA, since the coverage translates to expression levels\n",
    "    - May need to adjust for changes\n",
    "- Duplication level\n",
    "    - Mark duplicates to correctly quantify gene expression levels\n",
    "- and more\n",
    "\n",
    "Frequently performed with FastQC/R"
   ]
  },
  {
   "attachments": {},
   "cell_type": "markdown",
   "metadata": {},
   "source": [
    "#### Read Mapping QC"
   ]
  },
  {
   "attachments": {},
   "cell_type": "markdown",
   "metadata": {},
   "source": [
    "Need to pay attention to exon-exon junction reads, where one read maps across a junction!\n",
    "\n",
    "Information to check:\n",
    "- Percentage of reads properly mapped\n",
    "- Percentage of reads uniquely mapped\n",
    "    - If none uniquely mapped, these reads are mapped to multiple sites and generally considered improperly mapped\n",
    "- Percentage of reads in entron, exon, and intergenic regions\n",
    "    - Should not have many intergenic reads, as they are non-transcribed regions\n",
    "- 5' or 3' bias\n",
    "    - Excess reads from one direction\n",
    "    - Degraded read quality from one direction\n",
    "- Percentage of expressed genes\n",
    "\n",
    "Frequently performed with RNA-SeQC"
   ]
  },
  {
   "attachments": {},
   "cell_type": "markdown",
   "metadata": {},
   "source": [
    "### Expression Quantification"
   ]
  },
  {
   "attachments": {},
   "cell_type": "markdown",
   "metadata": {},
   "source": [
    "Expression quantification is the process of converting read counts into quantified expression levels\n",
    "\n",
    "Count data is the summary of the mapped reads to the coding sequence, gene, or exon level. \n",
    "- *CPM*: Counts per million\n",
    "$$\n",
    "CPM = \\frac{\\text{\\# of fragments mapped to the gene}}{\\text{\\# of all mapped fragments (millions)}}\n",
    "$$\n",
    "- *RPKM*: Reads aligned Per Kilobase of exon per Million reads mapped\n",
    "    - Not necessarily a consistent measure of expression abundance or relative molar concentration, as highly expressed genes may dominante and it does not normalize over the genome\n",
    "- *FPKM*: Fragments Per Kilobase of exon per Million fragments mapped\n",
    "    - Same idea as RPKM, but for paired-end sequencing\n",
    "    - Not necessarily a consistent measure of expression abundance or relative molar concentration, as highly expressed genes may dominante and it does not normalize over the genome\n",
    "\n",
    "$$\n",
    "FPKM = \\frac{\\text{\\# of fragments mapped to the gene}}{\\text{\\# of all mapped fragments (millions)} \\cdot \\text{Transcript length (KB)}}\n",
    "$$"
   ]
  },
  {
   "attachments": {},
   "cell_type": "markdown",
   "metadata": {},
   "source": [
    "Since this count of mapped reads is not flat and depends on some external factors, there should be additional considerations.\n",
    "\n",
    "The number of reads is roughly proportional to:\n",
    "- The length of the gene\n",
    "- The total number of reads in the library"
   ]
  },
  {
   "attachments": {},
   "cell_type": "markdown",
   "metadata": {},
   "source": [
    "Scaling by a total mapped reads (sequencing depth) can be substantially influenced by a small proportion of highly expressed genes, leading to **normalization issues**."
   ]
  },
  {
   "attachments": {},
   "cell_type": "markdown",
   "metadata": {},
   "source": [
    "#### Normalization Methods"
   ]
  },
  {
   "attachments": {},
   "cell_type": "markdown",
   "metadata": {},
   "source": [
    "- RPKM/FPKM:\n",
    "    - Normalized by: differences in sequencing depth and transcript length\n",
    "    - Goal: compare a gene across samples and different genes within a sample\n",
    "- Trimmed Mean of M values (TMM):\n",
    "    - Corrects for differences in RNA *composition* between samples\n",
    "    - Normalized by: differences in transcript pool composition, extreme outliers\n",
    "    - Goal: provide better across-sample comparability\n",
    "    - More computationally complex\n",
    "- Transcript Per Million (TPM):\n",
    "    - Normalized by: transcript length distribution in RNA pool\n",
    "    - Goal: provide better across-sample comparability\n",
    "    - *Best across-sample comparability*\n",
    "    - Much more straightforward mathematical formula\n",
    "$$\n",
    "T = \\sum{\\frac{\\text{\\# of reads in gene} \\cdot \\text{read length} \\cdot 10^{6}}{\\text{transcript length}}}\n",
    "$$"
   ]
  },
  {
   "attachments": {},
   "cell_type": "markdown",
   "metadata": {},
   "source": [
    "#### Statistical Considerations"
   ]
  },
  {
   "attachments": {},
   "cell_type": "markdown",
   "metadata": {},
   "source": [
    "Two transcripts may have the same proportion of counts across two samples, resulting in identical RPKM values. However, these transcripts may have vastly different transcript length, influencing the *n* value of the analysis. Since the *n* value has changed, it's logical that the p-value should also change.\n",
    "\n",
    "Statistical programs like edgeR and DESeq2 try to use the count nature of the RNA-seq data, to increase statistical power and account for the differences in *n* values."
   ]
  },
  {
   "attachments": {},
   "cell_type": "markdown",
   "metadata": {},
   "source": [
    "Discrete distributions, such as Poisson or negative binomial, are typically used rather that continuous distributions for modeling RNA-seq data. This makes sense when you remember that the samples we are counting are discrete counts from a sample rather than the whole of data.\n",
    "\n",
    "As such, many Differential Expression tools demand tables of integer read counts as input, rather than RPKM/FPKM/TPM or other relative measures."
   ]
  },
  {
   "attachments": {},
   "cell_type": "markdown",
   "metadata": {},
   "source": [
    "#### Gene Clustering"
   ]
  },
  {
   "attachments": {},
   "cell_type": "markdown",
   "metadata": {},
   "source": [
    "A hierarchical clustering can be created using simpler measures such as CPM or TPM, organizing genes by their expression patterns. Clustering by gene or by sample causes different biological implications to the results.\n",
    "\n",
    "R has a standard heatmap package which can model these."
   ]
  },
  {
   "attachments": {},
   "cell_type": "markdown",
   "metadata": {},
   "source": [
    "## Observations from GWAS"
   ]
  },
  {
   "attachments": {},
   "cell_type": "markdown",
   "metadata": {},
   "source": [
    "Genome-wide association studies (GWAS) have identified hundreds of common DNA variants associated with multiple complex diseases and traits. More than 2 out of 3 of these SNPs lie in non-coding regions of DNA."
   ]
  },
  {
   "attachments": {},
   "cell_type": "markdown",
   "metadata": {},
   "source": [
    "These non-coding SNPs are in regulatory regions and thus called Expression Qantitative Trait Loci (eQTL). By examining gene expression in variations of these regions, we can identify these regulatory regions. Regression analysis between the genotypes and gene expression levels identifies these results! \n",
    "\n",
    "However, in calculating these eQTLs has difficulties. Most human disease-relevant tissues or cell types are hard to obtain, especially since large sample sizes are required for statistical power.\n",
    "\n",
    "The GTEx (Genotype-Tissue Expression) database is one of the largest sources of expresssion level data, collected from post-mortem samples."
   ]
  }
 ],
 "metadata": {
  "language_info": {
   "name": "python"
  },
  "orig_nbformat": 4
 },
 "nbformat": 4,
 "nbformat_minor": 2
}
