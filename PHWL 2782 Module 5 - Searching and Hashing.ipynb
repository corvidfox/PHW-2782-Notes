{
 "cells": [
  {
   "cell_type": "markdown",
   "metadata": {},
   "source": [
    "# Module 5: Searching and Hashing"
   ]
  },
  {
   "attachments": {},
   "cell_type": "markdown",
   "metadata": {},
   "source": [
    "## Searching"
   ]
  },
  {
   "attachments": {},
   "cell_type": "markdown",
   "metadata": {},
   "source": [
    "A searching algorithm typically answers `True` or `False` as to whether an item is present in the data. "
   ]
  },
  {
   "attachments": {},
   "cell_type": "markdown",
   "metadata": {},
   "source": [
    "### Sequential Search"
   ]
  },
  {
   "attachments": {},
   "cell_type": "markdown",
   "metadata": {},
   "source": [
    "A sequential search traverses all items in the list until the desired element is found. This means that best case, when our element is the first item in the list, this type of function is O(1). If the element is not in the list, we had to traverse the entire list to verify that, and this function is O(n). A `True` would have an average case of O(n/2), while a `False` must always be O(n).\n",
    "\n",
    "The built-in `in` function is a sequential search operates this way."
   ]
  },
  {
   "cell_type": "code",
   "execution_count": 12,
   "metadata": {},
   "outputs": [
    {
     "name": "stdout",
     "output_type": "stream",
     "text": [
      "False\n",
      "True\n"
     ]
    }
   ],
   "source": [
    "original_list = [54,26,93,17,77,31]\n",
    "\n",
    "print(53 in original_list)\n",
    "print(77 in original_list)"
   ]
  },
  {
   "attachments": {},
   "cell_type": "markdown",
   "metadata": {},
   "source": [
    "### Binary Search"
   ]
  },
  {
   "attachments": {},
   "cell_type": "markdown",
   "metadata": {},
   "source": [
    "This \"divide and conquer\" method reduces the search space by using sorted data.\n",
    "\n",
    "If we know our desired element is less than the middle, we only need to search the first half. Similarly, if it is greater than the middle, we only need to search the second half.\n",
    "\n",
    "By determining if the target element is greater or less than the middle value of a list, and continuing to make this determination until we either find the exact value or end up with an empty list, we make a O(logn) function. As sorting takes O(nlogn), we have drastically refined our process."
   ]
  },
  {
   "attachments": {},
   "cell_type": "markdown",
   "metadata": {},
   "source": [
    "The following is an illustration of the process, but not an actual example of the practice of how the code is written."
   ]
  },
  {
   "cell_type": "code",
   "execution_count": 93,
   "metadata": {},
   "outputs": [],
   "source": [
    "binary_list = [6,13,14,25,33,43,51,53,64,72,84,93,95,96,97]\n",
    "target = 33\n",
    "\n",
    "\n",
    "def binary_search(alist,target,tlo=False,thi=False):\n",
    "    hi = len(alist) - 1\n",
    "    low = 0\n",
    "\n",
    "    if hi == 0:\n",
    "        if alist[low] == target:\n",
    "            return f\"The index of the target value is {thi}\"\n",
    "        else:\n",
    "            return f\"Target could not be found\"\n",
    "        \n",
    "    if alist[low] <= target:\n",
    "        if alist[hi] >= target:\n",
    "            mid_index = len(alist)//2\n",
    "            if binary_list[mid_index] > target:\n",
    "                thi -= (hi - mid_index + 2)\n",
    "                hi = mid_index\n",
    "                searching = alist[low:hi]\n",
    "                if len(searching) == 1:\n",
    "                    tlo = thi\n",
    "            else:\n",
    "                tlo += low + mid_index\n",
    "                low = mid_index\n",
    "                searching = alist[low:hi]\n",
    "                if len(searching) == 1:\n",
    "                    thi = tlo\n",
    "\n",
    "\n",
    "\n",
    "\n",
    "    return searching, tlo, thi\n",
    "\n"
   ]
  },
  {
   "cell_type": "code",
   "execution_count": 97,
   "metadata": {},
   "outputs": [
    {
     "name": "stdout",
     "output_type": "stream",
     "text": [
      "[6, 13, 14, 25, 33, 43, 51] 0 6\n"
     ]
    }
   ],
   "source": [
    "first_cut, tlo, thi = binary_search(binary_list,target,0,len(binary_list))\n",
    "print(first_cut, tlo, thi)"
   ]
  },
  {
   "cell_type": "code",
   "execution_count": 98,
   "metadata": {},
   "outputs": [
    {
     "name": "stdout",
     "output_type": "stream",
     "text": [
      "[25, 33, 43] 3 6\n"
     ]
    }
   ],
   "source": [
    "second_cut, tlo, thi = binary_search(first_cut,target,tlo,thi)\n",
    "print (second_cut, tlo, thi)"
   ]
  },
  {
   "cell_type": "code",
   "execution_count": 99,
   "metadata": {},
   "outputs": [
    {
     "name": "stdout",
     "output_type": "stream",
     "text": [
      "[33] 4 4\n"
     ]
    }
   ],
   "source": [
    "third_cut, tlo, thi = binary_search(second_cut, target,tlo,thi)\n",
    "print(third_cut,tlo,thi)"
   ]
  },
  {
   "cell_type": "code",
   "execution_count": 100,
   "metadata": {},
   "outputs": [
    {
     "name": "stdout",
     "output_type": "stream",
     "text": [
      "The index of the target value is 4\n",
      "33\n"
     ]
    }
   ],
   "source": [
    "print(binary_search(third_cut,target,tlo,thi))\n",
    "print(binary_list[4])"
   ]
  },
  {
   "attachments": {},
   "cell_type": "markdown",
   "metadata": {},
   "source": [
    "### Dictionary Search"
   ]
  },
  {
   "attachments": {},
   "cell_type": "markdown",
   "metadata": {},
   "source": [
    "Because a dictionary is a key, value pair, and retrieving any value from a key in a dictionary is O(1), searching for a dictionary by key is also O(1)."
   ]
  },
  {
   "attachments": {},
   "cell_type": "markdown",
   "metadata": {},
   "source": [
    "## Hashing"
   ]
  },
  {
   "attachments": {},
   "cell_type": "markdown",
   "metadata": {},
   "source": [
    "Python dictionaries are so efficient because they utilize **hashing**."
   ]
  },
  {
   "attachments": {},
   "cell_type": "markdown",
   "metadata": {},
   "source": [
    "If we had a consecutive memory region with 11 slots, we can convert any potential item into something stored in one of those 11 slots by performing a mathematical function that only has 11 potential outcomes."
   ]
  },
  {
   "attachments": {},
   "cell_type": "markdown",
   "metadata": {},
   "source": [
    "This function would be an example of a **hash function**, which converts a key into an index."
   ]
  },
  {
   "attachments": {},
   "cell_type": "markdown",
   "metadata": {},
   "source": [
    "### Basic Hash Example"
   ]
  },
  {
   "cell_type": "code",
   "execution_count": 101,
   "metadata": {},
   "outputs": [
    {
     "name": "stdout",
     "output_type": "stream",
     "text": [
      "[77, None, None, None, 26, 93, 17, None, None, 31, 54]\n"
     ]
    }
   ],
   "source": [
    "original_list = [54,26,93,17,77,31]\n",
    "table = [None for i in range(11)]\n",
    "\n",
    "def h(key):\n",
    "    return key % 11\n",
    "\n",
    "for item in original_list:\n",
    "    table[h(item)]=item\n",
    "\n",
    "print(table)"
   ]
  },
  {
   "attachments": {},
   "cell_type": "markdown",
   "metadata": {},
   "source": [
    "### Retrieving from Hash"
   ]
  },
  {
   "attachments": {},
   "cell_type": "markdown",
   "metadata": {},
   "source": [
    "By using the hashing function, we cna determine the index from the key value.\n",
    "\n",
    "Dictionaries use this by keeping two separate lists, which match 1:1. The key index will be the same as the value index."
   ]
  },
  {
   "cell_type": "code",
   "execution_count": 105,
   "metadata": {},
   "outputs": [
    {
     "name": "stdout",
     "output_type": "stream",
     "text": [
      "False\n",
      "True\n"
     ]
    }
   ],
   "source": [
    "target = 23\n",
    "print(table[h(target)]==target)\n",
    "target = 93\n",
    "print(table[h(target)]==target)"
   ]
  },
  {
   "attachments": {},
   "cell_type": "markdown",
   "metadata": {},
   "source": [
    "### Collision Resolution"
   ]
  },
  {
   "attachments": {},
   "cell_type": "markdown",
   "metadata": {},
   "source": [
    "If two items map to the same index, there are a few ways this can be resolved.\n",
    "\n",
    "**Linear probing** resolves this by finding the next empty slot. However, this also reduces the efficiency of retrieval. A search would start at the hashed index, but would continue until it finds empty slots in the hash table in case it was stored elsewhere via linear probing.\n",
    "\n",
    "**Separate Chaining** involves creating a linked list at each hash table. This link is followed to access the next \"collision\" item.\n",
    "\n",
    "A key to maximizing the efficiency of hash functions is to minimize collisions, but this is also limited by memory concerns."
   ]
  }
 ],
 "metadata": {
  "kernelspec": {
   "display_name": "Python 3",
   "language": "python",
   "name": "python3"
  },
  "language_info": {
   "codemirror_mode": {
    "name": "ipython",
    "version": 3
   },
   "file_extension": ".py",
   "mimetype": "text/x-python",
   "name": "python",
   "nbconvert_exporter": "python",
   "pygments_lexer": "ipython3",
   "version": "3.10.10"
  },
  "orig_nbformat": 4,
  "vscode": {
   "interpreter": {
    "hash": "481f7de895a69a02f86a3fa2c9481f723cb5a5076304da5de9626f36d7218f15"
   }
  }
 },
 "nbformat": 4,
 "nbformat_minor": 2
}
