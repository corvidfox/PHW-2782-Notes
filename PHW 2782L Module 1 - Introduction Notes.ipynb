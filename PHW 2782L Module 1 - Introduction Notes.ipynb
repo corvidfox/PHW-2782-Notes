{
 "cells": [
  {
   "cell_type": "markdown",
   "metadata": {},
   "source": [
    "# PHW 2782L Module 1: Introduction Notes"
   ]
  },
  {
   "cell_type": "markdown",
   "metadata": {},
   "source": [
    "## Command Line Basics"
   ]
  },
  {
   "cell_type": "markdown",
   "metadata": {},
   "source": [
    "https://www.explainshell.com/ is a good resource to explore some basic commands when given a new function"
   ]
  },
  {
   "cell_type": "markdown",
   "metadata": {},
   "source": [
    "Basic Format: `[command] [options] [arguments]`\n",
    "* Case sensitive: `-LS` =/= `-ls`"
   ]
  },
  {
   "cell_type": "markdown",
   "metadata": {},
   "source": [
    "### Options"
   ]
  },
  {
   "cell_type": "markdown",
   "metadata": {},
   "source": [
    "Used to alter the behavior of a command.\n",
    "* Typically chosen as a mnemonic for its purpose, such as `l` for long or `r` for reverse\n",
    "* Can be combined or separated, so `-l -r` = `-lr`"
   ]
  },
  {
   "cell_type": "markdown",
   "metadata": {},
   "source": [
    "### Arguments"
   ]
  },
  {
   "cell_type": "markdown",
   "metadata": {},
   "source": [
    "Specifies what the command is to act upon, such as a file name, directory, or other target"
   ]
  },
  {
   "cell_type": "markdown",
   "metadata": {},
   "source": [
    "### ECHO"
   ]
  },
  {
   "cell_type": "markdown",
   "metadata": {},
   "source": [
    "General Code: `echo [ARGUMENT]`"
   ]
  },
  {
   "cell_type": "markdown",
   "metadata": {},
   "source": [
    "* `echo` displays whatever it is given, so if you input text, you get that same text out\n",
    "* `echo $SHELL` will give information on which shell is being used\n",
    "    * the format of `$SHELL` tells ECHO to display the string that stores the information about which SHELL we are using, into a standard format\n",
    "    * This will show what SHELL we are using, such as `/bin/bash`\n"
   ]
  },
  {
   "cell_type": "markdown",
   "metadata": {},
   "source": [
    "### MAN"
   ]
  },
  {
   "cell_type": "markdown",
   "metadata": {},
   "source": [
    "General Code: `man` [ARGUMENT]"
   ]
  },
  {
   "cell_type": "markdown",
   "metadata": {},
   "source": [
    "* Displays the manual (documentation) for any command\n",
    "* A \"HELP\" function!\n",
    "* `[spacebar]` will take you through each page\n",
    "* `q` to quit out of the manual"
   ]
  },
  {
   "cell_type": "markdown",
   "metadata": {},
   "source": [
    "## Directory Operations, Paths, and Navigation"
   ]
  },
  {
   "cell_type": "markdown",
   "metadata": {},
   "source": [
    "* `/` always specifies the **root** directory\n",
    "    * **Absolute Paths** always start at the **root** `/`\n",
    "    * **Relative Paths** give directions relative to the name of **a starting directory**.\n",
    "* `..` always represents ONE directly higher (Parent Directory) relative to the current directory\n",
    "* `.` always represents the CURRENT directory\n",
    "* `~` always represents the home directoy of the current user"
   ]
  },
  {
   "cell_type": "markdown",
   "metadata": {},
   "source": [
    "* `pwd [options] [path]` \"Print Working Directory\" - shows **Absolute Path** to the current directory\n",
    "* `mkdir [directory]` \"Make Directory\" [directory]. It makes a directory based on the input name\n",
    "* `cd [options] [path]` \"Change Directory\" to [path]. It changes the working directory based on the input name. Travels DOWN the pathway\n",
    "* `cd ..` \"Change Directory\" + \"Up Directory Level\". Changes the working directory up one level.\n",
    "* `cd .` \"Change Directory\" + \"Current Directory\". Changes the working directory to the current directory (not useful on its own)"
   ]
  },
  {
   "cell_type": "markdown",
   "metadata": {},
   "source": [
    "#### File Names and Information"
   ]
  },
  {
   "cell_type": "markdown",
   "metadata": {},
   "source": [
    "General Output:\n",
    "\n",
    "`[File Type and Permissions] [Hard Link Count] [User Owner] [Group Owner] [File Size] [Timestamp] [File Name]`"
   ]
  },
  {
   "cell_type": "markdown",
   "metadata": {},
   "source": [
    "##### File Types and Permissions"
   ]
  },
  {
   "cell_type": "markdown",
   "metadata": {},
   "source": [
    "File type and permissions take the form of a 10 character string. The **first character** of this string indicaets the **type of file** while the next nine indicate permissions."
   ]
  },
  {
   "cell_type": "markdown",
   "metadata": {},
   "source": [
    "File Types:\n",
    "* `d` directory: a file used to store other files\n",
    "* `-` regular file: includes readable, image, binary, and compressed file types\n",
    "* `l` symbolic link: points to another file\n",
    "* `s` socket: allows for communication between processes\n",
    "* `p` pipe: allows for communication between processes\n",
    "* `b` block file: used to communicate with hardware\n",
    "* `c`character file: used to communicate with hardware"
   ]
  },
  {
   "cell_type": "markdown",
   "metadata": {},
   "source": [
    "Permissions:\n",
    "Indicate how certain users can access a file\n",
    "* The first three digits indicate permissions for the **user that owns the file**\n",
    "* The next three digits indicate permissions for the **group that owns the file**\n",
    "* The last three digits indicate permissions for **anyone else**\n",
    "\n",
    "**It is important to remember that the FIRST set of permissions that applies to a user is their rules - so if a user OWNS a file and is part of a group, and the GROUP has more permissions than the OWNER, then that user has less permission than the rest of the group! You do not get BOTH sets of rules, only one.**\n",
    "\n",
    "Three types of permissions:\n",
    "* `r` Read\n",
    "    * File: Contents can be read and copied\n",
    "    * Directory: Non-detailed listing of files (without `execute` permission). If `execute` permission is provided, `ls -l` can provide a detailed listing of files\n",
    "* `w` Write\n",
    "    * File: Contents can be modified or overwritten\n",
    "    * Directory: Requires `execute` permission; allows files to be added or removed\n",
    "* `x` Execute\n",
    "    * File: File may be run as a process; script files require `read` permission as well\n",
    "    *Directory: User can change to the directory if parent directories also have `execute` permission\n",
    "\n",
    "You should always have `write` and `execute` permissions on your **home directory** and the **/tmp directory**"
   ]
  },
  {
   "cell_type": "markdown",
   "metadata": {},
   "source": [
    "##### Hard Link Count"
   ]
  },
  {
   "cell_type": "markdown",
   "metadata": {},
   "source": [
    "Indicates how many hard links point to this file (See NDG Linus Essentials Course)"
   ]
  },
  {
   "cell_type": "markdown",
   "metadata": {},
   "source": [
    "##### User Owner"
   ]
  },
  {
   "cell_type": "markdown",
   "metadata": {},
   "source": [
    "Every time a file is created, ownership is automatically assigned to the user who created it."
   ]
  },
  {
   "cell_type": "markdown",
   "metadata": {},
   "source": [
    "##### Group Owner"
   ]
  },
  {
   "cell_type": "markdown",
   "metadata": {},
   "source": [
    "Indicates which group owns this file"
   ]
  },
  {
   "cell_type": "markdown",
   "metadata": {},
   "source": [
    "##### File Size"
   ]
  },
  {
   "cell_type": "markdown",
   "metadata": {},
   "source": [
    "Larger files and directories are typically displayed in Kilobytes (KB), as displaying in byes (B) is prohibitively large. Depending on the directory, a multiple of the **block size** may be used instead: a **block size** is the size of a series of data stored in the filesystem."
   ]
  },
  {
   "cell_type": "markdown",
   "metadata": {},
   "source": [
    "##### Timestamp"
   ]
  },
  {
   "cell_type": "markdown",
   "metadata": {},
   "source": [
    "This is the timestamp that indicates the time that the file's contents were last modified."
   ]
  },
  {
   "cell_type": "markdown",
   "metadata": {},
   "source": [
    "##### File Name"
   ]
  },
  {
   "cell_type": "markdown",
   "metadata": {},
   "source": [
    "The final field, which contains the name of the file or directory, with the file type extension."
   ]
  },
  {
   "cell_type": "markdown",
   "metadata": {},
   "source": [
    "**Symbolic Links** have a special output for their file name. The symbolic link file name will be displayed, along with an arrow `->` followed by the pathname of the original file.\n",
    "\n",
    "See NDG Linus Essentials Course"
   ]
  },
  {
   "cell_type": "markdown",
   "metadata": {},
   "source": [
    "#### `ls` - List Files Options"
   ]
  },
  {
   "cell_type": "markdown",
   "metadata": {},
   "source": [
    "General code:\n",
    "`-ls [OPTIONS] [FILE]`"
   ]
  },
  {
   "cell_type": "markdown",
   "metadata": {},
   "source": [
    "Default Output: list of files contained in the directory sorted alphabetically by filename"
   ]
  },
  {
   "cell_type": "markdown",
   "metadata": {},
   "source": [
    "* `-r` Reverse list order (default is alphabetical)\n",
    "* `-a` Show all (including hidden)\n",
    "* `-t` Sort by time last modified\n",
    "* `-h` List file sizes in human-readable format\n",
    "* `-S` Sort by file size\n",
    "* `-l` LONG listing format\n",
    "* `-1` LINE BREAK separated output\n",
    "* `-m` COMMA separated output\n",
    "* `-Q` Quoted output\n",
    "* `-R` Recursive List"
   ]
  },
  {
   "cell_type": "markdown",
   "metadata": {},
   "source": [
    "## Security, Administrative Access, Users"
   ]
  },
  {
   "cell_type": "markdown",
   "metadata": {},
   "source": [
    "### Switch Users"
   ]
  },
  {
   "cell_type": "markdown",
   "metadata": {},
   "source": [
    "General Code: `su [OPTIONS] [USERNAME]`"
   ]
  },
  {
   "cell_type": "markdown",
   "metadata": {},
   "source": [
    "* Creates a new shell to switch the user\n",
    "* If a user account is not specified, a new shell will be opened as the **root user** which provides administrative privileges\n",
    "* OPTIONS `-`, `-l`, or `--login` utilize the login shell, which fully configures the new shell with the settings of the new user\n",
    "* A password is required after executing the command\n",
    "    * If an incorrect password is entered, `Authentication failure` displays\n",
    "    * On attempt to execute a command that the user does not have permission to execute, `Permission denied` displays\n",
    "* `exit` will log out the shell user"
   ]
  },
  {
   "cell_type": "markdown",
   "metadata": {},
   "source": [
    "### Updating User Passwords"
   ]
  },
  {
   "cell_type": "markdown",
   "metadata": {},
   "source": [
    "General Code: `passwd [OPTIONS] [USER]`\n",
    "\n",
    "* Root or administrator users can change the password of any user, while users in general can only change their own password\n",
    "* With no options, it works to change a password\n",
    "    * The user will be prompted to enter their current password\n",
    "    * The user will be prompted to enter a new password twice"
   ]
  },
  {
   "cell_type": "markdown",
   "metadata": {},
   "source": [
    "**Options:**\n",
    "* `-S`: Status information about a current password\n",
    "    * Output is in the format: `username password-status changedate minimum maximum warn inactive`\n",
    "    * `Username`: The name of the user\n",
    "    * `Password-Status`:\n",
    "        * `P`: Usable password\n",
    "        * `L`: Locked password\n",
    "        * `NP`: No password\n",
    "    * `Changedate`: Date when the password was last changed\n",
    "    * `Minimum`: Minimum number of days that must pass before the current password can be changed by the user\n",
    "    * `Maximum`: Maximum nuber of days remaining for the password to expire\n",
    "    * `Warn`: Number of days prior to password expiry that the user is warned\n",
    "    * `Inactive`: The number of days after password expiry that the user account remains active"
   ]
  },
  {
   "cell_type": "markdown",
   "metadata": {},
   "source": [
    "### SUDO"
   ]
  },
  {
   "cell_type": "markdown",
   "metadata": {},
   "source": [
    "General Code: `sudo [OPTIONS] COMMAND`"
   ]
  },
  {
   "cell_type": "markdown",
   "metadata": {},
   "source": [
    "* Allows a user to execute a command as another user **without creating a new shell**\n",
    "* Default is to run as **root**\n",
    "* Requires proper password for the target account\n",
    "    *  As long as another command is entered within five minutes of successful password entry and/or previous successful `sudo` commands, there will not be a password reprompt\n",
    "*Prefered method for executing commands with administrative privileges, as it reduces the risk of accidentally executing commands as root - intention must be clear to use `sudo`\n",
    "* `-u user` option allows for sudo to run the specified command as the targetted user (by USERNAME)\n",
    "* `-u \\#uid` option allows for sudo to run the speificied command as the targetted user (by USER ID) "
   ]
  },
  {
   "cell_type": "markdown",
   "metadata": {},
   "source": [
    "### Changing File Permissions"
   ]
  },
  {
   "cell_type": "markdown",
   "metadata": {},
   "source": [
    "General Code: `chmod [<SET><ACTION><PERMISSIONS>] ... FILE`\n",
    "\n",
    "`chmod` comes from **ch**ange the **mod**es of access"
   ]
  },
  {
   "cell_type": "markdown",
   "metadata": {},
   "source": [
    "#### `<SET>`"
   ]
  },
  {
   "cell_type": "markdown",
   "metadata": {},
   "source": [
    "Indicates which set of permissions is being changed:\n",
    "* `u` User: The user that owns the file\n",
    "* `g` Group: The group that owns the file\n",
    "* `o` Others: Anyone other than the user own or member of the group owner\n",
    "* `a` All: refers to all groups at once"
   ]
  },
  {
   "cell_type": "markdown",
   "metadata": {},
   "source": [
    "#### `<ACTION>`"
   ]
  },
  {
   "cell_type": "markdown",
   "metadata": {},
   "source": [
    "Indicates what changes are being made:\n",
    "* `+`: Add the permission, if necessary\n",
    "* `=`: Specify the exact permssion\n",
    "* `-`: Remove the permission, if necessary"
   ]
  },
  {
   "cell_type": "markdown",
   "metadata": {},
   "source": [
    "#### `<PERMISSIONS>`"
   ]
  },
  {
   "cell_type": "markdown",
   "metadata": {},
   "source": [
    "* `r`: Read\n",
    "* `w`: Write\n",
    "* `x`: Execute"
   ]
  },
  {
   "cell_type": "markdown",
   "metadata": {},
   "source": [
    "### Changing File Ownership"
   ]
  },
  {
   "cell_type": "markdown",
   "metadata": {},
   "source": [
    "General Code: `chown [OPTIONS] [OWNER] FILE`\n",
    "\n",
    "`chown` comes from **ch**anging **own**ership"
   ]
  },
  {
   "cell_type": "markdown",
   "metadata": {},
   "source": [
    "## Redirection & Piping"
   ]
  },
  {
   "cell_type": "markdown",
   "metadata": {},
   "source": [
    "Files are described in terms of `Standard Input (STIDN)`, `Standard Output (STDOUT)`, and `Standard Error (STDERR)`"
   ]
  },
  {
   "cell_type": "markdown",
   "metadata": {},
   "source": [
    "For example, `ls` has a standard input of a `[DIRECTORY]`, standard output of a list of files or subdirectories, and a standard error of `ls: cannot access [fakefile]: No such file or directory`."
   ]
  },
  {
   "cell_type": "markdown",
   "metadata": {},
   "source": [
    "### Basic Redirection"
   ]
  },
  {
   "cell_type": "markdown",
   "metadata": {},
   "source": [
    "General Code: `COMMAND > FILE`\n",
    "\n",
    "`cat` Code: `cat [OPTIONS] [FILE] > [FILE2]`"
   ]
  },
  {
   "cell_type": "markdown",
   "metadata": {},
   "source": [
    "Redirection (`>`) is used to pass the `STDOUT` from a command into either a **file** or a **stream**. It is similar, but not the same, as pipe. The command is run, and then the `STDOUT` is placed into a file. If that file already exists, it will be **overwritten**!\n",
    "\n",
    "* The `>` redirection symbol allows for us to `redirect the output` of `cat` to generate a file, such as by appending two files together.\n",
    "* Code like `cat hello.txt hello.txt hello.txt > multi_hello.txt` generates a text file of `multi_hello.txt` that consists of three copies of `hello.txt`, each appended to each other's end"
   ]
  },
  {
   "cell_type": "markdown",
   "metadata": {},
   "source": [
    "### Appending with Redirection"
   ]
  },
  {
   "cell_type": "markdown",
   "metadata": {},
   "source": [
    "General Code: `COMMAND >> FILE`"
   ]
  },
  {
   "cell_type": "markdown",
   "metadata": {},
   "source": [
    "By using `>>`, we specify that we would like to **append** the output of the command to the file, rather than overwrite it. This requires `write` permission on the chosen destination file."
   ]
  },
  {
   "cell_type": "markdown",
   "metadata": {},
   "source": [
    "### Piping"
   ]
  },
  {
   "cell_type": "markdown",
   "metadata": {},
   "source": [
    "General Code: `command | command`\n",
    "\n",
    "`cat` Code: `cat [FILE] | command`"
   ]
  },
  {
   "cell_type": "markdown",
   "metadata": {},
   "source": [
    "Pipes redirects the `OUTPUT` of the first program, then converts it into the `INPUT` of the second program. This was designed to clean up some difficult redirects and simplify processes. Using a PIPE is essentially \"PASS TO PROGRAM\"\n",
    "\n",
    "Essentially... `command1 > temp_file && command2 < temp_file` would cause `command1` to `OUTPUT` temp_file; then, `command2` would be run, as if `temp_file` was the `INPUT` to `command2`. The `temp_file` is a middle-man. Using pipes, the entire process can be rewritten to `command1 | command2` and the `temp_file` is eliminated.\n",
    "\n",
    "* First program executes, then second command uses the output of the first command as the input for the second command\n",
    "* Allows for sequential execution of commands"
   ]
  },
  {
   "cell_type": "markdown",
   "metadata": {},
   "source": []
  },
  {
   "cell_type": "markdown",
   "metadata": {},
   "source": [
    "## Modifying Files"
   ]
  },
  {
   "cell_type": "markdown",
   "metadata": {},
   "source": [
    "### Viewing Files"
   ]
  },
  {
   "cell_type": "markdown",
   "metadata": {},
   "source": [
    "General Code: `cat [OPTIONS] [FILE]`\n",
    "\n",
    "`cat` comes from con**cat**enate."
   ]
  },
  {
   "cell_type": "markdown",
   "metadata": {},
   "source": [
    "* Displays the entirety of a text file, which may result in a LONG overflow in lengthy files"
   ]
  },
  {
   "cell_type": "markdown",
   "metadata": {},
   "source": [
    "### LESS, HEAD, TAIL"
   ]
  },
  {
   "cell_type": "markdown",
   "metadata": {},
   "source": [
    "Large files cannot display all lines within a single screen - these commands help to choose which pieces of a file to view"
   ]
  },
  {
   "cell_type": "markdown",
   "metadata": {},
   "source": [
    "#### LESS"
   ]
  },
  {
   "cell_type": "markdown",
   "metadata": {},
   "source": [
    "General Code: `less [FILE]`\n",
    "\n",
    "* `cat [LONG FILE] | less`"
   ]
  },
  {
   "cell_type": "markdown",
   "metadata": {},
   "source": [
    "* Isolates display to what fits within a single terminal window\n",
    "    * Divides by SCREEN SIZE!\n",
    "* Also displays the percentage/proportion that has been displayed\n",
    "* `b` goes to the previous screen\n",
    "* `[spacebar]` goes to the next screen\n",
    "* `q` exits the viewer"
   ]
  },
  {
   "cell_type": "markdown",
   "metadata": {},
   "source": [
    "#### HEAD"
   ]
  },
  {
   "cell_type": "markdown",
   "metadata": {},
   "source": [
    "General Code: `head [OPTIONS] [FILE]`"
   ]
  },
  {
   "cell_type": "markdown",
   "metadata": {},
   "source": [
    "* Takes the \"TOP\" portion of a file for display\n",
    "* The OPTIONS allow specification of the number of lines\n",
    "    * Default is 10 lines\n",
    "    * `-#` where # is the number of lines desired (ex `-3` for top 3 lines)"
   ]
  },
  {
   "cell_type": "markdown",
   "metadata": {},
   "source": [
    "#### TAIL"
   ]
  },
  {
   "cell_type": "markdown",
   "metadata": {},
   "source": [
    "General Code: `tail [OPTIONS] [FILE]`"
   ]
  },
  {
   "cell_type": "markdown",
   "metadata": {},
   "source": [
    "* Takes the \"BOTTOM\" portion of a file for display\n",
    "* The OPTIONS allow specification of the number of lines\n",
    "    * Default is 10 lines\n",
    "    * `-#` where # is the number of lines desired (ex `-3` for top 3 lines)"
   ]
  },
  {
   "cell_type": "markdown",
   "metadata": {},
   "source": [
    "#### Slices"
   ]
  },
  {
   "cell_type": "markdown",
   "metadata": {},
   "source": [
    "General Code: `head -# FILE | tail -#`"
   ]
  },
  {
   "cell_type": "markdown",
   "metadata": {},
   "source": [
    "* With use of PIPES, you can take a specific SLICE of the data!\n",
    "* It's usually best practice to start by slicing from the top, or whichever creates a smaller file with the first slice.\n",
    "* So, to get lines 7-9, you can use `head -9 FILE | tail -3`"
   ]
  },
  {
   "cell_type": "markdown",
   "metadata": {},
   "source": [
    "### Moving and Renaming Files with `mv`"
   ]
  },
  {
   "cell_type": "markdown",
   "metadata": {},
   "source": [
    "General Code: `mv [OPTIONS] SOURCE DESTINATION`"
   ]
  },
  {
   "cell_type": "markdown",
   "metadata": {},
   "source": [
    "#### OPTIONS"
   ]
  },
  {
   "cell_type": "markdown",
   "metadata": {},
   "source": [
    "* `-v` overwites the existing file or directory\n",
    "* `-i` prompts whether to overwrite the existing file or not\n",
    "* `-f` used to forcefully overwrite the existing file without prompting\n",
    "* `-n` will not overwrite an existing file! Files will remain intact, and the original file will not be moved to the destination directory\n",
    "* `-b` creates a backup file in the destination directory\n",
    "    * The backup file will appear in the desination directory with the same name, but will have a \"~\" appended to the end of the file\n",
    "* `-u` updates the file at the destination only if the SOURCE file is newer than the DESTINATION file"
   ]
  },
  {
   "cell_type": "markdown",
   "metadata": {},
   "source": [
    "#### Renaming"
   ]
  },
  {
   "cell_type": "markdown",
   "metadata": {},
   "source": [
    "You can use the move command (`mv`) within a directory to rename a file. You do this by \"moving\" the file (or directory) to a file (or directory) that does not exist.\n",
    "\n",
    "`mv example_a.txt new_name.txt` would rename the file `example_a.txt` to `new_name.txt`. This **does not create a copy**, so there would no longer be a file named `example_a.txt`. This occurs in the same directory, without otherwise moving."
   ]
  },
  {
   "cell_type": "markdown",
   "metadata": {},
   "source": [
    "#### Moving"
   ]
  },
  {
   "cell_type": "markdown",
   "metadata": {},
   "source": [
    "* You can use multiple \"SOURCES\", but only one \"DESTINATION\"\n",
    "* You can move a single file to a new directory, multiple files to a new directory, or even move an entire directory (or multiple directories) into a new directory\n",
    "* Think \"file manager\""
   ]
  },
  {
   "cell_type": "markdown",
   "metadata": {},
   "source": [
    "### Copying Files with `cp`"
   ]
  },
  {
   "cell_type": "markdown",
   "metadata": {},
   "source": [
    "General Code: `cp [OPTIONS] SOURCE DESTINATION`"
   ]
  },
  {
   "cell_type": "markdown",
   "metadata": {},
   "source": [
    "Reasons to make a copy:\n",
    "* If a copy is created before changes are made, it is possible to revert back to the original\n",
    "* A copy can be used to transfer a file to a removeable media device\n",
    "* A copy of an existing document can be used to template a new document"
   ]
  },
  {
   "cell_type": "markdown",
   "metadata": {},
   "source": [
    "Creating a copy does require `execute` permission on both the SOURCE and DESTINATION directories, `read` permission on the SOURCE directory and file, and `write` permission on the DESTINATION directory."
   ]
  },
  {
   "cell_type": "markdown",
   "metadata": {},
   "source": [
    "### Copying Files with `dd`"
   ]
  },
  {
   "cell_type": "markdown",
   "metadata": {},
   "source": [
    "General Code: `dd [OPTIONS] OPERAND`"
   ]
  },
  {
   "cell_type": "markdown",
   "metadata": {},
   "source": [
    "This command can be used to:\n",
    "* **clone** or **delete** entire disks or partitions.\n",
    "* copy raw data to removeable storage devices, such as USB\n",
    "* can backup and restor the Master Boot Record (MBR)\n",
    "* can be used to create a file of a specific size filled with binary zeroes, which can then be used as a swap file (virtual memory)"
   ]
  },
  {
   "cell_type": "markdown",
   "metadata": {},
   "source": [
    "#### Arguments"
   ]
  },
  {
   "cell_type": "markdown",
   "metadata": {},
   "source": [
    "* `if` Input file: the file to be read from\n",
    "* `of` Output File: the file to be written to\n",
    "* `bs` Block Size: the block size to be used\n",
    "    * default value is considered to be in bytes\n",
    "    * `K`, `M`, `G`, and `T` can be used to specify kilobytes, megabytes, gigabytes, and terabytes respectively\n",
    "* `count` Count: the number of blocks to be read from the input file"
   ]
  },
  {
   "cell_type": "markdown",
   "metadata": {},
   "source": [
    "No `bs` or `count` need to be specified if copying over entire devices"
   ]
  },
  {
   "cell_type": "markdown",
   "metadata": {},
   "source": [
    "### Removing Files with `rm`"
   ]
  },
  {
   "cell_type": "markdown",
   "metadata": {},
   "source": [
    "General Code: `rm [OPTIONS] FILE`"
   ]
  },
  {
   "cell_type": "markdown",
   "metadata": {},
   "source": [
    "* Without any options, `rm` is typically used to remove regular files and will ignore directories it is asked to remove\n",
    "* need to use `-r` or `-R` options to remove directories\n",
    "    * **BE CAREFUL!** Since this is recursive, it will delete all files and subdirectories within the chosen directories!\n",
    "* **BE CAREFUL!** Deleting files is permanent! \n",
    "* Both `write` and `execute` permission is required in a directory to delete a file"
   ]
  },
  {
   "cell_type": "markdown",
   "metadata": {},
   "source": [
    "### Searching File Content with `grep`"
   ]
  },
  {
   "cell_type": "markdown",
   "metadata": {},
   "source": [
    "General Code: `grep [OPTIONS] PATTERN [FILE]`"
   ]
  },
  {
   "cell_type": "markdown",
   "metadata": {},
   "source": [
    "* `grep` is a text filter that will search a specified FILE for a specific PATTERN, and returns matching lines\n",
    "* `grep - E` or `egrep` is required for advanced RegEx characters\n",
    "* If no file name is given, `grep` will read from `standard input` - which is text the user types in. This gives an \"interactive feel\". Use `CTRL+D` to exit. "
   ]
  },
  {
   "cell_type": "markdown",
   "metadata": {},
   "source": [
    "#### Pattern? Regular Expressions! RegEx!"
   ]
  },
  {
   "cell_type": "markdown",
   "metadata": {},
   "source": [
    "RegEx is a special hell. **Don't reinvent the wheel**. There are standardized \"best practice\" RegEx published for many common things, such as dates formats, email validation, and more."
   ]
  },
  {
   "cell_type": "markdown",
   "metadata": {},
   "source": [
    "Enclose strings with single quotes (') to ensure shell does not read them as special shell characters\n",
    "\n",
    "**Basic RegEx Characters:**\n",
    "* `.` any one single character\n",
    "* `[]` any of a specified list of characters\n",
    "    * Can use to specify any special RegEx characters as their literal interpretations, such as `[.]` matching for \".\" rather than any single character\n",
    "* `[^]` NOT any of the specified characters\n",
    "    * Does not match \"lines that do NOT have these characters,\" but rather \"non x-type characters\". So [^0-9] would match lines with NON-NUMBERS, not lines WITHOUT numbers.\n",
    "* `*` Zero or more repetitions of the previous character\n",
    "    * To be useful in capturing repetitions, it is necessary to use patterns of at least 2 characters, such as `'ee*'` rather than `'e*'` to capture lines that contain at least one `e`\n",
    "\n",
    "**Anchor Characters:**\n",
    "* `^` If the first character in the pattern, then the pattern bust be at the beginning of the line ot match. Otherwise, just a literal ^\n",
    "* `$` If the last character of the pattern, then the pattern must be at the end of the line to matchm otherwise just a literal $"
   ]
  },
  {
   "cell_type": "markdown",
   "metadata": {},
   "source": [
    "**Extended RegEx Characters (require the `egrep` command or `-E` option with `grep`):**\n",
    "* `+` One or more of the previous pattern\n",
    "* `?` The preceeding pattern is optional\n",
    "* `{}` Specify minimum, maximum, or an exact number of matches of the previous pattern\n",
    "* `|` Alternation - a logical 'or'\n",
    "* `()` Used to create groups"
   ]
  },
  {
   "cell_type": "markdown",
   "metadata": {},
   "source": [
    "It is a special hell because it takes a LOT of practice, and even then, it is easy for a piece of your RegEx to break the whole thing in unexpected ways. The below links are useful specifically for RegEx evaluation, as they exist to help visualize how the computer is analyzing for patterns using your RegEx.\n",
    "\n",
    "* https://regexr.com/\n",
    "* https://regex101.com/\n"
   ]
  },
  {
   "cell_type": "markdown",
   "metadata": {},
   "source": [
    "## Shutting Down"
   ]
  },
  {
   "cell_type": "markdown",
   "metadata": {},
   "source": [
    "General Code: `shutdown [OPTIONS] TIME [MESSAGE]`"
   ]
  },
  {
   "cell_type": "markdown",
   "metadata": {},
   "source": [
    "* Requires administrative access\n",
    "* All logged in users will be notified that the system is going to shut down, and new logins are prevented withint he last five minutes leading up to the shutdown"
   ]
  },
  {
   "cell_type": "markdown",
   "metadata": {},
   "source": [
    "Time:\n",
    "* `now` Now\n",
    "* `hh:mm` Hour:Minute format\n",
    "* `+minutes` minutes into the future to start the shutdown\n",
    "\n",
    "Can use `date` to check the time of the system. It's typically in the following format:\n",
    "\n",
    "`weekday month day hour:minute:second UTC year`"
   ]
  },
  {
   "cell_type": "markdown",
   "metadata": {},
   "source": [
    "## Networks"
   ]
  },
  {
   "cell_type": "markdown",
   "metadata": {},
   "source": [
    "### `ifconfig`"
   ]
  },
  {
   "cell_type": "markdown",
   "metadata": {},
   "source": [
    "General Code: `ifconfig [OPTIONS]`\n",
    "\n",
    "`ifconfig` comes from **i**nter**f**ace **config**uration\n",
    "\n",
    "* `iwconfig` is similar, but dedicated to wireless network interfaces"
   ]
  },
  {
   "cell_type": "markdown",
   "metadata": {},
   "source": [
    "Interpretation:\n",
    "* `eth0` is the primary network device\n",
    "* `lo` is the \"loopback device\" - it is the special network device used by the system when sending network-based data back to itself\n",
    "* `inet addr:` is the IPv4 address\n",
    "* `UP` indicates that the device is actively running"
   ]
  },
  {
   "cell_type": "markdown",
   "metadata": {},
   "source": [
    "### `ping`"
   ]
  },
  {
   "cell_type": "markdown",
   "metadata": {},
   "source": [
    "General Code: `ping [OPTIONS] DESTINATION`"
   ]
  },
  {
   "cell_type": "markdown",
   "metadata": {},
   "source": [
    "Primarily used to determine how connected two computers are, and how readily they can share data. The `DESTINATION` may be an IP address, or a host/domain name. Using a host/domain name can skip some steps, as it requires both proper name resolution AND IP address functioning properly.\n",
    "\n",
    "Data is sent in 'packets'. `ping` will send packets back and forth, measure how many packets are lost, and how long it takes to send packets. It will continually send packets until a **break command** (`CTRL+C`) is entered at the console, unless an option is entered to limit the number of pings.\n",
    "\n",
    "* `-c 4` limits to 4 pings\n",
    "\n",
    "`Destination Host Unreachable` means the destination cannot be reached at all! This **does not mean it is not connected** as some network administrators deliberately configure machines or networks to not respond to ping requests as a security measure."
   ]
  },
  {
   "cell_type": "markdown",
   "metadata": {},
   "source": [
    "## Viewing Processes"
   ]
  },
  {
   "cell_type": "markdown",
   "metadata": {},
   "source": [
    "Commands result in processes. General users cannot control another user's processes, but users with administrative priviledges **can**, including stopping another user's processes."
   ]
  },
  {
   "cell_type": "markdown",
   "metadata": {},
   "source": [
    "General Code: `ps [OPTIONS]`"
   ]
  },
  {
   "cell_type": "markdown",
   "metadata": {},
   "source": [
    "By default, `ps` will display processes that are running in the current terminal.\n",
    "\n",
    "* `PID` Process Identifier: unique to each process\n",
    "* `TTY` Name of the Terminal that is running the process\n",
    "* `TIME` Total amount of processor time used by the process\n",
    "* `CMD` Command that started the process "
   ]
  },
  {
   "cell_type": "markdown",
   "metadata": {},
   "source": [
    "Options:\n",
    "* `-e` displays every process running on the system\n",
    "* `-f` provides more detail in the output of the command, such as options and arguments"
   ]
  },
  {
   "cell_type": "markdown",
   "metadata": {},
   "source": [
    "## Package Management"
   ]
  },
  {
   "cell_type": "markdown",
   "metadata": {},
   "source": [
    "System by which software can be installed, updated, queried, or removed from a filesystem. Debian and Red Hat are the most popular Linux software package management systems. Ubuntu is a derivative of Debian."
   ]
  },
  {
   "cell_type": "markdown",
   "metadata": {},
   "source": [
    "### `dpkg` and `apt-get`"
   ]
  },
  {
   "cell_type": "markdown",
   "metadata": {},
   "source": [
    "`dpkg` is the lowest level of the Debian package management system, but is tricky for novices. `apt-get` is a front-end program to the `dpkg` tool, and is easier to use."
   ]
  },
  {
   "cell_type": "markdown",
   "metadata": {},
   "source": [
    "Finding and Installing New Packages:\n",
    "\n",
    "1. `apt-get update` to refresh the list of available packages from the Debian Repositories\n",
    "2. `apt-cache search [keyword]` allows searching of the repositories for a particular package. Multiple keyworks help clarify further, such as `web server` providing better results than `web` or `server` alone.\n",
    "    * Results will be in the form of `package - description`\n",
    "3. `apt-get install [package]` installs the desired package.\n",
    "    * Can also use `install` to update a package"
   ]
  },
  {
   "cell_type": "markdown",
   "metadata": {},
   "source": [
    "Updating All Packages:\n",
    "1. `apt-get update` updates the cache for all packages\n",
    "2. `apt-get upgrade` commands all packages and dependencies to update to the latest versions"
   ]
  },
  {
   "cell_type": "markdown",
   "metadata": {},
   "source": [
    "Removing a Package:\n",
    "* `apt-get remove[package]` removes a package, deleting all but the configuration files for the package\n",
    "* `apt-get purge [package]` purges a package, removing a package completely from the system"
   ]
  },
  {
   "cell_type": "markdown",
   "metadata": {},
   "source": [
    "## Text Editor `vi` / `vim`"
   ]
  },
  {
   "cell_type": "markdown",
   "metadata": {},
   "source": [
    "There are a lot of jokes about Vim out there on the internet, not least of which because the most famous question about Vim on StackOverflow is how to EXIT Vim: https://stackoverflow.com/questions/11828270/how-do-i-exit-vim"
   ]
  },
  {
   "cell_type": "markdown",
   "metadata": {},
   "source": [
    "### Command Mode:"
   ]
  },
  {
   "cell_type": "markdown",
   "metadata": {},
   "source": [
    "**Use the `Esc` key to return to command mode at any time.** Remember, the mouse is useless."
   ]
  },
  {
   "cell_type": "markdown",
   "metadata": {},
   "source": [
    "#### Movement"
   ]
  },
  {
   "cell_type": "markdown",
   "metadata": {},
   "source": [
    "General Code: `[count] motion`"
   ]
  },
  {
   "cell_type": "markdown",
   "metadata": {},
   "source": [
    "* `h` left one character\n",
    "* `j` down one line\n",
    "* `k` up one line\n",
    "* `l` right one character\n",
    "* `w` one word forward\n",
    "* `b` one word back\n",
    "* `^` beginning of the line\n",
    "* `$` end of the line\n",
    "* `G` move to a specific line number\n",
    "* `gg` first line of the file\n",
    "* `G` last line of the file\n",
    "* `CTRL+G` find out what line the cursor is currently on\n",
    "\n",
    "**With `vim`, the arrow keys can be used instead of h,j,k, and l**"
   ]
  },
  {
   "cell_type": "markdown",
   "metadata": {},
   "source": [
    "#### Actions:"
   ]
  },
  {
   "cell_type": "markdown",
   "metadata": {},
   "source": [
    "General Code: `action [count] motion` or `[count] action motion`"
   ]
  },
  {
   "cell_type": "markdown",
   "metadata": {},
   "source": [
    "`ZZ` - attempts to save and quit the file"
   ]
  },
  {
   "cell_type": "markdown",
   "metadata": {},
   "source": [
    "`d` delete: removes the indicated text from the page and saves it into the buffer (\"clipboard\").\n",
    "\n",
    "* `dd` delete current line\n",
    "* `3dd` delete the next three lines\n",
    "* `dw` delete the current word\n",
    "* `d3w` delete the next three words\n",
    "* `d4h` delete four characters to the left"
   ]
  },
  {
   "cell_type": "markdown",
   "metadata": {},
   "source": [
    "`c` change: text is removed from the page and saved into the buffer, but the program immediately switches to insert mode\n",
    "\n",
    "* `cc` change current line\n",
    "* `cw` change current word\n",
    "* `c3w` change the next three words\n",
    "* `c5h` change five characters to the left"
   ]
  },
  {
   "cell_type": "markdown",
   "metadata": {},
   "source": [
    "`y` yank: text is pulled into the buffer without deleting it (similar to copy)\n",
    "\n",
    "* `yy` yank current line\n",
    "* `3yy` yank the next three lines\n",
    "* `yw` yank the current word\n",
    "* `y$` yank to the end of the line"
   ]
  },
  {
   "cell_type": "markdown",
   "metadata": {},
   "source": [
    "`p` put: text stored in the bugger is inserted either before or after the cursor position\n",
    "\n",
    "* `p` put after the cursor\n",
    "* `P` put before the cursor"
   ]
  },
  {
   "cell_type": "markdown",
   "metadata": {},
   "source": [
    "#### Search"
   ]
  },
  {
   "cell_type": "markdown",
   "metadata": {},
   "source": [
    "Searching forward: `/[search term]` [enter]\n",
    "\n",
    "Searching backward: `?[search term]` [enter]\n",
    "\n",
    "* You can input RegEx as a search term\n",
    "* press `n` to go to the next match, `N` for the previous match"
   ]
  },
  {
   "cell_type": "markdown",
   "metadata": {},
   "source": [
    "#### Ex Mode"
   ]
  },
  {
   "cell_type": "markdown",
   "metadata": {},
   "source": [
    "Makes it possible to view or change settings, as well as carry out file related commands. Must be entered from command mode."
   ]
  },
  {
   "cell_type": "markdown",
   "metadata": {},
   "source": [
    "* `:w` writes the current file\n",
    "* `:w filename` saves a copy of the current file as filename\n",
    "* `:w!` force writing to the current file\n",
    "* `:1` goes to line number one - if another line is specified, it goes to that line number\n",
    "* `:e filename` opens filename\n",
    "* `:q` quit if no changes made to the file\n",
    "* `:q!` quit **without** saving changes to the file"
   ]
  },
  {
   "cell_type": "markdown",
   "metadata": {},
   "source": [
    "### Insert Mode:\n"
   ]
  },
  {
   "cell_type": "markdown",
   "metadata": {},
   "source": [
    "* `a`: enter after the cursor\n",
    "* `A`: enter at the end of the line\n",
    "* `i`: enter before the cursor\n",
    "* `I`: enter at the beginning of the line\n",
    "* `o`: enter on a blank line after the cursor\n",
    "* `O`: enter on a blank line before the cursor "
   ]
  },
  {
   "cell_type": "markdown",
   "metadata": {},
   "source": [
    "## Resource Links"
   ]
  },
  {
   "cell_type": "markdown",
   "metadata": {},
   "source": [
    "Shell:\n",
    "https://www.explainshell.com/\n",
    "\n",
    "RegEx:\n",
    "https://regexr.com/\n",
    "\n",
    "https://regex101.com/ "
   ]
  }
 ],
 "metadata": {
  "kernelspec": {
   "display_name": "Python 3.10.8 64-bit (microsoft store)",
   "language": "python",
   "name": "python3"
  },
  "language_info": {
   "name": "python",
   "version": "3.10.10"
  },
  "orig_nbformat": 4,
  "vscode": {
   "interpreter": {
    "hash": "481f7de895a69a02f86a3fa2c9481f723cb5a5076304da5de9626f36d7218f15"
   }
  }
 },
 "nbformat": 4,
 "nbformat_minor": 2
}
