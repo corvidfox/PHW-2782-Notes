{
 "cells": [
  {
   "attachments": {},
   "cell_type": "markdown",
   "metadata": {},
   "source": [
    "# Module 2: Python"
   ]
  },
  {
   "attachments": {},
   "cell_type": "markdown",
   "metadata": {},
   "source": [
    "## Module 2.1: Python I"
   ]
  },
  {
   "attachments": {},
   "cell_type": "markdown",
   "metadata": {},
   "source": [
    "### What is Programming?"
   ]
  },
  {
   "attachments": {},
   "cell_type": "markdown",
   "metadata": {},
   "source": [
    "#### Definitions:"
   ]
  },
  {
   "attachments": {},
   "cell_type": "markdown",
   "metadata": {},
   "source": [
    "A `program` is a sequence of instructions that specifies how to perform a computation.\n",
    "\n",
    "An `algorithm` is a step-by-step list of instructions that, if followed exactly, will solve the problem under consideration.\n",
    "\n",
    "A `programming language` is a formal language that specifies a set of instructions that can be used to produce various kinds of output - how to speak to the computer and give it directions.\n",
    "\n",
    "A `statement` is a unit of execution, often represented by one line of code. Statements are executed one by one.\n",
    "\n",
    "A `control flow` indicates how statements are executed, such as conditional statements, loops, and functions."
   ]
  },
  {
   "attachments": {},
   "cell_type": "markdown",
   "metadata": {},
   "source": [
    "#### Why Python?"
   ]
  },
  {
   "attachments": {},
   "cell_type": "markdown",
   "metadata": {},
   "source": [
    "##### Advantages/Strengths"
   ]
  },
  {
   "attachments": {},
   "cell_type": "markdown",
   "metadata": {},
   "source": [
    "While python is **easy to learn**, it is also very **powerful**.\n",
    "\n",
    "It has a **efficient, `high-level data structure`** and a **simple but effective** approach to `object oriented programming`.\n",
    "\n",
    "It is being used for rapid application development in many areas on most platforms:\n",
    "- most areas of programming, including web development, system administration (scripting), and network programming\n",
    "- particularly used for introductory programming courses, data analysis, bioinformatics, and machine learning"
   ]
  },
  {
   "attachments": {},
   "cell_type": "markdown",
   "metadata": {},
   "source": [
    "##### Disadvantages/Limitations"
   ]
  },
  {
   "attachments": {},
   "cell_type": "markdown",
   "metadata": {},
   "source": [
    "`Dynamic typing` can be powerful, but problematic.\n",
    "\n",
    "`Whitespace` defines blocks, not brackets\n",
    "\n",
    "**Version issues** mean Python 3 is not compatible with Python 2\n",
    "- we will use Python 3 in the class"
   ]
  },
  {
   "attachments": {},
   "cell_type": "markdown",
   "metadata": {},
   "source": [
    "|          | Python 2                | Python 3               |\n",
    "|----------|-------------------------|------------------------|\n",
    "| print    | >>>print 'abc' abc      | print ('abc') abc      |\n",
    "| division | >>> 3/2 1 >>> 3/2.0 1.5 | >>> 3/2 1.5 >>> 3//2 1 |\n",
    "| string   | Latin characters        | Unicode characters     |"
   ]
  },
  {
   "attachments": {},
   "cell_type": "markdown",
   "metadata": {},
   "source": [
    "### Basic I/O, Variables, Types"
   ]
  },
  {
   "attachments": {},
   "cell_type": "markdown",
   "metadata": {},
   "source": [
    "`Standard input` and output, also known as `standard streams`, are preconnected input and output when a program is executed.\n",
    "\n",
    "Input: keyboard input; output: console display"
   ]
  },
  {
   "attachments": {},
   "cell_type": "markdown",
   "metadata": {},
   "source": [
    "#### Basic Functions"
   ]
  },
  {
   "attachments": {},
   "cell_type": "markdown",
   "metadata": {},
   "source": [
    "##### `print()`"
   ]
  },
  {
   "attachments": {},
   "cell_type": "markdown",
   "metadata": {},
   "source": [
    "`print()` generates a standard output from the passed argument that prints to the console"
   ]
  },
  {
   "cell_type": "code",
   "execution_count": 152,
   "metadata": {},
   "outputs": [
    {
     "name": "stdout",
     "output_type": "stream",
     "text": [
      "Hello, World!\n"
     ]
    }
   ],
   "source": [
    "print(\"Hello, World!\")"
   ]
  },
  {
   "attachments": {},
   "cell_type": "markdown",
   "metadata": {},
   "source": [
    "##### `input()`"
   ]
  },
  {
   "attachments": {},
   "cell_type": "markdown",
   "metadata": {},
   "source": [
    "`input` prints its argument to the console and waits for user input.\n",
    "\n",
    "Returns the user input as a **string**."
   ]
  },
  {
   "cell_type": "code",
   "execution_count": 153,
   "metadata": {},
   "outputs": [],
   "source": [
    "#print(input(\"What do you want to say?\"))"
   ]
  },
  {
   "attachments": {},
   "cell_type": "markdown",
   "metadata": {},
   "source": [
    "#### `range()`"
   ]
  },
  {
   "attachments": {},
   "cell_type": "markdown",
   "metadata": {},
   "source": [
    "`range()` takes up to three arguments: start, stop, step. All must be integers. It returns a range object which contains a list of numbers.\n",
    "\n",
    "**start**: the first number in the list (default is 0)\\\n",
    "**stop**: the \"up to but not including\" number in the list\\\n",
    "**step**: the interval or \"step\" between the numbers in the list, must be positive (default is 1)"
   ]
  },
  {
   "cell_type": "code",
   "execution_count": 154,
   "metadata": {},
   "outputs": [
    {
     "name": "stdout",
     "output_type": "stream",
     "text": [
      "range(0, 5)\n",
      "[0, 1, 2, 3, 4]\n",
      "range(0, 4)\n",
      "[0, 1, 2, 3]\n",
      "range(-10, 9, 2)\n",
      "[-10, -8, -6, -4, -2, 0, 2, 4, 6, 8]\n",
      "range(-10, 10, -2)\n",
      "[]\n"
     ]
    }
   ],
   "source": [
    "print(range(0,5))\n",
    "print([i for i in range(0,5)])\n",
    "print(range(4))\n",
    "print([i for i in range(4)])\n",
    "\n",
    "print(range(-10,9,2))\n",
    "print([i for i in range(-10,9,2)])\n",
    "print(range(-10,10,-2))\n",
    "print([i for i in range(-10,10,-2)])"
   ]
  },
  {
   "attachments": {},
   "cell_type": "markdown",
   "metadata": {},
   "source": [
    "#### Variables"
   ]
  },
  {
   "attachments": {},
   "cell_type": "markdown",
   "metadata": {},
   "source": [
    "A `variable` can store a `value` by assignment.\n",
    "\n",
    "Python reads from left to right.\n",
    "\n",
    "You can store many types of values in a variable.\n",
    "\n",
    "Values can be reassigned, and are not bound to a data type."
   ]
  },
  {
   "attachments": {},
   "cell_type": "markdown",
   "metadata": {},
   "source": [
    "##### Examples"
   ]
  },
  {
   "attachments": {},
   "cell_type": "markdown",
   "metadata": {},
   "source": [
    "- `text = \"This is text\"`\n",
    "    - stores \"This is text\" within the variable `text`\n",
    "- `x = 12`\n",
    "    - stores `12` in the variable `x`\n",
    "- `x = 5`\n",
    "    - stores `5` in the variable `x` - even if we had previously assigned `x = 12`, we are now overwriting it, so now `x =! 12`\n",
    "- `x = 'cheese'`\n",
    "    -stores 'cheese' in the variable `x` - even if we previously had assigned `x=5`, we are overwriting it now"
   ]
  },
  {
   "cell_type": "code",
   "execution_count": 155,
   "metadata": {},
   "outputs": [
    {
     "name": "stdout",
     "output_type": "stream",
     "text": [
      "this is text\n",
      "12\n",
      "5\n",
      "cheese\n"
     ]
    }
   ],
   "source": [
    "text = \"this is text\"\n",
    "print(text)\n",
    "x = 12\n",
    "print (x)\n",
    "x = 5\n",
    "print(x)\n",
    "x = \"cheese\"\n",
    "print(x)"
   ]
  },
  {
   "attachments": {},
   "cell_type": "markdown",
   "metadata": {},
   "source": [
    "##### Variable Names:"
   ]
  },
  {
   "attachments": {},
   "cell_type": "markdown",
   "metadata": {},
   "source": [
    "- can be arbitrarily long\n",
    "- may contain both letters and digits\n",
    "    - **MUST** always start with a letter\n",
    "- **Case-sensitive**\n",
    "- Can contain underscores (_)\n",
    "- **CANNOT** contain spaces or special characters\n",
    "- **CANNOT** be a `keyword`\n",
    "    - and, as, assert, break, class, continue, def, del, elif, else, except, exec, finally, for, from, global, if, import, in, is, lambda, nonlocal, not, or, pass, raise, return, try, while, with, yield, True, False, None"
   ]
  },
  {
   "attachments": {},
   "cell_type": "markdown",
   "metadata": {},
   "source": [
    "Notes from PEP 8.0:\n",
    "- most variables should be in snake_case, where words are lower-case and separated with underscores\n",
    "- *DO NOT* use l, O, I as single-character variable names because they may be indistinguishable from numerals\n",
    "- mixedCase or CamelCase is only used where it is already the prevailing style to retain backwards compatibility\n",
    "- Constants are in ALL_CAPS with underscores between words\n",
    "- TypeVariables are in CamelCase, preferrably with short names and abbreviations, with _co or _contra suffixes to declare covariant or contravariant behavior repectively\n",
    "- Classes should be in CamelCase, preferrably with short names as possible"
   ]
  },
  {
   "attachments": {},
   "cell_type": "markdown",
   "metadata": {},
   "source": [
    "#### Data Types"
   ]
  },
  {
   "attachments": {},
   "cell_type": "markdown",
   "metadata": {},
   "source": [
    "**Data types** describe the form in which we store or use data."
   ]
  },
  {
   "attachments": {},
   "cell_type": "markdown",
   "metadata": {},
   "source": [
    "| Data Type                       | Example | Python  |\n",
    "|---------------------------------|---------|---------|\n",
    "| Integer                         | 1       | int     |\n",
    "| Float*                           | 1.00    | float   |\n",
    "| Complex Numbers**                | 1+2j    | complex |\n",
    "| Strings                         | \"Hello\" | str     |\n",
    "| Boolean Values                  | True    | bool    |\n",
    "| User-Defined Types (or classes) |         |         |\n",
    "\n",
    "\n",
    "*While real numbers may be infinitely complex, there is only a limited (though vast) complexity that can be represented in the computer system - this limitation causes these real numbers to be truncated to `floats`.\n",
    "\n",
    "**Complex numbers contain both real and imaginary components. By default, Python stores both components as floats\n"
   ]
  },
  {
   "attachments": {},
   "cell_type": "markdown",
   "metadata": {},
   "source": [
    "##### Strings"
   ]
  },
  {
   "attachments": {},
   "cell_type": "markdown",
   "metadata": {},
   "source": [
    "Strings can be encased in:\n",
    "- single quotes `'`\n",
    "- double quotes `\"`\n",
    "- triples of single quotes `'''`\n",
    "- triples of double quotes `\"\"\"`\n",
    "\n",
    "A single-quoted string may contain double-quotes inside, and vice versa.\n",
    "\n",
    "A triple-quoted string can **span multiple lines**"
   ]
  },
  {
   "attachments": {},
   "cell_type": "markdown",
   "metadata": {},
   "source": [
    "##### Converting Data Types"
   ]
  },
  {
   "attachments": {},
   "cell_type": "markdown",
   "metadata": {},
   "source": [
    "- `int()` converts into an **integer**\n",
    "    - **rounding** does not always follow an 'intuitive' pathway!\n",
    "- `float()` converts into a **float**\n",
    "- `str()` converts into a **string**"
   ]
  },
  {
   "cell_type": "code",
   "execution_count": 156,
   "metadata": {},
   "outputs": [
    {
     "name": "stdout",
     "output_type": "stream",
     "text": [
      "3\n",
      "-3\n",
      "12\n",
      "3.9999\n",
      "-3.9999\n",
      "12.0\n",
      "3.9999\n",
      "-3.9999\n",
      "12\n"
     ]
    }
   ],
   "source": [
    "x = 3.9999\n",
    "y = -3.9999\n",
    "z = \"12\"\n",
    "\n",
    "print(int(x))\n",
    "print(int(y))\n",
    "print(int(z))\n",
    "\n",
    "print(float(x))\n",
    "print(float(y))\n",
    "print(float(z))\n",
    "\n",
    "print(str(x))\n",
    "print(str(y))\n",
    "print(str(z))"
   ]
  },
  {
   "attachments": {},
   "cell_type": "markdown",
   "metadata": {},
   "source": [
    "### Control Flows"
   ]
  },
  {
   "attachments": {},
   "cell_type": "markdown",
   "metadata": {},
   "source": [
    "##### Whitespace"
   ]
  },
  {
   "attachments": {},
   "cell_type": "markdown",
   "metadata": {},
   "source": [
    "`Whitespace` is **very meaningful** in Python, **especially indendation and newlines**.\n",
    "\n",
    "- `\\` indicates a newline, which says to go to the next line\n",
    "- `Consistent indentation` is used rather than braces or any other kind of bracket, resulting in visually nested code\n",
    "- A **colon** (`:`) defines the start of a new block in many constructs"
   ]
  },
  {
   "attachments": {},
   "cell_type": "markdown",
   "metadata": {},
   "source": [
    "#### Conditionals and Booleans"
   ]
  },
  {
   "attachments": {},
   "cell_type": "markdown",
   "metadata": {},
   "source": [
    "`Conditionals` and `booleans` act as basic **logic gates** dictating `control flow` in Python.\n",
    "\n",
    "A `boolean` either evaluates to `TRUE` or `FALSE`\n",
    "\n",
    "A common `conditional` is an `if statement`"
   ]
  },
  {
   "attachments": {},
   "cell_type": "markdown",
   "metadata": {},
   "source": [
    "##### Booleans"
   ]
  },
  {
   "attachments": {},
   "cell_type": "markdown",
   "metadata": {},
   "source": [
    "A `boolean` is a simple evaluation if a statement is true or not, as a result, it only returns `TRUE` or `FALSE`.\n",
    "\n",
    "Things that are always `FALSE`:\n",
    "- a boolean value of `FALSE`\n",
    "- numbers 0 (int), 0.0 (float), and 0j (complex)\n",
    "- an empty string (\"\")\n",
    "- an empty list []\n",
    "- an empty dictionary {}\n",
    "- an empty set ()\n",
    "\n",
    "Things that are always `TRUE`:\n",
    "- a boolean value of `TRUE`\n",
    "- all non-zero numbers\n",
    "- any string containing at least one character\n",
    "- a non-empty data structure"
   ]
  },
  {
   "cell_type": "code",
   "execution_count": 157,
   "metadata": {},
   "outputs": [
    {
     "name": "stdout",
     "output_type": "stream",
     "text": [
      "True\n",
      "False\n",
      "False\n",
      "True\n",
      "False\n",
      "False\n"
     ]
    }
   ],
   "source": [
    "x=12\n",
    "y=3\n",
    "z=0\n",
    "test=\"\"\n",
    "\n",
    "print(bool(x==12))\n",
    "print(bool(x==y))\n",
    "print(bool(x<y))\n",
    "\n",
    "print(bool(x))\n",
    "print(bool(z))\n",
    "print(bool(test))\n"
   ]
  },
  {
   "attachments": {},
   "cell_type": "markdown",
   "metadata": {},
   "source": [
    "You can also combine boolean expressions, so long as parentheses are used to disambiguate the expression.\n",
    "\n",
    "| True if...                 | A     | B     | Combined    |\n",
    "|----------------------------|-------|-------|-------------|\n",
    "| if A is True and B is True | True  | True  | (A) and (B) |\n",
    "| if A is True or B is True  | True  | False | (A) or (B)  |\n",
    "|                            | False | True  |             |\n",
    "|                            | True  | True  |             |\n",
    "| if a is False              | False | -     | not (A)     |"
   ]
  },
  {
   "attachments": {},
   "cell_type": "markdown",
   "metadata": {},
   "source": [
    "A `range test` measures if a value is within a set range, and returns `True` or `False`"
   ]
  },
  {
   "cell_type": "code",
   "execution_count": 158,
   "metadata": {},
   "outputs": [
    {
     "name": "stdout",
     "output_type": "stream",
     "text": [
      "Office Hour\n",
      "NO\n"
     ]
    }
   ],
   "source": [
    "Time = 4\n",
    "if (3 <= Time <= 5):\n",
    "    print (\"Office Hour\")\n",
    "else:\n",
    "    print(\"NO\")\n",
    "    \n",
    "Time = 2\n",
    "if (3 <= Time <= 5):\n",
    "    print (\"Office Hour\")\n",
    "else:\n",
    "    print (\"NO\")"
   ]
  },
  {
   "attachments": {},
   "cell_type": "markdown",
   "metadata": {},
   "source": [
    "##### `if` Statements"
   ]
  },
  {
   "attachments": {},
   "cell_type": "markdown",
   "metadata": {},
   "source": [
    "Use the basic conditional **logic gates** to determine which statements are reached by the program.\n",
    "\n",
    "Each `if` statement is actually a `boolean`."
   ]
  },
  {
   "cell_type": "code",
   "execution_count": 159,
   "metadata": {},
   "outputs": [
    {
     "name": "stdout",
     "output_type": "stream",
     "text": [
      "X equals something else\n",
      "This is outside the if statement\n"
     ]
    }
   ],
   "source": [
    "x = 1\n",
    "\n",
    "if x == 3:\n",
    "    print (\"X equals 3.\")\n",
    "elif x == 2:\n",
    "    print(\"X equals 2.\")\n",
    "else:\n",
    "        print( \"X equals something else\")\n",
    "print(\"This is outside the if statement\")"
   ]
  },
  {
   "attachments": {},
   "cell_type": "markdown",
   "metadata": {},
   "source": [
    "##### Operators"
   ]
  },
  {
   "attachments": {},
   "cell_type": "markdown",
   "metadata": {},
   "source": [
    "| Operator | Corresponds to           | Example | Evaluation |\n",
    "|----------|--------------------------|---------|------------|\n",
    "| +        | Addition                 | 1+1     | 2          |\n",
    "| -        | Subtraction              | 4-1     | 3          |\n",
    "| *        | Multiplication           | 2 * 3   | 6          |\n",
    "| /        | Division                 | 7/2     | 3.5        |\n",
    "| //       | Integer (Floor) Division | 7//2    | 3          |\n",
    "| %        | Remainder (Modulo)       | 9%2     | 1          |\n",
    "| **       | Exponent                 | 4 ** 3  | 64         |"
   ]
  },
  {
   "attachments": {},
   "cell_type": "markdown",
   "metadata": {},
   "source": [
    "Order of Operations:\n",
    "1. Parentheses\n",
    "2. Exponentiation\n",
    "3. Multiplcation and Division are equal (right to left)\n",
    "4. Addition and Subtraction are equal (right to left)\n",
    "5. Operators with the *same* precedence are evaluated from left-to-right\n",
    "\n",
    "Basically, PEMDAS from algebra"
   ]
  },
  {
   "attachments": {},
   "cell_type": "markdown",
   "metadata": {},
   "source": [
    "##### Comparison Operators"
   ]
  },
  {
   "attachments": {},
   "cell_type": "markdown",
   "metadata": {},
   "source": [
    "| Operator | Meaning                  | Example |\n",
    "|----------|--------------------------|---------|\n",
    "| ==       | equal to*                | 1 == 1  |\n",
    "| !=       | not equal to             | 2 != 3  |\n",
    "| <        | less than                | 2 < 3   |\n",
    "| >        | greater than             | 5 > 2   |\n",
    "| <=       | less than or equal to    | 2 <= 5  |\n",
    "| >=       | greater than or equal to | 5 >= 3  |\n",
    "\n",
    "*\"Equal to\" is in contrast to `is`. When two variables X and Y have the **same value** `X==Y` is `TRUE`. However, for `X is Y` to evaluate to `TRUE`, both X and Y must refer to the **identical same object**. "
   ]
  },
  {
   "attachments": {},
   "cell_type": "markdown",
   "metadata": {},
   "source": [
    "#### Loops"
   ]
  },
  {
   "attachments": {},
   "cell_type": "markdown",
   "metadata": {},
   "source": [
    "##### For Loop"
   ]
  },
  {
   "attachments": {},
   "cell_type": "markdown",
   "metadata": {},
   "source": [
    "Between `for` and `while` loops, a `for` loop is simpler.\n",
    "\n",
    "\n",
    "A `for` loop:\n",
    "- Repeats for each item in a given sequence\n",
    "- Typically used when we know exactly how many times we need something to repeat\n",
    "\n",
    "**Can often be coupled with the `range()` function**\n",
    "\n",
    "**Notation:** \\\n",
    "`for item in collection:`\\\n",
    "`.    statements/code`"
   ]
  },
  {
   "cell_type": "code",
   "execution_count": 160,
   "metadata": {},
   "outputs": [
    {
     "name": "stdout",
     "output_type": "stream",
     "text": [
      "t\n",
      "e\n",
      "s\n",
      "t\n",
      "i\n",
      "n\n",
      "g\n"
     ]
    }
   ],
   "source": [
    "string = \"testing\"\n",
    "\n",
    "for letter in string:\n",
    "    print(letter)"
   ]
  },
  {
   "attachments": {},
   "cell_type": "markdown",
   "metadata": {},
   "source": [
    "`for` loops can be quite powerful when combined with `range()` and `len()`, especially when you want the index of a sequence data structure."
   ]
  },
  {
   "cell_type": "code",
   "execution_count": 161,
   "metadata": {},
   "outputs": [
    {
     "name": "stdout",
     "output_type": "stream",
     "text": [
      "The original value at index 0 is 5\n",
      "The original value at index 1 is 23\n",
      "The original value at index 2 is 8\n",
      "The original value at index 3 is 10\n",
      "[5, 529, 512, 10000]\n"
     ]
    }
   ],
   "source": [
    "t=[5,23,8,10]\n",
    "for i in range(len(t)):\n",
    "    print(f\"The original value at index {i} is {t[i]}\")\n",
    "    t[i] = t[i]**(i+1)\n",
    "print(t)"
   ]
  },
  {
   "attachments": {},
   "cell_type": "markdown",
   "metadata": {},
   "source": [
    "##### While Loop"
   ]
  },
  {
   "attachments": {},
   "cell_type": "markdown",
   "metadata": {},
   "source": [
    "- Repeats while a given condition holds\n",
    "- Typically used when we do **not** know how many times we need something to repeat\n",
    "- Much more prone to accidentally making infinite loops"
   ]
  },
  {
   "cell_type": "code",
   "execution_count": 162,
   "metadata": {},
   "outputs": [
    {
     "name": "stdout",
     "output_type": "stream",
     "text": [
      "3 still in the loop\n",
      "4 still in the loop\n"
     ]
    }
   ],
   "source": [
    "x = 3\n",
    "while x < 5:\n",
    "    print (x, \"still in the loop\")\n",
    "    x=x+1"
   ]
  },
  {
   "attachments": {},
   "cell_type": "markdown",
   "metadata": {},
   "source": [
    "#### Loop Control Flows"
   ]
  },
  {
   "attachments": {},
   "cell_type": "markdown",
   "metadata": {},
   "source": [
    "`else`: used to specify an else-clause to be executed at the end of a loop"
   ]
  },
  {
   "attachments": {},
   "cell_type": "markdown",
   "metadata": {},
   "source": [
    "`break`: quits the inner-most loop, skipping any else-clause"
   ]
  },
  {
   "cell_type": "code",
   "execution_count": 163,
   "metadata": {},
   "outputs": [
    {
     "name": "stdout",
     "output_type": "stream",
     "text": [
      "2\n",
      "1\n",
      "0\n",
      "breaking the loop!\n"
     ]
    }
   ],
   "source": [
    "x=2\n",
    "while True:\n",
    "    #would generate an infinite loop without iteration\n",
    "    if x < 0:\n",
    "        print(\"breaking the loop!\")\n",
    "        break\n",
    "    else:\n",
    "        print(x)\n",
    "        x -= 1"
   ]
  },
  {
   "attachments": {},
   "cell_type": "markdown",
   "metadata": {},
   "source": [
    "`continue`: continues the next cycle of the loop\n",
    "\n",
    "Typically part of a `continue while`, which establishes a `while` condition...\n",
    "\n",
    "or a `continue for`, which assigns the next item in sequence to execute the dependent code block"
   ]
  },
  {
   "attachments": {},
   "cell_type": "markdown",
   "metadata": {},
   "source": [
    "`pass`: executes nothing, typically used as a placeholder"
   ]
  },
  {
   "cell_type": "code",
   "execution_count": 164,
   "metadata": {},
   "outputs": [
    {
     "name": "stdout",
     "output_type": "stream",
     "text": [
      "246 is not evenly divisible by 4\n",
      "246 is not evenly divisible by 5\n",
      "246 is not evenly divisible by 7\n",
      "246 is not evenly divisible by 8\n",
      "246 is not evenly divisible by 9\n"
     ]
    }
   ],
   "source": [
    "x = 246\n",
    "for i in range(1,10):\n",
    "    if x % i == 0:\n",
    "        pass\n",
    "    else:\n",
    "        print(f\"{x} is not evenly divisible by {i}\")"
   ]
  },
  {
   "attachments": {},
   "cell_type": "markdown",
   "metadata": {},
   "source": [
    "## Module 2.2: Python II"
   ]
  },
  {
   "attachments": {},
   "cell_type": "markdown",
   "metadata": {},
   "source": [
    "**Data Structures** are the methods by which we organize and store data. It typically involves more than one single point of data."
   ]
  },
  {
   "attachments": {},
   "cell_type": "markdown",
   "metadata": {},
   "source": [
    "### Sequence Data Structures"
   ]
  },
  {
   "attachments": {},
   "cell_type": "markdown",
   "metadata": {},
   "source": [
    "Sequence data structures store multiple objects in a particular order.\n",
    "\n",
    "Includes **mutable** structures like lists (`list`), and also **immutable** structures like tuples(`tuple`) and strings (`str`).\n",
    "\n",
    "**Mutable** structures allow you to change the contents, such as a single element, of the structure. **Immutable** structures require you to create a new structure to make any changes.\n",
    "\n",
    "They all:\n",
    "- represent *finite* ordered sets\n",
    "- support access by *index*\n",
    "- provide the ability to take a *slice* (subsequence)\n",
    "- share many *operations*, such as concatenation"
   ]
  },
  {
   "attachments": {},
   "cell_type": "markdown",
   "metadata": {},
   "source": [
    "##### Lists (`list`)"
   ]
  },
  {
   "attachments": {},
   "cell_type": "markdown",
   "metadata": {},
   "source": [
    "A **mutable** sequence of data, typically used to store a collection of *homogenous* items. but items in the sequence are **not restricted** to the same data type.\n",
    "\n",
    "**Notation**: `[]`\n",
    "\n",
    "**Elements**:\n",
    "- surrounded by square brackets and separated by commas\n",
    "- do not have to exist - a list can be empty\n",
    "- may be *any* Python **object or data type**, including other lists\n",
    "- do not have to be the same data type\n",
    "- are associated with a specific position in the sequence, such that an item can be located with its **index**"
   ]
  },
  {
   "cell_type": "code",
   "execution_count": 165,
   "metadata": {},
   "outputs": [
    {
     "name": "stdout",
     "output_type": "stream",
     "text": [
      "[1, 24, 76]\n",
      "['red', 98, ['cheese', 67], 'blue']\n",
      "[]\n"
     ]
    }
   ],
   "source": [
    "test_list_1 = [1,24,76]\n",
    "test_list_2 = [\"red\", 98, [\"cheese\", 67], \"blue\"]\n",
    "test_list_3 = []\n",
    "\n",
    "print(test_list_1)\n",
    "print(test_list_2)\n",
    "print(test_list_3)\n"
   ]
  },
  {
   "attachments": {},
   "cell_type": "markdown",
   "metadata": {},
   "source": [
    "Lists have a built in method called `.sort()`, which modifies the contents of the list by changing their order. \n",
    "\n",
    "It arranges strings alphabetically, and numbers from most-negative to most-positive."
   ]
  },
  {
   "cell_type": "code",
   "execution_count": 166,
   "metadata": {},
   "outputs": [
    {
     "name": "stdout",
     "output_type": "stream",
     "text": [
      "['Elizabeth', 'Anabelle', 'Mary-Anne', 'George', 'Kevin']\n",
      "[10, 8, -2, 7, 0, 8]\n",
      "['Anabelle', 'Elizabeth', 'George', 'Kevin', 'Mary-Anne']\n",
      "[-2, 0, 7, 8, 8, 10]\n"
     ]
    }
   ],
   "source": [
    "friends_list = [\"Elizabeth\", \"Anabelle\", \"Mary-Anne\", \"George\", \"Kevin\"]\n",
    "number_list = [10,8,-2,7,0,8]\n",
    "print(friends_list)\n",
    "print(number_list)\n",
    "\n",
    "friends_list.sort()\n",
    "number_list.sort()\n",
    "\n",
    "print(friends_list)\n",
    "print(number_list)\n",
    "\n",
    "\n",
    "number_list = [10,8,-2,7,0,8]\n",
    "friends_list = [\"Elizabeth\", \"Anabelle\", \"Mary-Anne\", \"George\", \"Kevin\"]"
   ]
  },
  {
   "attachments": {},
   "cell_type": "markdown",
   "metadata": {},
   "source": [
    "This typically only works in a **homogenous** collection, where all elements are of the same data type. Otherwise, you are likely to get an `AttributeError` as it cannot compare different data types with the logical `>` operator."
   ]
  },
  {
   "cell_type": "code",
   "execution_count": 167,
   "metadata": {},
   "outputs": [
    {
     "name": "stdout",
     "output_type": "stream",
     "text": [
      "'<' not supported between instances of 'int' and 'str'\n"
     ]
    }
   ],
   "source": [
    "mixed_list = [\"Elizabeth\", 0, -7, 2, \"Annabelle\", 2, \"Zander\"]\n",
    "\n",
    "try:\n",
    "    mixed_list.sort()\n",
    "    print(mixed_list)\n",
    "except Exception as e:\n",
    "    print(e)"
   ]
  },
  {
   "attachments": {},
   "cell_type": "markdown",
   "metadata": {},
   "source": [
    "##### Tuples (`tuple`)"
   ]
  },
  {
   "attachments": {},
   "cell_type": "markdown",
   "metadata": {},
   "source": [
    "An **immutable** sequence of data very similar to a list. They are typically used to a store homogenous items, but items in the tuple are **not** restricted to the same data type. \n",
    "\n",
    "**Notation**: `()`\n",
    "\n",
    "**Elements**:\n",
    "- surrounded by round brackets and separated by commas\n",
    "- do not have to exist - a tuple can be empty\n",
    "- may be *any* Python **object or data type**, including other lists\n",
    "- do not have to be the same data type\n",
    "- are associated with a specific position in the sequence, such that an item can be located with its **index**"
   ]
  },
  {
   "cell_type": "code",
   "execution_count": 168,
   "metadata": {},
   "outputs": [
    {
     "name": "stdout",
     "output_type": "stream",
     "text": [
      "(1, 24, 76)\n",
      "('red', 98, ['cheese', 67], 'blue')\n",
      "()\n"
     ]
    }
   ],
   "source": [
    "test_tuple_1 = (1,24,76)\n",
    "test_tuple_2 = (\"red\", 98, [\"cheese\", 67], \"blue\")\n",
    "test_tuple_3 = ()\n",
    "\n",
    "print(test_tuple_1)\n",
    "print(test_tuple_2)\n",
    "print(test_tuple_3)"
   ]
  },
  {
   "attachments": {},
   "cell_type": "markdown",
   "metadata": {},
   "source": [
    "The creation of a tuple is called **tuple packing**.\n",
    "\n",
    "The individual elements of a tuple can be assigned to variables in a process called **tuple unpacking**. The number of variables and the number of elements in the tuple should match.\n",
    "\n",
    "**While you can also unpack lists and strings, it is a key use of tuples.**"
   ]
  },
  {
   "cell_type": "code",
   "execution_count": 169,
   "metadata": {},
   "outputs": [
    {
     "name": "stdout",
     "output_type": "stream",
     "text": [
      "('red', 98, ['cheese', 67], 'blue')\n",
      "red\n",
      "98\n",
      "['cheese', 67]\n",
      "blue\n"
     ]
    }
   ],
   "source": [
    "(first,second,third,fourth)=test_tuple_2\n",
    "\n",
    "print(test_tuple_2)\n",
    "print(first)\n",
    "print(second)\n",
    "print(third)\n",
    "print(fourth)"
   ]
  },
  {
   "attachments": {},
   "cell_type": "markdown",
   "metadata": {},
   "source": [
    "##### Strings (`str`)"
   ]
  },
  {
   "attachments": {},
   "cell_type": "markdown",
   "metadata": {},
   "source": [
    "An **immutable** sequence of data stored as a string of unicode characters.\n",
    "\n",
    "**Notation**: `''`\n",
    "\n",
    "**Elements**:\n",
    "- surrounded by single quotes (`'`) or double quotes (`\"`)\n",
    "- do not have to exist - a string can be empty\n",
    "- each element in the string is associated with a specific position in the sequence, such that an item can be located with its **index**"
   ]
  },
  {
   "cell_type": "code",
   "execution_count": 170,
   "metadata": {},
   "outputs": [
    {
     "name": "stdout",
     "output_type": "stream",
     "text": [
      "I want to say 'Hello, World!'\n",
      "The answer is 42\n",
      "MITOCHONDRIA IS THE POWERHOUSE OF THE CELL\n"
     ]
    }
   ],
   "source": [
    "test_string_1 = \"I want to say 'Hello, World!'\"\n",
    "test_string_2 = 'The answer is 42'\n",
    "test_string_3 = \"MITOCHONDRIA IS THE POWERHOUSE OF THE CELL\"\n",
    "\n",
    "print(test_string_1)\n",
    "print(test_string_2)\n",
    "print(test_string_3)"
   ]
  },
  {
   "attachments": {},
   "cell_type": "markdown",
   "metadata": {},
   "source": [
    "#### Common Features of Sequence Data Structures"
   ]
  },
  {
   "cell_type": "code",
   "execution_count": 171,
   "metadata": {},
   "outputs": [],
   "source": [
    "test_list_1 = [1,24,76]\n",
    "test_list_2 = [\"red\", 98, [\"cheese\", 67], \"blue\"]\n",
    "test_list_3 = []\n",
    "number_list = [10,8,-2,7,0,8]\n",
    "friends_list = [\"Elizabeth\", \"Anabelle\", \"Mary-Anne\", \"George\", \"Kevin\"]\n",
    "mixed_list = [\"Elizabeth\", 0, -7, 2, \"Annabelle\", 2, \"Zander\"]\n",
    "\n",
    "test_tuple_1 = (1,24,76)\n",
    "test_tuple_2 = (\"red\", 98, [\"cheese\", 67], \"blue\")\n",
    "test_tuple_3 = ()\n",
    "\n",
    "test_string_1 = \"I want to say 'Hello, World!'\"\n",
    "test_string_2 = 'The answer is 42'\n",
    "test_string_3 = \"\""
   ]
  },
  {
   "attachments": {},
   "cell_type": "markdown",
   "metadata": {},
   "source": [
    "##### Indexing"
   ]
  },
  {
   "attachments": {},
   "cell_type": "markdown",
   "metadata": {},
   "source": [
    "Since sequence data structures organize their elements in a specific order, we can use that order to access a specific element.\n",
    "\n",
    "The position of any element in a sequence data structure is its `index`. \n",
    "\n",
    "If an index is **negative** it 'counts' in reverse order, so an index of `-1` is always the last element.\n",
    "\n",
    "The first element is always given an index of `0`. \n",
    "\n",
    "Notation: `sequence[index]`"
   ]
  },
  {
   "attachments": {},
   "cell_type": "markdown",
   "metadata": {},
   "source": [
    "Lists:"
   ]
  },
  {
   "cell_type": "code",
   "execution_count": 172,
   "metadata": {},
   "outputs": [
    {
     "name": "stdout",
     "output_type": "stream",
     "text": [
      "['Elizabeth', 'Anabelle', 'Mary-Anne', 'George', 'Kevin']\n",
      "Elizabeth\n",
      "Mary-Anne\n",
      "Kevin\n"
     ]
    }
   ],
   "source": [
    "print(friends_list)\n",
    "print(friends_list[0])\n",
    "print(friends_list[2])\n",
    "print(friends_list[-1])"
   ]
  },
  {
   "attachments": {},
   "cell_type": "markdown",
   "metadata": {},
   "source": [
    "Tuples:"
   ]
  },
  {
   "cell_type": "code",
   "execution_count": 173,
   "metadata": {},
   "outputs": [
    {
     "name": "stdout",
     "output_type": "stream",
     "text": [
      "('red', 98, ['cheese', 67], 'blue')\n",
      "['cheese', 67]\n",
      "blue\n",
      "98\n"
     ]
    }
   ],
   "source": [
    "print(test_tuple_2)\n",
    "print(test_tuple_2[2])\n",
    "print(test_tuple_2[3])\n",
    "print(test_tuple_2[1])"
   ]
  },
  {
   "attachments": {},
   "cell_type": "markdown",
   "metadata": {},
   "source": [
    "Strings:"
   ]
  },
  {
   "cell_type": "code",
   "execution_count": 174,
   "metadata": {},
   "outputs": [
    {
     "name": "stdout",
     "output_type": "stream",
     "text": [
      "I want to say 'Hello, World!'\n",
      "I\n",
      "'\n",
      "n\n"
     ]
    }
   ],
   "source": [
    "print(test_string_1)\n",
    "print(test_string_1[0])\n",
    "print(test_string_1[-1])\n",
    "print(test_string_1[4])"
   ]
  },
  {
   "attachments": {},
   "cell_type": "markdown",
   "metadata": {},
   "source": [
    "When a list or tuple contains another sequence data structure, you can sequence indexes to access a specific element of the sub-structure."
   ]
  },
  {
   "cell_type": "code",
   "execution_count": 175,
   "metadata": {},
   "outputs": [
    {
     "name": "stdout",
     "output_type": "stream",
     "text": [
      "['cheese', 67]\n",
      "67\n",
      "e\n"
     ]
    }
   ],
   "source": [
    "print(test_list_2[2])\n",
    "print(test_list_2[2][1])\n",
    "print(test_list_2[2][0][2])"
   ]
  },
  {
   "cell_type": "code",
   "execution_count": 176,
   "metadata": {},
   "outputs": [
    {
     "name": "stdout",
     "output_type": "stream",
     "text": [
      "['cheese', 67]\n",
      "67\n",
      "e\n"
     ]
    }
   ],
   "source": [
    "print(test_tuple_2[2])\n",
    "print(test_tuple_2[2][1])\n",
    "print(test_tuple_2[2][0][2])"
   ]
  },
  {
   "attachments": {},
   "cell_type": "markdown",
   "metadata": {},
   "source": [
    "##### Slices `:`"
   ]
  },
  {
   "attachments": {},
   "cell_type": "markdown",
   "metadata": {},
   "source": [
    "We can take a subsection of a sequential list by using their indexes to take a 'slice'. The first number indicates the index of the first element included in the slice, the second number indicates the index of the **\"up to but not including\"** element.\n",
    "\n",
    "If left blank, the slice will extend to the respective end of the sequence data structure."
   ]
  },
  {
   "attachments": {},
   "cell_type": "markdown",
   "metadata": {},
   "source": [
    "Lists:"
   ]
  },
  {
   "cell_type": "code",
   "execution_count": 177,
   "metadata": {},
   "outputs": [
    {
     "name": "stdout",
     "output_type": "stream",
     "text": [
      "[2, 3, 4, 5]\n",
      "[0, 1, 2]\n",
      "[2, 3, 4, 5, 6, 7, 8, 9, 10]\n"
     ]
    }
   ],
   "source": [
    "long_list = [0,1,2,3,4,5,6,7,8,9,10]\n",
    "sub_list = long_list[2:6]\n",
    "print(sub_list)\n",
    "print(long_list[:3])\n",
    "print(long_list[2:])"
   ]
  },
  {
   "attachments": {},
   "cell_type": "markdown",
   "metadata": {},
   "source": [
    "Tuples:"
   ]
  },
  {
   "cell_type": "code",
   "execution_count": 178,
   "metadata": {},
   "outputs": [
    {
     "name": "stdout",
     "output_type": "stream",
     "text": [
      "(2, 3, 4, 5)\n",
      "(0, 1, 2)\n",
      "(2, 3, 4, 5, 6, 7, 8, 9, 10)\n"
     ]
    }
   ],
   "source": [
    "long_tuple = (0,1,2,3,4,5,6,7,8,9,10)\n",
    "sub_tuple = long_tuple[2:6]\n",
    "print(sub_tuple)\n",
    "print(long_tuple[:3])\n",
    "print(long_tuple[2:])"
   ]
  },
  {
   "attachments": {},
   "cell_type": "markdown",
   "metadata": {},
   "source": [
    "Strings:"
   ]
  },
  {
   "cell_type": "code",
   "execution_count": 179,
   "metadata": {},
   "outputs": [
    {
     "name": "stdout",
     "output_type": "stream",
     "text": [
      "The answer is 42\n",
      "answ\n",
      "The\n",
      "e answer is 42\n"
     ]
    }
   ],
   "source": [
    "print(test_string_2)\n",
    "print(test_string_2[4:8])\n",
    "print(test_string_2[:3])\n",
    "print(test_string_2[2:])"
   ]
  },
  {
   "attachments": {},
   "cell_type": "markdown",
   "metadata": {},
   "source": [
    "Similarly to how we can sequence **indexes** to access elements of a sequential data structure within another sequential data structure, we can also sequence **slice** to take a subsection of a sequential data structure element"
   ]
  },
  {
   "attachments": {},
   "cell_type": "markdown",
   "metadata": {},
   "source": [
    "Lists:"
   ]
  },
  {
   "cell_type": "code",
   "execution_count": 180,
   "metadata": {},
   "outputs": [
    {
     "name": "stdout",
     "output_type": "stream",
     "text": [
      "['nested2', 'nested3']\n"
     ]
    }
   ],
   "source": [
    "nested_long_list = [0,1,2,[\"nested1\",\"nested2\",\"nested3\",\"nested4\"],4,5,6]\n",
    "nest_list_slice = nested_long_list[3][1:3]\n",
    "print(nest_list_slice)"
   ]
  },
  {
   "attachments": {},
   "cell_type": "markdown",
   "metadata": {},
   "source": [
    "Tuples:"
   ]
  },
  {
   "cell_type": "code",
   "execution_count": 181,
   "metadata": {},
   "outputs": [
    {
     "name": "stdout",
     "output_type": "stream",
     "text": [
      "['nested2', 'nested3']\n"
     ]
    }
   ],
   "source": [
    "nested_long_tuple = (0,1,2,[\"nested1\",\"nested2\",\"nested3\",\"nested4\"],4,5,6)\n",
    "nest_tuple_slice = nested_long_tuple[3][1:3]\n",
    "print(nest_tuple_slice)"
   ]
  },
  {
   "attachments": {},
   "cell_type": "markdown",
   "metadata": {},
   "source": [
    "##### Concatenation (`+`)"
   ]
  },
  {
   "attachments": {},
   "cell_type": "markdown",
   "metadata": {},
   "source": [
    "We can create a new sequential data structure by appending two compatible data structures together with `+`"
   ]
  },
  {
   "attachments": {},
   "cell_type": "markdown",
   "metadata": {},
   "source": [
    "Lists:"
   ]
  },
  {
   "cell_type": "code",
   "execution_count": 182,
   "metadata": {},
   "outputs": [
    {
     "name": "stdout",
     "output_type": "stream",
     "text": [
      "[1, 24, 76, 'red', 98, ['cheese', 67], 'blue']\n",
      "[1, 24, 76, 'red', 98, ['cheese', 67], 'blue']\n"
     ]
    }
   ],
   "source": [
    "joined_list = test_list_1 + test_list_2\n",
    "print(joined_list)\n",
    "print(test_list_1 + test_list_2)"
   ]
  },
  {
   "attachments": {},
   "cell_type": "markdown",
   "metadata": {},
   "source": [
    "Tuples:"
   ]
  },
  {
   "cell_type": "code",
   "execution_count": 183,
   "metadata": {},
   "outputs": [
    {
     "name": "stdout",
     "output_type": "stream",
     "text": [
      "(1, 24, 76, 'red', 98, ['cheese', 67], 'blue')\n",
      "(1, 24, 76, 'red', 98, ['cheese', 67], 'blue')\n"
     ]
    }
   ],
   "source": [
    "joined_tuple = test_tuple_1 + test_tuple_2\n",
    "print(joined_tuple)\n",
    "print(test_tuple_1 + test_tuple_2)\n"
   ]
  },
  {
   "attachments": {},
   "cell_type": "markdown",
   "metadata": {},
   "source": [
    "Strings:"
   ]
  },
  {
   "cell_type": "code",
   "execution_count": 184,
   "metadata": {},
   "outputs": [
    {
     "name": "stdout",
     "output_type": "stream",
     "text": [
      "I want to say 'Hello, World!'The answer is 42\n",
      "I want to say 'Hello, World!'The answer is 42\n"
     ]
    }
   ],
   "source": [
    "joined_string = test_string_1 + test_string_2\n",
    "print(joined_string)\n",
    "print(test_string_1 + test_string_2)\n"
   ]
  },
  {
   "attachments": {},
   "cell_type": "markdown",
   "metadata": {},
   "source": [
    "##### Multiplication (`*`)"
   ]
  },
  {
   "attachments": {},
   "cell_type": "markdown",
   "metadata": {},
   "source": [
    "Multiplication of a sequence data structure is similar to performing concatenation of the sequence data structure, to itself, the multiplication number of times."
   ]
  },
  {
   "attachments": {},
   "cell_type": "markdown",
   "metadata": {},
   "source": [
    "Lists:"
   ]
  },
  {
   "cell_type": "code",
   "execution_count": 185,
   "metadata": {},
   "outputs": [
    {
     "name": "stdout",
     "output_type": "stream",
     "text": [
      "[1, 24, 76, 1, 24, 76]\n",
      "[1, 24, 76, 1, 24, 76]\n",
      "[1, 24, 76, 1, 24, 76, 1, 24, 76, 1, 24, 76]\n"
     ]
    }
   ],
   "source": [
    "multiplied_list = test_list_1 * 2\n",
    "print(multiplied_list)\n",
    "print(test_list_1 + test_list_1)\n",
    "\n",
    "print(test_list_1*4)"
   ]
  },
  {
   "attachments": {},
   "cell_type": "markdown",
   "metadata": {},
   "source": [
    "Tuples:"
   ]
  },
  {
   "cell_type": "code",
   "execution_count": 186,
   "metadata": {},
   "outputs": [
    {
     "name": "stdout",
     "output_type": "stream",
     "text": [
      "(1, 24, 76, 1, 24, 76)\n",
      "(1, 24, 76, 1, 24, 76)\n",
      "(1, 24, 76, 1, 24, 76, 1, 24, 76, 1, 24, 76)\n"
     ]
    }
   ],
   "source": [
    "multiplied_tuple = test_tuple_1 * 2\n",
    "print(multiplied_tuple)\n",
    "print(test_tuple_1 + test_tuple_1)\n",
    "print(test_tuple_1*4)"
   ]
  },
  {
   "attachments": {},
   "cell_type": "markdown",
   "metadata": {},
   "source": [
    "Strings:"
   ]
  },
  {
   "cell_type": "code",
   "execution_count": 187,
   "metadata": {},
   "outputs": [
    {
     "name": "stdout",
     "output_type": "stream",
     "text": [
      "I want to say 'Hello, World!'I want to say 'Hello, World!'\n",
      "I want to say 'Hello, World!'I want to say 'Hello, World!'\n",
      "I want to say 'Hello, World!'I want to say 'Hello, World!'I want to say 'Hello, World!'I want to say 'Hello, World!'\n"
     ]
    }
   ],
   "source": [
    "multiplied_string = test_string_1 * 2\n",
    "print(multiplied_string)\n",
    "print(test_string_1 + test_string_1)\n",
    "print(test_string_1*4)"
   ]
  },
  {
   "attachments": {},
   "cell_type": "markdown",
   "metadata": {},
   "source": [
    "##### Sorting"
   ]
  },
  {
   "attachments": {},
   "cell_type": "markdown",
   "metadata": {},
   "source": [
    "A sequential data structure may be **sorted** by the elements in the list. \n",
    "\n",
    "- For **mutable** data structures, such as `list`s, there are built in methods that change the original structure.\n",
    "\n",
    "- For **immutable** data structures, such as `tuple`s and `string`s, there are built-in functions that can generate a new structure in the sorted order"
   ]
  },
  {
   "attachments": {},
   "cell_type": "markdown",
   "metadata": {},
   "source": [
    "##### Packing and Unpacking"
   ]
  },
  {
   "attachments": {},
   "cell_type": "markdown",
   "metadata": {},
   "source": [
    "The creation of a sequence data structure is called **packing**.\n",
    "\n",
    "The individual elements of a sequence data structure can be assigned to variables in a process called **unpacking**. The number of variables and the number of elements in the sequence data structure should match.\n",
    "\n",
    "**While you can also unpack lists and strings, it is a key use of tuples.**\n"
   ]
  },
  {
   "cell_type": "code",
   "execution_count": 188,
   "metadata": {},
   "outputs": [
    {
     "name": "stdout",
     "output_type": "stream",
     "text": [
      "['red', 98, ['cheese', 67], 'blue']\n",
      "red\n",
      "98\n",
      "['cheese', 67]\n",
      "blue\n"
     ]
    }
   ],
   "source": [
    "[first,second,third,fourth]=test_list_2\n",
    "\n",
    "print(test_list_2)\n",
    "print(first)\n",
    "print(second)\n",
    "print(third)\n",
    "print(fourth)"
   ]
  },
  {
   "cell_type": "code",
   "execution_count": 189,
   "metadata": {},
   "outputs": [
    {
     "name": "stdout",
     "output_type": "stream",
     "text": [
      "('red', 98, ['cheese', 67], 'blue')\n",
      "red\n",
      "98\n",
      "['cheese', 67]\n",
      "blue\n"
     ]
    }
   ],
   "source": [
    "(first,second,third,fourth)=test_tuple_2\n",
    "\n",
    "print(test_tuple_2)\n",
    "print(first)\n",
    "print(second)\n",
    "print(third)\n",
    "print(fourth)"
   ]
  },
  {
   "attachments": {},
   "cell_type": "markdown",
   "metadata": {},
   "source": [
    "### Non-Sequence Data Structures"
   ]
  },
  {
   "attachments": {},
   "cell_type": "markdown",
   "metadata": {},
   "source": [
    "Non-sequence data structures store multiple objects without a particular order; there cannot be duplicate elements."
   ]
  },
  {
   "attachments": {},
   "cell_type": "markdown",
   "metadata": {},
   "source": [
    "#### Sets"
   ]
  },
  {
   "attachments": {},
   "cell_type": "markdown",
   "metadata": {},
   "source": [
    "A **mutable,** unordered collection of data elements without duplicate elements, similar to sets in mathematics.\n",
    "\n",
    "**Notation**: `{}` or `set()`\n",
    "\n",
    "**Typical Use**:\n",
    "- membership test\n",
    "- elimination of duplicate items"
   ]
  },
  {
   "cell_type": "code",
   "execution_count": 190,
   "metadata": {},
   "outputs": [
    {
     "name": "stdout",
     "output_type": "stream",
     "text": [
      "{'orange', 'banana', 'apple'}\n",
      "<class 'set'>\n",
      "True\n",
      "False\n"
     ]
    }
   ],
   "source": [
    "fruits = set(['apple','orange','banana','apple'])\n",
    "print(fruits)\n",
    "print(type(fruits))\n",
    "print('apple' in fruits)\n",
    "print('cheese' in fruits)"
   ]
  },
  {
   "attachments": {},
   "cell_type": "markdown",
   "metadata": {},
   "source": [
    "Since sets are mutable, you can use the built-in `.add()` and `.remove()` functions to modify their contents."
   ]
  },
  {
   "cell_type": "code",
   "execution_count": 191,
   "metadata": {},
   "outputs": [
    {
     "name": "stdout",
     "output_type": "stream",
     "text": [
      "{'grape', 'orange', 'banana'}\n"
     ]
    }
   ],
   "source": [
    "fruits.add('grape')\n",
    "fruits.remove('apple')\n",
    "print(fruits)\n"
   ]
  },
  {
   "attachments": {},
   "cell_type": "markdown",
   "metadata": {},
   "source": [
    "There are several operators that can be used to modify sets, or compare them."
   ]
  },
  {
   "cell_type": "code",
   "execution_count": 192,
   "metadata": {},
   "outputs": [],
   "source": [
    "a = set('asbestosis kills')\n",
    "b = set('cheesemonger wife')"
   ]
  },
  {
   "attachments": {},
   "cell_type": "markdown",
   "metadata": {},
   "source": [
    "**Elements of Set A, Exclude B (`-`)**"
   ]
  },
  {
   "attachments": {},
   "cell_type": "markdown",
   "metadata": {},
   "source": [
    "Subtracting Set B from Set A returns all the elements from Set A that are not in Set A"
   ]
  },
  {
   "cell_type": "code",
   "execution_count": 193,
   "metadata": {},
   "outputs": [
    {
     "name": "stdout",
     "output_type": "stream",
     "text": [
      "{'l', 'a', 't', 'b', 'k'}\n"
     ]
    }
   ],
   "source": [
    "print(a-b)"
   ]
  },
  {
   "attachments": {},
   "cell_type": "markdown",
   "metadata": {},
   "source": [
    "**Elements in Union of Set A and Set B (`|`)**"
   ]
  },
  {
   "attachments": {},
   "cell_type": "markdown",
   "metadata": {},
   "source": [
    "Requesting elements in Set A **or** Set B returns all elements that are in Set A, Set B, or both."
   ]
  },
  {
   "cell_type": "code",
   "execution_count": 194,
   "metadata": {},
   "outputs": [
    {
     "name": "stdout",
     "output_type": "stream",
     "text": [
      "{'i', 'm', 's', 'c', 'g', 'e', 'h', 'b', 'n', 'k', 'w', 'l', 'a', 'f', 't', 'r', 'o', ' '}\n"
     ]
    }
   ],
   "source": [
    "print(a|b)"
   ]
  },
  {
   "attachments": {},
   "cell_type": "markdown",
   "metadata": {},
   "source": [
    "**Intersection of Set A and Set B (`&`)**"
   ]
  },
  {
   "attachments": {},
   "cell_type": "markdown",
   "metadata": {},
   "source": [
    "Requesting elements in Set A and Set B returns all elements that are in **both** Set A and Set B."
   ]
  },
  {
   "cell_type": "code",
   "execution_count": 195,
   "metadata": {},
   "outputs": [
    {
     "name": "stdout",
     "output_type": "stream",
     "text": [
      "{'i', 's', 'e', 'o', ' '}\n"
     ]
    }
   ],
   "source": [
    "print(a&b)"
   ]
  },
  {
   "attachments": {},
   "cell_type": "markdown",
   "metadata": {},
   "source": [
    "**Unique Elements of Set A and Set B (`^`)**"
   ]
  },
  {
   "attachments": {},
   "cell_type": "markdown",
   "metadata": {},
   "source": [
    "Requesting the XOR returns the elements in Set A that are not in Set B, and the elements of Set B that are not in Set A.\n",
    "\n",
    "This is similar to taking the union, and subtracting the intersection."
   ]
  },
  {
   "cell_type": "code",
   "execution_count": 196,
   "metadata": {},
   "outputs": [
    {
     "name": "stdout",
     "output_type": "stream",
     "text": [
      "{'l', 'm', 'c', 'g', 'a', 'f', 'h', 't', 'b', 'n', 'r', 'k', 'w'}\n"
     ]
    }
   ],
   "source": [
    "print(a^b)"
   ]
  },
  {
   "attachments": {},
   "cell_type": "markdown",
   "metadata": {},
   "source": [
    "#### Dictionaries"
   ]
  },
  {
   "attachments": {},
   "cell_type": "markdown",
   "metadata": {},
   "source": [
    "A **mutable,** unordered collection of **mapped** data elements, wherein each `key` is mapped to a `value`. In Python, dictionaries are also called **hash tables** or **lookup tables**.\n",
    "\n",
    "**Notation**: `{}`\n",
    "\n",
    "**Elements**:\n",
    "- **keys** can be any **immutable** data type\n",
    "- **values** can be any data type\n",
    "- a dictionary can hold keys, values, or values and keys of different data types\n",
    "- Duplicate **values** are allowed, but duplicate **keys** are not\n",
    "\n",
    "The **key** functions similarly to an **index**. Once a key is made, it is **immutable**. Rather, a whole new key must be made. Keys can be added or removed."
   ]
  },
  {
   "cell_type": "code",
   "execution_count": 197,
   "metadata": {},
   "outputs": [
    {
     "name": "stdout",
     "output_type": "stream",
     "text": [
      "{'H': 'hydrogen', 'He': 'helium', 'Li': 'lithium', 'C': 'carbon', 'O': 'oxygen', 'N': 'nitrogen'}\n",
      "helium\n",
      "{'user': 'alpha1', 'pswd': '123password'}\n",
      "123password\n"
     ]
    }
   ],
   "source": [
    "symbol_to_name = {\n",
    "    \"H\":\"hydrogen\",\n",
    "    \"He\":\"helium\",\n",
    "    \"Li\":\"lithium\",\n",
    "    \"C\":\"carbon\",\n",
    "    \"O\":\"oxygen\",\n",
    "    \"N\":\"nitrogen\",\n",
    "}\n",
    "\n",
    "user_data = {\n",
    "    'user':'alpha1',\n",
    "    'pswd': '123password',\n",
    "}\n",
    "\n",
    "print(symbol_to_name)\n",
    "print(symbol_to_name[\"He\"])\n",
    "print(user_data)\n",
    "print(user_data['pswd'])\n"
   ]
  },
  {
   "attachments": {},
   "cell_type": "markdown",
   "metadata": {},
   "source": [
    "Additional entries can be added to a dictionary simply by assigning a **value** to the **key**."
   ]
  },
  {
   "cell_type": "code",
   "execution_count": 198,
   "metadata": {},
   "outputs": [
    {
     "name": "stdout",
     "output_type": "stream",
     "text": [
      "{'user': 'alpha1', 'pswd': '123password', 'id number': '8675309'}\n"
     ]
    }
   ],
   "source": [
    "user_data['id number'] = '8675309'\n",
    "\n",
    "print(user_data)"
   ]
  },
  {
   "attachments": {},
   "cell_type": "markdown",
   "metadata": {},
   "source": [
    "Since **key** names must be unique, assigning a value to an existing key will replace its definition."
   ]
  },
  {
   "cell_type": "code",
   "execution_count": 199,
   "metadata": {},
   "outputs": [
    {
     "name": "stdout",
     "output_type": "stream",
     "text": [
      "{'user': 'alpha1', 'pswd': '123password', 'id number': '0118999'}\n"
     ]
    }
   ],
   "source": [
    "user_data['id number'] = '0118999'\n",
    "\n",
    "print(user_data)"
   ]
  },
  {
   "attachments": {},
   "cell_type": "markdown",
   "metadata": {},
   "source": [
    "Removing dictionary entries uses built-in methods.\n",
    "\n",
    "`del` removes a specific key:value pair.\n",
    "\n",
    "`.clear()` deletes every entry in the dictionary, reverting it to an empty dictionary."
   ]
  },
  {
   "cell_type": "code",
   "execution_count": 200,
   "metadata": {},
   "outputs": [
    {
     "name": "stdout",
     "output_type": "stream",
     "text": [
      "{'user': 'alpha1', 'pswd': '123password'}\n",
      "{}\n"
     ]
    }
   ],
   "source": [
    "del user_data['id number']\n",
    "print(user_data)\n",
    "\n",
    "user_data.clear()\n",
    "print(user_data)"
   ]
  },
  {
   "attachments": {},
   "cell_type": "markdown",
   "metadata": {},
   "source": [
    "You can access the data stored in dictionaries through built-in methods.\n",
    "\n",
    "`.keys()` returns a list of all keys, very useful\n",
    "\n",
    "`.values()` returns a list of all values\n",
    "\n",
    "`.items()` returns all key:value pairs as a list of tuples"
   ]
  },
  {
   "cell_type": "code",
   "execution_count": 201,
   "metadata": {},
   "outputs": [
    {
     "name": "stdout",
     "output_type": "stream",
     "text": [
      "dict_keys(['H', 'He', 'Li', 'C', 'O', 'N'])\n",
      "dict_values(['hydrogen', 'helium', 'lithium', 'carbon', 'oxygen', 'nitrogen'])\n",
      "dict_items([('H', 'hydrogen'), ('He', 'helium'), ('Li', 'lithium'), ('C', 'carbon'), ('O', 'oxygen'), ('N', 'nitrogen')])\n"
     ]
    }
   ],
   "source": [
    "print(symbol_to_name.keys())\n",
    "print(symbol_to_name.values())\n",
    "print(symbol_to_name.items())"
   ]
  },
  {
   "attachments": {},
   "cell_type": "markdown",
   "metadata": {},
   "source": [
    "`for` loops can be used to convert a `dictionary` into a `list`, or otherwise return the matched sets of **keys** and **values** for operations over the entire dictionary."
   ]
  },
  {
   "cell_type": "code",
   "execution_count": 202,
   "metadata": {},
   "outputs": [
    {
     "name": "stdout",
     "output_type": "stream",
     "text": [
      "H is hydrogen\n",
      "He is helium\n",
      "Li is lithium\n",
      "C is carbon\n",
      "O is oxygen\n",
      "N is nitrogen\n"
     ]
    }
   ],
   "source": [
    "for element in symbol_to_name.keys():\n",
    "    print(element, symbol_to_name[element], sep=\" is \")"
   ]
  },
  {
   "attachments": {},
   "cell_type": "markdown",
   "metadata": {},
   "source": [
    "### Common Features of Data Structures"
   ]
  },
  {
   "cell_type": "code",
   "execution_count": 203,
   "metadata": {},
   "outputs": [],
   "source": [
    "test_list_1 = [1,24,76]\n",
    "test_list_2 = [\"red\", 98, [\"cheese\", 67], \"blue\"]\n",
    "test_list_3 = []\n",
    "number_list = [10,8,-2,7,0,8]\n",
    "friends_list = [\"Elizabeth\", \"Anabelle\", \"Mary-Anne\", \"George\", \"Kevin\"]\n",
    "mixed_list = [\"Elizabeth\", 0, -7, 2, \"Annabelle\", 2, \"Zander\"]\n",
    "\n",
    "test_tuple_1 = (1,24,76)\n",
    "test_tuple_2 = (\"red\", 98, [\"cheese\", 67], \"blue\")\n",
    "test_tuple_3 = ()\n",
    "\n",
    "test_string_1 = \"I want to say 'Hello, World!'\"\n",
    "test_string_2 = 'The answer is 42'\n",
    "test_string_3 = \"\"\n",
    "\n",
    "test_set_1 = set(\"alpha beta parkinglot\")\n",
    "test_set_2 = set(\"42 is the answer they gave us\")\n",
    "\n",
    "test_dictionary_1 = {\n",
    "    'answer':42,\n",
    "    'question':'life, the universe, and everything',\n",
    "}\n",
    "\n",
    "test_dictionary_2 = {\n",
    "    'alpha':1,\n",
    "    'beta':2,\n",
    "    'charlie':3,\n",
    "    'delta':4,\n",
    "}"
   ]
  },
  {
   "attachments": {},
   "cell_type": "markdown",
   "metadata": {},
   "source": [
    "#### Content Check (`in`)"
   ]
  },
  {
   "attachments": {},
   "cell_type": "markdown",
   "metadata": {},
   "source": [
    "We can use the logical operator `in` to determine if an item is in a sequence data structure.\n",
    "\n",
    "It is **direct, case sensitive, and literal.**\n",
    "\n",
    "It **does not** \"dig in\" to an element that is a sequence data structure. It simply checks the entire element as a whole.\n",
    "\n",
    "- If the element is present, it will return `True`.\n",
    "- If the element is **not** present, it will return `False.`\n",
    "\n",
    "For dictionaries, it searches **keys** only."
   ]
  },
  {
   "attachments": {},
   "cell_type": "markdown",
   "metadata": {},
   "source": [
    "Lists:"
   ]
  },
  {
   "cell_type": "code",
   "execution_count": 204,
   "metadata": {},
   "outputs": [
    {
     "name": "stdout",
     "output_type": "stream",
     "text": [
      "['red', 98, ['cheese', 67], 'blue']\n",
      "True\n",
      "False\n",
      "True\n"
     ]
    }
   ],
   "source": [
    "print(test_list_2)\n",
    "print(98 in test_list_2)\n",
    "print(\"cheese\" in test_list_2)\n",
    "print(\"cheese\" in test_list_2[2])"
   ]
  },
  {
   "attachments": {},
   "cell_type": "markdown",
   "metadata": {},
   "source": [
    "Tuples:"
   ]
  },
  {
   "cell_type": "code",
   "execution_count": 205,
   "metadata": {},
   "outputs": [
    {
     "name": "stdout",
     "output_type": "stream",
     "text": [
      "('red', 98, ['cheese', 67], 'blue')\n",
      "True\n",
      "False\n",
      "True\n"
     ]
    }
   ],
   "source": [
    "print(test_tuple_2)\n",
    "print(98 in test_tuple_2)\n",
    "print(\"cheese\" in test_tuple_2)\n",
    "print(\"cheese\" in test_list_2[2])\n"
   ]
  },
  {
   "attachments": {},
   "cell_type": "markdown",
   "metadata": {},
   "source": [
    "Strings:"
   ]
  },
  {
   "cell_type": "code",
   "execution_count": 206,
   "metadata": {},
   "outputs": [
    {
     "name": "stdout",
     "output_type": "stream",
     "text": [
      "The answer is 42\n",
      "True\n",
      "False\n",
      "True\n",
      "True\n",
      "False\n",
      "True\n",
      "False\n",
      "True\n"
     ]
    }
   ],
   "source": [
    "print(test_string_2)\n",
    "print('42' in test_string_2)\n",
    "print('A' in test_string_2)\n",
    "print('a' in test_string_2)\n",
    "print(' ' in test_string_2)\n",
    "print(\"z\" in test_string_2)\n",
    "print(\"T\" in test_string_2)\n",
    "print('t' in test_string_2)\n",
    "print(\"answer\" in test_string_2)"
   ]
  },
  {
   "attachments": {},
   "cell_type": "markdown",
   "metadata": {},
   "source": [
    "Sets:"
   ]
  },
  {
   "cell_type": "code",
   "execution_count": 207,
   "metadata": {},
   "outputs": [
    {
     "name": "stdout",
     "output_type": "stream",
     "text": [
      "{'i', 'u', 'y', 's', '4', 'g', 'e', 'a', 'h', 't', 'n', 'r', 'v', ' ', 'w', '2'}\n",
      "False\n",
      "False\n",
      "True\n"
     ]
    }
   ],
   "source": [
    "print(test_set_2)\n",
    "print(42 in test_set_2)\n",
    "print('42' in test_set_2)\n",
    "print('4' in test_set_2)"
   ]
  },
  {
   "attachments": {},
   "cell_type": "markdown",
   "metadata": {},
   "source": [
    "Dictionaries:"
   ]
  },
  {
   "cell_type": "code",
   "execution_count": 208,
   "metadata": {},
   "outputs": [
    {
     "name": "stdout",
     "output_type": "stream",
     "text": [
      "{'answer': 42, 'question': 'life, the universe, and everything'}\n",
      "False\n",
      "False\n",
      "True\n"
     ]
    }
   ],
   "source": [
    "print(test_dictionary_1)\n",
    "print(42 in test_dictionary_1)\n",
    "print('42' in test_dictionary_1)\n",
    "print('answer' in test_dictionary_1)"
   ]
  },
  {
   "attachments": {},
   "cell_type": "markdown",
   "metadata": {},
   "source": [
    "#### Length (`len`)"
   ]
  },
  {
   "attachments": {},
   "cell_type": "markdown",
   "metadata": {},
   "source": [
    "We can determine the number of elements within a data structure by passing it through the built in `len()` function, which takes the data structure as its argument.\n",
    "\n",
    "If an element is a data structure, it does not \"dig in\" to count the individual elements within that sub-structure. Rather, it counts that element as 1.\n",
    "\n",
    "For dictionaries, it returns the **number of keys**."
   ]
  },
  {
   "attachments": {},
   "cell_type": "markdown",
   "metadata": {},
   "source": [
    "Lists:"
   ]
  },
  {
   "cell_type": "code",
   "execution_count": 209,
   "metadata": {},
   "outputs": [
    {
     "name": "stdout",
     "output_type": "stream",
     "text": [
      "[1, 24, 76]\n",
      "3\n",
      "['red', 98, ['cheese', 67], 'blue']\n",
      "4\n",
      "[]\n",
      "0\n"
     ]
    }
   ],
   "source": [
    "print(test_list_1)\n",
    "print(len(test_list_1))\n",
    "print(test_list_2)\n",
    "print(len(test_list_2))\n",
    "print(test_list_3)\n",
    "print(len(test_list_3))"
   ]
  },
  {
   "attachments": {},
   "cell_type": "markdown",
   "metadata": {},
   "source": [
    "Tuples:"
   ]
  },
  {
   "cell_type": "code",
   "execution_count": 210,
   "metadata": {},
   "outputs": [
    {
     "name": "stdout",
     "output_type": "stream",
     "text": [
      "(1, 24, 76)\n",
      "3\n",
      "('red', 98, ['cheese', 67], 'blue')\n",
      "4\n",
      "()\n",
      "0\n"
     ]
    }
   ],
   "source": [
    "print(test_tuple_1)\n",
    "print(len(test_tuple_1))\n",
    "print(test_tuple_2)\n",
    "print(len(test_tuple_2))\n",
    "print(test_tuple_3)\n",
    "print(len(test_tuple_3))"
   ]
  },
  {
   "attachments": {},
   "cell_type": "markdown",
   "metadata": {},
   "source": [
    "Strings:"
   ]
  },
  {
   "cell_type": "code",
   "execution_count": 211,
   "metadata": {},
   "outputs": [
    {
     "name": "stdout",
     "output_type": "stream",
     "text": [
      "I want to say 'Hello, World!'\n",
      "29\n",
      "The answer is 42\n",
      "16\n",
      "\n",
      "0\n"
     ]
    }
   ],
   "source": [
    "print(test_string_1)\n",
    "print(len(test_string_1))\n",
    "print(test_string_2)\n",
    "print(len(test_string_2))\n",
    "print(test_string_3)\n",
    "print(len(test_string_3))"
   ]
  },
  {
   "attachments": {},
   "cell_type": "markdown",
   "metadata": {},
   "source": [
    "Sets:"
   ]
  },
  {
   "cell_type": "code",
   "execution_count": 212,
   "metadata": {},
   "outputs": [
    {
     "name": "stdout",
     "output_type": "stream",
     "text": [
      "{'l', 'i', 'g', 'a', 'e', 'o', 'h', 't', 'b', 'r', 'p', 'n', 'k', ' '}\n",
      "14\n",
      "{'i', 'u', 'y', 's', '4', 'g', 'e', 'a', 'h', 't', 'n', 'r', 'v', ' ', 'w', '2'}\n",
      "16\n"
     ]
    }
   ],
   "source": [
    "print(test_set_1)\n",
    "print(len(test_set_1))\n",
    "print(test_set_2)\n",
    "print(len(test_set_2))"
   ]
  },
  {
   "attachments": {},
   "cell_type": "markdown",
   "metadata": {},
   "source": [
    "Dictionaries:"
   ]
  },
  {
   "cell_type": "code",
   "execution_count": 213,
   "metadata": {},
   "outputs": [
    {
     "name": "stdout",
     "output_type": "stream",
     "text": [
      "{'answer': 42, 'question': 'life, the universe, and everything'}\n",
      "2\n",
      "{'alpha': 1, 'beta': 2, 'charlie': 3, 'delta': 4}\n",
      "4\n"
     ]
    }
   ],
   "source": [
    "print(test_dictionary_1)\n",
    "print(len(test_dictionary_1))\n",
    "print(test_dictionary_2)\n",
    "print(len(test_dictionary_2))"
   ]
  },
  {
   "attachments": {},
   "cell_type": "markdown",
   "metadata": {},
   "source": [
    "### Reference Semantics"
   ]
  },
  {
   "attachments": {},
   "cell_type": "markdown",
   "metadata": {},
   "source": [
    "Assignmenet manipulates references.\n",
    "\n",
    "1. A value is created and stored in memory\n",
    "2. The variable name is created\n",
    "3. A **reference** to the **memory location** that stores the value is then assigned to the variable\n",
    "4. When we call on the variable, it **follows this path** to find the value in memory it provides.\n",
    "\n",
    "So if we assign one variable to another variable..."
   ]
  },
  {
   "cell_type": "code",
   "execution_count": 214,
   "metadata": {},
   "outputs": [
    {
     "name": "stdout",
     "output_type": "stream",
     "text": [
      "[1, 2, 3, 4]\n"
     ]
    }
   ],
   "source": [
    "a = [1,2,3]\n",
    "#a references list [1,2,3]\n",
    "b = a\n",
    "#b references a (and whatever a references)\n",
    "a.append(4)\n",
    "#changing a thus results in...\n",
    "print(b)"
   ]
  },
  {
   "attachments": {},
   "cell_type": "markdown",
   "metadata": {},
   "source": [
    "When we change the value of a variable, we are **changing which memory location it is referencing**. \n",
    "\n",
    "So when we do something like incrementing...\n",
    "\n",
    "1. The reference of the variable provides the memory location it references\n",
    "2. The value stored at that memory location is retrieved\n",
    "3. The calculation or process occurs, producing a **new data element** that is assigned to a **fresh memory location**\n",
    "4. The variable is assigned a new reference, to the **new memory location**"
   ]
  },
  {
   "cell_type": "code",
   "execution_count": 215,
   "metadata": {},
   "outputs": [],
   "source": [
    "x = 3\n",
    "#the integer 3 is assigned a memory location\n",
    "#x is assigned a \"reference\" to that location\n",
    "\n",
    "x = x + 1\n",
    "#The reference for x is retrieved\n",
    "#The value stored at this reference is\n",
    "#the integer 3\n",
    "\n",
    "#The calculation occurs, and yields an integer of 4\n",
    "#The integer 4 is stored in a new location\n",
    "#x is mapped to the new memory location"
   ]
  },
  {
   "attachments": {},
   "cell_type": "markdown",
   "metadata": {},
   "source": [
    "**Mutability** depends on the **data type**. If data is **mutable**, then the new data **replaces what existed at the same memory location**.\n",
    "\n",
    "These data types include `list`s, `dictionary`s, and some user-defined types."
   ]
  },
  {
   "cell_type": "code",
   "execution_count": 216,
   "metadata": {},
   "outputs": [
    {
     "name": "stdout",
     "output_type": "stream",
     "text": [
      "3\n",
      "[1, 2, 3, 4]\n"
     ]
    }
   ],
   "source": [
    "x = 3\n",
    "y = x\n",
    "x = 4\n",
    "print(y)\n",
    "\n",
    "a = [1,2,3]\n",
    "b=a\n",
    "a.append(4)\n",
    "print(b)"
   ]
  },
  {
   "attachments": {},
   "cell_type": "markdown",
   "metadata": {},
   "source": [
    "### List Comprehensions"
   ]
  },
  {
   "attachments": {},
   "cell_type": "markdown",
   "metadata": {},
   "source": [
    "A powerful and popular feature in Python, list comprehensions allow the generation of a new list by applying a function to every member of an original list.\n",
    "\n",
    "This helps eliminate many for-loops in Python!\n",
    "\n",
    "**Notation:** `[expression for element in list]`"
   ]
  },
  {
   "cell_type": "code",
   "execution_count": 217,
   "metadata": {},
   "outputs": [
    {
     "name": "stdout",
     "output_type": "stream",
     "text": [
      "[9, 36, 4, 49]\n",
      "[9, 36, 4, 49]\n"
     ]
    }
   ],
   "source": [
    "li = [3,6,2,7]\n",
    "squared = [elem**2 for elem in li]\n",
    "print(squared)\n",
    "\n",
    "for_list = []\n",
    "for elem in li:\n",
    "    for_list.append(elem**2)\n",
    "print(for_list)"
   ]
  },
  {
   "attachments": {},
   "cell_type": "markdown",
   "metadata": {},
   "source": [
    "If a `list` contains elements of different types, then the expression must operate correctly on all members of the list.\n",
    "\n",
    "If the elements of the list are other data structures, **unpacking** or **keys** can be used in the `element` to match the 'shape' of the elements."
   ]
  },
  {
   "cell_type": "code",
   "execution_count": 218,
   "metadata": {},
   "outputs": [
    {
     "name": "stdout",
     "output_type": "stream",
     "text": [
      "[3, 6, 9]\n"
     ]
    }
   ],
   "source": [
    "tuple_list = [('a',1),('b',2),('c',3)]\n",
    "print( [n*3 for (x,n) in tuple_list] )"
   ]
  },
  {
   "attachments": {},
   "cell_type": "markdown",
   "metadata": {},
   "source": [
    "This can be further expanded by adding a `filter` to the list comprehension.\n",
    "\n",
    "Each element of the list is checked for a filter condition. If the condition returns `False`, **that element** is omitted from the list before the list comprehension is evaluated.\n",
    "\n",
    "**Notation:** `[expression for element in list if filter]`"
   ]
  },
  {
   "cell_type": "code",
   "execution_count": 219,
   "metadata": {},
   "outputs": [
    {
     "name": "stdout",
     "output_type": "stream",
     "text": [
      "[36, 49, 81]\n"
     ]
    }
   ],
   "source": [
    "li = [3,6,2,7,1,9]\n",
    "squared = [elem**2 for elem in li if elem > 4]\n",
    "print(squared)"
   ]
  },
  {
   "attachments": {},
   "cell_type": "markdown",
   "metadata": {},
   "source": [
    "## Module 2.3 Python III"
   ]
  },
  {
   "attachments": {},
   "cell_type": "markdown",
   "metadata": {},
   "source": [
    "### Functions"
   ]
  },
  {
   "attachments": {},
   "cell_type": "markdown",
   "metadata": {},
   "source": [
    "A **function** may also be called a **subroutine**. Any **function** is a sequence of statements that describes how to perform a specific task. \n",
    "\n",
    "In mathetmatics, a **function** maps an input value to an output value. In programming, it is how you can break your code into individual parts.\n",
    "\n",
    "Using **functions** improves readability, reduces repetitions and errors, provides an abstraction of the processes, and allows for reuse of code.\n",
    "\n",
    "When you create a function, you are **declaring** the function's meaning. When you use a function, you are **calling** the function."
   ]
  },
  {
   "attachments": {},
   "cell_type": "markdown",
   "metadata": {},
   "source": [
    "**Notation:** \\\n",
    "`def function(arguments):`\\\n",
    "`(indent) #code here`\n",
    "\n",
    "`function(arguments)`"
   ]
  },
  {
   "cell_type": "code",
   "execution_count": 1,
   "metadata": {},
   "outputs": [
    {
     "name": "stdout",
     "output_type": "stream",
     "text": [
      "Hello, World!\n",
      "Hi, python!\n",
      "Hello, World!\n"
     ]
    }
   ],
   "source": [
    "def say_hello():\n",
    "    print('Hello, World!')\n",
    "\n",
    "say_hello()\n",
    "print (\"Hi, python!\")\n",
    "say_hello()"
   ]
  },
  {
   "attachments": {},
   "cell_type": "markdown",
   "metadata": {},
   "source": [
    "Functions may be:\n",
    "\n",
    "1. **Built-in to Python.** There are 68 built-in functions in Python3. As long as you have Python3 you have those functions without further import.\n",
    "2. From a **Library.** As long as you have the library installed, you can call those functions by importing them from the library.\n",
    "3. **User-defined.** They may either be imported from a user-defined library, or written into the code of the file itself."
   ]
  },
  {
   "attachments": {},
   "cell_type": "markdown",
   "metadata": {},
   "source": [
    "#### Arguments"
   ]
  },
  {
   "attachments": {},
   "cell_type": "markdown",
   "metadata": {},
   "source": [
    "An **argument** is any value that is passed into a function.\n",
    "\n",
    "**Arguments** may be made *optional* by creating a default value when declaring your function."
   ]
  },
  {
   "cell_type": "code",
   "execution_count": 9,
   "metadata": {},
   "outputs": [
    {
     "name": "stdout",
     "output_type": "stream",
     "text": [
      "The answer 42\n",
      "The answer is 42Next print!\n",
      "Testing with input\n",
      "This is the default\n"
     ]
    }
   ],
   "source": [
    "print(\"The answer\", '42')\n",
    "#\"The answer\" and '42' are both arguments\n",
    "\n",
    "print(\"The answer\", '42', sep=\" is \", end =\"\")\n",
    "print(\"Next print!\")\n",
    "#the 'sep' argument is optional\n",
    "\n",
    "#In the documentation for print, we can see\n",
    "# that the function was defined with the arguments\n",
    "# sep =' ' and end = '\\n')\n",
    "# So by default, sep = ' ' and end = '\\n' unless\n",
    "# otherwise specified! \"\"\"\n",
    "\n",
    "def demo_default(words = \"This is the default\"):\n",
    "    print(words)\n",
    "\n",
    "demo_default(\"Testing with input\")\n",
    "demo_default()"
   ]
  },
  {
   "attachments": {},
   "cell_type": "markdown",
   "metadata": {},
   "source": [
    "#### Return Values"
   ]
  },
  {
   "attachments": {},
   "cell_type": "markdown",
   "metadata": {},
   "source": [
    "A **return value** is the output of a function.\n",
    "\n",
    "The output **may or may not** be output onto the console, depending on the way the function is written.\n",
    "\n",
    "**Notation:** `return return_value`"
   ]
  },
  {
   "cell_type": "code",
   "execution_count": 13,
   "metadata": {},
   "outputs": [],
   "source": [
    "def square(number):\n",
    "    return number ** 2\n",
    "\n",
    "value = square(4)\n",
    "#Does not print on its own, but assigns\n",
    "#the output to the variable \"value\""
   ]
  },
  {
   "cell_type": "code",
   "execution_count": 14,
   "metadata": {},
   "outputs": [
    {
     "name": "stdout",
     "output_type": "stream",
     "text": [
      "16\n"
     ]
    }
   ],
   "source": [
    "print(value)\n",
    "#prints the data referenced by \"value\""
   ]
  },
  {
   "attachments": {},
   "cell_type": "markdown",
   "metadata": {},
   "source": [
    "**All functions in Python** have a **return value**, even without a `return` line in the code.\n",
    "\n",
    "If a function does not have a **return value**, it returns the special value of `None`.\n",
    "\n",
    "`None` is logically equivalent to `False`, and is used like **NULL**, **void**, or **nil** in other languages. The interpeter does **not** print `None` outside of a `print()` function."
   ]
  },
  {
   "cell_type": "code",
   "execution_count": 16,
   "metadata": {},
   "outputs": [
    {
     "name": "stdout",
     "output_type": "stream",
     "text": [
      "None\n"
     ]
    }
   ],
   "source": [
    "def no_return():\n",
    "    number = 2**2\n",
    "\n",
    "print(no_return())\n",
    "\n",
    "def no_return_2():\n",
    "    number = 3 ** 2\n",
    "\n",
    "no_return_2()"
   ]
  },
  {
   "attachments": {},
   "cell_type": "markdown",
   "metadata": {},
   "source": [
    "#### Namespace and Scope"
   ]
  },
  {
   "attachments": {},
   "cell_type": "markdown",
   "metadata": {},
   "source": [
    "**Namespace** describes the mapping of names to objects. It is what holds the meaning of the names we give for our variables, functions, and any other data.\n",
    "\n",
    "**Scope** describes the region of a Python program where a specific namespace is directly accesible."
   ]
  },
  {
   "attachments": {},
   "cell_type": "markdown",
   "metadata": {},
   "source": [
    "**Global** namespace is created when the Python program starts. It includes **built-in functions**, as well as **global variables** which are defiend outside of a function."
   ]
  },
  {
   "attachments": {},
   "cell_type": "markdown",
   "metadata": {},
   "source": [
    "**Local** namespace is created within an individual function. It stores any **local variables** defined within that function. This contains the namespace within that individual function."
   ]
  },
  {
   "attachments": {},
   "cell_type": "markdown",
   "metadata": {},
   "source": [
    "When a name is used, the program searches:\n",
    "\n",
    "1. Local namespace\n",
    "2. Global namespace\n",
    "3. If there is no name, NameError is generated"
   ]
  },
  {
   "cell_type": "code",
   "execution_count": null,
   "metadata": {},
   "outputs": [],
   "source": [
    "global_variable = 'global test'\n",
    "variable = \"variable is global\"\n",
    "\n",
    "def example():\n",
    "    variable = \"variable is local\"\n",
    "    local_variable = 'local test'\n",
    "\n",
    "#Global Variable\n",
    "try:\n",
    "    print(global_variable)\n",
    "except Exception as e:\n",
    "    print(e)\n",
    "\n",
    "#Local Variable in Global Space\n",
    "try:\n",
    "    print(local_variable)\n",
    "except Exception as e:\n",
    "    print(e)\n",
    "\n",
    "#Global variable redefined in local space\n",
    "def local_test():\n",
    "    variable = \"variable is now local\"\n",
    "    try:\n",
    "        print(variable)\n",
    "    except Exception as e:\n",
    "        print(e)\n",
    "\n",
    "local_test()\n",
    "print(variable)\n",
    "\n",
    "#Local variable in local space\n",
    "def local_test_2():\n",
    "    variable_2 = \"variable_2 has always been local\"\n",
    "    try:\n",
    "        print(variable_2)\n",
    "    except Exception as e:\n",
    "        print(e)\n",
    "\n",
    "local_test_2()"
   ]
  },
  {
   "attachments": {},
   "cell_type": "markdown",
   "metadata": {},
   "source": [
    "Any variable declared within a function is **local**. This means that outside of the function, the variable **has no meaning** because the map is **only within that function** due to the **namespace** of Python.\n",
    "\n",
    "This allows for a degree of freedom in naming variables within functions, which increases readability."
   ]
  },
  {
   "cell_type": "code",
   "execution_count": 23,
   "metadata": {},
   "outputs": [
    {
     "name": "stdout",
     "output_type": "stream",
     "text": [
      "name 'result' is not defined\n"
     ]
    }
   ],
   "source": [
    "def celsius_to_farenheight(c):\n",
    "    result = c / 5.0 * 9 + 32\n",
    "    return result\n",
    "\n",
    "tempf = celsius_to_farenheight(19)\n",
    "try:\n",
    "    print(result)\n",
    "except Exception as e:\n",
    "    print(e)"
   ]
  },
  {
   "attachments": {},
   "cell_type": "markdown",
   "metadata": {},
   "source": [
    "Similarly, attempting to call a function before it is defined will return a `NameError`, since there is nothing yet associated with the function name!"
   ]
  },
  {
   "cell_type": "code",
   "execution_count": 24,
   "metadata": {},
   "outputs": [
    {
     "name": "stdout",
     "output_type": "stream",
     "text": [
      "name 'not_declared' is not defined\n",
      "I wasn't declared yet!\n"
     ]
    }
   ],
   "source": [
    "try:\n",
    "    print(not_declared())\n",
    "except Exception as e:\n",
    "    print(e)\n",
    "\n",
    "def not_declared():\n",
    "    return \"I wasn't declared yet!\"\n",
    "\n",
    "print(not_declared())"
   ]
  },
  {
   "attachments": {},
   "cell_type": "markdown",
   "metadata": {},
   "source": [
    "This is important when using functions in code. Python \"reads\" and executes code in the order it is written.\n",
    "\n",
    "In a complex project, commonly used functions tend to be in one file, and we can use those files after `import`ing them.\n",
    "\n",
    "It can be a safe practice to keep all code within functions in a given file. An example of this is using a function named `main()`, where the \"main body\" of the code of the file is stored. \n",
    "\n",
    "The file can have a `main()` function that can call on other functions, even if the `main()` function is declared at the **top** of the file. This is because Python will simply store that `main()` means **do the contained code** rather than attempting to execute the contained code (and functions called inside) until `main()` itself is called!"
   ]
  },
  {
   "cell_type": "code",
   "execution_count": 25,
   "metadata": {},
   "outputs": [
    {
     "name": "stdout",
     "output_type": "stream",
     "text": [
      "name 'main' is not defined\n",
      "name 'do_something' is not defined\n",
      "You wrote 42\n"
     ]
    }
   ],
   "source": [
    "try:\n",
    "    #calling main() before main() is defined\n",
    "    main()\n",
    "except Exception as e:\n",
    "    print(e)\n",
    "\n",
    "def main():\n",
    "    local_variable = do_something(42)\n",
    "    print(local_variable)\n",
    "\n",
    "try:\n",
    "    #calling main() before defining any\n",
    "    #functions called in main()\n",
    "    main()\n",
    "except Exception as e:\n",
    "    print(e)\n",
    "\n",
    "def do_something(number):\n",
    "    return \"You wrote \" + str(number)\n",
    "\n",
    "try:\n",
    "    #calling main() at the end of the code\n",
    "    main()\n",
    "except Exception as e:\n",
    "    print(e)"
   ]
  },
  {
   "attachments": {},
   "cell_type": "markdown",
   "metadata": {},
   "source": [
    "### Classes and Objects"
   ]
  },
  {
   "attachments": {},
   "cell_type": "markdown",
   "metadata": {},
   "source": [
    "**Classes** and **Objects** are what allow Python to perform **Object-Oriented Programming (OOP)** in addition to **Procedural (Structural) Programming**.\n",
    "\n",
    "**Procedural (Structural) Programming** is based on on the concept of procedure calls. Tasks are broken into variables, data structures, and subroutines.\n",
    "\n",
    "**Object Oriented Programming (OOP)** is based on the concept of objects, which combine both 'data' and 'procedures' on the data. It has increases in **ease of maintenance, code reusability, and extensibility**."
   ]
  },
  {
   "attachments": {},
   "cell_type": "markdown",
   "metadata": {},
   "source": [
    "Python is built on the **OOP concept.** The simple syntax rules support OOP, but Python is less strict in syntax than other OOP languages (such as Java, C++).\n",
    "\n",
    "**Everything** is an **object** in Python, including built-in types, data structures, and functions."
   ]
  },
  {
   "attachments": {},
   "cell_type": "markdown",
   "metadata": {},
   "source": [
    "A **class** is the type of object, such as `str` or `int`. An **instance** is a specific realization of a particular class with a specific value, such as `\"pie\"` being an **instance** of the `str` **class**."
   ]
  },
  {
   "attachments": {},
   "cell_type": "markdown",
   "metadata": {},
   "source": [
    "You can program your own custom **classes** in Python.\n",
    "\n",
    "**Notation**: \\\n",
    "`class ClassName:`\\\n",
    "`(indent) statements`\n",
    "\n",
    "We typically define **functions** within a **class**, but we can also define variables.\n",
    "\n",
    "**Class names** typically start with a capital letter and are writtein in CamelCase."
   ]
  },
  {
   "cell_type": "code",
   "execution_count": 49,
   "metadata": {},
   "outputs": [
    {
     "name": "stdout",
     "output_type": "stream",
     "text": [
      "<class 'type'>\n",
      "42\n",
      "23\n"
     ]
    }
   ],
   "source": [
    "class MyClass:\n",
    "    var = 42\n",
    "    def hello_world():\n",
    "        print(\"Hello, World!\")\n",
    "\n",
    "print (type(MyClass))"
   ]
  },
  {
   "attachments": {},
   "cell_type": "markdown",
   "metadata": {},
   "source": [
    "You can assign specific **object instances** of a class. In this way, you can define a data structure or data type with a **class**, to store common data or functions.\n",
    "\n",
    "Even if all data contained in a **class object** is the same, **unless the default equality method is overridden** it will return `False` for equality since they reference different regions of memory space.\n",
    "\n",
    "**Notation:** `variable = Class()`"
   ]
  },
  {
   "cell_type": "code",
   "execution_count": 64,
   "metadata": {},
   "outputs": [
    {
     "name": "stdout",
     "output_type": "stream",
     "text": [
      "<class '__main__.MyClass'>\n",
      "<__main__.MyClass object at 0x0000019574214F10>\n",
      "<__main__.MyClass object at 0x00000195741DF820>\n",
      "False\n",
      "False\n",
      "False\n",
      "False\n"
     ]
    }
   ],
   "source": [
    "example_class = MyClass()\n",
    "example_class2 = MyClass()\n",
    "\n",
    "print(MyClass)\n",
    "print(example_class)\n",
    "print(example_class2)\n",
    "\n",
    "print(MyClass == example_class)\n",
    "print(MyClass is example_class)\n",
    "print(example_class == example_class2)\n",
    "print(example_class is example_class2)"
   ]
  },
  {
   "attachments": {},
   "cell_type": "markdown",
   "metadata": {},
   "source": [
    "Each **statement** either contains a variable or a function."
   ]
  },
  {
   "attachments": {},
   "cell_type": "markdown",
   "metadata": {},
   "source": [
    "##### Attributes"
   ]
  },
  {
   "attachments": {},
   "cell_type": "markdown",
   "metadata": {},
   "source": [
    "**Variables** within a **class** are considered **attributes**. (\"I would use the attribute '6 feet tall' to describe this machine\").\n",
    "\n",
    "You can use assignment to change **attributes**. Individual **class instances** can have their **attributes** individually assigned without changing the **class** itself.\n",
    "\n",
    "**Notation**: `class.attribute`"
   ]
  },
  {
   "cell_type": "code",
   "execution_count": 61,
   "metadata": {},
   "outputs": [
    {
     "name": "stdout",
     "output_type": "stream",
     "text": [
      "42\n",
      "23\n",
      "23\n",
      "96\n",
      "23\n"
     ]
    }
   ],
   "source": [
    "#Without initialization supermethod\n",
    "class MyClass:\n",
    "    var = 42\n",
    "    def hello_world():\n",
    "        print(\"Hello, World!\")\n",
    "\n",
    "#Changing overall class variable\n",
    "print(MyClass.var)\n",
    "MyClass.var = 23\n",
    "print(MyClass.var)\n",
    "\n",
    "class_example = MyClass()\n",
    "print(class_example.var)\n",
    "class_example.var = 96\n",
    "print(class_example.var)\n",
    "print(MyClass.var)"
   ]
  },
  {
   "attachments": {},
   "cell_type": "markdown",
   "metadata": {},
   "source": [
    "##### Methods"
   ]
  },
  {
   "attachments": {},
   "cell_type": "markdown",
   "metadata": {},
   "source": [
    "**Functions** within a **class** are considered **methods**. (\"This machine cleans the carpet by using a shampoo method\")\n",
    "\n",
    "**Notation**: `class.method()`"
   ]
  },
  {
   "cell_type": "code",
   "execution_count": 54,
   "metadata": {},
   "outputs": [
    {
     "name": "stdout",
     "output_type": "stream",
     "text": [
      "Hello, World!\n",
      "Hello, World!\n"
     ]
    }
   ],
   "source": [
    "class MyClass:\n",
    "    var = 42\n",
    "    def hello_world():\n",
    "        print(\"Hello, World!\")\n",
    "\n",
    "MyClass.hello_world()\n",
    "\n",
    "class_example = MyClass\n",
    "\n",
    "class_example.hello_world()"
   ]
  },
  {
   "attachments": {},
   "cell_type": "markdown",
   "metadata": {},
   "source": [
    "##### Magic Methods"
   ]
  },
  {
   "attachments": {},
   "cell_type": "markdown",
   "metadata": {},
   "source": [
    "**Magic methods**, also called **dunder methods** are special methods in Python that begin and end with double underscores. They are never intended to be invoked by the user, but rather are meant for a **class** to invoke upon itself. \n",
    "\n",
    "**Magic methods** are part of Python's built-in classes. You can see any **magic methods** that apply to a particular **class** by using the built in `dir()` function."
   ]
  },
  {
   "cell_type": "code",
   "execution_count": 65,
   "metadata": {},
   "outputs": [
    {
     "name": "stdout",
     "output_type": "stream",
     "text": [
      "['__abs__', '__add__', '__and__', '__bool__', '__ceil__', '__class__', '__delattr__', '__dir__', '__divmod__', '__doc__', '__eq__', '__float__', '__floor__', '__floordiv__', '__format__', '__ge__', '__getattribute__', '__getnewargs__', '__gt__', '__hash__', '__index__', '__init__', '__init_subclass__', '__int__', '__invert__', '__le__', '__lshift__', '__lt__', '__mod__', '__mul__', '__ne__', '__neg__', '__new__', '__or__', '__pos__', '__pow__', '__radd__', '__rand__', '__rdivmod__', '__reduce__', '__reduce_ex__', '__repr__', '__rfloordiv__', '__rlshift__', '__rmod__', '__rmul__', '__ror__', '__round__', '__rpow__', '__rrshift__', '__rshift__', '__rsub__', '__rtruediv__', '__rxor__', '__setattr__', '__sizeof__', '__str__', '__sub__', '__subclasshook__', '__truediv__', '__trunc__', '__xor__', 'as_integer_ratio', 'bit_count', 'bit_length', 'conjugate', 'denominator', 'from_bytes', 'imag', 'numerator', 'real', 'to_bytes']\n"
     ]
    }
   ],
   "source": [
    "print(dir(int))"
   ]
  },
  {
   "attachments": {},
   "cell_type": "markdown",
   "metadata": {},
   "source": [
    "You can **override** any inherited **magic method** for a class by defining it within a class.\n",
    "\n",
    "The most common example of this is the `__init__` **magic method**, which is able to take input to **initialize** a new **instance** of a **class**"
   ]
  },
  {
   "cell_type": "code",
   "execution_count": 76,
   "metadata": {},
   "outputs": [
    {
     "name": "stdout",
     "output_type": "stream",
     "text": [
      "Hello, World! My variable is 42\n",
      "Hello, World! My variable is 12\n",
      "Hello, World! My variable is 19\n"
     ]
    }
   ],
   "source": [
    "class MyClass:\n",
    "    def __init__(self,num=None):\n",
    "        #this allows for a \"default\" value if none is given\n",
    "        self.var = num if num is not None else 42\n",
    "    def hello_world(self):\n",
    "        print(f\"Hello, World! My variable is {self.var}\")\n",
    "\n",
    "class_example_def = MyClass()\n",
    "class_example1 = MyClass(12)\n",
    "class_example2 = MyClass(19)\n",
    "\n",
    "class_example_def.hello_world()\n",
    "class_example1.hello_world()\n",
    "class_example2.hello_world()"
   ]
  },
  {
   "attachments": {},
   "cell_type": "markdown",
   "metadata": {},
   "source": [
    "**Binary Operators** (self,other)\n",
    "\n",
    "| Operator      | Magic Method   |\n",
    "|---------------|----------|\n",
    "| +             | add      |\n",
    "| -             | sub      |\n",
    "| *             | mul      |\n",
    "| /             | truediv  |\n",
    "| //            | floordiv |\n",
    "| %             | mod      |\n",
    "| **            | pow      |\n",
    "| >>            | rshift   |\n",
    "| <<            | lshift   |\n",
    "| &             | and      |\n",
    "| \\|            | or       |\n",
    "| ^             | xor      |"
   ]
  },
  {
   "attachments": {},
   "cell_type": "markdown",
   "metadata": {},
   "source": [
    "**Comparison Operators** (self,other)\n",
    "\n",
    "| Operator | Magic Method |\n",
    "|----------|--------------|\n",
    "| <             | lt     |\n",
    "| >             | gt     |\n",
    "| <=            | le     |\n",
    "| >=            | ge     |\n",
    "| ==            | eq     |\n",
    "| !=            | ne     |"
   ]
  },
  {
   "attachments": {},
   "cell_type": "markdown",
   "metadata": {},
   "source": [
    "**Assignment Operators** (self,other)\n",
    "\n",
    "| Operator | Magic Method |\n",
    "|----------|--------------|\n",
    "| -=       | isub         |\n",
    "| +=       | iadd         |\n",
    "| *=       | imul         |\n",
    "| /=       | idiv         |\n",
    "| //=      | ifloordiv    |\n",
    "| %=       | imod         |\n",
    "| **=      | ipow         |\n",
    "| >>=      | irshift      |\n",
    "| <<=      | ilshift      |\n",
    "| &=       | iand         |\n",
    "| \\|=      | ior          |\n",
    "| ^=       | ixor         |"
   ]
  },
  {
   "attachments": {},
   "cell_type": "markdown",
   "metadata": {},
   "source": [
    "**Unary Operators** (self)\n",
    "\n",
    "| Operator | Magic Method |\n",
    "|----------|--------------|\n",
    "| -        | neg          |\n",
    "| +        | pos          |\n",
    "| ~        | invert       |"
   ]
  },
  {
   "attachments": {},
   "cell_type": "markdown",
   "metadata": {},
   "source": [
    "##### Class Example: Fraction Class"
   ]
  },
  {
   "attachments": {},
   "cell_type": "markdown",
   "metadata": {},
   "source": [
    "**Requirements:** \n",
    "1. Will allow a Fraction data object to behave like any other numeric value\n",
    "2. Will allow arithmetic, such as addition, subtraction, multiplication, and division, on Fractions\n",
    "3. Fractions will be displayed in \"slash\" form: Ex. 3.5\n",
    "4. All Fractions should return results in their lowest terms, so that no matter what computation is performed, we always end up with the most common form"
   ]
  },
  {
   "attachments": {},
   "cell_type": "markdown",
   "metadata": {},
   "source": [
    "Step 1: Initialize class instance, including what data is used to initalize the class"
   ]
  },
  {
   "cell_type": "code",
   "execution_count": 31,
   "metadata": {},
   "outputs": [
    {
     "name": "stdout",
     "output_type": "stream",
     "text": [
      "<__main__.Fraction object at 0x00000195742387C0>\n"
     ]
    }
   ],
   "source": [
    "class Fraction:\n",
    "    def __init__(self, top, bottom):\n",
    "        #we initialize our Fraction to\n",
    "        #store internal data\n",
    "        self.num = top\n",
    "        self.den = bottom\n",
    "        \n",
    "test_frac = Fraction(3,5)\n",
    "print(test_frac)"
   ]
  },
  {
   "attachments": {},
   "cell_type": "markdown",
   "metadata": {},
   "source": [
    "Step 2: We can display any Fraction object in slash form by writing an internal function"
   ]
  },
  {
   "cell_type": "code",
   "execution_count": 35,
   "metadata": {},
   "outputs": [
    {
     "name": "stdout",
     "output_type": "stream",
     "text": [
      "3/5\n"
     ]
    }
   ],
   "source": [
    "class Fraction:\n",
    "    def __init__(self, top, bottom):\n",
    "        self.num = top\n",
    "        self.den = bottom\n",
    "    def show(self):\n",
    "        #Formats the output of the fraction\n",
    "        #to \"show\" in slash form\n",
    "        print(str(self.num)+'/'+str(self.den))\n",
    "test_frac = Fraction(3,5)\n",
    "test_frac.show()\n",
    "\n",
    "print(\"\")"
   ]
  },
  {
   "attachments": {},
   "cell_type": "markdown",
   "metadata": {},
   "source": [
    "But wouldn't it be easier if we could just input our fraction into `print()` and get our desired format without the extra work of a function?"
   ]
  },
  {
   "cell_type": "code",
   "execution_count": 36,
   "metadata": {},
   "outputs": [
    {
     "name": "stdout",
     "output_type": "stream",
     "text": [
      "I ate <__main__.Fraction object at 0x0000019574253B20> of the pizza\n"
     ]
    }
   ],
   "source": [
    "print(\"I ate\", test_frac, \"of the pizza\")"
   ]
  },
  {
   "attachments": {},
   "cell_type": "markdown",
   "metadata": {},
   "source": [
    "`print()` works by using the built-in `str` method on the instance. So we could **overriding** the `str` method for this class."
   ]
  },
  {
   "cell_type": "code",
   "execution_count": 37,
   "metadata": {},
   "outputs": [
    {
     "name": "stdout",
     "output_type": "stream",
     "text": [
      "3/5\n",
      "I ate 3/5 of the pizza\n",
      "<class '__main__.Fraction'>\n"
     ]
    }
   ],
   "source": [
    "class Fraction:\n",
    "    def __init__(self, top, bottom):\n",
    "        self.num = top\n",
    "        self.den = bottom\n",
    "    def __str__(self):\n",
    "        #Formats the output of the fraction\n",
    "        #to \"show\" in slash form\n",
    "        return str(self.num)+'/'+str(self.den)\n",
    "test_frac = Fraction(3,5)\n",
    "\n",
    "print(test_frac)\n",
    "print(\"I ate\", test_frac,\"of the pizza\")\n",
    "print(type(test_frac))"
   ]
  },
  {
   "attachments": {},
   "cell_type": "markdown",
   "metadata": {},
   "source": [
    "Step 3: Mathematics"
   ]
  },
  {
   "attachments": {},
   "cell_type": "markdown",
   "metadata": {},
   "source": [
    "If we try to do math without further modification, we get `TypeError`s."
   ]
  },
  {
   "cell_type": "code",
   "execution_count": 38,
   "metadata": {},
   "outputs": [
    {
     "name": "stdout",
     "output_type": "stream",
     "text": [
      "unsupported operand type(s) for +: 'Fraction' and 'Fraction'\n"
     ]
    }
   ],
   "source": [
    "f1 = Fraction(3,5)\n",
    "f2 = Fraction(1,2)\n",
    "try:\n",
    "    f1+f1\n",
    "except Exception as e:\n",
    "    print(e)"
   ]
  },
  {
   "attachments": {},
   "cell_type": "markdown",
   "metadata": {},
   "source": [
    "So we can **override** `add`ition..."
   ]
  },
  {
   "cell_type": "code",
   "execution_count": 46,
   "metadata": {},
   "outputs": [
    {
     "name": "stdout",
     "output_type": "stream",
     "text": [
      "11/10\n"
     ]
    }
   ],
   "source": [
    "class Fraction:\n",
    "    def __init__(self, top, bottom):\n",
    "        self.num = top\n",
    "        self.den = bottom\n",
    "    def __str__(self):\n",
    "        return str(self.num)+'/'+str(self.den)\n",
    "    def __add__(self,otherfraction):\n",
    "        #Overrides how Python does addition between two Fractions.\n",
    "        newnum = self.num*otherfraction.den + self.den *otherfraction.num\n",
    "        newden = self.den * otherfraction.den\n",
    "        return Fraction (newnum,newden)\n",
    "\n",
    "f1 = Fraction(3,5)\n",
    "f2 = Fraction(1,2)\n",
    "print(f1+f2)"
   ]
  },
  {
   "attachments": {},
   "cell_type": "markdown",
   "metadata": {},
   "source": [
    "We would have to override **all** arithmetic operators to do arithmetic."
   ]
  },
  {
   "cell_type": "code",
   "execution_count": 78,
   "metadata": {},
   "outputs": [
    {
     "name": "stdout",
     "output_type": "stream",
     "text": [
      "12/32\n",
      "6/20\n",
      "12/10\n",
      "1/64\n"
     ]
    }
   ],
   "source": [
    "class Fraction:\n",
    "    def __init__(self, top, bottom):\n",
    "        self.num = top\n",
    "        self.den = bottom\n",
    "    def __str__(self):\n",
    "        return str(self.num)+'/'+str(self.den)\n",
    "    def __add__(self,other):\n",
    "        newnum = self.num*other.den + self.den *other.num\n",
    "        newden = self.den * other.den\n",
    "        return Fraction (newnum,newden)\n",
    "    def __sub__(self,other):\n",
    "        newnum = self.num*other.den - self.den*other.num\n",
    "        newden = self.den*other.den\n",
    "        return Fraction (newnum,newden)\n",
    "    def __mul__(self,other):\n",
    "        newnum = self.num*other.num\n",
    "        newden = self.den*other.den\n",
    "        return Fraction(newnum,newden)\n",
    "    def __truediv__(self,other):\n",
    "        newnum = self.num*other.den\n",
    "        newden = self.den*other.num\n",
    "        return Fraction(newnum, newden)\n",
    "    def __pow__(self,exp):\n",
    "        newnum = self.num ** exp\n",
    "        newden = self.den**exp\n",
    "        return Fraction(newnum, newden)\n",
    "f1 = Fraction(2,4)\n",
    "f2 = Fraction(1,8)\n",
    "f3 = Fraction(3,5)\n",
    "print(f1-f2)\n",
    "print(f1*f3)\n",
    "print(f3/f1)\n",
    "print(f2**2)"
   ]
  },
  {
   "attachments": {},
   "cell_type": "markdown",
   "metadata": {},
   "source": [
    "Step 4: Always get the simplest form by writing a function to determine the simplest form."
   ]
  },
  {
   "cell_type": "code",
   "execution_count": 79,
   "metadata": {},
   "outputs": [
    {
     "name": "stdout",
     "output_type": "stream",
     "text": [
      "3/4\n"
     ]
    }
   ],
   "source": [
    "class Fraction:\n",
    "    def __init__(self, top, bottom):\n",
    "        self.num = top\n",
    "        self.den = bottom\n",
    "    def __str__(self):\n",
    "        return str(self.num)+'/'+str(self.den)\n",
    "    def __add__(self,otherfraction):\n",
    "        newnum = self.num*otherfraction.den + self.den *otherfraction.num\n",
    "        newden = self.den * otherfraction.den\n",
    "        common = get_comm_denom(newnum,newden)\n",
    "        #use our new function below to get the\n",
    "        #common denominator for simplifying\n",
    "        return Fraction (newnum//common,newden//common)\n",
    "        #use floor division to get the integers\n",
    "    def __sub__(self,other):\n",
    "        newnum = self.num*other.den - self.den*other.num\n",
    "        newden = self.den*other.den\n",
    "        common = get_comm_denom(newnum,newden)\n",
    "        return Fraction (newnum//common,newden//common)\n",
    "    def __mul__(self,other):\n",
    "        newnum = self.num*other.num\n",
    "        newden = self.den*other.den\n",
    "        common = get_comm_denom(newnum,newden)\n",
    "        return Fraction (newnum//common,newden//common)\n",
    "    def __truediv__(self,other):\n",
    "        newnum = self.num*other.den\n",
    "        newden = self.den*other.num\n",
    "        common = get_comm_denom(newnum,newden)\n",
    "        return Fraction (newnum//common,newden//common)\n",
    "    def __pow__(self,exp):\n",
    "        newnum = self.num ** exp\n",
    "        newden = self.den**exp\n",
    "        common = get_comm_denom(newnum,newden)\n",
    "        return Fraction (newnum//common,newden//common)\n",
    "        \n",
    "def get_comm_denom(m,n):\n",
    "    #This is written OUTSIDE of the class itself!\n",
    "    #if m is the numerator\n",
    "    # and n is the denominator\n",
    "    while m%n != 0:\n",
    "    #if m is cleanly divisible by n\n",
    "    #simply return n\n",
    "    #If m is not cleanly divisible by n..\n",
    "        oldm = m\n",
    "        oldn = n\n",
    "    #See if n is divisible by the remainder\n",
    "    #between m and n.\n",
    "        m = oldn\n",
    "        n = oldm%oldn\n",
    "    #repeat as needed, down to 1/1\n",
    "    #return the lowest common denominator\n",
    "    # of n and m\n",
    "    return n\n",
    "f1 = Fraction(1,4)\n",
    "f2 = Fraction(1,2)\n",
    "print(f1+f2)"
   ]
  },
  {
   "attachments": {},
   "cell_type": "markdown",
   "metadata": {},
   "source": [
    "Step 5: **Override** `eq`uality, so that if we have two equal fractions (such as 1/2 and 2/4, we will return `True` when using boolean logic for equality)"
   ]
  },
  {
   "cell_type": "code",
   "execution_count": 44,
   "metadata": {},
   "outputs": [
    {
     "name": "stdout",
     "output_type": "stream",
     "text": [
      "True\n"
     ]
    }
   ],
   "source": [
    "class Fraction:\n",
    "    def __init__(self, top, bottom):\n",
    "        self.num = top\n",
    "        self.den = bottom\n",
    "    def __str__(self):\n",
    "        return str(self.num)+'/'+str(self.den)\n",
    "    def __add__(self,otherfraction):\n",
    "        newnum = self.num*otherfraction.den + self.den *otherfraction.num\n",
    "        newden = self.den * otherfraction.den\n",
    "        common = get_comm_denom(newnum,newden)\n",
    "\n",
    "        return Fraction (newnum//common,newden//common)\n",
    "    def __eq__(self,other):\n",
    "        firstnum = self.num * other.den\n",
    "        secondnum = other.num * self.den\n",
    "        return firstnum == secondnum\n",
    "        \n",
    "def get_comm_denom(m,n):\n",
    "    while m%n != 0:\n",
    "        oldm = m\n",
    "        oldn = n\n",
    "\n",
    "        m = oldn\n",
    "        n = oldm%oldn\n",
    "    return n\n",
    "\n",
    "f1 = Fraction(2,4)\n",
    "f2 = Fraction(1,2)\n",
    "print(f1==f2)"
   ]
  },
  {
   "attachments": {},
   "cell_type": "markdown",
   "metadata": {},
   "source": [
    "### Modules"
   ]
  },
  {
   "attachments": {},
   "cell_type": "markdown",
   "metadata": {},
   "source": [
    "**Modules** are files containing Python definitions and statements (*example.py*)\n",
    "\n",
    "These definitions can be `import`ed.\n",
    "\n",
    "**Notation:** `import example`"
   ]
  },
  {
   "attachments": {},
   "cell_type": "markdown",
   "metadata": {},
   "source": [
    "When you `import` a **module**, a **global variable** is created to reference the **module**. You can specify the name with the `import... as...` formula.\n",
    "\n",
    "By default, this would be the module's name, but can be manually set as well. If you already had a **global variable** with that name, that variable will be *overriden*!\n",
    "\n",
    "**Notation:** `import example as ex`"
   ]
  },
  {
   "attachments": {},
   "cell_type": "markdown",
   "metadata": {},
   "source": [
    "You use this **global variable** to call the functions, classes, and other objects from the **module** similarly to calling from classes.\n",
    "\n",
    "**Notation**: `example.function()`"
   ]
  },
  {
   "attachments": {},
   "cell_type": "markdown",
   "metadata": {},
   "source": [
    "Unless you specify, *everything* in the **module** gets imported. \n",
    "\n",
    "You can import specific things by specifying with `from... import...`\n",
    "\n",
    "This will allow you to use those **objects** *without* having to use the **module prefix**. Rather, it will make **global variable(s)** of the objects in the module. It will *override* any variable that already exists with that name! \n",
    "\n",
    "**Notation:** `from example import ClassA, ClassB, ClassC`"
   ]
  },
  {
   "attachments": {},
   "cell_type": "markdown",
   "metadata": {},
   "source": [
    "You can also **assign specific names** to the **objects** you import, adding the `import... as...` formula to the `from... import...` formula.\n",
    "\n",
    "**Notation:** `from example import ClassA as Alice, ClassB as Baker, ClassC as Charlie`"
   ]
  },
  {
   "attachments": {},
   "cell_type": "markdown",
   "metadata": {},
   "source": [
    "##### Python Standard Libaries"
   ]
  },
  {
   "attachments": {},
   "cell_type": "markdown",
   "metadata": {},
   "source": [
    "There are modules that are provided with Python as they are considered **standard libraries**. They do not have to be downloaded/installed separately prior to use.\n",
    "\n",
    "https://docs.python.org/3/library"
   ]
  },
  {
   "attachments": {},
   "cell_type": "markdown",
   "metadata": {},
   "source": [
    "`MATH` contains many mathematical functions."
   ]
  },
  {
   "cell_type": "code",
   "execution_count": 82,
   "metadata": {},
   "outputs": [
    {
     "name": "stdout",
     "output_type": "stream",
     "text": [
      "3.141592653589793\n",
      "-1.0\n",
      "['__doc__', '__loader__', '__name__', '__package__', '__spec__', 'acos', 'acosh', 'asin', 'asinh', 'atan', 'atan2', 'atanh', 'ceil', 'comb', 'copysign', 'cos', 'cosh', 'degrees', 'dist', 'e', 'erf', 'erfc', 'exp', 'expm1', 'fabs', 'factorial', 'floor', 'fmod', 'frexp', 'fsum', 'gamma', 'gcd', 'hypot', 'inf', 'isclose', 'isfinite', 'isinf', 'isnan', 'isqrt', 'lcm', 'ldexp', 'lgamma', 'log', 'log10', 'log1p', 'log2', 'modf', 'nan', 'nextafter', 'perm', 'pi', 'pow', 'prod', 'radians', 'remainder', 'sin', 'sinh', 'sqrt', 'tan', 'tanh', 'tau', 'trunc', 'ulp']\n"
     ]
    }
   ],
   "source": [
    "import math\n",
    "print(math.pi)\n",
    "print(math.cos(math.pi))\n",
    "print(dir(math))"
   ]
  },
  {
   "attachments": {},
   "cell_type": "markdown",
   "metadata": {},
   "source": [
    "`OS` interfaces between Python and the Operating System of the computer. This is useful for **handling files**, checking for system features, getting root or adminstrative permission, and more."
   ]
  },
  {
   "attachments": {},
   "cell_type": "markdown",
   "metadata": {},
   "source": [
    "**Examples of `os` LINUX functions**\n",
    "\n",
    "| OS Function                | Description                                                                     |\n",
    "|----------------------------|---------------------------------------------------------------------------------|\n",
    "| os.getcwd()                | gets current working directory                                                  |\n",
    "| os.listdir(directory)      | gets children of the directory                                                  |\n",
    "| os.chdir(path)             | change current working directory to path                                        |\n",
    "| os.mkdir(path)             | make a directory called path                                                    |\n",
    "| os.remove(path)            | remove file (NOT DIRECTORY) called path                                         |\n",
    "| os.rmdir(path)             | remove directory (NOT FILE) called path                                         |\n",
    "| os.rename(oldpath,newpath) | rename (or move) oldpath to newpath                                             |\n",
    "| os.path.isfile(path)       | Boolean function indicating if a particular pathname refers to a real file      |\n",
    "| os.path.isdir(path)        | Boolean function indicating if a particular pathname refers to a real directory |\n",
    "| os.system(command)         | execute a terminal command as indicated by the string command                   |"
   ]
  },
  {
   "attachments": {},
   "cell_type": "markdown",
   "metadata": {},
   "source": [
    "### `Str`ing Methods"
   ]
  },
  {
   "attachments": {},
   "cell_type": "markdown",
   "metadata": {},
   "source": [
    "Many methods built into the `str`ing class perform useful formatting operations."
   ]
  },
  {
   "cell_type": "code",
   "execution_count": 87,
   "metadata": {},
   "outputs": [
    {
     "name": "stdout",
     "output_type": "stream",
     "text": [
      "HELLO\n",
      "            this is an example of a longer text \n",
      "it has blank space at the beginning and a newline on the end \n",
      "\n",
      "this is an example of a longer text \n",
      "it has blank space at the beginning and a newline on the end\n",
      "End\n"
     ]
    }
   ],
   "source": [
    "text = \"hello\"\n",
    "print(text.upper())\n",
    "text2 =\"            this is an example of a longer text \\nit has blank space at the beginning and a newline on the end \\n\"\n",
    "\n",
    "print(text2)\n",
    "print(text2.strip())\n",
    "print(\"End\")"
   ]
  },
  {
   "attachments": {},
   "cell_type": "markdown",
   "metadata": {},
   "source": [
    "**Some String Methods**\\\n",
    "See official documentation for more detail.\n",
    "\n",
    "| Usage      | string.method(arguments)             |\n",
    "|------------|--------------------------------------|\n",
    "| Formatting | rjust(), ljust(), center(), format() |\n",
    "| Stripping  | strip(), lstrip(), rstrip()          |\n",
    "| Join/Split | join(), split(), splitlines()        |\n",
    "| Find/Count | find(), rfind(), count()             |"
   ]
  },
  {
   "attachments": {},
   "cell_type": "markdown",
   "metadata": {},
   "source": [
    "You can use `str`ing methods on any `str`ing, including `str`ings, a **function** that returns a `str`ing, or a **variable** that refers to a `str`ing.\n",
    "\n",
    "Most (but not all) `str`ing methods return a new `str`ing."
   ]
  },
  {
   "attachments": {},
   "cell_type": "markdown",
   "metadata": {},
   "source": [
    "### File I/O"
   ]
  },
  {
   "attachments": {},
   "cell_type": "markdown",
   "metadata": {},
   "source": [
    "#### `open`"
   ]
  },
  {
   "attachments": {},
   "cell_type": "markdown",
   "metadata": {},
   "source": [
    "`open` prepares a file for operations. It links the variable to the physical file (references to the file variable reference the physical file). The **file pointer** is positioned at the start of the file.\n",
    "\n",
    "**Notation** `file_variable = open(file_name,mode)`"
   ]
  },
  {
   "attachments": {},
   "cell_type": "markdown",
   "metadata": {},
   "source": [
    "**It is important** to remember to use the `file.close()` method to close a file if you simply use `open()`. Otherwise, you are at risk of having your data lost, corrupted, or other issues because you no longer have any control over when it \"saves\".\n",
    "\n",
    "This can be avoided by using a `with` statement. This `with` statement will invoke Python's \"context manager\" on the variable assigned to the file. This automatically closes it after the `with` block escapes.\n",
    "\n",
    "**Notation:** `with open('file.txt') as file_variable:`"
   ]
  },
  {
   "attachments": {},
   "cell_type": "markdown",
   "metadata": {},
   "source": [
    "| Mode | Description                                                                              |\n",
    "|------|------------------------------------------------------------------------------------------|\n",
    "| 'r'  | Open for reading only (default)                                                          |\n",
    "| 'w'  | Open for writing, truncating the file first                                              |\n",
    "| 'x'  | Create a new file, and open for writing                                                  |\n",
    "| 'c'  | Open for reading or writing; if the file does not exist, create it                       |\n",
    "| 'n'  | Create a new file for reading or writing; if a file exists, overwrite it                 |\n",
    "| 'a'  | Open the file for appending (reading and writing); if the file does not exist, create it |\n",
    "| 'b'  | Binary mode                                                                              |\n",
    "| 't'  | Text mode (default)                                                                      |\n",
    "| '+'  | Open a disk file for updating (reading and writing)                                      |"
   ]
  },
  {
   "attachments": {},
   "cell_type": "markdown",
   "metadata": {},
   "source": [
    "#### `write()`"
   ]
  },
  {
   "attachments": {},
   "cell_type": "markdown",
   "metadata": {},
   "source": [
    "You can write a file using the `write` command, as long as the file was **opened in a way that permits writing**."
   ]
  },
  {
   "cell_type": "code",
   "execution_count": 102,
   "metadata": {},
   "outputs": [],
   "source": [
    "with open(\"example.txt\",'w') as file:\n",
    "    file.write(\"This is a new text file for an example.\\nIt is very long and has several newlines.\\nThis is to allow visualization of each new line.\\nAnd demonstrate how reading methods differ.\\n\")"
   ]
  },
  {
   "attachments": {},
   "cell_type": "markdown",
   "metadata": {},
   "source": [
    "You can use this to **copy** or **selectively copy** pieces of one file into another file!"
   ]
  },
  {
   "cell_type": "code",
   "execution_count": 104,
   "metadata": {},
   "outputs": [],
   "source": [
    "with open(\"example.txt\") as input_file:\n",
    "    with open(\"out.txt\",\"w\") as output_file:\n",
    "        for line in input_file:\n",
    "            output_file.write(line)"
   ]
  },
  {
   "attachments": {},
   "cell_type": "markdown",
   "metadata": {},
   "source": [
    "#### `readline()` and `readlines()`"
   ]
  },
  {
   "attachments": {},
   "cell_type": "markdown",
   "metadata": {},
   "source": [
    "The `readline()` method reads one line at a time.\n",
    "\n",
    "**Notation:** `file.readline()`"
   ]
  },
  {
   "cell_type": "code",
   "execution_count": 105,
   "metadata": {},
   "outputs": [
    {
     "name": "stdout",
     "output_type": "stream",
     "text": [
      "Using readline x 3\n",
      "This is a new text file for an example.\n",
      "\n",
      "It is very long and has several newlines.\n",
      "\n",
      "This is to allow visualization of each new line.\n",
      "\n",
      "Using loop to read text\n",
      "This is a new text file for an example.\n",
      "\n",
      "It is very long and has several newlines.\n",
      "\n",
      "This is to allow visualization of each new line.\n",
      "\n",
      "And demonstrate how reading methods differ.\n",
      "\n"
     ]
    }
   ],
   "source": [
    "with open(\"example.txt\",\"r\") as file:\n",
    "    print(\"Using readline x 3\")\n",
    "    print(file.readline())\n",
    "    print(file.readline())\n",
    "    print(file.readline())\n",
    "\n",
    "\n",
    "with open(\"example.txt\",\"r\") as file:\n",
    "    print(\"Using loop to read text\")\n",
    "    for line in file:\n",
    "        print(line)\n"
   ]
  },
  {
   "attachments": {},
   "cell_type": "markdown",
   "metadata": {},
   "source": [
    "While the `readlines()` method reads **all** lines at once, and return a `list` of all lines.\n",
    "\n",
    "**Notation:** `file.readlines()`"
   ]
  },
  {
   "cell_type": "code",
   "execution_count": 106,
   "metadata": {},
   "outputs": [
    {
     "name": "stdout",
     "output_type": "stream",
     "text": [
      "Readline x 2\n",
      "This is a new text file for an example.\n",
      "\n",
      "It is very long and has several newlines.\n",
      "\n",
      "Readlines x 1 without closing\n",
      "['This is to allow visualization of each new line.\\n', 'And demonstrate how reading methods differ.\\n']\n",
      "Readlines x1 after closing and reopening\n",
      "['This is a new text file for an example.\\n', 'It is very long and has several newlines.\\n', 'This is to allow visualization of each new line.\\n', 'And demonstrate how reading methods differ.\\n']\n"
     ]
    }
   ],
   "source": [
    "with open(\"example.txt\",\"r\") as file:\n",
    "    print(\"Readline x 2\")\n",
    "    print(file.readline())\n",
    "    print(file.readline())\n",
    "    print(\"Readlines x 1 without closing\")\n",
    "    print(file.readlines())\n",
    "\n",
    "with open(\"out.txt\",\"r\") as file2:\n",
    "    print(\"Readlines x1 after closing and reopening\")\n",
    "    print(file2.readlines())"
   ]
  },
  {
   "attachments": {},
   "cell_type": "markdown",
   "metadata": {},
   "source": [
    "#### Reading and Writing CSV Files"
   ]
  },
  {
   "attachments": {},
   "cell_type": "markdown",
   "metadata": {},
   "source": [
    "**CSV** (Comma Separated Value) files are like spreadsheets. In fact, many *Excel* files can be exported as **CSV**.\n",
    "\n",
    "Python has a `csv` module that has functions and methods for easily reading and writing CSV files."
   ]
  },
  {
   "cell_type": "code",
   "execution_count": 108,
   "metadata": {},
   "outputs": [
    {
     "name": "stdout",
     "output_type": "stream",
     "text": [
      "Egg\tBacon\tEgg\tBacon\tScrambled,Egg\t\n",
      "Cheese\tNo Cheese\tCheese\t Cheese\t Sausages\n"
     ]
    }
   ],
   "source": [
    "with open(\"eggs.csv\",\"w\") as csv_file:\n",
    "    csv_file.write('Egg,Bacon,Egg,Bacon,\"Scrambled,Egg\",\\nCheese,No Cheese,Cheese, Cheese, Sausages')\n",
    "\n",
    "import csv\n",
    "\n",
    "with open(\"eggs.csv\") as file:\n",
    "    spamreader = csv.reader(file)\n",
    "    for row in spamreader:\n",
    "        print('\\t'.join(row))"
   ]
  },
  {
   "attachments": {},
   "cell_type": "markdown",
   "metadata": {},
   "source": [
    "In fact, you can use **any delimiter**, not just commas!"
   ]
  },
  {
   "cell_type": "code",
   "execution_count": 109,
   "metadata": {},
   "outputs": [
    {
     "name": "stdout",
     "output_type": "stream",
     "text": [
      "Spam\tSpam\tSpam\tSpam\tSpam\tBaked Beans Spam\tLovely Spam\tWonderful Spam\n"
     ]
    }
   ],
   "source": [
    "with open(\"spam.csv\",\"w\") as csv_file:\n",
    "    csv_file.write('Spam Spam Spam Spam Spam |Baked Beans Spam| |Lovely Spam| |Wonderful Spam|')\n",
    "\n",
    "import csv\n",
    "\n",
    "with open(\"spam.csv\") as file:\n",
    "    spamreader = csv.reader(file, delimiter = \" \",quotechar=\"|\")\n",
    "    for row in spamreader:\n",
    "        print('\\t'.join(row))"
   ]
  }
 ],
 "metadata": {
  "kernelspec": {
   "display_name": "Python 3",
   "language": "python",
   "name": "python3"
  },
  "language_info": {
   "codemirror_mode": {
    "name": "ipython",
    "version": 3
   },
   "file_extension": ".py",
   "mimetype": "text/x-python",
   "name": "python",
   "nbconvert_exporter": "python",
   "pygments_lexer": "ipython3",
   "version": "3.10.10"
  },
  "orig_nbformat": 4,
  "vscode": {
   "interpreter": {
    "hash": "481f7de895a69a02f86a3fa2c9481f723cb5a5076304da5de9626f36d7218f15"
   }
  }
 },
 "nbformat": 4,
 "nbformat_minor": 2
}
