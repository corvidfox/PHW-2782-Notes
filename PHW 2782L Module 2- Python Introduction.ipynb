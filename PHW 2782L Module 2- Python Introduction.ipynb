{
 "cells": [
  {
   "attachments": {},
   "cell_type": "markdown",
   "metadata": {},
   "source": [
    "# Module 2: Python"
   ]
  },
  {
   "attachments": {},
   "cell_type": "markdown",
   "metadata": {},
   "source": [
    "## Module 2.1: Python I"
   ]
  },
  {
   "attachments": {},
   "cell_type": "markdown",
   "metadata": {},
   "source": [
    "### What is Programming?"
   ]
  },
  {
   "attachments": {},
   "cell_type": "markdown",
   "metadata": {},
   "source": [
    "#### Definitions:"
   ]
  },
  {
   "attachments": {},
   "cell_type": "markdown",
   "metadata": {},
   "source": [
    "A `program` is a sequence of instructions that specifies how to perform a computation.\n",
    "\n",
    "An `algorithm` is a step-by-step list of instructions that, if followed exactly, will solve the problem under consideration.\n",
    "\n",
    "A `programming language` is a formal language that specifies a set of instructions that can be used to produce various kinds of output - how to speak to the computer and give it directions.\n",
    "\n",
    "A `statement` is a unit of execution, often represented by one line of code. Statements are executed one by one.\n",
    "\n",
    "A `control flow` indicates how statements are executed, such as conditional statements, loops, and functions."
   ]
  },
  {
   "attachments": {},
   "cell_type": "markdown",
   "metadata": {},
   "source": [
    "#### Why Python?"
   ]
  },
  {
   "attachments": {},
   "cell_type": "markdown",
   "metadata": {},
   "source": [
    "##### Advantages/Strengths"
   ]
  },
  {
   "attachments": {},
   "cell_type": "markdown",
   "metadata": {},
   "source": [
    "While python is **easy to learn**, it is also very **powerful**.\n",
    "\n",
    "It has a **efficient, `high-level data structure`** and a **simple but effective** approach to `object oriented programming`.\n",
    "\n",
    "It is being used for rapid application development in many areas on most platforms:\n",
    "- most areas of programming, including web development, system administration (scripting), and network programming\n",
    "- particularly used for introductory programming courses, data analysis, bioinformatics, and machine learning"
   ]
  },
  {
   "attachments": {},
   "cell_type": "markdown",
   "metadata": {},
   "source": [
    "##### Disadvantages/Limitations"
   ]
  },
  {
   "attachments": {},
   "cell_type": "markdown",
   "metadata": {},
   "source": [
    "`Dynamic typing` can be powerful, but problematic.\n",
    "\n",
    "`Whitespace` defines blocks, not brackets\n",
    "\n",
    "**Version issues** mean Python 3 is not compatible with Python 2\n",
    "- we will use Python 3 in the class"
   ]
  },
  {
   "attachments": {},
   "cell_type": "markdown",
   "metadata": {},
   "source": [
    "|          | Python 2                | Python 3               |\n",
    "|----------|-------------------------|------------------------|\n",
    "| print    | >>>print 'abc' abc      | print ('abc') abc      |\n",
    "| division | >>> 3/2 1 >>> 3/2.0 1.5 | >>> 3/2 1.5 >>> 3//2 1 |\n",
    "| string   | Latin characters        | Unicode characters     |"
   ]
  },
  {
   "attachments": {},
   "cell_type": "markdown",
   "metadata": {},
   "source": [
    "### Basic I/O, Variables, Types"
   ]
  },
  {
   "attachments": {},
   "cell_type": "markdown",
   "metadata": {},
   "source": [
    "`Standard input` and output, also known as `standard streams`, are preconnected input and output when a program is executed.\n",
    "\n",
    "Input: keyboard input; output: console display"
   ]
  },
  {
   "attachments": {},
   "cell_type": "markdown",
   "metadata": {},
   "source": [
    "#### Basic Functions"
   ]
  },
  {
   "attachments": {},
   "cell_type": "markdown",
   "metadata": {},
   "source": [
    "##### `print()`"
   ]
  },
  {
   "attachments": {},
   "cell_type": "markdown",
   "metadata": {},
   "source": [
    "`print()` generates a standard output from the passed argument that prints to the console"
   ]
  },
  {
   "cell_type": "code",
   "execution_count": 152,
   "metadata": {},
   "outputs": [
    {
     "name": "stdout",
     "output_type": "stream",
     "text": [
      "Hello, World!\n"
     ]
    }
   ],
   "source": [
    "print(\"Hello, World!\")"
   ]
  },
  {
   "attachments": {},
   "cell_type": "markdown",
   "metadata": {},
   "source": [
    "##### `input()`"
   ]
  },
  {
   "attachments": {},
   "cell_type": "markdown",
   "metadata": {},
   "source": [
    "`input` prints its argument to the console and waits for user input.\n",
    "\n",
    "Returns the user input as a **string**."
   ]
  },
  {
   "cell_type": "code",
   "execution_count": 153,
   "metadata": {},
   "outputs": [],
   "source": [
    "#print(input(\"What do you want to say?\"))"
   ]
  },
  {
   "attachments": {},
   "cell_type": "markdown",
   "metadata": {},
   "source": [
    "#### `range()`"
   ]
  },
  {
   "attachments": {},
   "cell_type": "markdown",
   "metadata": {},
   "source": [
    "`range()` takes up to three arguments: start, stop, step. All must be integers. It returns a range object which contains a list of numbers.\n",
    "\n",
    "**start**: the first number in the list (default is 0)\\\n",
    "**stop**: the \"up to but not including\" number in the list\\\n",
    "**step**: the interval or \"step\" between the numbers in the list, must be positive (default is 1)"
   ]
  },
  {
   "cell_type": "code",
   "execution_count": 154,
   "metadata": {},
   "outputs": [
    {
     "name": "stdout",
     "output_type": "stream",
     "text": [
      "range(0, 5)\n",
      "[0, 1, 2, 3, 4]\n",
      "range(0, 4)\n",
      "[0, 1, 2, 3]\n",
      "range(-10, 9, 2)\n",
      "[-10, -8, -6, -4, -2, 0, 2, 4, 6, 8]\n",
      "range(-10, 10, -2)\n",
      "[]\n"
     ]
    }
   ],
   "source": [
    "print(range(0,5))\n",
    "print([i for i in range(0,5)])\n",
    "print(range(4))\n",
    "print([i for i in range(4)])\n",
    "\n",
    "print(range(-10,9,2))\n",
    "print([i for i in range(-10,9,2)])\n",
    "print(range(-10,10,-2))\n",
    "print([i for i in range(-10,10,-2)])"
   ]
  },
  {
   "attachments": {},
   "cell_type": "markdown",
   "metadata": {},
   "source": [
    "#### Variables"
   ]
  },
  {
   "attachments": {},
   "cell_type": "markdown",
   "metadata": {},
   "source": [
    "A `variable` can store a `value` by assignment.\n",
    "\n",
    "Python reads from left to right.\n",
    "\n",
    "You can store many types of values in a variable.\n",
    "\n",
    "Values can be reassigned, and are not bound to a data type."
   ]
  },
  {
   "attachments": {},
   "cell_type": "markdown",
   "metadata": {},
   "source": [
    "##### Examples"
   ]
  },
  {
   "attachments": {},
   "cell_type": "markdown",
   "metadata": {},
   "source": [
    "- `text = \"This is text\"`\n",
    "    - stores \"This is text\" within the variable `text`\n",
    "- `x = 12`\n",
    "    - stores `12` in the variable `x`\n",
    "- `x = 5`\n",
    "    - stores `5` in the variable `x` - even if we had previously assigned `x = 12`, we are now overwriting it, so now `x =! 12`\n",
    "- `x = 'cheese'`\n",
    "    -stores 'cheese' in the variable `x` - even if we previously had assigned `x=5`, we are overwriting it now"
   ]
  },
  {
   "cell_type": "code",
   "execution_count": 155,
   "metadata": {},
   "outputs": [
    {
     "name": "stdout",
     "output_type": "stream",
     "text": [
      "this is text\n",
      "12\n",
      "5\n",
      "cheese\n"
     ]
    }
   ],
   "source": [
    "text = \"this is text\"\n",
    "print(text)\n",
    "x = 12\n",
    "print (x)\n",
    "x = 5\n",
    "print(x)\n",
    "x = \"cheese\"\n",
    "print(x)"
   ]
  },
  {
   "attachments": {},
   "cell_type": "markdown",
   "metadata": {},
   "source": [
    "##### Variable Names:"
   ]
  },
  {
   "attachments": {},
   "cell_type": "markdown",
   "metadata": {},
   "source": [
    "- can be arbitrarily long\n",
    "- may contain both letters and digits\n",
    "    - **MUST** always start with a letter\n",
    "- **Case-sensitive**\n",
    "- Can contain underscores (_)\n",
    "- **CANNOT** contain spaces or special characters\n",
    "- **CANNOT** be a `keyword`\n",
    "    - and, as, assert, break, class, continue, def, del, elif, else, except, exec, finally, for, from, global, if, import, in, is, lambda, nonlocal, not, or, pass, raise, return, try, while, with, yield, True, False, None"
   ]
  },
  {
   "attachments": {},
   "cell_type": "markdown",
   "metadata": {},
   "source": [
    "Notes from PEP 8.0:\n",
    "- most variables should be in snake_case, where words are lower-case and separated with underscores\n",
    "- *DO NOT* use l, O, I as single-character variable names because they may be indistinguishable from numerals\n",
    "- mixedCase or CamelCase is only used where it is already the prevailing style to retain backwards compatibility\n",
    "- Constants are in ALL_CAPS with underscores between words\n",
    "- TypeVariables are in CamelCase, preferrably with short names and abbreviations, with _co or _contra suffixes to declare covariant or contravariant behavior repectively\n",
    "- Classes should be in CamelCase, preferrably with short names as possible"
   ]
  },
  {
   "attachments": {},
   "cell_type": "markdown",
   "metadata": {},
   "source": [
    "#### Data Types"
   ]
  },
  {
   "attachments": {},
   "cell_type": "markdown",
   "metadata": {},
   "source": [
    "**Data types** describe the form in which we store or use data."
   ]
  },
  {
   "attachments": {},
   "cell_type": "markdown",
   "metadata": {},
   "source": [
    "| Data Type                       | Example | Python  |\n",
    "|---------------------------------|---------|---------|\n",
    "| Integer                         | 1       | int     |\n",
    "| Float*                           | 1.00    | float   |\n",
    "| Complex Numbers**                | 1+2j    | complex |\n",
    "| Strings                         | \"Hello\" | str     |\n",
    "| Boolean Values                  | True    | bool    |\n",
    "| User-Defined Types (or classes) |         |         |\n",
    "\n",
    "\n",
    "*While real numbers may be infinitely complex, there is only a limited (though vast) complexity that can be represented in the computer system - this limitation causes these real numbers to be truncated to `floats`.\n",
    "\n",
    "**Complex numbers contain both real and imaginary components. By default, Python stores both components as floats\n"
   ]
  },
  {
   "attachments": {},
   "cell_type": "markdown",
   "metadata": {},
   "source": [
    "##### Strings"
   ]
  },
  {
   "attachments": {},
   "cell_type": "markdown",
   "metadata": {},
   "source": [
    "Strings can be encased in:\n",
    "- single quotes `'`\n",
    "- double quotes `\"`\n",
    "- triples of single quotes `'''`\n",
    "- triples of double quotes `\"\"\"`\n",
    "\n",
    "A single-quoted string may contain double-quotes inside, and vice versa.\n",
    "\n",
    "A triple-quoted string can **span multiple lines**"
   ]
  },
  {
   "attachments": {},
   "cell_type": "markdown",
   "metadata": {},
   "source": [
    "##### Converting Data Types"
   ]
  },
  {
   "attachments": {},
   "cell_type": "markdown",
   "metadata": {},
   "source": [
    "- `int()` converts into an **integer**\n",
    "    - **rounding** does not always follow an 'intuitive' pathway!\n",
    "- `float()` converts into a **float**\n",
    "- `str()` converts into a **string**"
   ]
  },
  {
   "cell_type": "code",
   "execution_count": 156,
   "metadata": {},
   "outputs": [
    {
     "name": "stdout",
     "output_type": "stream",
     "text": [
      "3\n",
      "-3\n",
      "12\n",
      "3.9999\n",
      "-3.9999\n",
      "12.0\n",
      "3.9999\n",
      "-3.9999\n",
      "12\n"
     ]
    }
   ],
   "source": [
    "x = 3.9999\n",
    "y = -3.9999\n",
    "z = \"12\"\n",
    "\n",
    "print(int(x))\n",
    "print(int(y))\n",
    "print(int(z))\n",
    "\n",
    "print(float(x))\n",
    "print(float(y))\n",
    "print(float(z))\n",
    "\n",
    "print(str(x))\n",
    "print(str(y))\n",
    "print(str(z))"
   ]
  },
  {
   "attachments": {},
   "cell_type": "markdown",
   "metadata": {},
   "source": [
    "### Control Flows"
   ]
  },
  {
   "attachments": {},
   "cell_type": "markdown",
   "metadata": {},
   "source": [
    "##### Whitespace"
   ]
  },
  {
   "attachments": {},
   "cell_type": "markdown",
   "metadata": {},
   "source": [
    "`Whitespace` is **very meaningful** in Python, **especially indendation and newlines**.\n",
    "\n",
    "- `\\` indicates a newline, which says to go to the next line\n",
    "- `Consistent indentation` is used rather than braces or any other kind of bracket, resulting in visually nested code\n",
    "- A **colon** (`:`) defines the start of a new block in many constructs"
   ]
  },
  {
   "attachments": {},
   "cell_type": "markdown",
   "metadata": {},
   "source": [
    "#### Conditionals and Booleans"
   ]
  },
  {
   "attachments": {},
   "cell_type": "markdown",
   "metadata": {},
   "source": [
    "`Conditionals` and `booleans` act as basic **logic gates** dictating `control flow` in Python.\n",
    "\n",
    "A `boolean` either evaluates to `TRUE` or `FALSE`\n",
    "\n",
    "A common `conditional` is an `if statement`"
   ]
  },
  {
   "attachments": {},
   "cell_type": "markdown",
   "metadata": {},
   "source": [
    "##### Booleans"
   ]
  },
  {
   "attachments": {},
   "cell_type": "markdown",
   "metadata": {},
   "source": [
    "A `boolean` is a simple evaluation if a statement is true or not, as a result, it only returns `TRUE` or `FALSE`.\n",
    "\n",
    "Things that are always `FALSE`:\n",
    "- a boolean value of `FALSE`\n",
    "- numbers 0 (int), 0.0 (float), and 0j (complex)\n",
    "- an empty string (\"\")\n",
    "- an empty list []\n",
    "- an empty dictionary {}\n",
    "- an empty set ()\n",
    "\n",
    "Things that are always `TRUE`:\n",
    "- a boolean value of `TRUE`\n",
    "- all non-zero numbers\n",
    "- any string containing at least one character\n",
    "- a non-empty data structure"
   ]
  },
  {
   "cell_type": "code",
   "execution_count": 157,
   "metadata": {},
   "outputs": [
    {
     "name": "stdout",
     "output_type": "stream",
     "text": [
      "True\n",
      "False\n",
      "False\n",
      "True\n",
      "False\n",
      "False\n"
     ]
    }
   ],
   "source": [
    "x=12\n",
    "y=3\n",
    "z=0\n",
    "test=\"\"\n",
    "\n",
    "print(bool(x==12))\n",
    "print(bool(x==y))\n",
    "print(bool(x<y))\n",
    "\n",
    "print(bool(x))\n",
    "print(bool(z))\n",
    "print(bool(test))\n"
   ]
  },
  {
   "attachments": {},
   "cell_type": "markdown",
   "metadata": {},
   "source": [
    "You can also combine boolean expressions, so long as parentheses are used to disambiguate the expression.\n",
    "\n",
    "| True if...                 | A     | B     | Combined    |\n",
    "|----------------------------|-------|-------|-------------|\n",
    "| if A is True and B is True | True  | True  | (A) and (B) |\n",
    "| if A is True or B is True  | True  | False | (A) or (B)  |\n",
    "|                            | False | True  |             |\n",
    "|                            | True  | True  |             |\n",
    "| if a is False              | False | -     | not (A)     |"
   ]
  },
  {
   "attachments": {},
   "cell_type": "markdown",
   "metadata": {},
   "source": [
    "A `range test` measures if a value is within a set range, and returns `True` or `False`"
   ]
  },
  {
   "cell_type": "code",
   "execution_count": 158,
   "metadata": {},
   "outputs": [
    {
     "name": "stdout",
     "output_type": "stream",
     "text": [
      "Office Hour\n",
      "NO\n"
     ]
    }
   ],
   "source": [
    "Time = 4\n",
    "if (3 <= Time <= 5):\n",
    "    print (\"Office Hour\")\n",
    "else:\n",
    "    print(\"NO\")\n",
    "    \n",
    "Time = 2\n",
    "if (3 <= Time <= 5):\n",
    "    print (\"Office Hour\")\n",
    "else:\n",
    "    print (\"NO\")"
   ]
  },
  {
   "attachments": {},
   "cell_type": "markdown",
   "metadata": {},
   "source": [
    "##### `if` Statements"
   ]
  },
  {
   "attachments": {},
   "cell_type": "markdown",
   "metadata": {},
   "source": [
    "Use the basic conditional **logic gates** to determine which statements are reached by the program.\n",
    "\n",
    "Each `if` statement is actually a `boolean`."
   ]
  },
  {
   "cell_type": "code",
   "execution_count": 159,
   "metadata": {},
   "outputs": [
    {
     "name": "stdout",
     "output_type": "stream",
     "text": [
      "X equals something else\n",
      "This is outside the if statement\n"
     ]
    }
   ],
   "source": [
    "x = 1\n",
    "\n",
    "if x == 3:\n",
    "    print (\"X equals 3.\")\n",
    "elif x == 2:\n",
    "    print(\"X equals 2.\")\n",
    "else:\n",
    "        print( \"X equals something else\")\n",
    "print(\"This is outside the if statement\")"
   ]
  },
  {
   "attachments": {},
   "cell_type": "markdown",
   "metadata": {},
   "source": [
    "##### Operators"
   ]
  },
  {
   "attachments": {},
   "cell_type": "markdown",
   "metadata": {},
   "source": [
    "| Operator | Corresponds to           | Example | Evaluation |\n",
    "|----------|--------------------------|---------|------------|\n",
    "| +        | Addition                 | 1+1     | 2          |\n",
    "| -        | Subtraction              | 4-1     | 3          |\n",
    "| *        | Multiplication           | 2 * 3   | 6          |\n",
    "| /        | Division                 | 7/2     | 3.5        |\n",
    "| //       | Integer (Floor) Division | 7//2    | 3          |\n",
    "| %        | Remainder (Modulo)       | 9%2     | 1          |\n",
    "| **       | Exponent                 | 4 ** 3  | 64         |"
   ]
  },
  {
   "attachments": {},
   "cell_type": "markdown",
   "metadata": {},
   "source": [
    "Order of Operations:\n",
    "1. Parentheses\n",
    "2. Exponentiation\n",
    "3. Multiplcation and Division are equal (right to left)\n",
    "4. Addition and Subtraction are equal (right to left)\n",
    "5. Operators with the *same* precedence are evaluated from left-to-right\n",
    "\n",
    "Basically, PEMDAS from algebra"
   ]
  },
  {
   "attachments": {},
   "cell_type": "markdown",
   "metadata": {},
   "source": [
    "##### Comparison Operators"
   ]
  },
  {
   "attachments": {},
   "cell_type": "markdown",
   "metadata": {},
   "source": [
    "| Operator | Meaning                  | Example |\n",
    "|----------|--------------------------|---------|\n",
    "| ==       | equal to*                | 1 == 1  |\n",
    "| !=       | not equal to             | 2 != 3  |\n",
    "| <        | less than                | 2 < 3   |\n",
    "| >        | greater than             | 5 > 2   |\n",
    "| <=       | less than or equal to    | 2 <= 5  |\n",
    "| >=       | greater than or equal to | 5 >= 3  |\n",
    "\n",
    "*\"Equal to\" is in contrast to `is`. When two variables X and Y have the **same value** `X==Y` is `TRUE`. However, for `X is Y` to evaluate to `TRUE`, both X and Y must refer to the **identical same object**. "
   ]
  },
  {
   "attachments": {},
   "cell_type": "markdown",
   "metadata": {},
   "source": [
    "#### Loops"
   ]
  },
  {
   "attachments": {},
   "cell_type": "markdown",
   "metadata": {},
   "source": [
    "##### For Loop"
   ]
  },
  {
   "attachments": {},
   "cell_type": "markdown",
   "metadata": {},
   "source": [
    "Between `for` and `while` loops, a `for` loop is simpler.\n",
    "\n",
    "\n",
    "A `for` loop:\n",
    "- Repeats for each item in a given sequence\n",
    "- Typically used when we know exactly how many times we need something to repeat\n",
    "\n",
    "**Can often be coupled with the `range()` function**\n",
    "\n",
    "**Notation:** \\\n",
    "`for item in collection:`\\\n",
    "`.    statements/code`"
   ]
  },
  {
   "cell_type": "code",
   "execution_count": 160,
   "metadata": {},
   "outputs": [
    {
     "name": "stdout",
     "output_type": "stream",
     "text": [
      "t\n",
      "e\n",
      "s\n",
      "t\n",
      "i\n",
      "n\n",
      "g\n"
     ]
    }
   ],
   "source": [
    "string = \"testing\"\n",
    "\n",
    "for letter in string:\n",
    "    print(letter)"
   ]
  },
  {
   "attachments": {},
   "cell_type": "markdown",
   "metadata": {},
   "source": [
    "`for` loops can be quite powerful when combined with `range()` and `len()`, especially when you want the index of a sequence data structure."
   ]
  },
  {
   "cell_type": "code",
   "execution_count": 161,
   "metadata": {},
   "outputs": [
    {
     "name": "stdout",
     "output_type": "stream",
     "text": [
      "The original value at index 0 is 5\n",
      "The original value at index 1 is 23\n",
      "The original value at index 2 is 8\n",
      "The original value at index 3 is 10\n",
      "[5, 529, 512, 10000]\n"
     ]
    }
   ],
   "source": [
    "t=[5,23,8,10]\n",
    "for i in range(len(t)):\n",
    "    print(f\"The original value at index {i} is {t[i]}\")\n",
    "    t[i] = t[i]**(i+1)\n",
    "print(t)"
   ]
  },
  {
   "attachments": {},
   "cell_type": "markdown",
   "metadata": {},
   "source": [
    "##### While Loop"
   ]
  },
  {
   "attachments": {},
   "cell_type": "markdown",
   "metadata": {},
   "source": [
    "- Repeats while a given condition holds\n",
    "- Typically used when we do **not** know how many times we need something to repeat\n",
    "- Much more prone to accidentally making infinite loops"
   ]
  },
  {
   "cell_type": "code",
   "execution_count": 162,
   "metadata": {},
   "outputs": [
    {
     "name": "stdout",
     "output_type": "stream",
     "text": [
      "3 still in the loop\n",
      "4 still in the loop\n"
     ]
    }
   ],
   "source": [
    "x = 3\n",
    "while x < 5:\n",
    "    print (x, \"still in the loop\")\n",
    "    x=x+1"
   ]
  },
  {
   "attachments": {},
   "cell_type": "markdown",
   "metadata": {},
   "source": [
    "#### Loop Control Flows"
   ]
  },
  {
   "attachments": {},
   "cell_type": "markdown",
   "metadata": {},
   "source": [
    "`else`: used to specify an else-clause to be executed at the end of a loop"
   ]
  },
  {
   "attachments": {},
   "cell_type": "markdown",
   "metadata": {},
   "source": [
    "`break`: quits the inner-most loop, skipping any else-clause"
   ]
  },
  {
   "cell_type": "code",
   "execution_count": 163,
   "metadata": {},
   "outputs": [
    {
     "name": "stdout",
     "output_type": "stream",
     "text": [
      "2\n",
      "1\n",
      "0\n",
      "breaking the loop!\n"
     ]
    }
   ],
   "source": [
    "x=2\n",
    "while True:\n",
    "    #would generate an infinite loop without iteration\n",
    "    if x < 0:\n",
    "        print(\"breaking the loop!\")\n",
    "        break\n",
    "    else:\n",
    "        print(x)\n",
    "        x -= 1"
   ]
  },
  {
   "attachments": {},
   "cell_type": "markdown",
   "metadata": {},
   "source": [
    "`continue`: continues the next cycle of the loop\n",
    "\n",
    "Typically part of a `continue while`, which establishes a `while` condition...\n",
    "\n",
    "or a `continue for`, which assigns the next item in sequence to execute the dependent code block"
   ]
  },
  {
   "attachments": {},
   "cell_type": "markdown",
   "metadata": {},
   "source": [
    "`pass`: executes nothing, typically used as a placeholder"
   ]
  },
  {
   "cell_type": "code",
   "execution_count": 164,
   "metadata": {},
   "outputs": [
    {
     "name": "stdout",
     "output_type": "stream",
     "text": [
      "246 is not evenly divisible by 4\n",
      "246 is not evenly divisible by 5\n",
      "246 is not evenly divisible by 7\n",
      "246 is not evenly divisible by 8\n",
      "246 is not evenly divisible by 9\n"
     ]
    }
   ],
   "source": [
    "x = 246\n",
    "for i in range(1,10):\n",
    "    if x % i == 0:\n",
    "        pass\n",
    "    else:\n",
    "        print(f\"{x} is not evenly divisible by {i}\")"
   ]
  },
  {
   "attachments": {},
   "cell_type": "markdown",
   "metadata": {},
   "source": [
    "## Module 2.2: Python II"
   ]
  },
  {
   "attachments": {},
   "cell_type": "markdown",
   "metadata": {},
   "source": [
    "**Data Structures** are the methods by which we organize and store data. It typically involves more than one single point of data."
   ]
  },
  {
   "attachments": {},
   "cell_type": "markdown",
   "metadata": {},
   "source": [
    "### Sequence Data Structures"
   ]
  },
  {
   "attachments": {},
   "cell_type": "markdown",
   "metadata": {},
   "source": [
    "Sequence data structures store multiple objects in a particular order.\n",
    "\n",
    "Includes **mutable** structures like lists (`list`), and also **immutable** structures like tuples(`tuple`) and strings (`str`).\n",
    "\n",
    "**Mutable** structures allow you to change the contents, such as a single element, of the structure. **Immutable** structures require you to create a new structure to make any changes.\n",
    "\n",
    "They all:\n",
    "- represent *finite* ordered sets\n",
    "- support access by *index*\n",
    "- provide the ability to take a *slice* (subsequence)\n",
    "- share many *operations*, such as concatenation"
   ]
  },
  {
   "attachments": {},
   "cell_type": "markdown",
   "metadata": {},
   "source": [
    "##### Lists (`list`)"
   ]
  },
  {
   "attachments": {},
   "cell_type": "markdown",
   "metadata": {},
   "source": [
    "A **mutable** sequence of data, typically used to store a collection of *homogenous* items. but items in the sequence are **not restricted** to the same data type.\n",
    "\n",
    "**Notation**: `[]`\n",
    "\n",
    "**Elements**:\n",
    "- surrounded by square brackets and separated by commas\n",
    "- do not have to exist - a list can be empty\n",
    "- may be *any* Python **object or data type**, including other lists\n",
    "- do not have to be the same data type\n",
    "- are associated with a specific position in the sequence, such that an item can be located with its **index**"
   ]
  },
  {
   "cell_type": "code",
   "execution_count": 165,
   "metadata": {},
   "outputs": [
    {
     "name": "stdout",
     "output_type": "stream",
     "text": [
      "[1, 24, 76]\n",
      "['red', 98, ['cheese', 67], 'blue']\n",
      "[]\n"
     ]
    }
   ],
   "source": [
    "test_list_1 = [1,24,76]\n",
    "test_list_2 = [\"red\", 98, [\"cheese\", 67], \"blue\"]\n",
    "test_list_3 = []\n",
    "\n",
    "print(test_list_1)\n",
    "print(test_list_2)\n",
    "print(test_list_3)\n"
   ]
  },
  {
   "attachments": {},
   "cell_type": "markdown",
   "metadata": {},
   "source": [
    "Lists have a built in method called `.sort()`, which modifies the contents of the list by changing their order. \n",
    "\n",
    "It arranges strings alphabetically, and numbers from most-negative to most-positive."
   ]
  },
  {
   "cell_type": "code",
   "execution_count": 166,
   "metadata": {},
   "outputs": [
    {
     "name": "stdout",
     "output_type": "stream",
     "text": [
      "['Elizabeth', 'Anabelle', 'Mary-Anne', 'George', 'Kevin']\n",
      "[10, 8, -2, 7, 0, 8]\n",
      "['Anabelle', 'Elizabeth', 'George', 'Kevin', 'Mary-Anne']\n",
      "[-2, 0, 7, 8, 8, 10]\n"
     ]
    }
   ],
   "source": [
    "friends_list = [\"Elizabeth\", \"Anabelle\", \"Mary-Anne\", \"George\", \"Kevin\"]\n",
    "number_list = [10,8,-2,7,0,8]\n",
    "print(friends_list)\n",
    "print(number_list)\n",
    "\n",
    "friends_list.sort()\n",
    "number_list.sort()\n",
    "\n",
    "print(friends_list)\n",
    "print(number_list)\n",
    "\n",
    "\n",
    "number_list = [10,8,-2,7,0,8]\n",
    "friends_list = [\"Elizabeth\", \"Anabelle\", \"Mary-Anne\", \"George\", \"Kevin\"]"
   ]
  },
  {
   "attachments": {},
   "cell_type": "markdown",
   "metadata": {},
   "source": [
    "This typically only works in a **homogenous** collection, where all elements are of the same data type. Otherwise, you are likely to get an `AttributeError` as it cannot compare different data types with the logical `>` operator."
   ]
  },
  {
   "cell_type": "code",
   "execution_count": 167,
   "metadata": {},
   "outputs": [
    {
     "name": "stdout",
     "output_type": "stream",
     "text": [
      "'<' not supported between instances of 'int' and 'str'\n"
     ]
    }
   ],
   "source": [
    "mixed_list = [\"Elizabeth\", 0, -7, 2, \"Annabelle\", 2, \"Zander\"]\n",
    "\n",
    "try:\n",
    "    mixed_list.sort()\n",
    "    print(mixed_list)\n",
    "except Exception as e:\n",
    "    print(e)"
   ]
  },
  {
   "attachments": {},
   "cell_type": "markdown",
   "metadata": {},
   "source": [
    "##### Tuples (`tuple`)"
   ]
  },
  {
   "attachments": {},
   "cell_type": "markdown",
   "metadata": {},
   "source": [
    "An **immutable** sequence of data very similar to a list. They are typically used to a store homogenous items, but items in the tuple are **not** restricted to the same data type. \n",
    "\n",
    "**Notation**: `()`\n",
    "\n",
    "**Elements**:\n",
    "- surrounded by round brackets and separated by commas\n",
    "- do not have to exist - a tuple can be empty\n",
    "- may be *any* Python **object or data type**, including other lists\n",
    "- do not have to be the same data type\n",
    "- are associated with a specific position in the sequence, such that an item can be located with its **index**"
   ]
  },
  {
   "cell_type": "code",
   "execution_count": 168,
   "metadata": {},
   "outputs": [
    {
     "name": "stdout",
     "output_type": "stream",
     "text": [
      "(1, 24, 76)\n",
      "('red', 98, ['cheese', 67], 'blue')\n",
      "()\n"
     ]
    }
   ],
   "source": [
    "test_tuple_1 = (1,24,76)\n",
    "test_tuple_2 = (\"red\", 98, [\"cheese\", 67], \"blue\")\n",
    "test_tuple_3 = ()\n",
    "\n",
    "print(test_tuple_1)\n",
    "print(test_tuple_2)\n",
    "print(test_tuple_3)"
   ]
  },
  {
   "attachments": {},
   "cell_type": "markdown",
   "metadata": {},
   "source": [
    "The creation of a tuple is called **tuple packing**.\n",
    "\n",
    "The individual elements of a tuple can be assigned to variables in a process called **tuple unpacking**. The number of variables and the number of elements in the tuple should match.\n",
    "\n",
    "**While you can also unpack lists and strings, it is a key use of tuples.**"
   ]
  },
  {
   "cell_type": "code",
   "execution_count": 169,
   "metadata": {},
   "outputs": [
    {
     "name": "stdout",
     "output_type": "stream",
     "text": [
      "('red', 98, ['cheese', 67], 'blue')\n",
      "red\n",
      "98\n",
      "['cheese', 67]\n",
      "blue\n"
     ]
    }
   ],
   "source": [
    "(first,second,third,fourth)=test_tuple_2\n",
    "\n",
    "print(test_tuple_2)\n",
    "print(first)\n",
    "print(second)\n",
    "print(third)\n",
    "print(fourth)"
   ]
  },
  {
   "attachments": {},
   "cell_type": "markdown",
   "metadata": {},
   "source": [
    "##### Strings (`str`)"
   ]
  },
  {
   "attachments": {},
   "cell_type": "markdown",
   "metadata": {},
   "source": [
    "An **immutable** sequence of data stored as a string of unicode characters.\n",
    "\n",
    "**Notation**: `''`\n",
    "\n",
    "**Elements**:\n",
    "- surrounded by single quotes (`'`) or double quotes (`\"`)\n",
    "- do not have to exist - a string can be empty\n",
    "- each element in the string is associated with a specific position in the sequence, such that an item can be located with its **index**"
   ]
  },
  {
   "cell_type": "code",
   "execution_count": 170,
   "metadata": {},
   "outputs": [
    {
     "name": "stdout",
     "output_type": "stream",
     "text": [
      "I want to say 'Hello, World!'\n",
      "The answer is 42\n",
      "MITOCHONDRIA IS THE POWERHOUSE OF THE CELL\n"
     ]
    }
   ],
   "source": [
    "test_string_1 = \"I want to say 'Hello, World!'\"\n",
    "test_string_2 = 'The answer is 42'\n",
    "test_string_3 = \"MITOCHONDRIA IS THE POWERHOUSE OF THE CELL\"\n",
    "\n",
    "print(test_string_1)\n",
    "print(test_string_2)\n",
    "print(test_string_3)"
   ]
  },
  {
   "attachments": {},
   "cell_type": "markdown",
   "metadata": {},
   "source": [
    "#### Common Features of Sequence Data Structures"
   ]
  },
  {
   "cell_type": "code",
   "execution_count": 171,
   "metadata": {},
   "outputs": [],
   "source": [
    "test_list_1 = [1,24,76]\n",
    "test_list_2 = [\"red\", 98, [\"cheese\", 67], \"blue\"]\n",
    "test_list_3 = []\n",
    "number_list = [10,8,-2,7,0,8]\n",
    "friends_list = [\"Elizabeth\", \"Anabelle\", \"Mary-Anne\", \"George\", \"Kevin\"]\n",
    "mixed_list = [\"Elizabeth\", 0, -7, 2, \"Annabelle\", 2, \"Zander\"]\n",
    "\n",
    "test_tuple_1 = (1,24,76)\n",
    "test_tuple_2 = (\"red\", 98, [\"cheese\", 67], \"blue\")\n",
    "test_tuple_3 = ()\n",
    "\n",
    "test_string_1 = \"I want to say 'Hello, World!'\"\n",
    "test_string_2 = 'The answer is 42'\n",
    "test_string_3 = \"\""
   ]
  },
  {
   "attachments": {},
   "cell_type": "markdown",
   "metadata": {},
   "source": [
    "##### Indexing"
   ]
  },
  {
   "attachments": {},
   "cell_type": "markdown",
   "metadata": {},
   "source": [
    "Since sequence data structures organize their elements in a specific order, we can use that order to access a specific element.\n",
    "\n",
    "The position of any element in a sequence data structure is its `index`. \n",
    "\n",
    "If an index is **negative** it 'counts' in reverse order, so an index of `-1` is always the last element.\n",
    "\n",
    "The first element is always given an index of `0`. \n",
    "\n",
    "Notation: `sequence[index]`"
   ]
  },
  {
   "attachments": {},
   "cell_type": "markdown",
   "metadata": {},
   "source": [
    "Lists:"
   ]
  },
  {
   "cell_type": "code",
   "execution_count": 172,
   "metadata": {},
   "outputs": [
    {
     "name": "stdout",
     "output_type": "stream",
     "text": [
      "['Elizabeth', 'Anabelle', 'Mary-Anne', 'George', 'Kevin']\n",
      "Elizabeth\n",
      "Mary-Anne\n",
      "Kevin\n"
     ]
    }
   ],
   "source": [
    "print(friends_list)\n",
    "print(friends_list[0])\n",
    "print(friends_list[2])\n",
    "print(friends_list[-1])"
   ]
  },
  {
   "attachments": {},
   "cell_type": "markdown",
   "metadata": {},
   "source": [
    "Tuples:"
   ]
  },
  {
   "cell_type": "code",
   "execution_count": 173,
   "metadata": {},
   "outputs": [
    {
     "name": "stdout",
     "output_type": "stream",
     "text": [
      "('red', 98, ['cheese', 67], 'blue')\n",
      "['cheese', 67]\n",
      "blue\n",
      "98\n"
     ]
    }
   ],
   "source": [
    "print(test_tuple_2)\n",
    "print(test_tuple_2[2])\n",
    "print(test_tuple_2[3])\n",
    "print(test_tuple_2[1])"
   ]
  },
  {
   "attachments": {},
   "cell_type": "markdown",
   "metadata": {},
   "source": [
    "Strings:"
   ]
  },
  {
   "cell_type": "code",
   "execution_count": 174,
   "metadata": {},
   "outputs": [
    {
     "name": "stdout",
     "output_type": "stream",
     "text": [
      "I want to say 'Hello, World!'\n",
      "I\n",
      "'\n",
      "n\n"
     ]
    }
   ],
   "source": [
    "print(test_string_1)\n",
    "print(test_string_1[0])\n",
    "print(test_string_1[-1])\n",
    "print(test_string_1[4])"
   ]
  },
  {
   "attachments": {},
   "cell_type": "markdown",
   "metadata": {},
   "source": [
    "When a list or tuple contains another sequence data structure, you can sequence indexes to access a specific element of the sub-structure."
   ]
  },
  {
   "cell_type": "code",
   "execution_count": 175,
   "metadata": {},
   "outputs": [
    {
     "name": "stdout",
     "output_type": "stream",
     "text": [
      "['cheese', 67]\n",
      "67\n",
      "e\n"
     ]
    }
   ],
   "source": [
    "print(test_list_2[2])\n",
    "print(test_list_2[2][1])\n",
    "print(test_list_2[2][0][2])"
   ]
  },
  {
   "cell_type": "code",
   "execution_count": 176,
   "metadata": {},
   "outputs": [
    {
     "name": "stdout",
     "output_type": "stream",
     "text": [
      "['cheese', 67]\n",
      "67\n",
      "e\n"
     ]
    }
   ],
   "source": [
    "print(test_tuple_2[2])\n",
    "print(test_tuple_2[2][1])\n",
    "print(test_tuple_2[2][0][2])"
   ]
  },
  {
   "attachments": {},
   "cell_type": "markdown",
   "metadata": {},
   "source": [
    "##### Slices `:`"
   ]
  },
  {
   "attachments": {},
   "cell_type": "markdown",
   "metadata": {},
   "source": [
    "We can take a subsection of a sequential list by using their indexes to take a 'slice'. The first number indicates the index of the first element included in the slice, the second number indicates the index of the **\"up to but not including\"** element.\n",
    "\n",
    "If left blank, the slice will extend to the respective end of the sequence data structure."
   ]
  },
  {
   "attachments": {},
   "cell_type": "markdown",
   "metadata": {},
   "source": [
    "Lists:"
   ]
  },
  {
   "cell_type": "code",
   "execution_count": 177,
   "metadata": {},
   "outputs": [
    {
     "name": "stdout",
     "output_type": "stream",
     "text": [
      "[2, 3, 4, 5]\n",
      "[0, 1, 2]\n",
      "[2, 3, 4, 5, 6, 7, 8, 9, 10]\n"
     ]
    }
   ],
   "source": [
    "long_list = [0,1,2,3,4,5,6,7,8,9,10]\n",
    "sub_list = long_list[2:6]\n",
    "print(sub_list)\n",
    "print(long_list[:3])\n",
    "print(long_list[2:])"
   ]
  },
  {
   "attachments": {},
   "cell_type": "markdown",
   "metadata": {},
   "source": [
    "Tuples:"
   ]
  },
  {
   "cell_type": "code",
   "execution_count": 178,
   "metadata": {},
   "outputs": [
    {
     "name": "stdout",
     "output_type": "stream",
     "text": [
      "(2, 3, 4, 5)\n",
      "(0, 1, 2)\n",
      "(2, 3, 4, 5, 6, 7, 8, 9, 10)\n"
     ]
    }
   ],
   "source": [
    "long_tuple = (0,1,2,3,4,5,6,7,8,9,10)\n",
    "sub_tuple = long_tuple[2:6]\n",
    "print(sub_tuple)\n",
    "print(long_tuple[:3])\n",
    "print(long_tuple[2:])"
   ]
  },
  {
   "attachments": {},
   "cell_type": "markdown",
   "metadata": {},
   "source": [
    "Strings:"
   ]
  },
  {
   "cell_type": "code",
   "execution_count": 179,
   "metadata": {},
   "outputs": [
    {
     "name": "stdout",
     "output_type": "stream",
     "text": [
      "The answer is 42\n",
      "answ\n",
      "The\n",
      "e answer is 42\n"
     ]
    }
   ],
   "source": [
    "print(test_string_2)\n",
    "print(test_string_2[4:8])\n",
    "print(test_string_2[:3])\n",
    "print(test_string_2[2:])"
   ]
  },
  {
   "attachments": {},
   "cell_type": "markdown",
   "metadata": {},
   "source": [
    "Similarly to how we can sequence **indexes** to access elements of a sequential data structure within another sequential data structure, we can also sequence **slice** to take a subsection of a sequential data structure element"
   ]
  },
  {
   "attachments": {},
   "cell_type": "markdown",
   "metadata": {},
   "source": [
    "Lists:"
   ]
  },
  {
   "cell_type": "code",
   "execution_count": 180,
   "metadata": {},
   "outputs": [
    {
     "name": "stdout",
     "output_type": "stream",
     "text": [
      "['nested2', 'nested3']\n"
     ]
    }
   ],
   "source": [
    "nested_long_list = [0,1,2,[\"nested1\",\"nested2\",\"nested3\",\"nested4\"],4,5,6]\n",
    "nest_list_slice = nested_long_list[3][1:3]\n",
    "print(nest_list_slice)"
   ]
  },
  {
   "attachments": {},
   "cell_type": "markdown",
   "metadata": {},
   "source": [
    "Tuples:"
   ]
  },
  {
   "cell_type": "code",
   "execution_count": 181,
   "metadata": {},
   "outputs": [
    {
     "name": "stdout",
     "output_type": "stream",
     "text": [
      "['nested2', 'nested3']\n"
     ]
    }
   ],
   "source": [
    "nested_long_tuple = (0,1,2,[\"nested1\",\"nested2\",\"nested3\",\"nested4\"],4,5,6)\n",
    "nest_tuple_slice = nested_long_tuple[3][1:3]\n",
    "print(nest_tuple_slice)"
   ]
  },
  {
   "attachments": {},
   "cell_type": "markdown",
   "metadata": {},
   "source": [
    "##### Concatenation (`+`)"
   ]
  },
  {
   "attachments": {},
   "cell_type": "markdown",
   "metadata": {},
   "source": [
    "We can create a new sequential data structure by appending two compatible data structures together with `+`"
   ]
  },
  {
   "attachments": {},
   "cell_type": "markdown",
   "metadata": {},
   "source": [
    "Lists:"
   ]
  },
  {
   "cell_type": "code",
   "execution_count": 182,
   "metadata": {},
   "outputs": [
    {
     "name": "stdout",
     "output_type": "stream",
     "text": [
      "[1, 24, 76, 'red', 98, ['cheese', 67], 'blue']\n",
      "[1, 24, 76, 'red', 98, ['cheese', 67], 'blue']\n"
     ]
    }
   ],
   "source": [
    "joined_list = test_list_1 + test_list_2\n",
    "print(joined_list)\n",
    "print(test_list_1 + test_list_2)"
   ]
  },
  {
   "attachments": {},
   "cell_type": "markdown",
   "metadata": {},
   "source": [
    "Tuples:"
   ]
  },
  {
   "cell_type": "code",
   "execution_count": 183,
   "metadata": {},
   "outputs": [
    {
     "name": "stdout",
     "output_type": "stream",
     "text": [
      "(1, 24, 76, 'red', 98, ['cheese', 67], 'blue')\n",
      "(1, 24, 76, 'red', 98, ['cheese', 67], 'blue')\n"
     ]
    }
   ],
   "source": [
    "joined_tuple = test_tuple_1 + test_tuple_2\n",
    "print(joined_tuple)\n",
    "print(test_tuple_1 + test_tuple_2)\n"
   ]
  },
  {
   "attachments": {},
   "cell_type": "markdown",
   "metadata": {},
   "source": [
    "Strings:"
   ]
  },
  {
   "cell_type": "code",
   "execution_count": 184,
   "metadata": {},
   "outputs": [
    {
     "name": "stdout",
     "output_type": "stream",
     "text": [
      "I want to say 'Hello, World!'The answer is 42\n",
      "I want to say 'Hello, World!'The answer is 42\n"
     ]
    }
   ],
   "source": [
    "joined_string = test_string_1 + test_string_2\n",
    "print(joined_string)\n",
    "print(test_string_1 + test_string_2)\n"
   ]
  },
  {
   "attachments": {},
   "cell_type": "markdown",
   "metadata": {},
   "source": [
    "##### Multiplication (`*`)"
   ]
  },
  {
   "attachments": {},
   "cell_type": "markdown",
   "metadata": {},
   "source": [
    "Multiplication of a sequence data structure is similar to performing concatenation of the sequence data structure, to itself, the multiplication number of times."
   ]
  },
  {
   "attachments": {},
   "cell_type": "markdown",
   "metadata": {},
   "source": [
    "Lists:"
   ]
  },
  {
   "cell_type": "code",
   "execution_count": 185,
   "metadata": {},
   "outputs": [
    {
     "name": "stdout",
     "output_type": "stream",
     "text": [
      "[1, 24, 76, 1, 24, 76]\n",
      "[1, 24, 76, 1, 24, 76]\n",
      "[1, 24, 76, 1, 24, 76, 1, 24, 76, 1, 24, 76]\n"
     ]
    }
   ],
   "source": [
    "multiplied_list = test_list_1 * 2\n",
    "print(multiplied_list)\n",
    "print(test_list_1 + test_list_1)\n",
    "\n",
    "print(test_list_1*4)"
   ]
  },
  {
   "attachments": {},
   "cell_type": "markdown",
   "metadata": {},
   "source": [
    "Tuples:"
   ]
  },
  {
   "cell_type": "code",
   "execution_count": 186,
   "metadata": {},
   "outputs": [
    {
     "name": "stdout",
     "output_type": "stream",
     "text": [
      "(1, 24, 76, 1, 24, 76)\n",
      "(1, 24, 76, 1, 24, 76)\n",
      "(1, 24, 76, 1, 24, 76, 1, 24, 76, 1, 24, 76)\n"
     ]
    }
   ],
   "source": [
    "multiplied_tuple = test_tuple_1 * 2\n",
    "print(multiplied_tuple)\n",
    "print(test_tuple_1 + test_tuple_1)\n",
    "print(test_tuple_1*4)"
   ]
  },
  {
   "attachments": {},
   "cell_type": "markdown",
   "metadata": {},
   "source": [
    "Strings:"
   ]
  },
  {
   "cell_type": "code",
   "execution_count": 187,
   "metadata": {},
   "outputs": [
    {
     "name": "stdout",
     "output_type": "stream",
     "text": [
      "I want to say 'Hello, World!'I want to say 'Hello, World!'\n",
      "I want to say 'Hello, World!'I want to say 'Hello, World!'\n",
      "I want to say 'Hello, World!'I want to say 'Hello, World!'I want to say 'Hello, World!'I want to say 'Hello, World!'\n"
     ]
    }
   ],
   "source": [
    "multiplied_string = test_string_1 * 2\n",
    "print(multiplied_string)\n",
    "print(test_string_1 + test_string_1)\n",
    "print(test_string_1*4)"
   ]
  },
  {
   "attachments": {},
   "cell_type": "markdown",
   "metadata": {},
   "source": [
    "##### Sorting"
   ]
  },
  {
   "attachments": {},
   "cell_type": "markdown",
   "metadata": {},
   "source": [
    "A sequential data structure may be **sorted** by the elements in the list. \n",
    "\n",
    "- For **mutable** data structures, such as `list`s, there are built in methods that change the original structure.\n",
    "\n",
    "- For **immutable** data structures, such as `tuple`s and `string`s, there are built-in functions that can generate a new structure in the sorted order"
   ]
  },
  {
   "attachments": {},
   "cell_type": "markdown",
   "metadata": {},
   "source": [
    "##### Packing and Unpacking"
   ]
  },
  {
   "attachments": {},
   "cell_type": "markdown",
   "metadata": {},
   "source": [
    "The creation of a sequence data structure is called **packing**.\n",
    "\n",
    "The individual elements of a sequence data structure can be assigned to variables in a process called **unpacking**. The number of variables and the number of elements in the sequence data structure should match.\n",
    "\n",
    "**While you can also unpack lists and strings, it is a key use of tuples.**\n"
   ]
  },
  {
   "cell_type": "code",
   "execution_count": 188,
   "metadata": {},
   "outputs": [
    {
     "name": "stdout",
     "output_type": "stream",
     "text": [
      "['red', 98, ['cheese', 67], 'blue']\n",
      "red\n",
      "98\n",
      "['cheese', 67]\n",
      "blue\n"
     ]
    }
   ],
   "source": [
    "[first,second,third,fourth]=test_list_2\n",
    "\n",
    "print(test_list_2)\n",
    "print(first)\n",
    "print(second)\n",
    "print(third)\n",
    "print(fourth)"
   ]
  },
  {
   "cell_type": "code",
   "execution_count": 189,
   "metadata": {},
   "outputs": [
    {
     "name": "stdout",
     "output_type": "stream",
     "text": [
      "('red', 98, ['cheese', 67], 'blue')\n",
      "red\n",
      "98\n",
      "['cheese', 67]\n",
      "blue\n"
     ]
    }
   ],
   "source": [
    "(first,second,third,fourth)=test_tuple_2\n",
    "\n",
    "print(test_tuple_2)\n",
    "print(first)\n",
    "print(second)\n",
    "print(third)\n",
    "print(fourth)"
   ]
  },
  {
   "attachments": {},
   "cell_type": "markdown",
   "metadata": {},
   "source": [
    "### Non-Sequence Data Structures"
   ]
  },
  {
   "attachments": {},
   "cell_type": "markdown",
   "metadata": {},
   "source": [
    "Non-sequence data structures store multiple objects without a particular order; there cannot be duplicate elements."
   ]
  },
  {
   "attachments": {},
   "cell_type": "markdown",
   "metadata": {},
   "source": [
    "#### Sets"
   ]
  },
  {
   "attachments": {},
   "cell_type": "markdown",
   "metadata": {},
   "source": [
    "A **mutable,** unordered collection of data elements without duplicate elements, similar to sets in mathematics.\n",
    "\n",
    "**Notation**: `{}` or `set()`\n",
    "\n",
    "**Typical Use**:\n",
    "- membership test\n",
    "- elimination of duplicate items"
   ]
  },
  {
   "cell_type": "code",
   "execution_count": 190,
   "metadata": {},
   "outputs": [
    {
     "name": "stdout",
     "output_type": "stream",
     "text": [
      "{'orange', 'banana', 'apple'}\n",
      "<class 'set'>\n",
      "True\n",
      "False\n"
     ]
    }
   ],
   "source": [
    "fruits = set(['apple','orange','banana','apple'])\n",
    "print(fruits)\n",
    "print(type(fruits))\n",
    "print('apple' in fruits)\n",
    "print('cheese' in fruits)"
   ]
  },
  {
   "attachments": {},
   "cell_type": "markdown",
   "metadata": {},
   "source": [
    "Since sets are mutable, you can use the built-in `.add()` and `.remove()` functions to modify their contents."
   ]
  },
  {
   "cell_type": "code",
   "execution_count": 191,
   "metadata": {},
   "outputs": [
    {
     "name": "stdout",
     "output_type": "stream",
     "text": [
      "{'grape', 'orange', 'banana'}\n"
     ]
    }
   ],
   "source": [
    "fruits.add('grape')\n",
    "fruits.remove('apple')\n",
    "print(fruits)\n"
   ]
  },
  {
   "attachments": {},
   "cell_type": "markdown",
   "metadata": {},
   "source": [
    "There are several operators that can be used to modify sets, or compare them."
   ]
  },
  {
   "cell_type": "code",
   "execution_count": 192,
   "metadata": {},
   "outputs": [],
   "source": [
    "a = set('asbestosis kills')\n",
    "b = set('cheesemonger wife')"
   ]
  },
  {
   "attachments": {},
   "cell_type": "markdown",
   "metadata": {},
   "source": [
    "**Elements of Set A, Exclude B (`-`)**"
   ]
  },
  {
   "attachments": {},
   "cell_type": "markdown",
   "metadata": {},
   "source": [
    "Subtracting Set B from Set A returns all the elements from Set A that are not in Set A"
   ]
  },
  {
   "cell_type": "code",
   "execution_count": 193,
   "metadata": {},
   "outputs": [
    {
     "name": "stdout",
     "output_type": "stream",
     "text": [
      "{'l', 'a', 't', 'b', 'k'}\n"
     ]
    }
   ],
   "source": [
    "print(a-b)"
   ]
  },
  {
   "attachments": {},
   "cell_type": "markdown",
   "metadata": {},
   "source": [
    "**Elements in Union of Set A and Set B (`|`)**"
   ]
  },
  {
   "attachments": {},
   "cell_type": "markdown",
   "metadata": {},
   "source": [
    "Requesting elements in Set A **or** Set B returns all elements that are in Set A, Set B, or both."
   ]
  },
  {
   "cell_type": "code",
   "execution_count": 194,
   "metadata": {},
   "outputs": [
    {
     "name": "stdout",
     "output_type": "stream",
     "text": [
      "{'i', 'm', 's', 'c', 'g', 'e', 'h', 'b', 'n', 'k', 'w', 'l', 'a', 'f', 't', 'r', 'o', ' '}\n"
     ]
    }
   ],
   "source": [
    "print(a|b)"
   ]
  },
  {
   "attachments": {},
   "cell_type": "markdown",
   "metadata": {},
   "source": [
    "**Intersection of Set A and Set B (`&`)**"
   ]
  },
  {
   "attachments": {},
   "cell_type": "markdown",
   "metadata": {},
   "source": [
    "Requesting elements in Set A and Set B returns all elements that are in **both** Set A and Set B."
   ]
  },
  {
   "cell_type": "code",
   "execution_count": 195,
   "metadata": {},
   "outputs": [
    {
     "name": "stdout",
     "output_type": "stream",
     "text": [
      "{'i', 's', 'e', 'o', ' '}\n"
     ]
    }
   ],
   "source": [
    "print(a&b)"
   ]
  },
  {
   "attachments": {},
   "cell_type": "markdown",
   "metadata": {},
   "source": [
    "**Unique Elements of Set A and Set B (`^`)**"
   ]
  },
  {
   "attachments": {},
   "cell_type": "markdown",
   "metadata": {},
   "source": [
    "Requesting the XOR returns the elements in Set A that are not in Set B, and the elements of Set B that are not in Set A.\n",
    "\n",
    "This is similar to taking the union, and subtracting the intersection."
   ]
  },
  {
   "cell_type": "code",
   "execution_count": 196,
   "metadata": {},
   "outputs": [
    {
     "name": "stdout",
     "output_type": "stream",
     "text": [
      "{'l', 'm', 'c', 'g', 'a', 'f', 'h', 't', 'b', 'n', 'r', 'k', 'w'}\n"
     ]
    }
   ],
   "source": [
    "print(a^b)"
   ]
  },
  {
   "attachments": {},
   "cell_type": "markdown",
   "metadata": {},
   "source": [
    "#### Dictionaries"
   ]
  },
  {
   "attachments": {},
   "cell_type": "markdown",
   "metadata": {},
   "source": [
    "A **mutable,** unordered collection of **mapped** data elements, wherein each `key` is mapped to a `value`. In Python, dictionaries are also called **hash tables** or **lookup tables**.\n",
    "\n",
    "**Notation**: `{}`\n",
    "\n",
    "**Elements**:\n",
    "- **keys** can be any **immutable** data type\n",
    "- **values** can be any data type\n",
    "- a dictionary can hold keys, values, or values and keys of different data types\n",
    "- Duplicate **values** are allowed, but duplicate **keys** are not\n",
    "\n",
    "The **key** functions similarly to an **index**. Once a key is made, it is **immutable**. Rather, a whole new key must be made. Keys can be added or removed."
   ]
  },
  {
   "cell_type": "code",
   "execution_count": 197,
   "metadata": {},
   "outputs": [
    {
     "name": "stdout",
     "output_type": "stream",
     "text": [
      "{'H': 'hydrogen', 'He': 'helium', 'Li': 'lithium', 'C': 'carbon', 'O': 'oxygen', 'N': 'nitrogen'}\n",
      "helium\n",
      "{'user': 'alpha1', 'pswd': '123password'}\n",
      "123password\n"
     ]
    }
   ],
   "source": [
    "symbol_to_name = {\n",
    "    \"H\":\"hydrogen\",\n",
    "    \"He\":\"helium\",\n",
    "    \"Li\":\"lithium\",\n",
    "    \"C\":\"carbon\",\n",
    "    \"O\":\"oxygen\",\n",
    "    \"N\":\"nitrogen\",\n",
    "}\n",
    "\n",
    "user_data = {\n",
    "    'user':'alpha1',\n",
    "    'pswd': '123password',\n",
    "}\n",
    "\n",
    "print(symbol_to_name)\n",
    "print(symbol_to_name[\"He\"])\n",
    "print(user_data)\n",
    "print(user_data['pswd'])\n"
   ]
  },
  {
   "attachments": {},
   "cell_type": "markdown",
   "metadata": {},
   "source": [
    "Additional entries can be added to a dictionary simply by assigning a **value** to the **key**."
   ]
  },
  {
   "cell_type": "code",
   "execution_count": 198,
   "metadata": {},
   "outputs": [
    {
     "name": "stdout",
     "output_type": "stream",
     "text": [
      "{'user': 'alpha1', 'pswd': '123password', 'id number': '8675309'}\n"
     ]
    }
   ],
   "source": [
    "user_data['id number'] = '8675309'\n",
    "\n",
    "print(user_data)"
   ]
  },
  {
   "attachments": {},
   "cell_type": "markdown",
   "metadata": {},
   "source": [
    "Since **key** names must be unique, assigning a value to an existing key will replace its definition."
   ]
  },
  {
   "cell_type": "code",
   "execution_count": 199,
   "metadata": {},
   "outputs": [
    {
     "name": "stdout",
     "output_type": "stream",
     "text": [
      "{'user': 'alpha1', 'pswd': '123password', 'id number': '0118999'}\n"
     ]
    }
   ],
   "source": [
    "user_data['id number'] = '0118999'\n",
    "\n",
    "print(user_data)"
   ]
  },
  {
   "attachments": {},
   "cell_type": "markdown",
   "metadata": {},
   "source": [
    "Removing dictionary entries uses built-in methods.\n",
    "\n",
    "`del` removes a specific key:value pair.\n",
    "\n",
    "`.clear()` deletes every entry in the dictionary, reverting it to an empty dictionary."
   ]
  },
  {
   "cell_type": "code",
   "execution_count": 200,
   "metadata": {},
   "outputs": [
    {
     "name": "stdout",
     "output_type": "stream",
     "text": [
      "{'user': 'alpha1', 'pswd': '123password'}\n",
      "{}\n"
     ]
    }
   ],
   "source": [
    "del user_data['id number']\n",
    "print(user_data)\n",
    "\n",
    "user_data.clear()\n",
    "print(user_data)"
   ]
  },
  {
   "attachments": {},
   "cell_type": "markdown",
   "metadata": {},
   "source": [
    "You can access the data stored in dictionaries through built-in methods.\n",
    "\n",
    "`.keys()` returns a list of all keys, very useful\n",
    "\n",
    "`.values()` returns a list of all values\n",
    "\n",
    "`.items()` returns all key:value pairs as a list of tuples"
   ]
  },
  {
   "cell_type": "code",
   "execution_count": 201,
   "metadata": {},
   "outputs": [
    {
     "name": "stdout",
     "output_type": "stream",
     "text": [
      "dict_keys(['H', 'He', 'Li', 'C', 'O', 'N'])\n",
      "dict_values(['hydrogen', 'helium', 'lithium', 'carbon', 'oxygen', 'nitrogen'])\n",
      "dict_items([('H', 'hydrogen'), ('He', 'helium'), ('Li', 'lithium'), ('C', 'carbon'), ('O', 'oxygen'), ('N', 'nitrogen')])\n"
     ]
    }
   ],
   "source": [
    "print(symbol_to_name.keys())\n",
    "print(symbol_to_name.values())\n",
    "print(symbol_to_name.items())"
   ]
  },
  {
   "attachments": {},
   "cell_type": "markdown",
   "metadata": {},
   "source": [
    "`for` loops can be used to convert a `dictionary` into a `list`, or otherwise return the matched sets of **keys** and **values** for operations over the entire dictionary."
   ]
  },
  {
   "cell_type": "code",
   "execution_count": 202,
   "metadata": {},
   "outputs": [
    {
     "name": "stdout",
     "output_type": "stream",
     "text": [
      "H is hydrogen\n",
      "He is helium\n",
      "Li is lithium\n",
      "C is carbon\n",
      "O is oxygen\n",
      "N is nitrogen\n"
     ]
    }
   ],
   "source": [
    "for element in symbol_to_name.keys():\n",
    "    print(element, symbol_to_name[element], sep=\" is \")"
   ]
  },
  {
   "attachments": {},
   "cell_type": "markdown",
   "metadata": {},
   "source": [
    "### Common Features of Data Structures"
   ]
  },
  {
   "cell_type": "code",
   "execution_count": 203,
   "metadata": {},
   "outputs": [],
   "source": [
    "test_list_1 = [1,24,76]\n",
    "test_list_2 = [\"red\", 98, [\"cheese\", 67], \"blue\"]\n",
    "test_list_3 = []\n",
    "number_list = [10,8,-2,7,0,8]\n",
    "friends_list = [\"Elizabeth\", \"Anabelle\", \"Mary-Anne\", \"George\", \"Kevin\"]\n",
    "mixed_list = [\"Elizabeth\", 0, -7, 2, \"Annabelle\", 2, \"Zander\"]\n",
    "\n",
    "test_tuple_1 = (1,24,76)\n",
    "test_tuple_2 = (\"red\", 98, [\"cheese\", 67], \"blue\")\n",
    "test_tuple_3 = ()\n",
    "\n",
    "test_string_1 = \"I want to say 'Hello, World!'\"\n",
    "test_string_2 = 'The answer is 42'\n",
    "test_string_3 = \"\"\n",
    "\n",
    "test_set_1 = set(\"alpha beta parkinglot\")\n",
    "test_set_2 = set(\"42 is the answer they gave us\")\n",
    "\n",
    "test_dictionary_1 = {\n",
    "    'answer':42,\n",
    "    'question':'life, the universe, and everything',\n",
    "}\n",
    "\n",
    "test_dictionary_2 = {\n",
    "    'alpha':1,\n",
    "    'beta':2,\n",
    "    'charlie':3,\n",
    "    'delta':4,\n",
    "}"
   ]
  },
  {
   "attachments": {},
   "cell_type": "markdown",
   "metadata": {},
   "source": [
    "#### Content Check (`in`)"
   ]
  },
  {
   "attachments": {},
   "cell_type": "markdown",
   "metadata": {},
   "source": [
    "We can use the logical operator `in` to determine if an item is in a sequence data structure.\n",
    "\n",
    "It is **direct, case sensitive, and literal.**\n",
    "\n",
    "It **does not** \"dig in\" to an element that is a sequence data structure. It simply checks the entire element as a whole.\n",
    "\n",
    "- If the element is present, it will return `True`.\n",
    "- If the element is **not** present, it will return `False.`\n",
    "\n",
    "For dictionaries, it searches **keys** only."
   ]
  },
  {
   "attachments": {},
   "cell_type": "markdown",
   "metadata": {},
   "source": [
    "Lists:"
   ]
  },
  {
   "cell_type": "code",
   "execution_count": 204,
   "metadata": {},
   "outputs": [
    {
     "name": "stdout",
     "output_type": "stream",
     "text": [
      "['red', 98, ['cheese', 67], 'blue']\n",
      "True\n",
      "False\n",
      "True\n"
     ]
    }
   ],
   "source": [
    "print(test_list_2)\n",
    "print(98 in test_list_2)\n",
    "print(\"cheese\" in test_list_2)\n",
    "print(\"cheese\" in test_list_2[2])"
   ]
  },
  {
   "attachments": {},
   "cell_type": "markdown",
   "metadata": {},
   "source": [
    "Tuples:"
   ]
  },
  {
   "cell_type": "code",
   "execution_count": 205,
   "metadata": {},
   "outputs": [
    {
     "name": "stdout",
     "output_type": "stream",
     "text": [
      "('red', 98, ['cheese', 67], 'blue')\n",
      "True\n",
      "False\n",
      "True\n"
     ]
    }
   ],
   "source": [
    "print(test_tuple_2)\n",
    "print(98 in test_tuple_2)\n",
    "print(\"cheese\" in test_tuple_2)\n",
    "print(\"cheese\" in test_list_2[2])\n"
   ]
  },
  {
   "attachments": {},
   "cell_type": "markdown",
   "metadata": {},
   "source": [
    "Strings:"
   ]
  },
  {
   "cell_type": "code",
   "execution_count": 206,
   "metadata": {},
   "outputs": [
    {
     "name": "stdout",
     "output_type": "stream",
     "text": [
      "The answer is 42\n",
      "True\n",
      "False\n",
      "True\n",
      "True\n",
      "False\n",
      "True\n",
      "False\n",
      "True\n"
     ]
    }
   ],
   "source": [
    "print(test_string_2)\n",
    "print('42' in test_string_2)\n",
    "print('A' in test_string_2)\n",
    "print('a' in test_string_2)\n",
    "print(' ' in test_string_2)\n",
    "print(\"z\" in test_string_2)\n",
    "print(\"T\" in test_string_2)\n",
    "print('t' in test_string_2)\n",
    "print(\"answer\" in test_string_2)"
   ]
  },
  {
   "attachments": {},
   "cell_type": "markdown",
   "metadata": {},
   "source": [
    "Sets:"
   ]
  },
  {
   "cell_type": "code",
   "execution_count": 207,
   "metadata": {},
   "outputs": [
    {
     "name": "stdout",
     "output_type": "stream",
     "text": [
      "{'i', 'u', 'y', 's', '4', 'g', 'e', 'a', 'h', 't', 'n', 'r', 'v', ' ', 'w', '2'}\n",
      "False\n",
      "False\n",
      "True\n"
     ]
    }
   ],
   "source": [
    "print(test_set_2)\n",
    "print(42 in test_set_2)\n",
    "print('42' in test_set_2)\n",
    "print('4' in test_set_2)"
   ]
  },
  {
   "attachments": {},
   "cell_type": "markdown",
   "metadata": {},
   "source": [
    "Dictionaries:"
   ]
  },
  {
   "cell_type": "code",
   "execution_count": 208,
   "metadata": {},
   "outputs": [
    {
     "name": "stdout",
     "output_type": "stream",
     "text": [
      "{'answer': 42, 'question': 'life, the universe, and everything'}\n",
      "False\n",
      "False\n",
      "True\n"
     ]
    }
   ],
   "source": [
    "print(test_dictionary_1)\n",
    "print(42 in test_dictionary_1)\n",
    "print('42' in test_dictionary_1)\n",
    "print('answer' in test_dictionary_1)"
   ]
  },
  {
   "attachments": {},
   "cell_type": "markdown",
   "metadata": {},
   "source": [
    "#### Length (`len`)"
   ]
  },
  {
   "attachments": {},
   "cell_type": "markdown",
   "metadata": {},
   "source": [
    "We can determine the number of elements within a data structure by passing it through the built in `len()` function, which takes the data structure as its argument.\n",
    "\n",
    "If an element is a data structure, it does not \"dig in\" to count the individual elements within that sub-structure. Rather, it counts that element as 1.\n",
    "\n",
    "For dictionaries, it returns the **number of keys**."
   ]
  },
  {
   "attachments": {},
   "cell_type": "markdown",
   "metadata": {},
   "source": [
    "Lists:"
   ]
  },
  {
   "cell_type": "code",
   "execution_count": 209,
   "metadata": {},
   "outputs": [
    {
     "name": "stdout",
     "output_type": "stream",
     "text": [
      "[1, 24, 76]\n",
      "3\n",
      "['red', 98, ['cheese', 67], 'blue']\n",
      "4\n",
      "[]\n",
      "0\n"
     ]
    }
   ],
   "source": [
    "print(test_list_1)\n",
    "print(len(test_list_1))\n",
    "print(test_list_2)\n",
    "print(len(test_list_2))\n",
    "print(test_list_3)\n",
    "print(len(test_list_3))"
   ]
  },
  {
   "attachments": {},
   "cell_type": "markdown",
   "metadata": {},
   "source": [
    "Tuples:"
   ]
  },
  {
   "cell_type": "code",
   "execution_count": 210,
   "metadata": {},
   "outputs": [
    {
     "name": "stdout",
     "output_type": "stream",
     "text": [
      "(1, 24, 76)\n",
      "3\n",
      "('red', 98, ['cheese', 67], 'blue')\n",
      "4\n",
      "()\n",
      "0\n"
     ]
    }
   ],
   "source": [
    "print(test_tuple_1)\n",
    "print(len(test_tuple_1))\n",
    "print(test_tuple_2)\n",
    "print(len(test_tuple_2))\n",
    "print(test_tuple_3)\n",
    "print(len(test_tuple_3))"
   ]
  },
  {
   "attachments": {},
   "cell_type": "markdown",
   "metadata": {},
   "source": [
    "Strings:"
   ]
  },
  {
   "cell_type": "code",
   "execution_count": 211,
   "metadata": {},
   "outputs": [
    {
     "name": "stdout",
     "output_type": "stream",
     "text": [
      "I want to say 'Hello, World!'\n",
      "29\n",
      "The answer is 42\n",
      "16\n",
      "\n",
      "0\n"
     ]
    }
   ],
   "source": [
    "print(test_string_1)\n",
    "print(len(test_string_1))\n",
    "print(test_string_2)\n",
    "print(len(test_string_2))\n",
    "print(test_string_3)\n",
    "print(len(test_string_3))"
   ]
  },
  {
   "attachments": {},
   "cell_type": "markdown",
   "metadata": {},
   "source": [
    "Sets:"
   ]
  },
  {
   "cell_type": "code",
   "execution_count": 212,
   "metadata": {},
   "outputs": [
    {
     "name": "stdout",
     "output_type": "stream",
     "text": [
      "{'l', 'i', 'g', 'a', 'e', 'o', 'h', 't', 'b', 'r', 'p', 'n', 'k', ' '}\n",
      "14\n",
      "{'i', 'u', 'y', 's', '4', 'g', 'e', 'a', 'h', 't', 'n', 'r', 'v', ' ', 'w', '2'}\n",
      "16\n"
     ]
    }
   ],
   "source": [
    "print(test_set_1)\n",
    "print(len(test_set_1))\n",
    "print(test_set_2)\n",
    "print(len(test_set_2))"
   ]
  },
  {
   "attachments": {},
   "cell_type": "markdown",
   "metadata": {},
   "source": [
    "Dictionaries:"
   ]
  },
  {
   "cell_type": "code",
   "execution_count": 213,
   "metadata": {},
   "outputs": [
    {
     "name": "stdout",
     "output_type": "stream",
     "text": [
      "{'answer': 42, 'question': 'life, the universe, and everything'}\n",
      "2\n",
      "{'alpha': 1, 'beta': 2, 'charlie': 3, 'delta': 4}\n",
      "4\n"
     ]
    }
   ],
   "source": [
    "print(test_dictionary_1)\n",
    "print(len(test_dictionary_1))\n",
    "print(test_dictionary_2)\n",
    "print(len(test_dictionary_2))"
   ]
  },
  {
   "attachments": {},
   "cell_type": "markdown",
   "metadata": {},
   "source": [
    "### Reference Semantics"
   ]
  },
  {
   "attachments": {},
   "cell_type": "markdown",
   "metadata": {},
   "source": [
    "Assignmenet manipulates references.\n",
    "\n",
    "1. A value is created and stored in memory\n",
    "2. The variable name is created\n",
    "3. A **reference** to the **memory location** that stores the value is then assigned to the variable\n",
    "4. When we call on the variable, it **follows this path** to find the value in memory it provides.\n",
    "\n",
    "So if we assign one variable to another variable..."
   ]
  },
  {
   "cell_type": "code",
   "execution_count": 214,
   "metadata": {},
   "outputs": [
    {
     "name": "stdout",
     "output_type": "stream",
     "text": [
      "[1, 2, 3, 4]\n"
     ]
    }
   ],
   "source": [
    "a = [1,2,3]\n",
    "#a references list [1,2,3]\n",
    "b = a\n",
    "#b references a (and whatever a references)\n",
    "a.append(4)\n",
    "#changing a thus results in...\n",
    "print(b)"
   ]
  },
  {
   "attachments": {},
   "cell_type": "markdown",
   "metadata": {},
   "source": [
    "When we change the value of a variable, we are **changing which memory location it is referencing**. \n",
    "\n",
    "So when we do something like incrementing...\n",
    "\n",
    "1. The reference of the variable provides the memory location it references\n",
    "2. The value stored at that memory location is retrieved\n",
    "3. The calculation or process occurs, producing a **new data element** that is assigned to a **fresh memory location**\n",
    "4. The variable is assigned a new reference, to the **new memory location**"
   ]
  },
  {
   "cell_type": "code",
   "execution_count": 215,
   "metadata": {},
   "outputs": [],
   "source": [
    "x = 3\n",
    "#the integer 3 is assigned a memory location\n",
    "#x is assigned a \"reference\" to that location\n",
    "\n",
    "x = x + 1\n",
    "#The reference for x is retrieved\n",
    "#The value stored at this reference is\n",
    "#the integer 3\n",
    "\n",
    "#The calculation occurs, and yields an integer of 4\n",
    "#The integer 4 is stored in a new location\n",
    "#x is mapped to the new memory location"
   ]
  },
  {
   "attachments": {},
   "cell_type": "markdown",
   "metadata": {},
   "source": [
    "**Mutability** depends on the **data type**. If data is **mutable**, then the new data **replaces what existed at the same memory location**.\n",
    "\n",
    "These data types include `list`s, `dictionary`s, and some user-defined types."
   ]
  },
  {
   "cell_type": "code",
   "execution_count": 216,
   "metadata": {},
   "outputs": [
    {
     "name": "stdout",
     "output_type": "stream",
     "text": [
      "3\n",
      "[1, 2, 3, 4]\n"
     ]
    }
   ],
   "source": [
    "x = 3\n",
    "y = x\n",
    "x = 4\n",
    "print(y)\n",
    "\n",
    "a = [1,2,3]\n",
    "b=a\n",
    "a.append(4)\n",
    "print(b)"
   ]
  },
  {
   "attachments": {},
   "cell_type": "markdown",
   "metadata": {},
   "source": [
    "### List Comprehensions"
   ]
  },
  {
   "attachments": {},
   "cell_type": "markdown",
   "metadata": {},
   "source": [
    "A powerful and popular feature in Python, list comprehensions allow the generation of a new list by applying a function to every member of an original list.\n",
    "\n",
    "This helps eliminate many for-loops in Python!\n",
    "\n",
    "**Notation:** `[expression for element in list]`"
   ]
  },
  {
   "cell_type": "code",
   "execution_count": 217,
   "metadata": {},
   "outputs": [
    {
     "name": "stdout",
     "output_type": "stream",
     "text": [
      "[9, 36, 4, 49]\n",
      "[9, 36, 4, 49]\n"
     ]
    }
   ],
   "source": [
    "li = [3,6,2,7]\n",
    "squared = [elem**2 for elem in li]\n",
    "print(squared)\n",
    "\n",
    "for_list = []\n",
    "for elem in li:\n",
    "    for_list.append(elem**2)\n",
    "print(for_list)"
   ]
  },
  {
   "attachments": {},
   "cell_type": "markdown",
   "metadata": {},
   "source": [
    "If a `list` contains elements of different types, then the expression must operate correctly on all members of the list.\n",
    "\n",
    "If the elements of the list are other data structures, **unpacking** or **keys** can be used in the `element` to match the 'shape' of the elements."
   ]
  },
  {
   "cell_type": "code",
   "execution_count": 218,
   "metadata": {},
   "outputs": [
    {
     "name": "stdout",
     "output_type": "stream",
     "text": [
      "[3, 6, 9]\n"
     ]
    }
   ],
   "source": [
    "tuple_list = [('a',1),('b',2),('c',3)]\n",
    "print( [n*3 for (x,n) in tuple_list] )"
   ]
  },
  {
   "attachments": {},
   "cell_type": "markdown",
   "metadata": {},
   "source": [
    "This can be further expanded by adding a `filter` to the list comprehension.\n",
    "\n",
    "Each element of the list is checked for a filter condition. If the condition returns `False`, **that element** is omitted from the list before the list comprehension is evaluated.\n",
    "\n",
    "**Notation:** `[expression for element in list if filter]`"
   ]
  },
  {
   "cell_type": "code",
   "execution_count": 219,
   "metadata": {},
   "outputs": [
    {
     "name": "stdout",
     "output_type": "stream",
     "text": [
      "[36, 49, 81]\n"
     ]
    }
   ],
   "source": [
    "li = [3,6,2,7,1,9]\n",
    "squared = [elem**2 for elem in li if elem > 4]\n",
    "print(squared)"
   ]
  }
 ],
 "metadata": {
  "kernelspec": {
   "display_name": "Python 3",
   "language": "python",
   "name": "python3"
  },
  "language_info": {
   "codemirror_mode": {
    "name": "ipython",
    "version": 3
   },
   "file_extension": ".py",
   "mimetype": "text/x-python",
   "name": "python",
   "nbconvert_exporter": "python",
   "pygments_lexer": "ipython3",
   "version": "3.10.9 (tags/v3.10.9:1dd9be6, Dec  6 2022, 20:01:21) [MSC v.1934 64 bit (AMD64)]"
  },
  "orig_nbformat": 4,
  "vscode": {
   "interpreter": {
    "hash": "481f7de895a69a02f86a3fa2c9481f723cb5a5076304da5de9626f36d7218f15"
   }
  }
 },
 "nbformat": 4,
 "nbformat_minor": 2
}
