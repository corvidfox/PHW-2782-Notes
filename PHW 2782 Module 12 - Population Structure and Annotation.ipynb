{
 "cells": [
  {
   "attachments": {},
   "cell_type": "markdown",
   "metadata": {},
   "source": [
    "# Module 12: Population Structure, Annotation"
   ]
  },
  {
   "attachments": {},
   "cell_type": "markdown",
   "metadata": {},
   "source": [
    "**Note: Genomics vs Genetics:**\n",
    "\n",
    "*Genomics* refers to the study of genomes, while *genetics* refers to the study of heritable phenomena. In this way, *genomics* refers to studying differences between genomes, while *genetics* may refer to studying what genetic risk factors contribute to a heritable phenomena.\n",
    "\n",
    "*Genetics* can involve multiple generations. Genomics is involved in genetics, but genetics is not always involved in genomics."
   ]
  },
  {
   "attachments": {},
   "cell_type": "markdown",
   "metadata": {},
   "source": [
    "## Genetic Association Studies"
   ]
  },
  {
   "attachments": {},
   "cell_type": "markdown",
   "metadata": {},
   "source": [
    "**Genetic association studies** aim to link certian genetic markers to specific phenotypes."
   ]
  },
  {
   "attachments": {},
   "cell_type": "markdown",
   "metadata": {},
   "source": [
    "### Phenotypes"
   ]
  },
  {
   "attachments": {},
   "cell_type": "markdown",
   "metadata": {},
   "source": [
    "*Phenotypes* may be binary (qualitative) or continuous (quantitative).\n",
    "- Binary (qualitative) phenotypes are answered by a yes/no question, such as \"Is this a case or control?\"\n",
    "- Continuous (quantitative) phenotypes have a numerical answer that comes from a range of possibilities, like fasting glucose level or systolic blood pressure."
   ]
  },
  {
   "attachments": {},
   "cell_type": "markdown",
   "metadata": {},
   "source": [
    "### Linkage Studies"
   ]
  },
  {
   "attachments": {},
   "cell_type": "markdown",
   "metadata": {},
   "source": [
    "Linkage studies were the traditional approach to identifying genes for human traits and diseases since early genomic study in the 1980s. This works best for Mendelian diseases, like Huntington's, where there is a clear co-segregation of genetic markers with disease within pedigrees.\n",
    "\n",
    "For complex traits, which are more common, linkage analysis has been less successful because the relationship between genotype and phenotype is less clear. Complex interactions between multiple genes, and/or between genes and non-genetic risk factors, influence the outcome phenotype."
   ]
  },
  {
   "attachments": {},
   "cell_type": "markdown",
   "metadata": {},
   "source": [
    "### Association Studies"
   ]
  },
  {
   "attachments": {},
   "cell_type": "markdown",
   "metadata": {},
   "source": [
    "Association studies operate under a common disease, common variant hypothesis: complex traits will be determined by variants that occur frequently in the population, but each only have a small individual impact.\n",
    "\n",
    "By comparing allele frequencies in cases and controls (or mean trait values between alleles in quantitative traits), sufficient sample size can yield a powerful approach to identifying loci contributing to complex traits.\n",
    "\n",
    "This relies on the understanding of \"genetic architecture\": the type of contributing alleles to a phenotype. \n",
    "- Rare alleles causing Mendelian disease are more easily identified, and typically receive *Family-based sequencing*\n",
    "- Common variants can be implicated in common disease through powerful sampling and *GWAS*\n",
    "- High-effect common variants are rare, and may be identified through some *Array-based GWAS*\n",
    "    - It's more common for relatively mild phenotypes that may be tolerated well, rather than severe disease\n",
    "- Low fequency variants of intermediate effect are identified through *population sequencing, dense reference imputation GWAS, and specialized array genotyping*\n",
    "- Rare variants of small effect are very hard to identify through genetic means, and may require deep genome analyses with very large samples"
   ]
  },
  {
   "attachments": {},
   "cell_type": "markdown",
   "metadata": {},
   "source": [
    "#### Sources of Association"
   ]
  },
  {
   "attachments": {},
   "cell_type": "markdown",
   "metadata": {},
   "source": [
    "Causal association is *best*:\n",
    "- Genetic marker alleles influence susceptibility\n",
    "\n",
    "Linkage disequilibrium is *useful*:\n",
    "- Genetic marker alleles associated with other nearby alleles that influence susceptibility\n",
    "\n",
    "Population structure is *miseleading*:\n",
    "- Genetic marker alleles unrelated to disease alleles\n",
    "- This is simply due to statistics in the underlying population\n",
    "- Risk is higher with heterogenous populations in studies, as there may be cofounders!"
   ]
  },
  {
   "attachments": {},
   "cell_type": "markdown",
   "metadata": {},
   "source": [
    "Avoiding population structure issues:\n",
    "- Avoid stratification by design\n",
    "    - Collect a sample matched by ancestry\n",
    "    - Use family-based controls, such as the Transmission Disequlibrium Test (TDT)\n",
    "- Analyze association by population groups\n",
    "    - Use self reported ethnicity, or genetic markers\n",
    "    - Carry out association analysis within each group\n",
    "- Account for an inflated false-positive rate\n",
    "    - Apply genomic control\n",
    "    - Adjust for population principal components\n",
    "    - Variance comopnent model for family-based association tests"
   ]
  },
  {
   "attachments": {},
   "cell_type": "markdown",
   "metadata": {},
   "source": [
    "#### Genomic Inflation Factor"
   ]
  },
  {
   "attachments": {},
   "cell_type": "markdown",
   "metadata": {},
   "source": [
    "Genomic inflation factor is calculated with Chi-Squared.\n",
    "\n",
    "1. Compute the Chi-Square statistic (χ<sup>2</sup>) for each marker\n",
    "2. Calculate the Genomic inflation factor (λ)\n",
    "$$\n",
    "\\lambda = \\frac{\\text{Median Observed } \\chi^2}{\\text{Median Expected } \\chi^2}\n",
    "$$\n",
    "Where Median Expected χ<sup>2</sup> is 0.456\n",
    "3. Adjust statistic at candidate markers\n",
    "$$\n",
    "\\chi^2_{fair} = \\frac{\\chi^2_{biased}}{\\lambda}\n",
    "$$\n"
   ]
  },
  {
   "attachments": {},
   "cell_type": "markdown",
   "metadata": {},
   "source": [
    "### Principal Component Analysis (PCA)"
   ]
  },
  {
   "attachments": {},
   "cell_type": "markdown",
   "metadata": {},
   "source": [
    "PCA determines the \"axes of genotype variation\" for selected sets of genotypes.\n",
    "- Many principal components mirror European geography\n",
    "- By including PC's as covariates in regression models, you can adjust for stratification\n",
    "- Requires linear algebra"
   ]
  },
  {
   "attachments": {},
   "cell_type": "markdown",
   "metadata": {},
   "source": [
    "### Variance Component Model for Family-Based Association Test"
   ]
  },
  {
   "attachments": {},
   "cell_type": "markdown",
   "metadata": {},
   "source": [
    "Population analysis assumes uncorrelated phenotypes betwen individuals under the null\n",
    "$$\n",
    "y \\thicksim N(X \\Beta,\\sigma^2 I)\n",
    "$$\n",
    "\n",
    "Family based analysis assumes phenotypes are correlated with relatives' phenotypes through a Kinship Coefficient (K<sub>ij</sub>)\n",
    "$$\n",
    "y \\thicksim N(X \\Beta,\\sigma^2_g K + \\sigma^2_e I)\n",
    "$$\n",
    "\n",
    "Similar models for population-based analysis can account for the distant relationship inferred from genotypes with a Genotype_Based Kinship Coefficient: $$ \\hat{K}_ij $$\n",
    "\n",
    "$$\n",
    "y \\thicksim N(X \\Beta,\\sigma^2_g \\hat{K} + \\sigma^2_e I)\n",
    "$$"
   ]
  },
  {
   "attachments": {},
   "cell_type": "markdown",
   "metadata": {},
   "source": [
    "Particularly useful when correction with principal components is not adequate, but is much more computationally demanding"
   ]
  },
  {
   "attachments": {},
   "cell_type": "markdown",
   "metadata": {},
   "source": [
    "### Softwares"
   ]
  },
  {
   "attachments": {},
   "cell_type": "markdown",
   "metadata": {},
   "source": [
    "[PLINK](https://www.cog-genomics.org/plink2) is for PCA Analysis\n",
    "- Version 1.9 takes VCF as input\n",
    "- Is the \"swiss army knife\" of genomic analysis"
   ]
  },
  {
   "attachments": {},
   "cell_type": "markdown",
   "metadata": {},
   "source": [
    "Mixed-Model based software:\n",
    "- [GMMAT](https://rdrr.io/github/hanchenphd/GMMAT/man/GMMAT-package.html)\n",
    "    - Designed by Dr. Chen at UTH!\n",
    "    - R-based\n",
    "- [EMMAX, included in EPACTS](https://genome.sph.umich.edu/wiki/EPACTS)"
   ]
  },
  {
   "attachments": {},
   "cell_type": "markdown",
   "metadata": {},
   "source": [
    "##  Functional Annotation"
   ]
  },
  {
   "attachments": {},
   "cell_type": "markdown",
   "metadata": {},
   "source": [
    "Annotation occurs typically in the VCF file, where the biological interpretation of each variant is added to the data.\n",
    "\n",
    "- Coding variant\n",
    "    - Protein sequence change (silent, missense, nonsense)\n",
    "    - Splice site variant\n",
    "    - Frameshift INDELs\n",
    "- Noncoding variants\n",
    "    - Somewhat based on guess work and inferences\n",
    "    - Evolutionary interpretation (conserved region)\n",
    "    - Regulatory elements, promoters"
   ]
  },
  {
   "attachments": {},
   "cell_type": "markdown",
   "metadata": {},
   "source": [
    "### Annotation Scores:"
   ]
  },
  {
   "attachments": {},
   "cell_type": "markdown",
   "metadata": {},
   "source": [
    "Databases for Protein Coding Variations:\n",
    "- [SIFT](http://sift.bii.a-star.edu.sg/) focuses on Constraint-based predictors, providing evolutionary and biochemical (indirect) data\n",
    "- [polyPhen](http://genetics.bwh.harvard.edu/pph2/) focuses on Trained classifiers, providing evolutionary, biochemical, and structural data.\n",
    "\n",
    "Databases for Non-Coding Variations:\n",
    "- [GERP](http://mendel.standford.edu/SidowLab/downloads/gerp/index.html) focusing on single-site scoring and evolutionary interpretations\n",
    "- [phyloP](httpL//compgen.bscb.cornell.edu/phast) also focuses on single-site scoring and evolutionary interpretations"
   ]
  },
  {
   "attachments": {},
   "cell_type": "markdown",
   "metadata": {},
   "source": [
    "Combined Annotation-Dependent Depletion (CADD)\n",
    "- Provides information on both Coding and Non-Coding Variations\n",
    "- An algorithm that integrates multiple types of evidence into a single score\n",
    "    - Conservation score\n",
    "    - Epigenetic information\n",
    "    - Protein function scores for coding variants\n",
    "- Trains a support vector machine on simulated and observed variants\n",
    "- Variants present in the simulation but not observed are likely deleterious"
   ]
  },
  {
   "attachments": {},
   "cell_type": "markdown",
   "metadata": {},
   "source": [
    "#### Using Catalogued Variants"
   ]
  },
  {
   "attachments": {},
   "cell_type": "markdown",
   "metadata": {},
   "source": [
    "Allele frequencies for SNV and INDELs\n",
    "- 1000 Genomes Project Phase 3 (~25000 whole genomes)\n",
    "- UK10K cohorts\n",
    "- NHLBI Trans-Omics for Precision Medicine (TOPMed)\n",
    "- ExAc consortium (60,706 whole exomes)\n",
    "- gnomAD consortium (123,136 expomes and 15,496 whole genomes)\n",
    "Disease related SNV and INDELs\n",
    "- Clinvar with confidence levels (stars)\n",
    "- GWAS catalog\n",
    "- GRASP 2.0\n",
    "Regulatory Regions (much more volatile for versioning than coding databases)\n",
    "- ENCODE\n",
    "    - TFBS, DNAse clusters, genome segmentations\n",
    "    - 6 cell lines\n",
    "- FANTOM5\n",
    "    - Predicted enhancers and promoters\n",
    "    - Enhancer target genes\n",
    "- Ensembl Regulatory Build (ENCODE+Roadmap+Blueprint)\n",
    "    - TFBS, cell type specific activity prediction\n",
    "    - 68 cell types (ACTIVE, POISED, REPRESSED, INACTIVE)\n",
    "- Roadmap peak calls\n",
    "    - ~1000 datasets (127 epigenomes x histone modification)"
   ]
  },
  {
   "attachments": {},
   "cell_type": "markdown",
   "metadata": {},
   "source": [
    "### Annotation Software"
   ]
  },
  {
   "attachments": {},
   "cell_type": "markdown",
   "metadata": {},
   "source": [
    "Each software performs annotation slightly differently, and can annotate different sites slightly differently. There are some software pipelines which employ multiple tools at once to get the most comprehensive view of the data. Regardless, it's vital to ensure that the latest version of the software *and* databases are used.\n",
    "\n",
    "ANNOVAR is one of the most commonly used annotation software tools, and has documentation to assist in use. It uses VCF files.\n",
    "\n",
    "SnpEff is also an available software for download.\n",
    "\n",
    "Variant Effect Predictor (VEP) is one of the more commonly used annotation software tools. It was originally developed in the ensemble project. It has a web-based tools for smaller files, as well as visualization."
   ]
  }
 ],
 "metadata": {
  "language_info": {
   "name": "python"
  },
  "orig_nbformat": 4
 },
 "nbformat": 4,
 "nbformat_minor": 2
}
