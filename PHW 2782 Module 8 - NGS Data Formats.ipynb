{
 "cells": [
  {
   "cell_type": "raw",
   "metadata": {},
   "source": [
    "---\n",
    "title: \"Module 8: NGS Data Formats\"\n",
    "format: html\n",
    "html:\n",
    "    embed-resources: true\n",
    "jupyter: python3\n",
    "---"
   ]
  },
  {
   "attachments": {},
   "cell_type": "markdown",
   "metadata": {},
   "source": [
    "# Module 8: Next-Generation Sequencing Data Formats"
   ]
  },
  {
   "attachments": {},
   "cell_type": "markdown",
   "metadata": {},
   "source": [
    "## Common NGS Data Formats"
   ]
  },
  {
   "attachments": {},
   "cell_type": "markdown",
   "metadata": {},
   "source": [
    "Some of the most common NGS Data Formats include:\n",
    "\n",
    "- FASTA\n",
    "    - Reference Sequences\n",
    "    - \"Colorspace FASTA\" is produced by SOLiD NGS platforms\n",
    "- FASTQ\n",
    "    - Raw sequences + base read quality\n",
    "    - Produced by Illumina NGS platforms\n",
    "- SAM/BAM/CRAM\n",
    "    - Aligned sequences + many quality metrics\n",
    "- VCF\n",
    "    - Variant Calls\n",
    "- Standard Flowgram Format (.sff)\n",
    "    - Produced by LS454 NGS platforms"
   ]
  },
  {
   "attachments": {},
   "cell_type": "markdown",
   "metadata": {},
   "source": [
    "NGS Data is typically stored in plain text files (except BAM/CRAM), which store fields in a tab-separated format. Most of these plain text files are provided compressed in .GZ files, which are much more tightly compressed than .ZIP files.\n",
    "\n",
    "So, it's very important to be able to handle tab-seaprated text files when handling NGS data. \n",
    "\n",
    "Windows, iOS, and Linux all use slightly different newline conventions, so you have to be mindful of those differences as well."
   ]
  },
  {
   "attachments": {},
   "cell_type": "markdown",
   "metadata": {},
   "source": [
    "### FASTA Format"
   ]
  },
  {
   "attachments": {},
   "cell_type": "markdown",
   "metadata": {},
   "source": [
    "FASTA formats text that represent neucleotide or peptide sequences. Each letter represents a single nucleotide or peptide.\n",
    "\n",
    "The \"sequence name\" line is followed by the \"sequence data\":\n",
    "- Sequence Name starts with \">\"\n",
    "- A comment line (rarely used) starts with \";\"\n",
    "- **If there are \"N\" nucleotides, this indicates that the reference sequence is not yet known**\n",
    "\n",
    "Each line should be no longer than 120 characters, though lines are usually 80 characters or less per line. Each line typically has a fixed width throughout the file.\n",
    "\n",
    "FASTA is primarily used for reference or assembled sequences. It is an old file type, that was actually optimized for dot matrix printers."
   ]
  },
  {
   "attachments": {},
   "cell_type": "markdown",
   "metadata": {},
   "source": [
    "The FAI (FASTA Index) file helps quickly locate a desired sequence.\n",
    "\n",
    "It consists of chromosome name, the length of the chromosome (in bases), the byte offset of the first base, the number of bases per line, and the number of bytes per line (including the newline) in columns."
   ]
  },
  {
   "attachments": {},
   "cell_type": "markdown",
   "metadata": {},
   "source": [
    "### FASTQ Format"
   ]
  },
  {
   "attachments": {},
   "cell_type": "markdown",
   "metadata": {},
   "source": [
    "Produced by Illumina NGS platforms, FASTQ stands for \"FASTa + Quality.\" It is one of the de facto standards for **reads**.\n",
    "\n",
    "There are 4 lines produced per read:\n",
    "1. @Sequence ID (unique)\n",
    "2. Base reads\n",
    "3. \"+\" with optional sequence ID\n",
    "4. Phred-Scale quality score for each base\n",
    "    - Mapped to human-readable ASCII by adding 33, but different platforms may use different offsets/scales\n",
    "\n",
    "Paired reads may be identified in line 3, but are usually provided in two separate FASTQ files, with the same line numbers for read pairs."
   ]
  },
  {
   "attachments": {},
   "cell_type": "markdown",
   "metadata": {},
   "source": [
    "### SAM/BAM Format"
   ]
  },
  {
   "attachments": {},
   "cell_type": "markdown",
   "metadata": {},
   "source": [
    "BAM is the binary version of SAM (Sequenced Based Alignment). It is the de facto standard for mapped/aligned DNA.\n",
    "\n",
    "SAM/BAM consists of two parts:\n",
    "- Header (information that allows for reproducibility)\n",
    "    - References the genome information (name, version, URL)\n",
    "    - Lists the reference sequences (SQ)\n",
    "    - Provides read group information (RG)\n",
    "    - Lists programs (PG)\n",
    "- Alignment section\n",
    "    - Query template name\n",
    "    - Bitwise FLAG\n",
    "    - Ref.sequence name (SQ)\n",
    "    - Mapping position\n",
    "    - Mapping quality (Phred)\n",
    "    - CIGAR string (base alignment)\n",
    "        - informs of gaps and other alignment necessities\n",
    "    - Paired mate information and template length\n",
    "        - \"=\" means the same chromosome, which is most common\n",
    "        - insert size can only be measured once mapping is done, and it measures the difference between matched ends\n",
    "    - Base qualities\n",
    "\n",
    "BAM uses a compression scheme to be more compact. BAM files can be sorted and indexed, which makes accessing the data a very fast process. A BAI file is the index for a BAM file."
   ]
  },
  {
   "attachments": {},
   "cell_type": "markdown",
   "metadata": {},
   "source": [
    "CIGAR (Concise Idiosyncractic Gapped Alignment Report) Strings\n",
    "\n",
    "| Op | BAM | Description                                                                         |\n",
    "|----|-----|-------------------------------------------------------------------------------------|\n",
    "| M  | 0   | Alignment match (can be a match or mismatch)                                        |\n",
    "| I  | 1   | Insertion to the reference                                                          |\n",
    "| D  | 2   | Deletion from the reference                                                         |\n",
    "| *N | 3   | Skipped region from the reference. Indicaets a splicing event in tophat RNAseq BAMS |\n",
    "| S  | 4   | Soft clipping (clipped sequences present in SEQ)                                    |\n",
    "| *H | 5   | Hard clipping (clipped sequences NOT present in SEQ)                                |\n",
    "| *P | 6   | Padding (silent deletion from padded reference)                                     |\n",
    "| *= | 7   | Sequence match                                                                      |\n",
    "| *X | 8   | Sequence mismatch                                                                   |\n",
    "\n",
    "*rarer/newer"
   ]
  },
  {
   "attachments": {},
   "cell_type": "markdown",
   "metadata": {},
   "source": [
    "#### Tools to Read/Write SAM/BAM"
   ]
  },
  {
   "attachments": {},
   "cell_type": "markdown",
   "metadata": {},
   "source": [
    "- IGV (Integrative Genome Viewer)\n",
    "    - GUI tool to view BAM files with reference and/or variant call (VCF) data\n",
    "    - Powerful visualization tool\n",
    "- samtools\n",
    "    - Command-line tools to read/write/modify SAM/BAM files\n",
    "    - Versatile tool that also has quick visualization of mapped reads on text terminals"
   ]
  },
  {
   "attachments": {},
   "cell_type": "markdown",
   "metadata": {},
   "source": [
    "## Alignment Quality"
   ]
  },
  {
   "attachments": {},
   "cell_type": "markdown",
   "metadata": {},
   "source": [
    "Most aligners will estimate how reliable an alignment in with a Mapping Quality, which is the Phred-scaled estimate of the probability the chosen mapping is wrong. As such, a \"Q30\" alignment quality would have 1 in 1000 reads placed incorrectly."
   ]
  },
  {
   "attachments": {},
   "cell_type": "markdown",
   "metadata": {},
   "source": [
    "Reference Phred Score in Module 3 Notes"
   ]
  }
 ],
 "metadata": {
  "language_info": {
   "name": "python"
  },
  "orig_nbformat": 4
 },
 "nbformat": 4,
 "nbformat_minor": 2
}
