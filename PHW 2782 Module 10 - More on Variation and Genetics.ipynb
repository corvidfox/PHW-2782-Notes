{
 "cells": [
  {
   "attachments": {},
   "cell_type": "markdown",
   "metadata": {},
   "source": [
    "# Module 10: More on Variation and Genetics"
   ]
  },
  {
   "attachments": {},
   "cell_type": "markdown",
   "metadata": {},
   "source": [
    "## Structural Variations"
   ]
  },
  {
   "attachments": {},
   "cell_type": "markdown",
   "metadata": {},
   "source": [
    "Structural variations are polymorphic rearrangements of a genome from 50bp to hundreds of kb in size (usually larger than 1kb). About 12% of the genome is covered by common structural variations. About 0.5% of the genome in each invidual is affected by structural variations. \n",
    "\n",
    "Many structrual variations are INDELs, but there are also other forms like inversions.\n",
    "\n",
    "They are a major source of phenotype variation, including health-related phenotypes. Cancers and behavioral diseases are particularly noteworthy for being related to a large amount of strcutural variation. As research continues, many rare diseases, neurological disorders, and other behavioral disorders are being found to have related structural variations.\n",
    "\n",
    "Historical methods that rely on genotyping assays have been very low resolution, only able to detect structural variations larger than 50 kb."
   ]
  },
  {
   "attachments": {},
   "cell_type": "markdown",
   "metadata": {},
   "source": [
    "### Types of Structural Variations"
   ]
  },
  {
   "attachments": {},
   "cell_type": "markdown",
   "metadata": {},
   "source": [
    "| Structural Variation      | \"Sequence\"        |\n",
    "|---------------------------|-------------------|\n",
    "| Reference                 | A - B - C         |\n",
    "| Deletion                  | A - C             |\n",
    "| Insertion                 | A - E - B - C     |\n",
    "| Inversion                 | A - C - B         |\n",
    "| Tandem Duplication        | A - A - B - C     |\n",
    "| Dispersed Duplication     | A - B - A - C     |\n",
    "| Copy-Number Variant (CNV) | A - A - A - B - C |"
   ]
  },
  {
   "attachments": {},
   "cell_type": "markdown",
   "metadata": {},
   "source": [
    "### Detection from Short Reads"
   ]
  },
  {
   "attachments": {},
   "cell_type": "markdown",
   "metadata": {},
   "source": [
    "Read Pair (RP) information: \n",
    "- We expect a certain distance between pair-reads (400-500 bp for insert size)\n",
    "- A deletion may cause paired reads to be mapped on the reference genome \"far apart\"\n",
    "- A mobile element insertion (MEI) may cause us to lose one of the read pairs\n",
    "- Tandem duplication may cause read pairs to be observed in \"reverse order\"\n",
    "\n",
    "Read Depth (RD) information:\n",
    "- Duplication may cause increased depth (higher coverage) in an area\n",
    "- Deletion may cause a loss of depth (less coverage) in an area\n",
    "- If we have a heterozygous deletion, we may lose about half of our coverage\n",
    "- If we have a homozygous deletion, we may lose all of our coverage\n",
    "\n",
    "Split Reads (SR):\n",
    "- We may be able to see a deletion by a gap in the split-read map\n",
    "- Computationally expensive, done by analyzer machine\n",
    "\n",
    "Assembly (AS)\n",
    "- We may be able to detect large structural variations through assembly of the sequence\n",
    "- Computationally expensive, done by computer from analysis data"
   ]
  },
  {
   "attachments": {},
   "cell_type": "markdown",
   "metadata": {},
   "source": [
    "### Complex SVs with Longer Reads"
   ]
  },
  {
   "attachments": {},
   "cell_type": "markdown",
   "metadata": {},
   "source": [
    "PacBio, MinION, and Oxford Nanopore sequencing can produce longer reads.\n",
    "\n",
    "Inversions in particular are very hard to find with shorter reads, since they could just be mapped in reverse from reality. Longer-read sequencing makes this much more clear!"
   ]
  },
  {
   "attachments": {},
   "cell_type": "markdown",
   "metadata": {},
   "source": [
    "Short reads can also entirely miss some forms of variation, including some INDELs. So long-read sequencing is best to find these"
   ]
  },
  {
   "attachments": {},
   "cell_type": "markdown",
   "metadata": {},
   "source": [
    "### Variant QC"
   ]
  },
  {
   "attachments": {},
   "cell_type": "markdown",
   "metadata": {},
   "source": [
    "#### Variant Filtering"
   ]
  },
  {
   "attachments": {},
   "cell_type": "markdown",
   "metadata": {},
   "source": [
    "False discoveries can occur even if proper modeling of population-based data has been completed. These false discoveries affect the overall quality, not only for the problematic sites but many others in linkage disequilibrium (LD).\n",
    "\n",
    "Indicators can include base read distribution, base quality, mapping quality... but multi-sample statistics are often more informative"
   ]
  },
  {
   "attachments": {},
   "cell_type": "markdown",
   "metadata": {},
   "source": [
    "Any time you think you've found something of interest, you need to validate it! The bigger the change (such as multiple different alterations to a single read), the less likely it is to be valid. \n",
    "\n",
    "If the variant is only in lower-quality reads, it should be suspected as a false discovery.\n",
    "\n",
    "If all reads with the variant also have deletions in the same read (multiple mismatches in a single read), it should be suspected as a potentially false discovery or even contamination from an outside genome. "
   ]
  },
  {
   "attachments": {},
   "cell_type": "markdown",
   "metadata": {},
   "source": [
    "#### Evaluation of SNP Callsets"
   ]
  },
  {
   "attachments": {},
   "cell_type": "markdown",
   "metadata": {},
   "source": [
    "Compare to chip genotypes for the same individuals\n",
    "- GWAS or ExomeChip data\n",
    "- This is the gold standard, if available\n",
    "- May only have common variants\n",
    "\n",
    "Sensitivity analysis on known sites\n",
    "- HapMap, dbSNP, 1000 Genomes\n",
    "- Have frequencies of known variants\n",
    "- Has a greater volume of information than the chip genotypes\n",
    "\n",
    "Transition to trans-version ratio\n",
    "- Transition is more likely, easier to occur:\n",
    "    - G <-> T\n",
    "    - A <-> C\n",
    "- Transversions are less likely, harder to occur:\n",
    "    - A <-> G\n",
    "    - C <-> T\n",
    "    - A <-> T\n",
    "    - C <-> G\n",
    "- Typical (Ts/Tv or Ti/Tv) ratios:\n",
    "    - Whole genome: 2.2-2.4\n",
    "    - Whole exome: 2.7-3.1\n",
    "- Biologically true SNPs typically have similar ratios\n",
    "    - False discoveries typically have much *lower* ratios! \n",
    "\n",
    "Use family data to corroborate or look for Mendelian inconsistencies"
   ]
  },
  {
   "attachments": {},
   "cell_type": "markdown",
   "metadata": {},
   "source": [
    "## Alleles, Frequencies, and Linkage Disequilibrium"
   ]
  },
  {
   "attachments": {},
   "cell_type": "markdown",
   "metadata": {},
   "source": [
    "### Alleles:"
   ]
  },
  {
   "attachments": {},
   "cell_type": "markdown",
   "metadata": {},
   "source": [
    "Humans, like many other species, are diploid. As such, they (typically) possess two alleles for each gene. There may be many different possible alleles for any given gene, but a diploid organism would only have two alleles.\n",
    "\n",
    "Major or dominant alleles are typically written in uppercase: A/B\n",
    "Minor or recessive allleles are typically written in lowercase: a/b"
   ]
  },
  {
   "attachments": {},
   "cell_type": "markdown",
   "metadata": {},
   "source": [
    "#### Allele Frequency:"
   ]
  },
  {
   "attachments": {},
   "cell_type": "markdown",
   "metadata": {},
   "source": [
    "Allele Frequency for a Diploid:\n",
    "$$\n",
    "P(a) = probability\\ of\\ the\\ a\\ allele\\ in\\ the\\ population\n",
    "\\newline\n",
    "P(a) = \\frac{2 \\cdot N(aa) + N(Aa)}{2 \\cdot N_{ind}}\n",
    "$$"
   ]
  },
  {
   "attachments": {},
   "cell_type": "markdown",
   "metadata": {},
   "source": [
    "#### Allele Distribution:"
   ]
  },
  {
   "attachments": {},
   "cell_type": "markdown",
   "metadata": {},
   "source": [
    "Lets declare p to be the frequency of the dominant/major allele (A), and q to be the frequency of the recessive/minor allele (a):\n",
    "$$\n",
    "P(A) \\stackrel{\\Delta}= p, P(a) = 1-p\\stackrel{\\Delta}= q\n",
    "$$\n",
    "\n",
    "Then the probability of each diploid genotype can be described as:\n",
    "$$\n",
    "P(AA) = p^2\n",
    "\\newline\n",
    "P(Aa\\ or\\ aA) = pq + qp = 2pq\n",
    "\\newline\n",
    "P(aa) = q^2\n",
    "\\newline\n",
    "P(AA)+P(Aa\\ or\\ aA) + P(aa) = q^2 + 2pq + q^2 = 1\n",
    "$$\n",
    "\n",
    "This is also known as Hardy-Weinberg equilibrium: if mating is random, and there are no outside influences or factors, these probabilities will be preserved throughout the generations.\n",
    "\n",
    "In reality, there are usually influences and outside factors, such as those one might discuss as \"natural selection.\""
   ]
  },
  {
   "attachments": {},
   "cell_type": "markdown",
   "metadata": {},
   "source": [
    "### Linkage Disequilibrium"
   ]
  },
  {
   "attachments": {},
   "cell_type": "markdown",
   "metadata": {},
   "source": [
    "#### Haplotype vs Genotype"
   ]
  },
  {
   "attachments": {},
   "cell_type": "markdown",
   "metadata": {},
   "source": [
    "**Diploids**: Organisms that contain two homologous copies of chromosomes. For organisms that have sexual reproduction, one copy is typically inherited from each parent\n",
    "\n",
    "**Haplotype**: Alleles on one side of a diploid chromosome. \n",
    "\n",
    "**Genotype**: Diploid allele at a specific marker"
   ]
  },
  {
   "attachments": {},
   "cell_type": "markdown",
   "metadata": {},
   "source": [
    "The genotype for a biallelic gene (a gene with only two possible alleles) could be conceptualized as follows:\n",
    "\n",
    "| Genotype:   | 1 | 1 | 2 | 1 | 1 | 1 | 1 | 0 | 2 |\n",
    "|-------------|---|---|---|---|---|---|---|---|---|\n",
    "| Haplotype 1 | 0 | 1 | 1 | 0 | 1 | 0 | 0 | 0 | 1 |\n",
    "| Haplotype 2 | 1 | 0 | 1 | 1 | 0 | 1 | 1 | 0 | 1 |\n",
    "\n",
    "Two diploid organisms with the same genotype may have different haplotypes.\n",
    "\n",
    "**Subject 1**\n",
    "\n",
    "| Genotype:   | 1 | 1 | 2 | 1 | 1 | 1 | 1 | 0 | 2 |\n",
    "|-------------|---|---|---|---|---|---|---|---|---|\n",
    "| Haplotype 1 | 0 | 1 | 1 | 0 | 1 | 0 | 0 | 0 | 1 |\n",
    "| Haplotype 2 | 1 | 0 | 1 | 1 | 0 | 1 | 1 | 0 | 1 |\n",
    "\n",
    "**Subject 2**\n",
    "| Genotype    | Aa | Bb |\n",
    "|-------------|----|----|\n",
    "| Haplotype 1 | A  | b  |\n",
    "| Haplotype 2 | a  | B  |"
   ]
  },
  {
   "attachments": {},
   "cell_type": "markdown",
   "metadata": {},
   "source": [
    "Haplotype is often biologically important! Alleles on the same haploid can act together, especially if they include enhancers, promoters, or any other type of regulatory mechanisms. Additionally, alleles on the same haploid are correlated."
   ]
  },
  {
   "attachments": {},
   "cell_type": "markdown",
   "metadata": {},
   "source": [
    "#### Linkage Disequilibrium is Due to Haplotype Linkage!"
   ]
  },
  {
   "attachments": {},
   "cell_type": "markdown",
   "metadata": {},
   "source": [
    "If P(A & B) is the haplotype frequency, then we can define linkage disequilibrium as:\n",
    "$$\n",
    "P(A \\And B) \\not= P(A)\\cdot P(B)\n",
    "$$\n",
    "\n",
    "This occurs when the two genes are *linked* - their assortment is not fully independent! In contrast, when they *are* independently sorted, we say that the alleles are in *linkage equilibrium*."
   ]
  },
  {
   "attachments": {},
   "cell_type": "markdown",
   "metadata": {},
   "source": [
    "#### Haplotype Phasing/Imputation"
   ]
  },
  {
   "attachments": {},
   "cell_type": "markdown",
   "metadata": {},
   "source": [
    "Due to linkage disequilibrium, we know that people tend to share \"blocks\" of genotypes - those highly linked genes are more likely to be inherited in a shared \"block\" than individually. As such, we can check for unlikely genotypes or fill-in missing genotypes.\n",
    "\n",
    "Haplotype phasing involves statstically estimating haplotype and genotype data in order to perform haplotype and genotype imputation. If we have missing information in the middle of a haplotype, we can use the information about the known haplotypes to determine the probability that this \"missing\" information is consistent with the rest of the haplotype block."
   ]
  },
  {
   "attachments": {},
   "cell_type": "markdown",
   "metadata": {},
   "source": [
    "Why use Imputation?\n",
    "\n",
    "- Increased power:\n",
    "    - The reference panel is far more likely to contain either the causal variant or a better tag than a GWAS array\n",
    "- Fine-mapping:\n",
    "    - Imputation provides a high-resolution overview of an association signal across a locus\n",
    "- Meta-analysis:\n",
    "    - Imputation allows GWAS typed with different arrays to be combined up to variants in the reference panel\n",
    "Sometimes even allows for mega-analysis"
   ]
  },
  {
   "attachments": {},
   "cell_type": "markdown",
   "metadata": {},
   "source": [
    "Large-scale genotyping and re-sequencing reference panels are available: \n",
    "- HapMap Consortium\n",
    "    - HapMap2: 60CEU, 60 YRI, and 90 CHB/JPT individuals typed for ~3M variants\n",
    "    - HapMap3: 1011 individuals from multiple ethnic groups typed for ~1.6M variants\n",
    "- 1000 Genomes Project\n",
    "    - Most recent release includes 2,504 individuals from multiple ethnic groups typed for ~79M variants, including SNPs, INDELs, and SVs\n",
    "\n",
    "There are also some recent WGS reference panels with larger and even bigger (> 10,000) sample sizes!\n",
    "- NCBI has a reference panel in the works that has over 100,000 samples\n",
    "- Many of them are not quite available to the public yet"
   ]
  },
  {
   "attachments": {},
   "cell_type": "markdown",
   "metadata": {},
   "source": [
    "## Genetic Association Studies"
   ]
  },
  {
   "attachments": {},
   "cell_type": "markdown",
   "metadata": {},
   "source": [
    "Genetic association studies seek to identify genetic variants associated with diseases and traits. This allows us to improve our understanding of the genetic mechanisms underlying these diseases and traits, identify potential drug targets for new therapies, or develop screening techniques for individuals at risk."
   ]
  },
  {
   "attachments": {},
   "cell_type": "markdown",
   "metadata": {},
   "source": [
    "You can compare the genotypes to the distributions of the phenotypes, and perform statistical testing to determine if there is an association.\n",
    "\n",
    "A linear regression is typically performed with the genotype category as the predictor and the continuous phenotype variable as the response variable."
   ]
  },
  {
   "attachments": {},
   "cell_type": "markdown",
   "metadata": {},
   "source": [
    "- N-samples\n",
    "    - Divided along the phenotypes\n",
    "- M-markers\n",
    "    - Divided along the genotypes\n",
    "- Coefficients \n",
    "    - β<sub>1</sub> and β<sub>2</sub>, which correlate to the phenotypes y<sub>1</sub> and y<sub>2</sub> respectively\n",
    "    - Coefficient β</sub>M</sub>, which correlates to the phenotype y<sub>N</sub>"
   ]
  },
  {
   "attachments": {},
   "cell_type": "markdown",
   "metadata": {},
   "source": [
    "Remember, correlation does not indicate causation!\n",
    "\n",
    "There will be several genes that can appear as significant, but it's because they are in the *same haplotype* as a causal gene! "
   ]
  }
 ],
 "metadata": {
  "language_info": {
   "name": "python"
  },
  "orig_nbformat": 4
 },
 "nbformat": 4,
 "nbformat_minor": 2
}
